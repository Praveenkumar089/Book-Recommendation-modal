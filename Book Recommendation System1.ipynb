{
 "cells": [
  {
   "cell_type": "markdown",
   "metadata": {},
   "source": [
    "- bookID: Unique identification number fro each book\n",
    "- title: Name under which book was published\n",
    "- authors: Name of the Authors of the book\n",
    "- average_rating: Avarage rating of the book recevied in total.\n",
    "- isbn: International standarded book number\n",
    "- isbn13: 13 digit isbn to identify the book\n",
    "- language_code: Primary Language of the book\n",
    "- num_pages: Number of pages the book containes\n",
    "- ratings_count: Total Number of ratings the book recevied.\n",
    "- text_reviews_count: Total number of written reviews recevied.\n",
    "- publication_date: Date when the book was first published\n",
    "- publisher: Name of the Pulishers"
   ]
  },
  {
   "cell_type": "code",
   "execution_count": 1,
   "metadata": {},
   "outputs": [],
   "source": [
    "import pandas as pd\n",
    "import numpy as np\n",
    "\n",
    "# for data visualisation\n",
    "import matplotlib.pyplot as plt\n",
    "import seaborn as sns\n",
    "\n",
    "# for interactive plots\n",
    "import ipywidgets\n",
    "from ipywidgets import interact\n",
    "from ipywidgets import interact_manual"
   ]
  },
  {
   "cell_type": "code",
   "execution_count": 2,
   "metadata": {},
   "outputs": [
    {
     "name": "stderr",
     "output_type": "stream",
     "text": [
      "b'Skipping line 3350: expected 12 fields, saw 13\\nSkipping line 4704: expected 12 fields, saw 13\\nSkipping line 5879: expected 12 fields, saw 13\\nSkipping line 8981: expected 12 fields, saw 13\\n'\n"
     ]
    }
   ],
   "source": [
    "df = pd.read_csv(\"books.csv\", error_bad_lines = False)"
   ]
  },
  {
   "cell_type": "code",
   "execution_count": 3,
   "metadata": {},
   "outputs": [
    {
     "data": {
      "text/html": [
       "<div>\n",
       "<style scoped>\n",
       "    .dataframe tbody tr th:only-of-type {\n",
       "        vertical-align: middle;\n",
       "    }\n",
       "\n",
       "    .dataframe tbody tr th {\n",
       "        vertical-align: top;\n",
       "    }\n",
       "\n",
       "    .dataframe thead th {\n",
       "        text-align: right;\n",
       "    }\n",
       "</style>\n",
       "<table border=\"1\" class=\"dataframe\">\n",
       "  <thead>\n",
       "    <tr style=\"text-align: right;\">\n",
       "      <th></th>\n",
       "      <th>bookID</th>\n",
       "      <th>title</th>\n",
       "      <th>authors</th>\n",
       "      <th>average_rating</th>\n",
       "      <th>isbn</th>\n",
       "      <th>isbn13</th>\n",
       "      <th>language_code</th>\n",
       "      <th>num_pages</th>\n",
       "      <th>ratings_count</th>\n",
       "      <th>text_reviews_count</th>\n",
       "      <th>publication_date</th>\n",
       "      <th>publisher</th>\n",
       "    </tr>\n",
       "  </thead>\n",
       "  <tbody>\n",
       "    <tr>\n",
       "      <th>0</th>\n",
       "      <td>1</td>\n",
       "      <td>Harry Potter and the Half-Blood Prince (Harry ...</td>\n",
       "      <td>J.K. Rowling/Mary GrandPré</td>\n",
       "      <td>4.57</td>\n",
       "      <td>0439785960</td>\n",
       "      <td>9780439785969</td>\n",
       "      <td>eng</td>\n",
       "      <td>652</td>\n",
       "      <td>2095690</td>\n",
       "      <td>27591</td>\n",
       "      <td>9/16/2006</td>\n",
       "      <td>Scholastic Inc.</td>\n",
       "    </tr>\n",
       "    <tr>\n",
       "      <th>1</th>\n",
       "      <td>2</td>\n",
       "      <td>Harry Potter and the Order of the Phoenix (Har...</td>\n",
       "      <td>J.K. Rowling/Mary GrandPré</td>\n",
       "      <td>4.49</td>\n",
       "      <td>0439358078</td>\n",
       "      <td>9780439358071</td>\n",
       "      <td>eng</td>\n",
       "      <td>870</td>\n",
       "      <td>2153167</td>\n",
       "      <td>29221</td>\n",
       "      <td>9/1/2004</td>\n",
       "      <td>Scholastic Inc.</td>\n",
       "    </tr>\n",
       "    <tr>\n",
       "      <th>2</th>\n",
       "      <td>4</td>\n",
       "      <td>Harry Potter and the Chamber of Secrets (Harry...</td>\n",
       "      <td>J.K. Rowling</td>\n",
       "      <td>4.42</td>\n",
       "      <td>0439554896</td>\n",
       "      <td>9780439554893</td>\n",
       "      <td>eng</td>\n",
       "      <td>352</td>\n",
       "      <td>6333</td>\n",
       "      <td>244</td>\n",
       "      <td>11/1/2003</td>\n",
       "      <td>Scholastic</td>\n",
       "    </tr>\n",
       "    <tr>\n",
       "      <th>3</th>\n",
       "      <td>5</td>\n",
       "      <td>Harry Potter and the Prisoner of Azkaban (Harr...</td>\n",
       "      <td>J.K. Rowling/Mary GrandPré</td>\n",
       "      <td>4.56</td>\n",
       "      <td>043965548X</td>\n",
       "      <td>9780439655484</td>\n",
       "      <td>eng</td>\n",
       "      <td>435</td>\n",
       "      <td>2339585</td>\n",
       "      <td>36325</td>\n",
       "      <td>5/1/2004</td>\n",
       "      <td>Scholastic Inc.</td>\n",
       "    </tr>\n",
       "    <tr>\n",
       "      <th>4</th>\n",
       "      <td>8</td>\n",
       "      <td>Harry Potter Boxed Set  Books 1-5 (Harry Potte...</td>\n",
       "      <td>J.K. Rowling/Mary GrandPré</td>\n",
       "      <td>4.78</td>\n",
       "      <td>0439682584</td>\n",
       "      <td>9780439682589</td>\n",
       "      <td>eng</td>\n",
       "      <td>2690</td>\n",
       "      <td>41428</td>\n",
       "      <td>164</td>\n",
       "      <td>9/13/2004</td>\n",
       "      <td>Scholastic</td>\n",
       "    </tr>\n",
       "  </tbody>\n",
       "</table>\n",
       "</div>"
      ],
      "text/plain": [
       "   bookID                                              title  \\\n",
       "0       1  Harry Potter and the Half-Blood Prince (Harry ...   \n",
       "1       2  Harry Potter and the Order of the Phoenix (Har...   \n",
       "2       4  Harry Potter and the Chamber of Secrets (Harry...   \n",
       "3       5  Harry Potter and the Prisoner of Azkaban (Harr...   \n",
       "4       8  Harry Potter Boxed Set  Books 1-5 (Harry Potte...   \n",
       "\n",
       "                      authors  average_rating        isbn         isbn13  \\\n",
       "0  J.K. Rowling/Mary GrandPré            4.57  0439785960  9780439785969   \n",
       "1  J.K. Rowling/Mary GrandPré            4.49  0439358078  9780439358071   \n",
       "2                J.K. Rowling            4.42  0439554896  9780439554893   \n",
       "3  J.K. Rowling/Mary GrandPré            4.56  043965548X  9780439655484   \n",
       "4  J.K. Rowling/Mary GrandPré            4.78  0439682584  9780439682589   \n",
       "\n",
       "  language_code    num_pages  ratings_count  text_reviews_count  \\\n",
       "0           eng          652        2095690               27591   \n",
       "1           eng          870        2153167               29221   \n",
       "2           eng          352           6333                 244   \n",
       "3           eng          435        2339585               36325   \n",
       "4           eng         2690          41428                 164   \n",
       "\n",
       "  publication_date        publisher  \n",
       "0        9/16/2006  Scholastic Inc.  \n",
       "1         9/1/2004  Scholastic Inc.  \n",
       "2        11/1/2003       Scholastic  \n",
       "3         5/1/2004  Scholastic Inc.  \n",
       "4        9/13/2004       Scholastic  "
      ]
     },
     "execution_count": 3,
     "metadata": {},
     "output_type": "execute_result"
    }
   ],
   "source": [
    "df.head(5)"
   ]
  },
  {
   "cell_type": "code",
   "execution_count": 4,
   "metadata": {},
   "outputs": [
    {
     "data": {
      "text/plain": [
       "(11123, 12)"
      ]
     },
     "execution_count": 4,
     "metadata": {},
     "output_type": "execute_result"
    }
   ],
   "source": [
    "df.shape"
   ]
  },
  {
   "cell_type": "code",
   "execution_count": 5,
   "metadata": {},
   "outputs": [
    {
     "data": {
      "text/plain": [
       "Index(['bookID', 'title', 'authors', 'average_rating', 'isbn', 'isbn13',\n",
       "       'language_code', '  num_pages', 'ratings_count', 'text_reviews_count',\n",
       "       'publication_date', 'publisher'],\n",
       "      dtype='object')"
      ]
     },
     "execution_count": 5,
     "metadata": {},
     "output_type": "execute_result"
    }
   ],
   "source": [
    "df.columns"
   ]
  },
  {
   "cell_type": "code",
   "execution_count": 6,
   "metadata": {},
   "outputs": [],
   "source": [
    "df.columns = df.columns.str.strip()"
   ]
  },
  {
   "cell_type": "code",
   "execution_count": 7,
   "metadata": {},
   "outputs": [
    {
     "data": {
      "text/plain": [
       "Index(['bookID', 'title', 'authors', 'average_rating', 'isbn', 'isbn13',\n",
       "       'language_code', 'num_pages', 'ratings_count', 'text_reviews_count',\n",
       "       'publication_date', 'publisher'],\n",
       "      dtype='object')"
      ]
     },
     "execution_count": 7,
     "metadata": {},
     "output_type": "execute_result"
    }
   ],
   "source": [
    "df.columns"
   ]
  },
  {
   "cell_type": "code",
   "execution_count": 8,
   "metadata": {},
   "outputs": [
    {
     "data": {
      "text/plain": [
       "bookID                  int64\n",
       "title                  object\n",
       "authors                object\n",
       "average_rating        float64\n",
       "isbn                   object\n",
       "isbn13                  int64\n",
       "language_code          object\n",
       "num_pages               int64\n",
       "ratings_count           int64\n",
       "text_reviews_count      int64\n",
       "publication_date       object\n",
       "publisher              object\n",
       "dtype: object"
      ]
     },
     "execution_count": 8,
     "metadata": {},
     "output_type": "execute_result"
    }
   ],
   "source": [
    "df.dtypes"
   ]
  },
  {
   "cell_type": "code",
   "execution_count": 9,
   "metadata": {},
   "outputs": [
    {
     "data": {
      "text/html": [
       "<div>\n",
       "<style scoped>\n",
       "    .dataframe tbody tr th:only-of-type {\n",
       "        vertical-align: middle;\n",
       "    }\n",
       "\n",
       "    .dataframe tbody tr th {\n",
       "        vertical-align: top;\n",
       "    }\n",
       "\n",
       "    .dataframe thead th {\n",
       "        text-align: right;\n",
       "    }\n",
       "</style>\n",
       "<table border=\"1\" class=\"dataframe\">\n",
       "  <thead>\n",
       "    <tr style=\"text-align: right;\">\n",
       "      <th></th>\n",
       "      <th>bookID</th>\n",
       "      <th>average_rating</th>\n",
       "      <th>isbn13</th>\n",
       "      <th>num_pages</th>\n",
       "      <th>ratings_count</th>\n",
       "      <th>text_reviews_count</th>\n",
       "    </tr>\n",
       "  </thead>\n",
       "  <tbody>\n",
       "    <tr>\n",
       "      <th>count</th>\n",
       "      <td>11123.000000</td>\n",
       "      <td>11123.000000</td>\n",
       "      <td>1.112300e+04</td>\n",
       "      <td>11123.000000</td>\n",
       "      <td>1.112300e+04</td>\n",
       "      <td>11123.000000</td>\n",
       "    </tr>\n",
       "    <tr>\n",
       "      <th>mean</th>\n",
       "      <td>21310.856963</td>\n",
       "      <td>3.934075</td>\n",
       "      <td>9.759880e+12</td>\n",
       "      <td>336.405556</td>\n",
       "      <td>1.794285e+04</td>\n",
       "      <td>542.048099</td>\n",
       "    </tr>\n",
       "    <tr>\n",
       "      <th>std</th>\n",
       "      <td>13094.727252</td>\n",
       "      <td>0.350485</td>\n",
       "      <td>4.429758e+11</td>\n",
       "      <td>241.152626</td>\n",
       "      <td>1.124992e+05</td>\n",
       "      <td>2576.619589</td>\n",
       "    </tr>\n",
       "    <tr>\n",
       "      <th>min</th>\n",
       "      <td>1.000000</td>\n",
       "      <td>0.000000</td>\n",
       "      <td>8.987060e+09</td>\n",
       "      <td>0.000000</td>\n",
       "      <td>0.000000e+00</td>\n",
       "      <td>0.000000</td>\n",
       "    </tr>\n",
       "    <tr>\n",
       "      <th>25%</th>\n",
       "      <td>10277.500000</td>\n",
       "      <td>3.770000</td>\n",
       "      <td>9.780345e+12</td>\n",
       "      <td>192.000000</td>\n",
       "      <td>1.040000e+02</td>\n",
       "      <td>9.000000</td>\n",
       "    </tr>\n",
       "    <tr>\n",
       "      <th>50%</th>\n",
       "      <td>20287.000000</td>\n",
       "      <td>3.960000</td>\n",
       "      <td>9.780582e+12</td>\n",
       "      <td>299.000000</td>\n",
       "      <td>7.450000e+02</td>\n",
       "      <td>47.000000</td>\n",
       "    </tr>\n",
       "    <tr>\n",
       "      <th>75%</th>\n",
       "      <td>32104.500000</td>\n",
       "      <td>4.140000</td>\n",
       "      <td>9.780872e+12</td>\n",
       "      <td>416.000000</td>\n",
       "      <td>5.000500e+03</td>\n",
       "      <td>238.000000</td>\n",
       "    </tr>\n",
       "    <tr>\n",
       "      <th>max</th>\n",
       "      <td>45641.000000</td>\n",
       "      <td>5.000000</td>\n",
       "      <td>9.790008e+12</td>\n",
       "      <td>6576.000000</td>\n",
       "      <td>4.597666e+06</td>\n",
       "      <td>94265.000000</td>\n",
       "    </tr>\n",
       "  </tbody>\n",
       "</table>\n",
       "</div>"
      ],
      "text/plain": [
       "             bookID  average_rating        isbn13     num_pages  \\\n",
       "count  11123.000000    11123.000000  1.112300e+04  11123.000000   \n",
       "mean   21310.856963        3.934075  9.759880e+12    336.405556   \n",
       "std    13094.727252        0.350485  4.429758e+11    241.152626   \n",
       "min        1.000000        0.000000  8.987060e+09      0.000000   \n",
       "25%    10277.500000        3.770000  9.780345e+12    192.000000   \n",
       "50%    20287.000000        3.960000  9.780582e+12    299.000000   \n",
       "75%    32104.500000        4.140000  9.780872e+12    416.000000   \n",
       "max    45641.000000        5.000000  9.790008e+12   6576.000000   \n",
       "\n",
       "       ratings_count  text_reviews_count  \n",
       "count   1.112300e+04        11123.000000  \n",
       "mean    1.794285e+04          542.048099  \n",
       "std     1.124992e+05         2576.619589  \n",
       "min     0.000000e+00            0.000000  \n",
       "25%     1.040000e+02            9.000000  \n",
       "50%     7.450000e+02           47.000000  \n",
       "75%     5.000500e+03          238.000000  \n",
       "max     4.597666e+06        94265.000000  "
      ]
     },
     "execution_count": 9,
     "metadata": {},
     "output_type": "execute_result"
    }
   ],
   "source": [
    "df.describe()"
   ]
  },
  {
   "cell_type": "code",
   "execution_count": 10,
   "metadata": {},
   "outputs": [
    {
     "data": {
      "text/html": [
       "<div>\n",
       "<style scoped>\n",
       "    .dataframe tbody tr th:only-of-type {\n",
       "        vertical-align: middle;\n",
       "    }\n",
       "\n",
       "    .dataframe tbody tr th {\n",
       "        vertical-align: top;\n",
       "    }\n",
       "\n",
       "    .dataframe thead th {\n",
       "        text-align: right;\n",
       "    }\n",
       "</style>\n",
       "<table border=\"1\" class=\"dataframe\">\n",
       "  <thead>\n",
       "    <tr style=\"text-align: right;\">\n",
       "      <th></th>\n",
       "      <th>title</th>\n",
       "      <th>authors</th>\n",
       "      <th>isbn</th>\n",
       "      <th>language_code</th>\n",
       "      <th>publication_date</th>\n",
       "      <th>publisher</th>\n",
       "    </tr>\n",
       "  </thead>\n",
       "  <tbody>\n",
       "    <tr>\n",
       "      <th>count</th>\n",
       "      <td>11123</td>\n",
       "      <td>11123</td>\n",
       "      <td>11123</td>\n",
       "      <td>11123</td>\n",
       "      <td>11123</td>\n",
       "      <td>11123</td>\n",
       "    </tr>\n",
       "    <tr>\n",
       "      <th>unique</th>\n",
       "      <td>10348</td>\n",
       "      <td>6639</td>\n",
       "      <td>11123</td>\n",
       "      <td>27</td>\n",
       "      <td>3679</td>\n",
       "      <td>2290</td>\n",
       "    </tr>\n",
       "    <tr>\n",
       "      <th>top</th>\n",
       "      <td>The Brothers Karamazov</td>\n",
       "      <td>Stephen King</td>\n",
       "      <td>0806525363</td>\n",
       "      <td>eng</td>\n",
       "      <td>10/1/2005</td>\n",
       "      <td>Vintage</td>\n",
       "    </tr>\n",
       "    <tr>\n",
       "      <th>freq</th>\n",
       "      <td>9</td>\n",
       "      <td>40</td>\n",
       "      <td>1</td>\n",
       "      <td>8908</td>\n",
       "      <td>56</td>\n",
       "      <td>318</td>\n",
       "    </tr>\n",
       "  </tbody>\n",
       "</table>\n",
       "</div>"
      ],
      "text/plain": [
       "                         title       authors        isbn language_code  \\\n",
       "count                    11123         11123       11123         11123   \n",
       "unique                   10348          6639       11123            27   \n",
       "top     The Brothers Karamazov  Stephen King  0806525363           eng   \n",
       "freq                         9            40           1          8908   \n",
       "\n",
       "       publication_date publisher  \n",
       "count             11123     11123  \n",
       "unique             3679      2290  \n",
       "top           10/1/2005   Vintage  \n",
       "freq                 56       318  "
      ]
     },
     "execution_count": 10,
     "metadata": {},
     "output_type": "execute_result"
    }
   ],
   "source": [
    "df.describe(include = 'object')"
   ]
  },
  {
   "cell_type": "code",
   "execution_count": 11,
   "metadata": {},
   "outputs": [
    {
     "data": {
      "text/plain": [
       "bookID                0\n",
       "title                 0\n",
       "authors               0\n",
       "average_rating        0\n",
       "isbn                  0\n",
       "isbn13                0\n",
       "language_code         0\n",
       "num_pages             0\n",
       "ratings_count         0\n",
       "text_reviews_count    0\n",
       "publication_date      0\n",
       "publisher             0\n",
       "dtype: int64"
      ]
     },
     "execution_count": 11,
     "metadata": {},
     "output_type": "execute_result"
    }
   ],
   "source": [
    "df.isnull().sum()"
   ]
  },
  {
   "cell_type": "code",
   "execution_count": 12,
   "metadata": {},
   "outputs": [
    {
     "data": {
      "text/plain": [
       "False"
      ]
     },
     "execution_count": 12,
     "metadata": {},
     "output_type": "execute_result"
    }
   ],
   "source": [
    "df.duplicated().any()"
   ]
  },
  {
   "cell_type": "code",
   "execution_count": 13,
   "metadata": {},
   "outputs": [
    {
     "name": "stdout",
     "output_type": "stream",
     "text": [
      "<class 'pandas.core.frame.DataFrame'>\n",
      "RangeIndex: 11123 entries, 0 to 11122\n",
      "Data columns (total 12 columns):\n",
      "bookID                11123 non-null int64\n",
      "title                 11123 non-null object\n",
      "authors               11123 non-null object\n",
      "average_rating        11123 non-null float64\n",
      "isbn                  11123 non-null object\n",
      "isbn13                11123 non-null int64\n",
      "language_code         11123 non-null object\n",
      "num_pages             11123 non-null int64\n",
      "ratings_count         11123 non-null int64\n",
      "text_reviews_count    11123 non-null int64\n",
      "publication_date      11123 non-null object\n",
      "publisher             11123 non-null object\n",
      "dtypes: float64(1), int64(5), object(6)\n",
      "memory usage: 1.0+ MB\n"
     ]
    }
   ],
   "source": [
    "df.info()"
   ]
  },
  {
   "cell_type": "markdown",
   "metadata": {},
   "source": [
    "# Feature Engineering"
   ]
  },
  {
   "cell_type": "markdown",
   "metadata": {},
   "source": [
    "- Extract Important Features\n",
    "- Reducing the size of Features\n",
    "- Creating new features from the existring ones"
   ]
  },
  {
   "cell_type": "code",
   "execution_count": 14,
   "metadata": {},
   "outputs": [
    {
     "data": {
      "text/plain": [
       "Index(['bookID', 'title', 'authors', 'average_rating', 'isbn', 'isbn13',\n",
       "       'language_code', 'num_pages', 'ratings_count', 'text_reviews_count',\n",
       "       'publication_date', 'publisher'],\n",
       "      dtype='object')"
      ]
     },
     "execution_count": 14,
     "metadata": {},
     "output_type": "execute_result"
    }
   ],
   "source": [
    "df.columns"
   ]
  },
  {
   "cell_type": "code",
   "execution_count": 15,
   "metadata": {},
   "outputs": [
    {
     "data": {
      "text/plain": [
       "11123"
      ]
     },
     "execution_count": 15,
     "metadata": {},
     "output_type": "execute_result"
    }
   ],
   "source": [
    "df.isbn.nunique()"
   ]
  },
  {
   "cell_type": "code",
   "execution_count": 16,
   "metadata": {},
   "outputs": [
    {
     "data": {
      "text/plain": [
       "11123"
      ]
     },
     "execution_count": 16,
     "metadata": {},
     "output_type": "execute_result"
    }
   ],
   "source": [
    "df.isbn13.nunique()"
   ]
  },
  {
   "cell_type": "code",
   "execution_count": 17,
   "metadata": {},
   "outputs": [],
   "source": [
    "df.drop(['bookID', 'isbn', 'isbn13'], axis = 1, inplace = True)"
   ]
  },
  {
   "cell_type": "code",
   "execution_count": 18,
   "metadata": {},
   "outputs": [
    {
     "data": {
      "text/plain": [
       "Index(['title', 'authors', 'average_rating', 'language_code', 'num_pages',\n",
       "       'ratings_count', 'text_reviews_count', 'publication_date', 'publisher'],\n",
       "      dtype='object')"
      ]
     },
     "execution_count": 18,
     "metadata": {},
     "output_type": "execute_result"
    }
   ],
   "source": [
    "df.columns"
   ]
  },
  {
   "cell_type": "code",
   "execution_count": 19,
   "metadata": {},
   "outputs": [
    {
     "data": {
      "text/plain": [
       "0         9/16/2006\n",
       "1          9/1/2004\n",
       "2         11/1/2003\n",
       "3          5/1/2004\n",
       "4         9/13/2004\n",
       "5         4/26/2005\n",
       "6         9/12/2005\n",
       "7         11/1/2005\n",
       "8         4/30/2002\n",
       "9          8/3/2004\n",
       "10        3/23/2005\n",
       "11        1/17/1996\n",
       "12        9/14/2004\n",
       "13        12/3/2002\n",
       "14        9/14/2004\n",
       "15        5/15/2001\n",
       "16        6/28/2000\n",
       "17        8/28/1990\n",
       "18        3/28/1993\n",
       "19        5/28/1997\n",
       "20        9/28/1991\n",
       "21        9/25/2012\n",
       "22       10/21/2004\n",
       "23         9/5/2003\n",
       "24        10/1/2002\n",
       "25        11/5/2003\n",
       "26       11/15/2004\n",
       "27        7/28/2005\n",
       "28         4/1/2000\n",
       "29        8/28/1994\n",
       "            ...    \n",
       "11093     12/5/2002\n",
       "11094     6/31/1982\n",
       "11095     5/29/1980\n",
       "11096      1/3/2006\n",
       "11097     10/6/2003\n",
       "11098      3/8/2005\n",
       "11099     8/12/1997\n",
       "11100     5/31/1998\n",
       "11101      6/1/2000\n",
       "11102      1/5/2011\n",
       "11103     9/15/1995\n",
       "11104     11/3/2005\n",
       "11105      9/1/2006\n",
       "11106      3/1/2006\n",
       "11107      3/1/2001\n",
       "11108     7/10/1977\n",
       "11109      6/1/2004\n",
       "11110     11/7/2006\n",
       "11111     4/16/2004\n",
       "11112     7/17/2004\n",
       "11113     8/15/2003\n",
       "11114      4/8/2003\n",
       "11115      9/1/2004\n",
       "11116    10/11/2003\n",
       "11117      2/1/1994\n",
       "11118    12/21/2004\n",
       "11119     12/1/1988\n",
       "11120      8/1/1993\n",
       "11121     2/27/2007\n",
       "11122     5/28/2006\n",
       "Name: publication_date, Length: 11123, dtype: object"
      ]
     },
     "execution_count": 19,
     "metadata": {},
     "output_type": "execute_result"
    }
   ],
   "source": [
    "df.publication_date"
   ]
  },
  {
   "cell_type": "code",
   "execution_count": 20,
   "metadata": {},
   "outputs": [],
   "source": [
    "df['year'] = df['publication_date'].str.split('/')\n",
    "df['year'] = df['year'].apply(lambda x: x[2])"
   ]
  },
  {
   "cell_type": "code",
   "execution_count": 21,
   "metadata": {},
   "outputs": [
    {
     "data": {
      "text/html": [
       "<div>\n",
       "<style scoped>\n",
       "    .dataframe tbody tr th:only-of-type {\n",
       "        vertical-align: middle;\n",
       "    }\n",
       "\n",
       "    .dataframe tbody tr th {\n",
       "        vertical-align: top;\n",
       "    }\n",
       "\n",
       "    .dataframe thead th {\n",
       "        text-align: right;\n",
       "    }\n",
       "</style>\n",
       "<table border=\"1\" class=\"dataframe\">\n",
       "  <thead>\n",
       "    <tr style=\"text-align: right;\">\n",
       "      <th></th>\n",
       "      <th>title</th>\n",
       "      <th>authors</th>\n",
       "      <th>average_rating</th>\n",
       "      <th>language_code</th>\n",
       "      <th>num_pages</th>\n",
       "      <th>ratings_count</th>\n",
       "      <th>text_reviews_count</th>\n",
       "      <th>publication_date</th>\n",
       "      <th>publisher</th>\n",
       "      <th>year</th>\n",
       "    </tr>\n",
       "  </thead>\n",
       "  <tbody>\n",
       "    <tr>\n",
       "      <th>0</th>\n",
       "      <td>Harry Potter and the Half-Blood Prince (Harry ...</td>\n",
       "      <td>J.K. Rowling/Mary GrandPré</td>\n",
       "      <td>4.57</td>\n",
       "      <td>eng</td>\n",
       "      <td>652</td>\n",
       "      <td>2095690</td>\n",
       "      <td>27591</td>\n",
       "      <td>9/16/2006</td>\n",
       "      <td>Scholastic Inc.</td>\n",
       "      <td>2006</td>\n",
       "    </tr>\n",
       "    <tr>\n",
       "      <th>1</th>\n",
       "      <td>Harry Potter and the Order of the Phoenix (Har...</td>\n",
       "      <td>J.K. Rowling/Mary GrandPré</td>\n",
       "      <td>4.49</td>\n",
       "      <td>eng</td>\n",
       "      <td>870</td>\n",
       "      <td>2153167</td>\n",
       "      <td>29221</td>\n",
       "      <td>9/1/2004</td>\n",
       "      <td>Scholastic Inc.</td>\n",
       "      <td>2004</td>\n",
       "    </tr>\n",
       "  </tbody>\n",
       "</table>\n",
       "</div>"
      ],
      "text/plain": [
       "                                               title  \\\n",
       "0  Harry Potter and the Half-Blood Prince (Harry ...   \n",
       "1  Harry Potter and the Order of the Phoenix (Har...   \n",
       "\n",
       "                      authors  average_rating language_code  num_pages  \\\n",
       "0  J.K. Rowling/Mary GrandPré            4.57           eng        652   \n",
       "1  J.K. Rowling/Mary GrandPré            4.49           eng        870   \n",
       "\n",
       "   ratings_count  text_reviews_count publication_date        publisher  year  \n",
       "0        2095690               27591        9/16/2006  Scholastic Inc.  2006  \n",
       "1        2153167               29221         9/1/2004  Scholastic Inc.  2004  "
      ]
     },
     "execution_count": 21,
     "metadata": {},
     "output_type": "execute_result"
    }
   ],
   "source": [
    "df.head(2)"
   ]
  },
  {
   "cell_type": "code",
   "execution_count": 22,
   "metadata": {},
   "outputs": [
    {
     "data": {
      "text/plain": [
       "title                  object\n",
       "authors                object\n",
       "average_rating        float64\n",
       "language_code          object\n",
       "num_pages               int64\n",
       "ratings_count           int64\n",
       "text_reviews_count      int64\n",
       "publication_date       object\n",
       "publisher              object\n",
       "year                   object\n",
       "dtype: object"
      ]
     },
     "execution_count": 22,
     "metadata": {},
     "output_type": "execute_result"
    }
   ],
   "source": [
    "df.dtypes"
   ]
  },
  {
   "cell_type": "code",
   "execution_count": 23,
   "metadata": {},
   "outputs": [],
   "source": [
    "df['year'] = df['year'].astype('int')"
   ]
  },
  {
   "cell_type": "code",
   "execution_count": 24,
   "metadata": {},
   "outputs": [
    {
     "data": {
      "text/plain": [
       "title                  object\n",
       "authors                object\n",
       "average_rating        float64\n",
       "language_code          object\n",
       "num_pages               int64\n",
       "ratings_count           int64\n",
       "text_reviews_count      int64\n",
       "publication_date       object\n",
       "publisher              object\n",
       "year                    int32\n",
       "dtype: object"
      ]
     },
     "execution_count": 24,
     "metadata": {},
     "output_type": "execute_result"
    }
   ],
   "source": [
    "df.dtypes"
   ]
  },
  {
   "cell_type": "code",
   "execution_count": 25,
   "metadata": {},
   "outputs": [
    {
     "data": {
      "text/plain": [
       "Index(['title', 'authors', 'average_rating', 'language_code', 'num_pages',\n",
       "       'ratings_count', 'text_reviews_count', 'publication_date', 'publisher',\n",
       "       'year'],\n",
       "      dtype='object')"
      ]
     },
     "execution_count": 25,
     "metadata": {},
     "output_type": "execute_result"
    }
   ],
   "source": [
    "df.columns"
   ]
  },
  {
   "cell_type": "code",
   "execution_count": 26,
   "metadata": {},
   "outputs": [
    {
     "data": {
      "text/plain": [
       "1900"
      ]
     },
     "execution_count": 26,
     "metadata": {},
     "output_type": "execute_result"
    }
   ],
   "source": [
    "df['year'].min()"
   ]
  },
  {
   "cell_type": "code",
   "execution_count": 27,
   "metadata": {},
   "outputs": [
    {
     "data": {
      "text/plain": [
       "2020"
      ]
     },
     "execution_count": 27,
     "metadata": {},
     "output_type": "execute_result"
    }
   ],
   "source": [
    "df['year'].max()"
   ]
  },
  {
   "cell_type": "code",
   "execution_count": 28,
   "metadata": {},
   "outputs": [
    {
     "data": {
      "text/plain": [
       "Index(['title', 'authors', 'average_rating', 'language_code', 'num_pages',\n",
       "       'ratings_count', 'text_reviews_count', 'publication_date', 'publisher',\n",
       "       'year'],\n",
       "      dtype='object')"
      ]
     },
     "execution_count": 28,
     "metadata": {},
     "output_type": "execute_result"
    }
   ],
   "source": [
    "df.columns"
   ]
  },
  {
   "cell_type": "markdown",
   "metadata": {},
   "source": [
    "# Exploratory Data Analysis"
   ]
  },
  {
   "cell_type": "code",
   "execution_count": 29,
   "metadata": {},
   "outputs": [
    {
     "data": {
      "text/html": [
       "<div>\n",
       "<style scoped>\n",
       "    .dataframe tbody tr th:only-of-type {\n",
       "        vertical-align: middle;\n",
       "    }\n",
       "\n",
       "    .dataframe tbody tr th {\n",
       "        vertical-align: top;\n",
       "    }\n",
       "\n",
       "    .dataframe thead th {\n",
       "        text-align: right;\n",
       "    }\n",
       "</style>\n",
       "<table border=\"1\" class=\"dataframe\">\n",
       "  <thead>\n",
       "    <tr style=\"text-align: right;\">\n",
       "      <th></th>\n",
       "      <th>title</th>\n",
       "      <th>authors</th>\n",
       "      <th>average_rating</th>\n",
       "      <th>language_code</th>\n",
       "      <th>publisher</th>\n",
       "    </tr>\n",
       "  </thead>\n",
       "  <tbody>\n",
       "    <tr>\n",
       "      <th>9664</th>\n",
       "      <td>A Quick Bite (Argeneau #1)</td>\n",
       "      <td>Lynsay Sands</td>\n",
       "      <td>3.91</td>\n",
       "      <td>eng</td>\n",
       "      <td>Avon</td>\n",
       "    </tr>\n",
       "  </tbody>\n",
       "</table>\n",
       "</div>"
      ],
      "text/plain": [
       "                           title       authors  average_rating language_code  \\\n",
       "9664  A Quick Bite (Argeneau #1)  Lynsay Sands            3.91           eng   \n",
       "\n",
       "     publisher  \n",
       "9664      Avon  "
      ]
     },
     "execution_count": 29,
     "metadata": {},
     "output_type": "execute_result"
    }
   ],
   "source": [
    "df[df['year'] == 2020][['title', 'authors','average_rating','language_code','publisher' ]]"
   ]
  },
  {
   "cell_type": "code",
   "execution_count": 30,
   "metadata": {},
   "outputs": [
    {
     "data": {
      "text/plain": [
       "year\n",
       "2006    1700\n",
       "2005    1260\n",
       "2004    1069\n",
       "2003     931\n",
       "2002     798\n",
       "2001     656\n",
       "2000     534\n",
       "2007     518\n",
       "1999     450\n",
       "1998     396\n",
       "1997     290\n",
       "1996     250\n",
       "1995     249\n",
       "1994     220\n",
       "1992     183\n",
       "1993     165\n",
       "1991     151\n",
       "1989     118\n",
       "1990     117\n",
       "1987      88\n",
       "Name: title, dtype: int64"
      ]
     },
     "execution_count": 30,
     "metadata": {},
     "output_type": "execute_result"
    }
   ],
   "source": [
    "df.groupby(['year'])['title'].agg('count').sort_values(ascending = False).head(20)"
   ]
  },
  {
   "cell_type": "code",
   "execution_count": 31,
   "metadata": {},
   "outputs": [
    {
     "data": {
      "image/png": "[encoded data removed]",
      "text/plain": [
       "<matplotlib.figure.Figure at 0x2b4ea0006a0>"
      ]
     },
     "metadata": {},
     "output_type": "display_data"
    }
   ],
   "source": [
    "plt.figure(figsize = (20, 10))\n",
    "sns.countplot(x = 'authors', data = df,\n",
    "             order = df['authors'].value_counts().iloc[:10].index)\n",
    "plt.title(\"Top 10 Authors with maximum book publish\")\n",
    "plt.xticks(fontsize = 12)\n",
    "plt.show()"
   ]
  },
  {
   "cell_type": "code",
   "execution_count": 32,
   "metadata": {},
   "outputs": [
    {
     "data": {
      "text/plain": [
       "Index(['title', 'authors', 'average_rating', 'language_code', 'num_pages',\n",
       "       'ratings_count', 'text_reviews_count', 'publication_date', 'publisher',\n",
       "       'year'],\n",
       "      dtype='object')"
      ]
     },
     "execution_count": 32,
     "metadata": {},
     "output_type": "execute_result"
    }
   ],
   "source": [
    "df.columns"
   ]
  },
  {
   "cell_type": "code",
   "execution_count": 33,
   "metadata": {},
   "outputs": [
    {
     "data": {
      "text/plain": [
       "eng      8908\n",
       "en-US    1408\n",
       "spa       218\n",
       "en-GB     214\n",
       "fre       144\n",
       "ger        99\n",
       "jpn        46\n",
       "mul        19\n",
       "zho        14\n",
       "grc        11\n",
       "por        10\n",
       "en-CA       7\n",
       "ita         5\n",
       "lat         3\n",
       "enm         3\n",
       "swe         2\n",
       "rus         2\n",
       "wel         1\n",
       "glg         1\n",
       "ale         1\n",
       "msa         1\n",
       "srp         1\n",
       "tur         1\n",
       "nl          1\n",
       "nor         1\n",
       "ara         1\n",
       "gla         1\n",
       "Name: language_code, dtype: int64"
      ]
     },
     "execution_count": 33,
     "metadata": {},
     "output_type": "execute_result"
    }
   ],
   "source": [
    "df.language_code.value_counts()"
   ]
  },
  {
   "cell_type": "code",
   "execution_count": 34,
   "metadata": {},
   "outputs": [
    {
     "data": {
      "text/html": [
       "<style  type=\"text/css\" >\n",
       "    #T_34cf5f42_e44f_11ed_8206_28cdc4a0a6d6row0_col0 {\n",
       "            background-color:  #fe9000;\n",
       "        }    #T_34cf5f42_e44f_11ed_8206_28cdc4a0a6d6row0_col1 {\n",
       "            background-color:  #e4ff78;\n",
       "        }    #T_34cf5f42_e44f_11ed_8206_28cdc4a0a6d6row0_col2 {\n",
       "            background-color:  #e7fd71;\n",
       "        }    #T_34cf5f42_e44f_11ed_8206_28cdc4a0a6d6row1_col0 {\n",
       "            background-color:  #ffa500;\n",
       "        }    #T_34cf5f42_e44f_11ed_8206_28cdc4a0a6d6row1_col1 {\n",
       "            background-color:  #e4ff78;\n",
       "        }    #T_34cf5f42_e44f_11ed_8206_28cdc4a0a6d6row1_col2 {\n",
       "            background-color:  #e6fe74;\n",
       "        }    #T_34cf5f42_e44f_11ed_8206_28cdc4a0a6d6row2_col0 {\n",
       "            background-color:  #fe9800;\n",
       "        }    #T_34cf5f42_e44f_11ed_8206_28cdc4a0a6d6row2_col1 {\n",
       "            background-color:  #f8ee32;\n",
       "        }    #T_34cf5f42_e44f_11ed_8206_28cdc4a0a6d6row2_col2 {\n",
       "            background-color:  #ffbd00;\n",
       "        }    #T_34cf5f42_e44f_11ed_8206_28cdc4a0a6d6row3_col0 {\n",
       "            background-color:  #ff9b00;\n",
       "        }    #T_34cf5f42_e44f_11ed_8206_28cdc4a0a6d6row3_col1 {\n",
       "            background-color:  #f0f54e;\n",
       "        }    #T_34cf5f42_e44f_11ed_8206_28cdc4a0a6d6row3_col2 {\n",
       "            background-color:  #f5f03c;\n",
       "        }    #T_34cf5f42_e44f_11ed_8206_28cdc4a0a6d6row4_col0 {\n",
       "            background-color:  #ff9b00;\n",
       "        }    #T_34cf5f42_e44f_11ed_8206_28cdc4a0a6d6row4_col1 {\n",
       "            background-color:  #f7ef38;\n",
       "        }    #T_34cf5f42_e44f_11ed_8206_28cdc4a0a6d6row4_col2 {\n",
       "            background-color:  #ffe81b;\n",
       "        }    #T_34cf5f42_e44f_11ed_8206_28cdc4a0a6d6row5_col0 {\n",
       "            background-color:  #ff9b00;\n",
       "        }    #T_34cf5f42_e44f_11ed_8206_28cdc4a0a6d6row5_col1 {\n",
       "            background-color:  #fc7f00;\n",
       "        }    #T_34cf5f42_e44f_11ed_8206_28cdc4a0a6d6row5_col2 {\n",
       "            background-color:  #fc7f00;\n",
       "        }    #T_34cf5f42_e44f_11ed_8206_28cdc4a0a6d6row6_col0 {\n",
       "            background-color:  #ff9d00;\n",
       "        }    #T_34cf5f42_e44f_11ed_8206_28cdc4a0a6d6row6_col1 {\n",
       "            background-color:  #f4f141;\n",
       "        }    #T_34cf5f42_e44f_11ed_8206_28cdc4a0a6d6row6_col2 {\n",
       "            background-color:  #f2f348;\n",
       "        }    #T_34cf5f42_e44f_11ed_8206_28cdc4a0a6d6row7_col0 {\n",
       "            background-color:  #fe9a00;\n",
       "        }    #T_34cf5f42_e44f_11ed_8206_28cdc4a0a6d6row7_col1 {\n",
       "            background-color:  #f4f141;\n",
       "        }    #T_34cf5f42_e44f_11ed_8206_28cdc4a0a6d6row7_col2 {\n",
       "            background-color:  #eff654;\n",
       "        }    #T_34cf5f42_e44f_11ed_8206_28cdc4a0a6d6row8_col0 {\n",
       "            background-color:  #fe9a00;\n",
       "        }    #T_34cf5f42_e44f_11ed_8206_28cdc4a0a6d6row8_col1 {\n",
       "            background-color:  #e5fe77;\n",
       "        }    #T_34cf5f42_e44f_11ed_8206_28cdc4a0a6d6row8_col2 {\n",
       "            background-color:  #e5fe75;\n",
       "        }    #T_34cf5f42_e44f_11ed_8206_28cdc4a0a6d6row9_col0 {\n",
       "            background-color:  #fd8d00;\n",
       "        }    #T_34cf5f42_e44f_11ed_8206_28cdc4a0a6d6row9_col1 {\n",
       "            background-color:  #e4ff7a;\n",
       "        }    #T_34cf5f42_e44f_11ed_8206_28cdc4a0a6d6row9_col2 {\n",
       "            background-color:  #e4ff7a;\n",
       "        }    #T_34cf5f42_e44f_11ed_8206_28cdc4a0a6d6row10_col0 {\n",
       "            background-color:  #ffa900;\n",
       "        }    #T_34cf5f42_e44f_11ed_8206_28cdc4a0a6d6row10_col1 {\n",
       "            background-color:  #e4ff7a;\n",
       "        }    #T_34cf5f42_e44f_11ed_8206_28cdc4a0a6d6row10_col2 {\n",
       "            background-color:  #e4ff7a;\n",
       "        }    #T_34cf5f42_e44f_11ed_8206_28cdc4a0a6d6row11_col0 {\n",
       "            background-color:  #ffa100;\n",
       "        }    #T_34cf5f42_e44f_11ed_8206_28cdc4a0a6d6row11_col1 {\n",
       "            background-color:  #e4ff7a;\n",
       "        }    #T_34cf5f42_e44f_11ed_8206_28cdc4a0a6d6row11_col2 {\n",
       "            background-color:  #e4ff7a;\n",
       "        }    #T_34cf5f42_e44f_11ed_8206_28cdc4a0a6d6row12_col0 {\n",
       "            background-color:  #fe9700;\n",
       "        }    #T_34cf5f42_e44f_11ed_8206_28cdc4a0a6d6row12_col1 {\n",
       "            background-color:  #f4f141;\n",
       "        }    #T_34cf5f42_e44f_11ed_8206_28cdc4a0a6d6row12_col2 {\n",
       "            background-color:  #edf759;\n",
       "        }    #T_34cf5f42_e44f_11ed_8206_28cdc4a0a6d6row13_col0 {\n",
       "            background-color:  #fe9200;\n",
       "        }    #T_34cf5f42_e44f_11ed_8206_28cdc4a0a6d6row13_col1 {\n",
       "            background-color:  #e4ff7a;\n",
       "        }    #T_34cf5f42_e44f_11ed_8206_28cdc4a0a6d6row13_col2 {\n",
       "            background-color:  #e4ff78;\n",
       "        }    #T_34cf5f42_e44f_11ed_8206_28cdc4a0a6d6row14_col0 {\n",
       "            background-color:  #fe9000;\n",
       "        }    #T_34cf5f42_e44f_11ed_8206_28cdc4a0a6d6row14_col1 {\n",
       "            background-color:  #e4ff78;\n",
       "        }    #T_34cf5f42_e44f_11ed_8206_28cdc4a0a6d6row14_col2 {\n",
       "            background-color:  #e6fe74;\n",
       "        }    #T_34cf5f42_e44f_11ed_8206_28cdc4a0a6d6row15_col0 {\n",
       "            background-color:  #fe9600;\n",
       "        }    #T_34cf5f42_e44f_11ed_8206_28cdc4a0a6d6row15_col1 {\n",
       "            background-color:  #e4ff7a;\n",
       "        }    #T_34cf5f42_e44f_11ed_8206_28cdc4a0a6d6row15_col2 {\n",
       "            background-color:  #e5fe77;\n",
       "        }    #T_34cf5f42_e44f_11ed_8206_28cdc4a0a6d6row16_col0 {\n",
       "            background-color:  #fe9600;\n",
       "        }    #T_34cf5f42_e44f_11ed_8206_28cdc4a0a6d6row16_col1 {\n",
       "            background-color:  #e6fe74;\n",
       "        }    #T_34cf5f42_e44f_11ed_8206_28cdc4a0a6d6row16_col2 {\n",
       "            background-color:  #e7fc6f;\n",
       "        }    #T_34cf5f42_e44f_11ed_8206_28cdc4a0a6d6row17_col0 {\n",
       "            background-color:  #fe9400;\n",
       "        }    #T_34cf5f42_e44f_11ed_8206_28cdc4a0a6d6row17_col1 {\n",
       "            background-color:  #e4ff7a;\n",
       "        }    #T_34cf5f42_e44f_11ed_8206_28cdc4a0a6d6row17_col2 {\n",
       "            background-color:  #e5fe75;\n",
       "        }    #T_34cf5f42_e44f_11ed_8206_28cdc4a0a6d6row18_col0 {\n",
       "            background-color:  #ffa300;\n",
       "        }    #T_34cf5f42_e44f_11ed_8206_28cdc4a0a6d6row18_col1 {\n",
       "            background-color:  #e4ff78;\n",
       "        }    #T_34cf5f42_e44f_11ed_8206_28cdc4a0a6d6row18_col2 {\n",
       "            background-color:  #e5fe75;\n",
       "        }    #T_34cf5f42_e44f_11ed_8206_28cdc4a0a6d6row19_col0 {\n",
       "            background-color:  #ff9b00;\n",
       "        }    #T_34cf5f42_e44f_11ed_8206_28cdc4a0a6d6row19_col1 {\n",
       "            background-color:  #e4ff78;\n",
       "        }    #T_34cf5f42_e44f_11ed_8206_28cdc4a0a6d6row19_col2 {\n",
       "            background-color:  #e6fd72;\n",
       "        }    #T_34cf5f42_e44f_11ed_8206_28cdc4a0a6d6row20_col0 {\n",
       "            background-color:  #fe9300;\n",
       "        }    #T_34cf5f42_e44f_11ed_8206_28cdc4a0a6d6row20_col1 {\n",
       "            background-color:  #faec2a;\n",
       "        }    #T_34cf5f42_e44f_11ed_8206_28cdc4a0a6d6row20_col2 {\n",
       "            background-color:  #f5f13f;\n",
       "        }    #T_34cf5f42_e44f_11ed_8206_28cdc4a0a6d6row21_col0 {\n",
       "            background-color:  #ff9b00;\n",
       "        }    #T_34cf5f42_e44f_11ed_8206_28cdc4a0a6d6row21_col1 {\n",
       "            background-color:  #fbeb27;\n",
       "        }    #T_34cf5f42_e44f_11ed_8206_28cdc4a0a6d6row21_col2 {\n",
       "            background-color:  #f3f244;\n",
       "        }    #T_34cf5f42_e44f_11ed_8206_28cdc4a0a6d6row22_col0 {\n",
       "            background-color:  #e4ff7a;\n",
       "        }    #T_34cf5f42_e44f_11ed_8206_28cdc4a0a6d6row22_col1 {\n",
       "            background-color:  #e4ff7a;\n",
       "        }    #T_34cf5f42_e44f_11ed_8206_28cdc4a0a6d6row22_col2 {\n",
       "            background-color:  #e4ff7a;\n",
       "        }    #T_34cf5f42_e44f_11ed_8206_28cdc4a0a6d6row23_col0 {\n",
       "            background-color:  #ffa700;\n",
       "        }    #T_34cf5f42_e44f_11ed_8206_28cdc4a0a6d6row23_col1 {\n",
       "            background-color:  #f1f44b;\n",
       "        }    #T_34cf5f42_e44f_11ed_8206_28cdc4a0a6d6row23_col2 {\n",
       "            background-color:  #fee91d;\n",
       "        }    #T_34cf5f42_e44f_11ed_8206_28cdc4a0a6d6row24_col0 {\n",
       "            background-color:  #fd8e00;\n",
       "        }    #T_34cf5f42_e44f_11ed_8206_28cdc4a0a6d6row24_col1 {\n",
       "            background-color:  #e9fb69;\n",
       "        }    #T_34cf5f42_e44f_11ed_8206_28cdc4a0a6d6row24_col2 {\n",
       "            background-color:  #ebf962;\n",
       "        }    #T_34cf5f42_e44f_11ed_8206_28cdc4a0a6d6row25_col0 {\n",
       "            background-color:  #fc7f00;\n",
       "        }    #T_34cf5f42_e44f_11ed_8206_28cdc4a0a6d6row25_col1 {\n",
       "            background-color:  #e4ff7a;\n",
       "        }    #T_34cf5f42_e44f_11ed_8206_28cdc4a0a6d6row25_col2 {\n",
       "            background-color:  #e4ff7a;\n",
       "        }    #T_34cf5f42_e44f_11ed_8206_28cdc4a0a6d6row26_col0 {\n",
       "            background-color:  #fd8d00;\n",
       "        }    #T_34cf5f42_e44f_11ed_8206_28cdc4a0a6d6row26_col1 {\n",
       "            background-color:  #e4ff7a;\n",
       "        }    #T_34cf5f42_e44f_11ed_8206_28cdc4a0a6d6row26_col2 {\n",
       "            background-color:  #e4ff7a;\n",
       "        }</style>  \n",
       "<table id=\"T_34cf5f42_e44f_11ed_8206_28cdc4a0a6d6\" > \n",
       "<thead>    <tr> \n",
       "        <th class=\"blank level0\" ></th> \n",
       "        <th class=\"col_heading level0 col0\" >average_rating</th> \n",
       "        <th class=\"col_heading level0 col1\" >ratings_count</th> \n",
       "        <th class=\"col_heading level0 col2\" >text_reviews_count</th> \n",
       "    </tr>    <tr> \n",
       "        <th class=\"index_name level0\" >language_code</th> \n",
       "        <th class=\"blank\" ></th> \n",
       "        <th class=\"blank\" ></th> \n",
       "        <th class=\"blank\" ></th> \n",
       "    </tr></thead> \n",
       "<tbody>    <tr> \n",
       "        <th id=\"T_34cf5f42_e44f_11ed_8206_28cdc4a0a6d6level0_row0\" class=\"row_heading level0 row0\" >ale</th> \n",
       "        <td id=\"T_34cf5f42_e44f_11ed_8206_28cdc4a0a6d6row0_col0\" class=\"data row0 col0\" >4.36</td> \n",
       "        <td id=\"T_34cf5f42_e44f_11ed_8206_28cdc4a0a6d6row0_col1\" class=\"data row0 col1\" >102</td> \n",
       "        <td id=\"T_34cf5f42_e44f_11ed_8206_28cdc4a0a6d6row0_col2\" class=\"data row0 col2\" >16</td> \n",
       "    </tr>    <tr> \n",
       "        <th id=\"T_34cf5f42_e44f_11ed_8206_28cdc4a0a6d6level0_row1\" class=\"row_heading level0 row1\" >ara</th> \n",
       "        <td id=\"T_34cf5f42_e44f_11ed_8206_28cdc4a0a6d6row1_col0\" class=\"data row1 col0\" >3.55</td> \n",
       "        <td id=\"T_34cf5f42_e44f_11ed_8206_28cdc4a0a6d6row1_col1\" class=\"data row1 col1\" >122</td> \n",
       "        <td id=\"T_34cf5f42_e44f_11ed_8206_28cdc4a0a6d6row1_col2\" class=\"data row1 col2\" >12</td> \n",
       "    </tr>    <tr> \n",
       "        <th id=\"T_34cf5f42_e44f_11ed_8206_28cdc4a0a6d6level0_row2\" class=\"row_heading level0 row2\" >en-CA</th> \n",
       "        <td id=\"T_34cf5f42_e44f_11ed_8206_28cdc4a0a6d6row2_col0\" class=\"data row2 col0\" >4.02571</td> \n",
       "        <td id=\"T_34cf5f42_e44f_11ed_8206_28cdc4a0a6d6row2_col1\" class=\"data row2 col1\" >4086.71</td> \n",
       "        <td id=\"T_34cf5f42_e44f_11ed_8206_28cdc4a0a6d6row2_col2\" class=\"data row2 col2\" >324.429</td> \n",
       "    </tr>    <tr> \n",
       "        <th id=\"T_34cf5f42_e44f_11ed_8206_28cdc4a0a6d6level0_row3\" class=\"row_heading level0 row3\" >en-GB</th> \n",
       "        <td id=\"T_34cf5f42_e44f_11ed_8206_28cdc4a0a6d6row3_col0\" class=\"data row3 col0\" >3.92341</td> \n",
       "        <td id=\"T_34cf5f42_e44f_11ed_8206_28cdc4a0a6d6row3_col1\" class=\"data row3 col1\" >2463.69</td> \n",
       "        <td id=\"T_34cf5f42_e44f_11ed_8206_28cdc4a0a6d6row3_col2\" class=\"data row3 col2\" >104.061</td> \n",
       "    </tr>    <tr> \n",
       "        <th id=\"T_34cf5f42_e44f_11ed_8206_28cdc4a0a6d6level0_row4\" class=\"row_heading level0 row4\" >en-US</th> \n",
       "        <td id=\"T_34cf5f42_e44f_11ed_8206_28cdc4a0a6d6row4_col0\" class=\"data row4 col0\" >3.91466</td> \n",
       "        <td id=\"T_34cf5f42_e44f_11ed_8206_28cdc4a0a6d6row4_col1\" class=\"data row4 col1\" >3773.91</td> \n",
       "        <td id=\"T_34cf5f42_e44f_11ed_8206_28cdc4a0a6d6row4_col2\" class=\"data row4 col2\" >160.357</td> \n",
       "    </tr>    <tr> \n",
       "        <th id=\"T_34cf5f42_e44f_11ed_8206_28cdc4a0a6d6level0_row5\" class=\"row_heading level0 row5\" >eng</th> \n",
       "        <td id=\"T_34cf5f42_e44f_11ed_8206_28cdc4a0a6d6row5_col0\" class=\"data row5 col0\" >3.93406</td> \n",
       "        <td id=\"T_34cf5f42_e44f_11ed_8206_28cdc4a0a6d6row5_col1\" class=\"data row5 col1\" >21570.3</td> \n",
       "        <td id=\"T_34cf5f42_e44f_11ed_8206_28cdc4a0a6d6row5_col2\" class=\"data row5 col2\" >645.157</td> \n",
       "    </tr>    <tr> \n",
       "        <th id=\"T_34cf5f42_e44f_11ed_8206_28cdc4a0a6d6level0_row6\" class=\"row_heading level0 row6\" >enm</th> \n",
       "        <td id=\"T_34cf5f42_e44f_11ed_8206_28cdc4a0a6d6row6_col0\" class=\"data row6 col0\" >3.87333</td> \n",
       "        <td id=\"T_34cf5f42_e44f_11ed_8206_28cdc4a0a6d6row6_col1\" class=\"data row6 col1\" >3233.67</td> \n",
       "        <td id=\"T_34cf5f42_e44f_11ed_8206_28cdc4a0a6d6row6_col2\" class=\"data row6 col2\" >84</td> \n",
       "    </tr>    <tr> \n",
       "        <th id=\"T_34cf5f42_e44f_11ed_8206_28cdc4a0a6d6level0_row7\" class=\"row_heading level0 row7\" >fre</th> \n",
       "        <td id=\"T_34cf5f42_e44f_11ed_8206_28cdc4a0a6d6row7_col0\" class=\"data row7 col0\" >3.97153</td> \n",
       "        <td id=\"T_34cf5f42_e44f_11ed_8206_28cdc4a0a6d6row7_col1\" class=\"data row7 col1\" >3277.32</td> \n",
       "        <td id=\"T_34cf5f42_e44f_11ed_8206_28cdc4a0a6d6row7_col2\" class=\"data row7 col2\" >64.5139</td> \n",
       "    </tr>    <tr> \n",
       "        <th id=\"T_34cf5f42_e44f_11ed_8206_28cdc4a0a6d6level0_row8\" class=\"row_heading level0 row8\" >ger</th> \n",
       "        <td id=\"T_34cf5f42_e44f_11ed_8206_28cdc4a0a6d6row8_col0\" class=\"data row8 col0\" >3.9501</td> \n",
       "        <td id=\"T_34cf5f42_e44f_11ed_8206_28cdc4a0a6d6row8_col1\" class=\"data row8 col1\" >234.727</td> \n",
       "        <td id=\"T_34cf5f42_e44f_11ed_8206_28cdc4a0a6d6row8_col2\" class=\"data row8 col2\" >8.23232</td> \n",
       "    </tr>    <tr> \n",
       "        <th id=\"T_34cf5f42_e44f_11ed_8206_28cdc4a0a6d6level0_row9\" class=\"row_heading level0 row9\" >gla</th> \n",
       "        <td id=\"T_34cf5f42_e44f_11ed_8206_28cdc4a0a6d6row9_col0\" class=\"data row9 col0\" >4.47</td> \n",
       "        <td id=\"T_34cf5f42_e44f_11ed_8206_28cdc4a0a6d6row9_col1\" class=\"data row9 col1\" >11</td> \n",
       "        <td id=\"T_34cf5f42_e44f_11ed_8206_28cdc4a0a6d6row9_col2\" class=\"data row9 col2\" >0</td> \n",
       "    </tr>    <tr> \n",
       "        <th id=\"T_34cf5f42_e44f_11ed_8206_28cdc4a0a6d6level0_row10\" class=\"row_heading level0 row10\" >glg</th> \n",
       "        <td id=\"T_34cf5f42_e44f_11ed_8206_28cdc4a0a6d6row10_col0\" class=\"data row10 col0\" >3.36</td> \n",
       "        <td id=\"T_34cf5f42_e44f_11ed_8206_28cdc4a0a6d6row10_col1\" class=\"data row10 col1\" >36</td> \n",
       "        <td id=\"T_34cf5f42_e44f_11ed_8206_28cdc4a0a6d6row10_col2\" class=\"data row10 col2\" >2</td> \n",
       "    </tr>    <tr> \n",
       "        <th id=\"T_34cf5f42_e44f_11ed_8206_28cdc4a0a6d6level0_row11\" class=\"row_heading level0 row11\" >grc</th> \n",
       "        <td id=\"T_34cf5f42_e44f_11ed_8206_28cdc4a0a6d6row11_col0\" class=\"data row11 col0\" >3.70727</td> \n",
       "        <td id=\"T_34cf5f42_e44f_11ed_8206_28cdc4a0a6d6row11_col1\" class=\"data row11 col1\" >52.4545</td> \n",
       "        <td id=\"T_34cf5f42_e44f_11ed_8206_28cdc4a0a6d6row11_col2\" class=\"data row11 col2\" >2.45455</td> \n",
       "    </tr>    <tr> \n",
       "        <th id=\"T_34cf5f42_e44f_11ed_8206_28cdc4a0a6d6level0_row12\" class=\"row_heading level0 row12\" >ita</th> \n",
       "        <td id=\"T_34cf5f42_e44f_11ed_8206_28cdc4a0a6d6row12_col0\" class=\"data row12 col0\" >4.078</td> \n",
       "        <td id=\"T_34cf5f42_e44f_11ed_8206_28cdc4a0a6d6row12_col1\" class=\"data row12 col1\" >3234.4</td> \n",
       "        <td id=\"T_34cf5f42_e44f_11ed_8206_28cdc4a0a6d6row12_col2\" class=\"data row12 col2\" >55.8</td> \n",
       "    </tr>    <tr> \n",
       "        <th id=\"T_34cf5f42_e44f_11ed_8206_28cdc4a0a6d6level0_row13\" class=\"row_heading level0 row13\" >jpn</th> \n",
       "        <td id=\"T_34cf5f42_e44f_11ed_8206_28cdc4a0a6d6row13_col0\" class=\"data row13 col0\" >4.2687</td> \n",
       "        <td id=\"T_34cf5f42_e44f_11ed_8206_28cdc4a0a6d6row13_col1\" class=\"data row13 col1\" >68.3043</td> \n",
       "        <td id=\"T_34cf5f42_e44f_11ed_8206_28cdc4a0a6d6row13_col2\" class=\"data row13 col2\" >3.15217</td> \n",
       "    </tr>    <tr> \n",
       "        <th id=\"T_34cf5f42_e44f_11ed_8206_28cdc4a0a6d6level0_row14\" class=\"row_heading level0 row14\" >lat</th> \n",
       "        <td id=\"T_34cf5f42_e44f_11ed_8206_28cdc4a0a6d6row14_col0\" class=\"data row14 col0\" >4.35333</td> \n",
       "        <td id=\"T_34cf5f42_e44f_11ed_8206_28cdc4a0a6d6row14_col1\" class=\"data row14 col1\" >114.667</td> \n",
       "        <td id=\"T_34cf5f42_e44f_11ed_8206_28cdc4a0a6d6row14_col2\" class=\"data row14 col2\" >12.3333</td> \n",
       "    </tr>    <tr> \n",
       "        <th id=\"T_34cf5f42_e44f_11ed_8206_28cdc4a0a6d6level0_row15\" class=\"row_heading level0 row15\" >msa</th> \n",
       "        <td id=\"T_34cf5f42_e44f_11ed_8206_28cdc4a0a6d6row15_col0\" class=\"data row15 col0\" >4.11</td> \n",
       "        <td id=\"T_34cf5f42_e44f_11ed_8206_28cdc4a0a6d6row15_col1\" class=\"data row15 col1\" >28</td> \n",
       "        <td id=\"T_34cf5f42_e44f_11ed_8206_28cdc4a0a6d6row15_col2\" class=\"data row15 col2\" >6</td> \n",
       "    </tr>    <tr> \n",
       "        <th id=\"T_34cf5f42_e44f_11ed_8206_28cdc4a0a6d6level0_row16\" class=\"row_heading level0 row16\" >mul</th> \n",
       "        <td id=\"T_34cf5f42_e44f_11ed_8206_28cdc4a0a6d6row16_col0\" class=\"data row16 col0\" >4.12632</td> \n",
       "        <td id=\"T_34cf5f42_e44f_11ed_8206_28cdc4a0a6d6row16_col1\" class=\"data row16 col1\" >386.632</td> \n",
       "        <td id=\"T_34cf5f42_e44f_11ed_8206_28cdc4a0a6d6row16_col2\" class=\"data row16 col2\" >19.2632</td> \n",
       "    </tr>    <tr> \n",
       "        <th id=\"T_34cf5f42_e44f_11ed_8206_28cdc4a0a6d6level0_row17\" class=\"row_heading level0 row17\" >nl</th> \n",
       "        <td id=\"T_34cf5f42_e44f_11ed_8206_28cdc4a0a6d6row17_col0\" class=\"data row17 col0\" >4.18</td> \n",
       "        <td id=\"T_34cf5f42_e44f_11ed_8206_28cdc4a0a6d6row17_col1\" class=\"data row17 col1\" >67</td> \n",
       "        <td id=\"T_34cf5f42_e44f_11ed_8206_28cdc4a0a6d6row17_col2\" class=\"data row17 col2\" >9</td> \n",
       "    </tr>    <tr> \n",
       "        <th id=\"T_34cf5f42_e44f_11ed_8206_28cdc4a0a6d6level0_row18\" class=\"row_heading level0 row18\" >nor</th> \n",
       "        <td id=\"T_34cf5f42_e44f_11ed_8206_28cdc4a0a6d6row18_col0\" class=\"data row18 col0\" >3.6</td> \n",
       "        <td id=\"T_34cf5f42_e44f_11ed_8206_28cdc4a0a6d6row18_col1\" class=\"data row18 col1\" >86</td> \n",
       "        <td id=\"T_34cf5f42_e44f_11ed_8206_28cdc4a0a6d6row18_col2\" class=\"data row18 col2\" >8</td> \n",
       "    </tr>    <tr> \n",
       "        <th id=\"T_34cf5f42_e44f_11ed_8206_28cdc4a0a6d6level0_row19\" class=\"row_heading level0 row19\" >por</th> \n",
       "        <td id=\"T_34cf5f42_e44f_11ed_8206_28cdc4a0a6d6row19_col0\" class=\"data row19 col0\" >3.945</td> \n",
       "        <td id=\"T_34cf5f42_e44f_11ed_8206_28cdc4a0a6d6row19_col1\" class=\"data row19 col1\" >165.1</td> \n",
       "        <td id=\"T_34cf5f42_e44f_11ed_8206_28cdc4a0a6d6row19_col2\" class=\"data row19 col2\" >13.5</td> \n",
       "    </tr>    <tr> \n",
       "        <th id=\"T_34cf5f42_e44f_11ed_8206_28cdc4a0a6d6level0_row20\" class=\"row_heading level0 row20\" >rus</th> \n",
       "        <td id=\"T_34cf5f42_e44f_11ed_8206_28cdc4a0a6d6row20_col0\" class=\"data row20 col0\" >4.255</td> \n",
       "        <td id=\"T_34cf5f42_e44f_11ed_8206_28cdc4a0a6d6row20_col1\" class=\"data row20 col1\" >4477</td> \n",
       "        <td id=\"T_34cf5f42_e44f_11ed_8206_28cdc4a0a6d6row20_col2\" class=\"data row20 col2\" >98.5</td> \n",
       "    </tr>    <tr> \n",
       "        <th id=\"T_34cf5f42_e44f_11ed_8206_28cdc4a0a6d6level0_row21\" class=\"row_heading level0 row21\" >spa</th> \n",
       "        <td id=\"T_34cf5f42_e44f_11ed_8206_28cdc4a0a6d6row21_col0\" class=\"data row21 col0\" >3.92931</td> \n",
       "        <td id=\"T_34cf5f42_e44f_11ed_8206_28cdc4a0a6d6row21_col1\" class=\"data row21 col1\" >4636.11</td> \n",
       "        <td id=\"T_34cf5f42_e44f_11ed_8206_28cdc4a0a6d6row21_col2\" class=\"data row21 col2\" >91.1239</td> \n",
       "    </tr>    <tr> \n",
       "        <th id=\"T_34cf5f42_e44f_11ed_8206_28cdc4a0a6d6level0_row22\" class=\"row_heading level0 row22\" >srp</th> \n",
       "        <td id=\"T_34cf5f42_e44f_11ed_8206_28cdc4a0a6d6row22_col0\" class=\"data row22 col0\" >0</td> \n",
       "        <td id=\"T_34cf5f42_e44f_11ed_8206_28cdc4a0a6d6row22_col1\" class=\"data row22 col1\" >0</td> \n",
       "        <td id=\"T_34cf5f42_e44f_11ed_8206_28cdc4a0a6d6row22_col2\" class=\"data row22 col2\" >0</td> \n",
       "    </tr>    <tr> \n",
       "        <th id=\"T_34cf5f42_e44f_11ed_8206_28cdc4a0a6d6level0_row23\" class=\"row_heading level0 row23\" >swe</th> \n",
       "        <td id=\"T_34cf5f42_e44f_11ed_8206_28cdc4a0a6d6row23_col0\" class=\"data row23 col0\" >3.455</td> \n",
       "        <td id=\"T_34cf5f42_e44f_11ed_8206_28cdc4a0a6d6row23_col1\" class=\"data row23 col1\" >2671</td> \n",
       "        <td id=\"T_34cf5f42_e44f_11ed_8206_28cdc4a0a6d6row23_col2\" class=\"data row23 col2\" >157</td> \n",
       "    </tr>    <tr> \n",
       "        <th id=\"T_34cf5f42_e44f_11ed_8206_28cdc4a0a6d6level0_row24\" class=\"row_heading level0 row24\" >tur</th> \n",
       "        <td id=\"T_34cf5f42_e44f_11ed_8206_28cdc4a0a6d6row24_col0\" class=\"data row24 col0\" >4.42</td> \n",
       "        <td id=\"T_34cf5f42_e44f_11ed_8206_28cdc4a0a6d6row24_col1\" class=\"data row24 col1\" >1000</td> \n",
       "        <td id=\"T_34cf5f42_e44f_11ed_8206_28cdc4a0a6d6row24_col2\" class=\"data row24 col2\" >41</td> \n",
       "    </tr>    <tr> \n",
       "        <th id=\"T_34cf5f42_e44f_11ed_8206_28cdc4a0a6d6level0_row25\" class=\"row_heading level0 row25\" >wel</th> \n",
       "        <td id=\"T_34cf5f42_e44f_11ed_8206_28cdc4a0a6d6row25_col0\" class=\"data row25 col0\" >5</td> \n",
       "        <td id=\"T_34cf5f42_e44f_11ed_8206_28cdc4a0a6d6row25_col1\" class=\"data row25 col1\" >1</td> \n",
       "        <td id=\"T_34cf5f42_e44f_11ed_8206_28cdc4a0a6d6row25_col2\" class=\"data row25 col2\" >0</td> \n",
       "    </tr>    <tr> \n",
       "        <th id=\"T_34cf5f42_e44f_11ed_8206_28cdc4a0a6d6level0_row26\" class=\"row_heading level0 row26\" >zho</th> \n",
       "        <td id=\"T_34cf5f42_e44f_11ed_8206_28cdc4a0a6d6row26_col0\" class=\"data row26 col0\" >4.45643</td> \n",
       "        <td id=\"T_34cf5f42_e44f_11ed_8206_28cdc4a0a6d6row26_col1\" class=\"data row26 col1\" >20.4286</td> \n",
       "        <td id=\"T_34cf5f42_e44f_11ed_8206_28cdc4a0a6d6row26_col2\" class=\"data row26 col2\" >0.5</td> \n",
       "    </tr></tbody> \n",
       "</table> "
      ],
      "text/plain": [
       "<pandas.io.formats.style.Styler at 0x2b4ea138630>"
      ]
     },
     "execution_count": 34,
     "metadata": {},
     "output_type": "execute_result"
    }
   ],
   "source": [
    "df.groupby(['language_code'])[['average_rating', \n",
    "                               'ratings_count', \n",
    "                               'text_reviews_count']].agg('mean').style.background_gradient(cmap = 'Wistia')\n"
   ]
  },
  {
   "cell_type": "code",
   "execution_count": 35,
   "metadata": {},
   "outputs": [
    {
     "data": {
      "text/plain": [
       "The Brothers Karamazov        9\n",
       "The Iliad                     9\n",
       "The Odyssey                   8\n",
       "'Salem's Lot                  8\n",
       "Gulliver's Travels            8\n",
       "Anna Karenina                 8\n",
       "A Midsummer Night's Dream     7\n",
       "The Picture of Dorian Gray    7\n",
       "The Great Gatsby              6\n",
       "The Histories                 6\n",
       "Treasure Island               6\n",
       "Jane Eyre                     6\n",
       "The Scarlet Letter            6\n",
       "Robinson Crusoe               6\n",
       "Sense and Sensibility         6\n",
       "Romeo and Juliet              6\n",
       "Macbeth                       6\n",
       "The Secret Garden             6\n",
       "Collected Stories             6\n",
       "Paradise Lost                 5\n",
       "Name: title, dtype: int64"
      ]
     },
     "execution_count": 35,
     "metadata": {},
     "output_type": "execute_result"
    }
   ],
   "source": [
    "book = df['title'].value_counts()[:20]\n",
    "book"
   ]
  },
  {
   "cell_type": "code",
   "execution_count": 36,
   "metadata": {},
   "outputs": [
    {
     "data": {
      "image/png": "[encoded data removed]",
      "text/plain": [
       "<matplotlib.figure.Figure at 0x2b4ea187c88>"
      ]
     },
     "metadata": {},
     "output_type": "display_data"
    }
   ],
   "source": [
    "# to find most occuring book in our data\n",
    "plt.figure(figsize = (20, 6))\n",
    "book = df['title'].value_counts()[:20]\n",
    "sns.barplot(x = book.index, y = book,\n",
    "           palette = 'winter_r')\n",
    "plt.title(\"Most occuring Books\")\n",
    "plt.xlabel(\"Number of Occurance\")\n",
    "plt.ylabel(\"Books\")\n",
    "plt.xticks(rotation = 75, fontsize = 13)\n",
    "plt.show()"
   ]
  },
  {
   "cell_type": "code",
   "execution_count": 37,
   "metadata": {},
   "outputs": [
    {
     "data": {
      "image/png": "[encoded data removed]",
      "text/plain": [
       "<matplotlib.figure.Figure at 0x2b4ea253198>"
      ]
     },
     "metadata": {},
     "output_type": "display_data"
    }
   ],
   "source": [
    "sns.distplot(df['average_rating'])\n",
    "plt.show()"
   ]
  },
  {
   "cell_type": "code",
   "execution_count": 38,
   "metadata": {},
   "outputs": [
    {
     "data": {
      "text/html": [
       "<div>\n",
       "<style scoped>\n",
       "    .dataframe tbody tr th:only-of-type {\n",
       "        vertical-align: middle;\n",
       "    }\n",
       "\n",
       "    .dataframe tbody tr th {\n",
       "        vertical-align: top;\n",
       "    }\n",
       "\n",
       "    .dataframe thead th {\n",
       "        text-align: right;\n",
       "    }\n",
       "</style>\n",
       "<table border=\"1\" class=\"dataframe\">\n",
       "  <thead>\n",
       "    <tr style=\"text-align: right;\">\n",
       "      <th></th>\n",
       "      <th>title</th>\n",
       "      <th>authors</th>\n",
       "      <th>language_code</th>\n",
       "      <th>publisher</th>\n",
       "    </tr>\n",
       "  </thead>\n",
       "  <tbody>\n",
       "    <tr>\n",
       "      <th>624</th>\n",
       "      <td>Comoediae 1: Acharenses/Equites/Nubes/Vespae/P...</td>\n",
       "      <td>Aristophanes/F.W. Hall/W.M. Geldart</td>\n",
       "      <td>grc</td>\n",
       "      <td>Oxford University Press  USA</td>\n",
       "    </tr>\n",
       "    <tr>\n",
       "      <th>786</th>\n",
       "      <td>Willem de Kooning: Late Paintings</td>\n",
       "      <td>Julie Sylvester/David Sylvester</td>\n",
       "      <td>eng</td>\n",
       "      <td>Schirmer Mosel</td>\n",
       "    </tr>\n",
       "    <tr>\n",
       "      <th>855</th>\n",
       "      <td>Literature Circle Guide: Bridge to Terabithia:...</td>\n",
       "      <td>Tara MacCarthy</td>\n",
       "      <td>eng</td>\n",
       "      <td>Teaching Resources</td>\n",
       "    </tr>\n",
       "    <tr>\n",
       "      <th>1243</th>\n",
       "      <td>Middlesex Borough (Images of America: New Jersey)</td>\n",
       "      <td>Middlesex Borough Heritage Committee</td>\n",
       "      <td>eng</td>\n",
       "      <td>Arcadia Publishing</td>\n",
       "    </tr>\n",
       "    <tr>\n",
       "      <th>4125</th>\n",
       "      <td>Zone of the Enders: The 2nd Runner Official St...</td>\n",
       "      <td>Tim Bogenn</td>\n",
       "      <td>eng</td>\n",
       "      <td>BradyGames</td>\n",
       "    </tr>\n",
       "    <tr>\n",
       "      <th>4788</th>\n",
       "      <td>The Diamond Color Meditation: Color Pathway to...</td>\n",
       "      <td>John  Diamond</td>\n",
       "      <td>eng</td>\n",
       "      <td>Square One Publishers</td>\n",
       "    </tr>\n",
       "    <tr>\n",
       "      <th>4933</th>\n",
       "      <td>Bulgakov's the Master and Margarita: The Text ...</td>\n",
       "      <td>Elena N. Mahlow</td>\n",
       "      <td>eng</td>\n",
       "      <td>Vantage Press</td>\n",
       "    </tr>\n",
       "    <tr>\n",
       "      <th>5023</th>\n",
       "      <td>The Complete Theory Fun Factory: Music Theory ...</td>\n",
       "      <td>Ian        Martin/Katie Elliott</td>\n",
       "      <td>eng</td>\n",
       "      <td>Boosey &amp; Hawkes Inc</td>\n",
       "    </tr>\n",
       "    <tr>\n",
       "      <th>5474</th>\n",
       "      <td>The Goon Show  Volume 4: My Knees Have Fallen ...</td>\n",
       "      <td>NOT A BOOK</td>\n",
       "      <td>eng</td>\n",
       "      <td>BBC Physical Audio</td>\n",
       "    </tr>\n",
       "    <tr>\n",
       "      <th>5476</th>\n",
       "      <td>The Goon Show  Volume 11: He's Fallen in the W...</td>\n",
       "      <td>NOT A BOOK</td>\n",
       "      <td>eng</td>\n",
       "      <td>BBC Physical Audio</td>\n",
       "    </tr>\n",
       "    <tr>\n",
       "      <th>5647</th>\n",
       "      <td>Winchester Shotguns</td>\n",
       "      <td>Dennis Adler/R.L. Wilson</td>\n",
       "      <td>eng</td>\n",
       "      <td>Chartwell Books</td>\n",
       "    </tr>\n",
       "    <tr>\n",
       "      <th>5648</th>\n",
       "      <td>Colossians and Philemon: A Critical and Exeget...</td>\n",
       "      <td>R. McL. Wilson</td>\n",
       "      <td>eng</td>\n",
       "      <td>T&amp;T Clark Int'l</td>\n",
       "    </tr>\n",
       "    <tr>\n",
       "      <th>6184</th>\n",
       "      <td>Taxation of Mineral Rents</td>\n",
       "      <td>Ross Garnaut</td>\n",
       "      <td>eng</td>\n",
       "      <td>Oxford University Press  USA</td>\n",
       "    </tr>\n",
       "    <tr>\n",
       "      <th>6247</th>\n",
       "      <td>The New Big Book of America</td>\n",
       "      <td>Todd Davis/Marc Frey</td>\n",
       "      <td>eng</td>\n",
       "      <td>Courage Books</td>\n",
       "    </tr>\n",
       "    <tr>\n",
       "      <th>6775</th>\n",
       "      <td>Delwau Duon: Peintiadau Nicholas Evans = Symph...</td>\n",
       "      <td>Nicholas    Evans/Rhonda  Evans</td>\n",
       "      <td>wel</td>\n",
       "      <td>Y Lolfa</td>\n",
       "    </tr>\n",
       "    <tr>\n",
       "      <th>8544</th>\n",
       "      <td>Fanning the Flame: Bible  Cross  and Mission</td>\n",
       "      <td>Chris    Green/Chris Wright/Paul Douglas Gardner</td>\n",
       "      <td>eng</td>\n",
       "      <td>Zondervan</td>\n",
       "    </tr>\n",
       "    <tr>\n",
       "      <th>9282</th>\n",
       "      <td>Oliver Wendell Holmes in Paris: Medicine  Theo...</td>\n",
       "      <td>William C. Dowling</td>\n",
       "      <td>eng</td>\n",
       "      <td>University Press of New England</td>\n",
       "    </tr>\n",
       "    <tr>\n",
       "      <th>9324</th>\n",
       "      <td>Tyrannosaurus Wrecks (Stanley  #1)</td>\n",
       "      <td>Laura Driscoll/Alisa Klayman-Grodsky/Eric     ...</td>\n",
       "      <td>eng</td>\n",
       "      <td>Disney Press</td>\n",
       "    </tr>\n",
       "    <tr>\n",
       "      <th>9720</th>\n",
       "      <td>The Irish Anatomist: A Study of Flann O'Brien</td>\n",
       "      <td>Keith Donohue</td>\n",
       "      <td>eng</td>\n",
       "      <td>Academica Press</td>\n",
       "    </tr>\n",
       "    <tr>\n",
       "      <th>9847</th>\n",
       "      <td>The American Campaign: U.S. Presidential Campa...</td>\n",
       "      <td>James E. Campbell</td>\n",
       "      <td>eng</td>\n",
       "      <td>Texas A&amp;M University Press</td>\n",
       "    </tr>\n",
       "    <tr>\n",
       "      <th>9893</th>\n",
       "      <td>His Princess Devotional: A Royal Encounter Wit...</td>\n",
       "      <td>Sheri Rose Shepherd</td>\n",
       "      <td>eng</td>\n",
       "      <td>Multnomah</td>\n",
       "    </tr>\n",
       "    <tr>\n",
       "      <th>10262</th>\n",
       "      <td>Bill Gates: Computer Legend (Famous Lives)</td>\n",
       "      <td>Sara Barton-Wood</td>\n",
       "      <td>eng</td>\n",
       "      <td>Raintree</td>\n",
       "    </tr>\n",
       "  </tbody>\n",
       "</table>\n",
       "</div>"
      ],
      "text/plain": [
       "                                                   title  \\\n",
       "624    Comoediae 1: Acharenses/Equites/Nubes/Vespae/P...   \n",
       "786                    Willem de Kooning: Late Paintings   \n",
       "855    Literature Circle Guide: Bridge to Terabithia:...   \n",
       "1243   Middlesex Borough (Images of America: New Jersey)   \n",
       "4125   Zone of the Enders: The 2nd Runner Official St...   \n",
       "4788   The Diamond Color Meditation: Color Pathway to...   \n",
       "4933   Bulgakov's the Master and Margarita: The Text ...   \n",
       "5023   The Complete Theory Fun Factory: Music Theory ...   \n",
       "5474   The Goon Show  Volume 4: My Knees Have Fallen ...   \n",
       "5476   The Goon Show  Volume 11: He's Fallen in the W...   \n",
       "5647                                 Winchester Shotguns   \n",
       "5648   Colossians and Philemon: A Critical and Exeget...   \n",
       "6184                           Taxation of Mineral Rents   \n",
       "6247                         The New Big Book of America   \n",
       "6775   Delwau Duon: Peintiadau Nicholas Evans = Symph...   \n",
       "8544        Fanning the Flame: Bible  Cross  and Mission   \n",
       "9282   Oliver Wendell Holmes in Paris: Medicine  Theo...   \n",
       "9324                  Tyrannosaurus Wrecks (Stanley  #1)   \n",
       "9720       The Irish Anatomist: A Study of Flann O'Brien   \n",
       "9847   The American Campaign: U.S. Presidential Campa...   \n",
       "9893   His Princess Devotional: A Royal Encounter Wit...   \n",
       "10262         Bill Gates: Computer Legend (Famous Lives)   \n",
       "\n",
       "                                                 authors language_code  \\\n",
       "624                  Aristophanes/F.W. Hall/W.M. Geldart           grc   \n",
       "786                      Julie Sylvester/David Sylvester           eng   \n",
       "855                                       Tara MacCarthy           eng   \n",
       "1243                Middlesex Borough Heritage Committee           eng   \n",
       "4125                                          Tim Bogenn           eng   \n",
       "4788                                       John  Diamond           eng   \n",
       "4933                                     Elena N. Mahlow           eng   \n",
       "5023                     Ian        Martin/Katie Elliott           eng   \n",
       "5474                                          NOT A BOOK           eng   \n",
       "5476                                          NOT A BOOK           eng   \n",
       "5647                            Dennis Adler/R.L. Wilson           eng   \n",
       "5648                                      R. McL. Wilson           eng   \n",
       "6184                                        Ross Garnaut           eng   \n",
       "6247                                Todd Davis/Marc Frey           eng   \n",
       "6775                     Nicholas    Evans/Rhonda  Evans           wel   \n",
       "8544    Chris    Green/Chris Wright/Paul Douglas Gardner           eng   \n",
       "9282                                  William C. Dowling           eng   \n",
       "9324   Laura Driscoll/Alisa Klayman-Grodsky/Eric     ...           eng   \n",
       "9720                                       Keith Donohue           eng   \n",
       "9847                                   James E. Campbell           eng   \n",
       "9893                                 Sheri Rose Shepherd           eng   \n",
       "10262                                   Sara Barton-Wood           eng   \n",
       "\n",
       "                             publisher  \n",
       "624       Oxford University Press  USA  \n",
       "786                     Schirmer Mosel  \n",
       "855                 Teaching Resources  \n",
       "1243                Arcadia Publishing  \n",
       "4125                        BradyGames  \n",
       "4788             Square One Publishers  \n",
       "4933                     Vantage Press  \n",
       "5023               Boosey & Hawkes Inc  \n",
       "5474                BBC Physical Audio  \n",
       "5476                BBC Physical Audio  \n",
       "5647                   Chartwell Books  \n",
       "5648                   T&T Clark Int'l  \n",
       "6184      Oxford University Press  USA  \n",
       "6247                     Courage Books  \n",
       "6775                           Y Lolfa  \n",
       "8544                         Zondervan  \n",
       "9282   University Press of New England  \n",
       "9324                      Disney Press  \n",
       "9720                   Academica Press  \n",
       "9847        Texas A&M University Press  \n",
       "9893                         Multnomah  \n",
       "10262                         Raintree  "
      ]
     },
     "execution_count": 38,
     "metadata": {},
     "output_type": "execute_result"
    }
   ],
   "source": [
    "df[df.average_rating == df.average_rating.max()][['title','authors','language_code','publisher']]"
   ]
  },
  {
   "cell_type": "code",
   "execution_count": 39,
   "metadata": {},
   "outputs": [
    {
     "data": {
      "text/plain": [
       "Vintage                         318\n",
       "Penguin Books                   261\n",
       "Penguin Classics                184\n",
       "Mariner Books                   150\n",
       "Ballantine Books                144\n",
       "HarperCollins                   112\n",
       "Harper Perennial                112\n",
       "Pocket Books                    111\n",
       "Bantam                          110\n",
       "VIZ Media LLC                    88\n",
       "Berkley                          86\n",
       "Dover Publications               85\n",
       "Modern Library                   82\n",
       "Del Rey                          80\n",
       "Grand Central Publishing         76\n",
       "Tor Books                        76\n",
       "Oxford University Press  USA     75\n",
       "Oxford University Press          73\n",
       "Scribner                         73\n",
       "W. W. Norton  Company            68\n",
       "Name: publisher, dtype: int64"
      ]
     },
     "execution_count": 39,
     "metadata": {},
     "output_type": "execute_result"
    }
   ],
   "source": [
    "publisher = df['publisher'].value_counts()[:20]\n",
    "publisher"
   ]
  },
  {
   "cell_type": "code",
   "execution_count": 40,
   "metadata": {},
   "outputs": [
    {
     "data": {
      "image/png": "[encoded data removed]",
      "text/plain": [
       "<matplotlib.figure.Figure at 0x2b4ea287278>"
      ]
     },
     "metadata": {},
     "output_type": "display_data"
    }
   ],
   "source": [
    "publisher = df['publisher'].value_counts()[:20]\n",
    "sns.barplot(x = publisher.index, y = publisher, palette = 'winter_r')\n",
    "plt.title(\"Publishers\")\n",
    "plt.xlabel(\"Number of Occurance\")\n",
    "plt.ylabel(\"Publishers\")\n",
    "plt.xticks(rotation = 75, fontsize = 13)\n",
    "plt.show()"
   ]
  },
  {
   "cell_type": "markdown",
   "metadata": {},
   "source": [
    "### Recommending Books based on Publishers\n",
    "### Recommending Books based on Authors\n",
    "### Recommending Books based on Language"
   ]
  },
  {
   "cell_type": "code",
   "execution_count": 41,
   "metadata": {},
   "outputs": [
    {
     "data": {
      "text/plain": [
       "Vintage                                          318\n",
       "Penguin Books                                    261\n",
       "Penguin Classics                                 184\n",
       "Mariner Books                                    150\n",
       "Ballantine Books                                 144\n",
       "HarperCollins                                    112\n",
       "Harper Perennial                                 112\n",
       "Pocket Books                                     111\n",
       "Bantam                                           110\n",
       "VIZ Media LLC                                     88\n",
       "Berkley                                           86\n",
       "Dover Publications                                85\n",
       "Modern Library                                    82\n",
       "Del Rey                                           80\n",
       "Grand Central Publishing                          76\n",
       "Tor Books                                         76\n",
       "Oxford University Press  USA                      75\n",
       "Oxford University Press                           73\n",
       "Scribner                                          73\n",
       "W. W. Norton  Company                             68\n",
       "Cambridge University Press                        66\n",
       "Signet                                            66\n",
       "Simon  Schuster                                   65\n",
       "Anchor                                            62\n",
       "William Morrow Paperbacks                         58\n",
       "Penguin                                           58\n",
       "Scholastic Paperbacks                             56\n",
       "Avon                                              56\n",
       "Library of America                                52\n",
       "Puffin Books                                      50\n",
       "                                                ... \n",
       "Hodder Mobius                                      1\n",
       "Random House Anchor                                1\n",
       "PerfectBound                                       1\n",
       "Trafalgar Square Publishing                        1\n",
       "US Naval Institute Press                           1\n",
       "Welcome Books                                      1\n",
       "Westholme Publishing                               1\n",
       "Ace Hardcover                                      1\n",
       "G. P. Putnam's Sons                                1\n",
       "Readers Digest                                     1\n",
       "Delmar Thomson Learning                            1\n",
       "Hakusen Sha                                        1\n",
       "Yosemite Conservancy                               1\n",
       "Devil's Due Publishing                             1\n",
       "Columbia Pictures Pubns                            1\n",
       "Fischer Taschenbuch Verlag                         1\n",
       "Insel                                              1\n",
       "Between the Lines Productions                      1\n",
       "FT Press                                           1\n",
       "Riverrun Press (New York  NY)                      1\n",
       "Pluto Press                                        1\n",
       "ComicsLit                                          1\n",
       "Hackett Publishing Company (Indianapolis  IN)      1\n",
       "Knowledge Products                                 1\n",
       "Oddysey/Harcourt Young Classics                    1\n",
       "Dartmouth College Press                            1\n",
       "High Point Media                                   1\n",
       "Diogenes                                           1\n",
       "Farrar  Strauss & Giroux-3pl                       1\n",
       "Ecco / HarperCollins                               1\n",
       "Name: publisher, Length: 2290, dtype: int64"
      ]
     },
     "execution_count": 41,
     "metadata": {},
     "output_type": "execute_result"
    }
   ],
   "source": [
    "df.publisher.value_counts()"
   ]
  },
  {
   "cell_type": "code",
   "execution_count": 42,
   "metadata": {},
   "outputs": [
    {
     "data": {
      "text/plain": [
       "Index(['title', 'authors', 'average_rating', 'language_code', 'num_pages',\n",
       "       'ratings_count', 'text_reviews_count', 'publication_date', 'publisher',\n",
       "       'year'],\n",
       "      dtype='object')"
      ]
     },
     "execution_count": 42,
     "metadata": {},
     "output_type": "execute_result"
    }
   ],
   "source": [
    "df.columns\n"
   ]
  },
  {
   "cell_type": "code",
   "execution_count": 43,
   "metadata": {},
   "outputs": [],
   "source": [
    "def recomd_books_publisheres(x):\n",
    "    a = df[df['publisher'] == x][['title', 'average_rating']]\n",
    "    a = a.sort_values(by = 'average_rating', ascending = False)\n",
    "    return a.head(10)"
   ]
  },
  {
   "cell_type": "code",
   "execution_count": 44,
   "metadata": {},
   "outputs": [
    {
     "data": {
      "text/html": [
       "<div>\n",
       "<style scoped>\n",
       "    .dataframe tbody tr th:only-of-type {\n",
       "        vertical-align: middle;\n",
       "    }\n",
       "\n",
       "    .dataframe tbody tr th {\n",
       "        vertical-align: top;\n",
       "    }\n",
       "\n",
       "    .dataframe thead th {\n",
       "        text-align: right;\n",
       "    }\n",
       "</style>\n",
       "<table border=\"1\" class=\"dataframe\">\n",
       "  <thead>\n",
       "    <tr style=\"text-align: right;\">\n",
       "      <th></th>\n",
       "      <th>title</th>\n",
       "      <th>average_rating</th>\n",
       "    </tr>\n",
       "  </thead>\n",
       "  <tbody>\n",
       "    <tr>\n",
       "      <th>7371</th>\n",
       "      <td>Remembrance of Things Past: Volume II - The Gu...</td>\n",
       "      <td>4.53</td>\n",
       "    </tr>\n",
       "    <tr>\n",
       "      <th>335</th>\n",
       "      <td>The Power Broker: Robert Moses and the Fall of...</td>\n",
       "      <td>4.51</td>\n",
       "    </tr>\n",
       "    <tr>\n",
       "      <th>10838</th>\n",
       "      <td>The Civil War  Vol. 1: Fort Sumter to Perryville</td>\n",
       "      <td>4.42</td>\n",
       "    </tr>\n",
       "    <tr>\n",
       "      <th>1775</th>\n",
       "      <td>The Son Avenger (The Master of Hestviken  #4)</td>\n",
       "      <td>4.40</td>\n",
       "    </tr>\n",
       "    <tr>\n",
       "      <th>1505</th>\n",
       "      <td>A Fine Balance</td>\n",
       "      <td>4.36</td>\n",
       "    </tr>\n",
       "    <tr>\n",
       "      <th>9626</th>\n",
       "      <td>Nobody Knows My Name</td>\n",
       "      <td>4.35</td>\n",
       "    </tr>\n",
       "    <tr>\n",
       "      <th>2267</th>\n",
       "      <td>The Stories of Vladimir Nabokov</td>\n",
       "      <td>4.30</td>\n",
       "    </tr>\n",
       "    <tr>\n",
       "      <th>3112</th>\n",
       "      <td>All of Us: The Collected Poems</td>\n",
       "      <td>4.30</td>\n",
       "    </tr>\n",
       "    <tr>\n",
       "      <th>8787</th>\n",
       "      <td>Selected Stories</td>\n",
       "      <td>4.28</td>\n",
       "    </tr>\n",
       "    <tr>\n",
       "      <th>4019</th>\n",
       "      <td>Selected Stories</td>\n",
       "      <td>4.28</td>\n",
       "    </tr>\n",
       "  </tbody>\n",
       "</table>\n",
       "</div>"
      ],
      "text/plain": [
       "                                                   title  average_rating\n",
       "7371   Remembrance of Things Past: Volume II - The Gu...            4.53\n",
       "335    The Power Broker: Robert Moses and the Fall of...            4.51\n",
       "10838   The Civil War  Vol. 1: Fort Sumter to Perryville            4.42\n",
       "1775       The Son Avenger (The Master of Hestviken  #4)            4.40\n",
       "1505                                      A Fine Balance            4.36\n",
       "9626                                Nobody Knows My Name            4.35\n",
       "2267                     The Stories of Vladimir Nabokov            4.30\n",
       "3112                      All of Us: The Collected Poems            4.30\n",
       "8787                                    Selected Stories            4.28\n",
       "4019                                    Selected Stories            4.28"
      ]
     },
     "execution_count": 44,
     "metadata": {},
     "output_type": "execute_result"
    }
   ],
   "source": [
    "recomd_books_publisheres('Vintage')"
   ]
  },
  {
   "cell_type": "code",
   "execution_count": 45,
   "metadata": {},
   "outputs": [
    {
     "data": {
      "text/html": [
       "<div>\n",
       "<style scoped>\n",
       "    .dataframe tbody tr th:only-of-type {\n",
       "        vertical-align: middle;\n",
       "    }\n",
       "\n",
       "    .dataframe tbody tr th {\n",
       "        vertical-align: top;\n",
       "    }\n",
       "\n",
       "    .dataframe thead th {\n",
       "        text-align: right;\n",
       "    }\n",
       "</style>\n",
       "<table border=\"1\" class=\"dataframe\">\n",
       "  <thead>\n",
       "    <tr style=\"text-align: right;\">\n",
       "      <th></th>\n",
       "      <th>title</th>\n",
       "      <th>average_rating</th>\n",
       "    </tr>\n",
       "  </thead>\n",
       "  <tbody>\n",
       "    <tr>\n",
       "      <th>4244</th>\n",
       "      <td>The Complete Maus</td>\n",
       "      <td>4.55</td>\n",
       "    </tr>\n",
       "    <tr>\n",
       "      <th>5564</th>\n",
       "      <td>The Penguin Companion to European Literature</td>\n",
       "      <td>4.50</td>\n",
       "    </tr>\n",
       "    <tr>\n",
       "      <th>1381</th>\n",
       "      <td>Before The Mayflower A History of Black America</td>\n",
       "      <td>4.44</td>\n",
       "    </tr>\n",
       "    <tr>\n",
       "      <th>4602</th>\n",
       "      <td>Selected Non-Fictions</td>\n",
       "      <td>4.43</td>\n",
       "    </tr>\n",
       "    <tr>\n",
       "      <th>3011</th>\n",
       "      <td>The Read-Aloud Handbook</td>\n",
       "      <td>4.41</td>\n",
       "    </tr>\n",
       "    <tr>\n",
       "      <th>4551</th>\n",
       "      <td>Life With Jeeves (Jeeves  #6  2  &amp; 4)</td>\n",
       "      <td>4.39</td>\n",
       "    </tr>\n",
       "    <tr>\n",
       "      <th>1275</th>\n",
       "      <td>East of Eden</td>\n",
       "      <td>4.37</td>\n",
       "    </tr>\n",
       "    <tr>\n",
       "      <th>3304</th>\n",
       "      <td>Ludwig Wittgenstein: The Duty of Genius</td>\n",
       "      <td>4.36</td>\n",
       "    </tr>\n",
       "    <tr>\n",
       "      <th>4980</th>\n",
       "      <td>Life at Blandings</td>\n",
       "      <td>4.35</td>\n",
       "    </tr>\n",
       "    <tr>\n",
       "      <th>10867</th>\n",
       "      <td>The Portable Dorothy Parker</td>\n",
       "      <td>4.34</td>\n",
       "    </tr>\n",
       "  </tbody>\n",
       "</table>\n",
       "</div>"
      ],
      "text/plain": [
       "                                                 title  average_rating\n",
       "4244                                 The Complete Maus            4.55\n",
       "5564      The Penguin Companion to European Literature            4.50\n",
       "1381   Before The Mayflower A History of Black America            4.44\n",
       "4602                             Selected Non-Fictions            4.43\n",
       "3011                           The Read-Aloud Handbook            4.41\n",
       "4551             Life With Jeeves (Jeeves  #6  2  & 4)            4.39\n",
       "1275                                      East of Eden            4.37\n",
       "3304           Ludwig Wittgenstein: The Duty of Genius            4.36\n",
       "4980                                 Life at Blandings            4.35\n",
       "10867                      The Portable Dorothy Parker            4.34"
      ]
     },
     "execution_count": 45,
     "metadata": {},
     "output_type": "execute_result"
    }
   ],
   "source": [
    "recomd_books_publisheres('Penguin Books')"
   ]
  },
  {
   "cell_type": "code",
   "execution_count": 46,
   "metadata": {},
   "outputs": [
    {
     "data": {
      "application/vnd.jupyter.widget-view+json": {
       "model_id": "4106dc88c2c7447db5f75eb9bac370fe",
       "version_major": 2,
       "version_minor": 0
      },
      "text/html": [
       "<p>Failed to display Jupyter Widget of type <code>interactive</code>.</p>\n",
       "<p>\n",
       "  If you're reading this message in the Jupyter Notebook or JupyterLab Notebook, it may mean\n",
       "  that the widgets JavaScript is still loading. If this message persists, it\n",
       "  likely means that the widgets JavaScript library is either not installed or\n",
       "  not enabled. See the <a href=\"https://ipywidgets.readthedocs.io/en/stable/user_install.html\">Jupyter\n",
       "  Widgets Documentation</a> for setup instructions.\n",
       "</p>\n",
       "<p>\n",
       "  If you're reading this message in another frontend (for example, a static\n",
       "  rendering on GitHub or <a href=\"https://nbviewer.jupyter.org/\">NBViewer</a>),\n",
       "  it may mean that your frontend doesn't currently support widgets.\n",
       "</p>\n"
      ],
      "text/plain": [
       "interactive(children=(Dropdown(description='publisher_name', options=('Vintage', 'Penguin Books', 'Penguin Classics', 'Mariner Books', 'Ballantine Books', 'HarperCollins', 'Harper Perennial', 'Pocket Books', 'Bantam', 'VIZ Media LLC', 'Berkley', 'Dover Publications', 'Modern Library', 'Del Rey', 'Grand Central Publishing', 'Tor Books', 'Oxford University Press  USA', 'Oxford University Press', 'Scribner', 'W. W. Norton  Company', 'Cambridge University Press', 'Signet', 'Simon  Schuster', 'Anchor', 'William Morrow Paperbacks', 'Penguin', 'Scholastic Paperbacks', 'Avon', 'Library of America', 'Puffin Books', 'Broadway Books', 'HarperTorch', 'Bantam Books', 'HarperCollins Publishers', 'Harry N. Abrams', \"St. Martin's Press\", 'Simon & Schuster', \"St. Martin's Griffin\", 'Berkley Books', 'Basic Books', 'W. W. Norton & Company', 'University of Chicago Press', 'Vertigo', 'DAW', 'Farrar  Straus and Giroux', 'Harper', 'Anchor Books', 'Picador', \"G.P. Putnam's Sons\", 'Back Bay Books', \"Everyman's Library\", 'Grove Press', 'Houghton Mifflin Harcourt', 'Cliffs Notes', 'Random House Books for Young Readers', 'Harvard University Press', \"St. Martin's Paperbacks\", 'Washington Square Press', 'Plume', 'Ace', 'HarperOne', 'Random House Audio', 'Routledge', 'Princeton University Press', 'Scholastic', 'Del Rey Books', 'Barnes  Noble Classics', 'HMH Books for Young Readers', 'Alfred A. Knopf', 'Hackett Publishing Company  Inc.', 'DC Comics', 'Penguin Books Ltd', 'Random House', 'Delta', 'Wizards of the Coast', 'Free Press', 'William Morrow', 'Arrow', 'Yearling', 'Picador USA', 'Turtleback Books', 'Riverhead Books', 'University of California Press', 'Harper Perennial Modern Classics', 'Yale University Press', 'Warner Books', 'Dell', 'Ace Books', 'Atria Books', 'Little  Brown and Company', 'Random House Trade Paperbacks', 'Signet Classics', 'Vintage Classics', 'Leisure Books', 'Spectra', 'Tyndale House Publishers', 'Wiley', 'Hachette Books', 'Candlewick Press', 'Da Capo Press', 'New Directions', 'Little  Brown Books for Young Readers', 'Warner Books (NY)', 'Prentice Hall', 'Puffin', 'NAL', 'Brilliance Audio', 'Thomas Nelson', 'Marvel', 'Harper Voyager', 'Tor Fantasy', 'Avon Books', 'Touchstone', 'Viz Media', 'Fawcett', 'Aladdin', 'HarperTrophy', 'Ecco', 'Bloomsbury Academic', 'Jove', 'Houghton Mifflin', 'TokyoPop', 'Vintage International', 'Delacorte Press', 'Corgi', 'Dark Horse Books', 'Debolsillo', 'Random House Value Publishing', 'Pocket', 'Doubleday Books', 'Orb Books', 'Gallery Books', 'W.W. Norton & Company', 'Gallimard', 'Firebird', 'Greenwillow Books', 'Sterling', '小学館', 'Faber & Faber', 'Vintage Crime/Black Lizard', 'Orion', 'Knopf Publishing Group', 'Simon Pulse', 'Verso', 'Kensington', 'Columbia University Press', 'Bloomsbury Publishing PLC', 'Random House Trade', 'Disney Press', 'VIZ Media', 'Berkley Sensation', 'Baen', 'Shambhala', 'Plaza y Janes', 'Pantheon', 'NYRB Classics', 'Headline', 'Pearson', 'University Press of Mississippi', 'Chronicle Books', 'Citadel', 'Viking Books', 'Knopf', 'Little Brown and Company', 'Vintage Books', 'Dell Publishing Company', 'Andrews McMeel Publishing', 'Vision', 'Faber and Faber', 'Little  Brown Book Group', 'Daw Books', 'Dial Press', 'Zondervan', 'Scholastic Inc.', 'Gramercy Books', 'Schocken', 'Plume Books', 'Planeta Publishing', 'The New Press', \"McSweeney's\", 'Chaosium', 'Pocket Star', 'Open Court', 'Pantheon Books', 'Harmony', 'Dial Press Trade Paperback', 'Doubleday', '集英社', 'Black Swan', 'Running Press', 'Spectra Books', 'Blackstone Audiobooks', 'Harcourt', 'SparkNotes', 'Bantam Classics', 'Mira Books', 'Headline Review', 'Fawcett Books', 'Kessinger Publishing', 'Aladdin Paperbacks', 'Berkley Trade', 'Bloomsbury', 'Random House Audio Publishing Group', 'Harvest House Publishers', 'Farrar Straus Giroux', 'Amistad', \"O'Reilly Media\", 'Grosset & Dunlap', 'ADV Manga', 'Black Dog & Leventhal Publishers', 'Vintage Books USA', 'Onyx', 'Time Life Medical', 'Bethany House Publishers', 'Crossway Books', 'Beacon Press', 'Faber  Faber', 'Severn House Publishers', 'Viking', 'Simon & Schuster Audio', 'Minotaur Books', 'Zebra', 'Wings', 'Dark Horse Manga', 'DK Children', 'HarperTeen', 'Three Rivers Press', 'Luna Books', 'Digital Manga Publishing', \"J'ai Lu\", 'Orbit', 'St. Martins Press-3PL', 'Disney-Hyperion', 'AudioGO', 'Wordsworth Editions', 'Simon  Schuster Audio', 'Univ Of Minnesota Press', 'For Dummies', 'Ignatius Press', 'Yearling Books', 'MIRA', 'Bloomsbury Arden Shakespeare', 'Scholastic  Inc.', 'Love Spell', 'Glénat', 'Little  Brown & Company', 'Laurel Leaf Library', 'Punto de Lectura', 'Harper Business', 'Signet Book', 'BBC Audiobooks', 'iBooks', 'Ediciones B', 'Laurel Leaf', 'Putnam Adult', 'McGraw-Hill Education', 'MIT Press', 'Ivy Books', 'John Wiley & Sons', 'Clarion Books', 'Heyne', 'HarperAudio', \"J'ai lu\", 'University of Oklahoma Press', 'Jossey-Bass', 'Le Livre de Poche', 'Scribner Book Company', '東立', 'Harper Paperbacks', 'Johns Hopkins University Press', 'Goldmann', 'Villard', 'Dalkey Archive Press', 'It Books', 'Houghton Mifflin Company', 'Everyman', 'Roc', 'University Of Chicago Press', 'Bantam Spectra', 'BradyGames', 'Crown', 'Tarcherperigee', 'Dark Horse Comics', 'DK Publishing (Dorling Kindersley)', 'DeBolsillo', 'Warne', 'Palgrave Macmillan', 'Chicago Review Press', 'Gollancz', 'Hodder & Stoughton', 'Dramatists Play Service', 'Clarkson Potter', 'Anagrama', 'Pinnacle', 'Lonely Planet', 'Marvel Comics Group', 'Simon  Schuster Books for Young Readers', 'Speak', 'Viking Adult', 'Northwestern University Press', 'Caedmon', 'Simon & Schuster Childrens Books', 'Jove Books', 'Belknap Press', 'Price Stern Sloan', 'Touchstone Books', 'Baen Books', 'Atheneum Books for Young Readers', 'Orchard Books', 'Harlequin', 'Jonathan Cape', 'Macmillan Audio', 'Wiley-Blackwell', 'Silhouette Books', 'Hay House', 'Scholastic Press', 'Longman Publishing Group', 'Wildside Press', 'Blu', 'Indiana University Press', 'Workman Publishing Company', 'Moody Publishers', 'Prometheus Books', '講談社', 'Cengage Learning', 'British Film Institute', 'Books on Tape', 'David R. Godine Publisher', 'Holt Paperbacks', 'Chelsea House Publications', 'Berkley Publishing Group', 'Red Dress Ink', 'Barnes & Noble', 'University of Pennsylvania Press', 'Editorial Presença', 'New York Review of Books', 'Tantor Media', 'New Directions Publishing Corporation', 'Seven Stories Press', 'Digireads.com', 'Kingfisher', 'Dutton', 'Knopf Books for Young Readers', 'McGraw-Hill Companies', 'Holt McDougal', 'Three Rivers Press (CA)', 'Phoenix', 'Rodale Books', 'HarperCollins Publishers Ltd', 'Bison Books', 'City Lights Publishers', 'North Point Press', 'Rayo', 'Square Fish', 'Gold Eagle', 'Abacus', 'Random House (NY)', 'Applewood Books', 'Recorded Books  Inc.', 'Bloomsbury Methuen Drama', 'Silhouette', 'William Morrow & Company', 'Hill and Wang', 'Voyager', 'Random House for Young Readers', 'Delacorte Books for Young Readers', 'No Exit Press', 'Umbriel', 'Cavendish Square Publishing', 'Paul Dry Books', 'Theatre Communications Group', 'Push', 'BBC Physical Audio', 'Rough Guides', 'Listening Library (Audio)', 'Not Avail', 'Ember', 'Pan', 'HarperEntertainment', 'Hodder', 'Barrons Educational Series', 'Bristol Classical Press', 'Gramercy', 'American Girl Publishing Inc', \"Serpent's Tail\", 'Springer', 'Alfaguara', 'Carroll & Graf Publishers', 'Hyperion', 'Algonquin Books', 'HarperCollins Espanol', 'National Geographic Society', 'Bantam Press', 'Suhrkamp', 'Pocket Star Books', 'Aspect', 'Lübbe', 'Albin Michel', 'Plaza y Janés', 'Eos', 'DAW Books Inc', 'Denoël', 'Addison Wesley Publishing Company', 'ガンガンコミックス', 'Starscape', 'Digital Manga Publishing / Dark Horse', 'Prima Games', 'Newmarket Press', 'Moyer Bell and its subsidiaries', 'Cemetery Dance Publications', 'Alfred A. Knopf Books for Young Readers', 'Loeb Classical Library', 'Vermilion', 'Arrow Books', 'University of Michigan Press', 'Broadview Press Inc', 'Penguin Books  Limited (UK)', 'Simon and Schuster', 'Forge Books', 'Dark Horse', 'Dutton Books', 'Thames  Hudson', 'Addison-Wesley Professional', 'Audio Partners', 'White Wolf Games Studio', 'Canongate Books', 'Duke University Press Books', 'New City Press', 'Taschen', 'Waterbrook Press', 'Ebury Press', 'Silhouette Desire', 'Naxos Audiobooks', 'Multnomah Books', 'Westminster John Knox Press', 'Pan MacMillan', 'TarcherPerigee', 'Nick Hern Books', 'Bradford Book', 'HarperFestival', 'Barnes & Noble Classics', 'Edimat Libros', 'University of Georgia Press', 'Rutgers University Press', 'Tor Science Fiction', 'OUP Oxford', 'Apress', 'University Press of Kansas', 'Harlequin Presents', 'Philomel Books', 'Tor', 'Wheeler Publishing', 'Miramax Books', 'Mysterious Press', 'Phaidon Press', 'Cartwheel', 'Polity Press', 'Carlsen', 'Gibbs Smith', 'Wisdom Publications', 'Sphere', 'Crown Publishing Group (NY)', 'Rowman & Littlefield Publishers', 'Santillana USA Publishing Company', 'Penguin UK', 'Vintage Contemporaries', 'Rizzoli', 'HarperPerennial', 'Meisha Merlin Publishing', 'Flamingo', 'Margaret K. McElderry Books', 'The Guilford Press', 'Multnomah', 'Microsoft Press', 'Putnam Publishing Group', 'University of Illinois Press', 'Simon Schuster', 'Image Comics', 'Times Books', 'Kodansha', 'Wadsworth Publishing Company', \"Barron's Educational Series\", 'Hard Press', 'Salamandra', 'Chatto & Windus', 'University of Washington Press', 'Peachpit Press', 'Ivan R. Dee Publisher', 'Hyperion Books', 'Penguin Press HC  The', \"Writer's Digest Books\", 'Berrett-Koehler Publishers', 'Little  Brown Young Readers', 'Counterpoint', 'Bedford Books', 'Teaching Resources', 'Collins Reference', 'Recorded Books', 'Dey Street Books', 'Lerner Publications', 'MONDIAL', 'Kaplan', 'Pragmatic Bookshelf', 'New American Library', 'Cleis Press', 'Fourth Estate', 'North Atlantic Books', 'HarperCollinsChildren’sBooks', 'DAW Books', 'Simon  Schuster/Paula Wiseman Books', 'Headline Book Publishing', 'Borgo Press', 'Counterpoint LLC', 'Arcadia Publishing (SC)', 'New Riders Publishing', 'IVP Academic', 'Tachyon Publications', 'Hachette Audio', 'MTV Books', 'Fredonia Books (NL)', 'TusQuets', 'Blackwell Publishers', 'Whitaker House', 'New English Library', 'Seal Books', \"Hodder Children's Books\", 'Bantam Doubleday Dell Publishing Group', 'Abdo Publishing Company', 'Vintage/Random House (NY)', 'Zondervan Publishing Company', 'Be Beautiful', 'Scholastic Books', 'Schocken Books', 'University of North Carolina Press', 'Bloomsbury USA', 'Bantam Books (NY)', 'Heinemann Educational Books', 'Harvard Business Review Press', 'University of Massachusetts Press', 'Augsburg Fortress Publishing', 'Harlequin Historical', 'Mira', \"Ellora's Cave\", 'Miramax', 'Fantagraphics', 'Listening Library', 'Fanfare', 'Penguin Group (USA)', 'Berkley Hardcover', 'Seix Barral', 'Filiquarian Publishing  LLC.', 'Vertical', 'Running Press Adult', 'Nan A. Talese', 'Thorndike Press', 'Golden/Disney', 'FaithWords', 'Dodo Press', 'DC Comics Vertigo', 'Delcourt', 'Rowohlt Verlag', 'Hard Crime Case', 'Focus', 'Forge', \"Random House Children's Books\", 'Harvard Common Press', 'Harper Collins', 'Gemstone Publishing', 'Ecco Press', 'List', 'Soho Crime', 'Henry Holt and Co. (BYR)', 'Walker & Company', 'Totem Books', 'Methuen Publishing', 'Citadel Press', 'Atheneum Books', 'Applause Books', 'Pimlico', 'McGraw-Hill', 'Veritas Publishing', 'Ballantine', 'William B. Eerdmans Publishing Company', 'NAL Trade', 'New World Library', 'Harlequin Blaze', 'Focal Press', 'Kensington Publishing Corporation', 'Black Classic Press', 'Beach Lane Books', 'Pan Publishing', 'MacMillan General Books', 'Canongate U.S.', 'IDW Publishing', 'Allyn & Bacon', 'Arcadia Publishing', 'Atlantic Books', 'McGraw-Hill Humanities/Social Sciences/Languages', 'Orion Publishing Group', 'Castle Books', 'Icon Books', 'Llewellyn Publications', 'Random House  Inc.', 'Europa Editions', 'Golden Books', 'Oni Press', 'Business Plus', 'Candlewick', 'HarperCollinsPublishers', 'Orion Publishing', 'Orion Books', 'Griffin', 'Wings Books', 'Simon & Schuster Books for Young Readers', 'MacMillan Audio', 'Backinprint.com', 'Mondadori', 'Bolchazy-Carducci Publishers', 'Babel', 'Course Technology', 'Stanford University Press', 'Transworld Publishers', 'Ann Arbor Media', 'Candlewick Press (MA)', 'Buccaneer Books', 'Virgin Publishing', 'Odonian Press', 'Shueisha', 'Public Square Books', 'National Geographic', \"G.P. Putnam's Sons Books for Young Readers\", 'New Press', 'Audiogo', 'Harvill Press', 'Penguin Group', 'Regnery Publishing', 'iUniverse', 'Holiday House', 'Sourcebooks', 'Livre de Poche', 'Kiepenheuer & Witsch', 'Blanvalet Taschenbuch Verlag', \"Bloomsbury U.S.A. Children's Books\", 'University Press of Florida', 'Montena', 'Dial', 'Marvel Comics', 'Red Fox', 'Robert Laffont', 'Walker Books', 'Putnam', 'Souvenir Press', 'Penguin Books Limited', 'HarperTempest', 'Berlitz Kids', 'Hampton Roads Publishing Company', 'Smart Pop', 'Fireside', 'Arthur A. Levine Books', 'Potomac Books', 'The Harvill Press', 'Hungry Minds', 'Alyson Books', 'St. Martins Press', 'Tor Classics', 'Celestial Arts', 'Rick Steves', 'Ace Trade', 'Hesperus Press', 'HJ Kramer', 'Hyperion Books for Children', 'Gibbs Smith Publishers', 'North Light Books', 'Summit University Press', 'David R. Godine', 'Corgi Childrens', 'Roaring Brook Press', 'Allen Lane', 'Banner of Truth', 'Hal Leonard Publishing Corporation', 'University of Wisconsin Press', 'Sun and Moon Press', 'Kodansha America', \"Charles Scribner's Sons\", 'Granta UK', 'Sceptre', 'Black Dog & Leventhal', 'Douglas  McIntyre', 'Quest Books', 'Troll Communications', 'Little  Brown & Company (Boston/Toronto)', 'Grasset', 'Gauntlet Press', 'Haynes Manuals N. America  Inc.', 'Stone Bridge Press', 'New York University Press', 'Millenium', 'Capstone Press', 'Bloomsbury Publishing', 'Ave Maria Press', 'PublicAffairs', 'Ulysses Press', 'Soho Press', 'Dutton Books for Young Readers', 'Little Brown', 'Everyman Chess', 'Piatkus Books', 'Large Print Press', 'Gallimard Education', 'Coronet Books (GB)', 'Farrar  Straus & Giroux', 'Perfection Learning', 'Harvard University Press (Cambridge)', 'University of Arkansas Press', 'Penguin Global', 'Roca Editorial', 'Teacher Created Resources', 'Authorhouse', 'Galahad Books', 'Pelican Publishing', 'BBC Books', 'Planeta', 'W.W. Norton', 'Atlantic Monthly Press', 'Running Press Book Publishers', 'Arkana/Penguin', 'Hodder & Stoughton Ltd', 'University Press of Kentucky', 'Houghton Mifflin Harcourt P', 'Orbis Books', 'Crystal Clarity Publishers', 'Yellow Jersey', 'Heinemann Library', 'Folio', 'Perigee Trade', 'University of Nebraska Press', 'Razorbill', 'Alpha', 'Harlequin Books', 'B&H Publishing Group', 'Grove Press  Open City Books', 'Clarendon Press', 'Brava', 'Little  Brown', 'Weidenfeld & Nicolson', 'Penguin Books Ltd.', 'Soft Skull Press', 'Chalice Press', 'Dabel Brothers Publishing', 'Chosen Books', 'International Code Council', 'Carlton Publishing Group', 'Wiley Publishing', 'Poppy', 'HQN', 'Wayne State University Press', 'Nymphenburger', 'Smithmark Publishers', 'Bold Strokes Books', 'Viking Books for Young Readers', 'The Monacelli Press', 'Fawcett Crest Books', 'Plexus Publishing', 'One World (UK)', 'Schocken Books Inc', 'Avenel Books', 'Firebird Books', 'Norton', 'Simon & Schuster (Trade Division)', 'Random House Mondadori', 'University of Texas Press', 'Booksales', 'Douglas & McIntyre', 'Atheneum', 'Golden Gryphon Press', 'Penguin (Non-Classics)', 'Penguin Workshop', 'Honor Books', 'Games Workshop(uk)', 'Penguin Group(CA)', 'Coronet', 'Association for Supervision & Curriculum Development', 'Time Warner Paperbacks', 'Sudamericana', 'Harcourt Brace Jovanovich', 'Ullstein Tb', 'Silhouette Romance', 'Atheneum/Richard Jackson Books', 'Taunton Press', 'Impact', 'ReganBooks', 'Thames & Hudson', 'Feral House', 'Luna', 'Artisan', 'Walker Books Ltd', 'Doubleday Books for Young Readers', \"Collector's Library\", 'Avery Publishing Group', 'Fontana', 'Silhouette Special Edition', 'Howard Books', 'Dial Books', 'Actes Sud', '皇冠文化出版有限公司', 'Holloway House', 'Modern Library/Random House (NY)', 'RH Audio', 'Adventures Unlimited Press', 'Scribner Classics', 'Kodansha International', 'Payot', 'MacMillan', 'Arkham House Publishers', 'Triple Crown Publications', 'Zenith Press', 'Downtown Press', 'Main Street Books', 'Steerforth', 'Macmillan', 'Nelson Books', 'Psychology Press', 'Rizzoli International Publications', 'Samuel French  Inc.', 'DK Publishing', '聯經出版事業股份有限公司', 'Canadian Broadcasting Corporation (CBC Audio)', 'Coffee House Press', 'Riverhead Hardcover', 'HighBridge Company', 'IVP Books', 'Bantam (Fanfare Imprint)', 'Chicken House', 'Anchor Bible', 'Shadow Mountain', 'Subterranean Press', 'Harpperen', 'Earthlight', 'New Island Books', 'Virago', 'Phoenix Audio', 'Chatto and Windus', 'Storey Publishing  LLC', 'Barnes  Noble', 'Keep It Simple Books', 'Farrar Straus and Giroux', 'Deutscher Taschenbuch Verlag', 'Disinformation Company', 'Quill', 'ComicsOne Corporation', 'Virago UK', \"America's Test Kitchen\", 'Grand Central Publishing (Formerly Warner Books)', 'Hovel Audio', 'Small Beer Press', 'Soundings', 'Modern Library Classics', 'Christian Classics', 'Clarkson Potter Publishers', 'W.W. Norton & Company (NYC)', 'McGraw-Hill Professional Publishing', 'AudioText', 'Julia MacRae', 'El Paso Norte Press', 'LWW', 'Lucent Books', 'Harper Trophy', 'Starcatcher Press', 'Turtleback', 'Atlantic Books (UK)', 'Barricade Books', 'Little Simon', 'Quality Paperback Book Club', 'Viking Juvenile', 'Eminent Lives', 'Piper', 'Scholastic Audio Books', 'Henry Holt & Company', \"St. Martin's True Crime\", 'Manning Publications', 'Warner', 'TSR', 'Games Workshop', 'Naiad Press', 'Hachette', 'Ten Speed Press', \"Cook's Illustrated\", 'John F. Blair  Publisher', 'Healing Arts Press', 'Princeton Architectural Press', 'Henry Holt and Company', 'DK', 'Overlook TP', 'Green Integer', 'Gallimard Jeunesse', 'Hqn', 'The MIT Press', 'Arden Shakespeare', 'Minnesota Historical Society Press', 'Editions du Rocher', 'Sweet Valley', 'Poisoned Pen Press', 'B.E.S. Publishing', 'Random House Large Print', 'Albert Whitman  Company', 'Top Shelf Productions', 'Voyageur Press', 'Carl Hanser', 'Marion Boyars Publishers', 'Harlequin Special Releases', 'Omnibus Press', 'Vanguard Press', 'Routledge Classics', 'Overlook Press', 'Editions 10/18', 'Wilhelm Goldmann Verlag  GmbH', 'MacMillan Publishing Company', 'Harlequin Romance', 'Chatto  Windus', 'Bantam Skylark', 'Health Communications Inc', 'Charlesbridge', 'Warner Forever', \"Dutton Children's Books\", 'Drawn and Quarterly', 'Abrams', 'Marion Boyars Publishers Ltd', 'Lulu.com', '角川書店 (Kadokawa Shoten)', 'Cooper Square Press', 'Vintage Espanol', 'Laurel', 'Trafford Publishing', 'Hackett Publ. Co Inc', 'Lyons Press', 'Haymarket Books', 'Kyle Books', \"Viking Children's Books\", 'Del Rey Fantasy', 'Penguin Books Australia Ltd.', 'Penguin Audio', 'Profile Books', 'Tommy Nelson', 'Adams Media', 'Copper Canyon Press', 'Corgi Books', 'McClelland & Stewart', 'Titan Books', 'Lark Books', 'Graywolf Press', 'Harcourt Brace', 'Penguin Press', 'Dundurn', 'Wildstorm', 'Cornell University Press', 'Two Plus Two Publishing LLC', 'Possibilities', 'Owl Books', 'MetroBooks (NY)', 'Emecé Editores', 'Samuel French Ltd', 'Black Sparrow Press', 'Bradygames', 'Gingko Press', 'Creation Books', 'Disney Hyperion Books', 'Universe', 'Tarcher', 'Atlantic', 'The Overlook Press', 'Ballantine Books (NY)', 'Archaia', 'Dutton Juvenile', 'Booket', 'Crossroad', 'Frederick P. Lenz Foundation for American Buddhism', 'Gardners Books', 'Melville House Publishing', 'Sams', 'Thorndike Press Large Print', 'Tuttle Publishing', 'Dover Publications  Inc.', 'Cumberland House Publishing', 'Carole Marsh Mysteries', 'HarperCollins Leadership', 'Harlequin Temptation', 'Star Trek', 'B Books', 'Waking Lion Press', 'Sleeping Bear Press', 'Paulist Press', '10/18', 'Princeton University Press (NJ)', 'Benjamin-Cummings Publishing Company', 'Belknap Press of Harvard University Press', 'Wizarding World Press', 'Penguin-HighBridge', 'Walter Foster Publishing', 'The Chicken House', 'Krause Publications', 'Houghton Mifflin Co. (Boston/NY)', 'Crossroad Publishing Company', 'Bantam Doubleday Dell Publishing Company Inc.', 'University of Minnesota Press', 'Penguin Book Limited', 'Penguin Classics Deluxe Editions', 'Dodd Mead; 1st edition (September 1976)', 'Penguin Books Canada', 'Churchill Livingstone', 'HarperVoyager', 'The Liffey Press', 'Amistad Press', 'Volo', 'BenBella Books', 'The Putnam & Grosset Group', 'W. W. Norton and Company', 'Ediciones Glénat España', 'Emece Editores', 'Texas A&M University Press', 'Audio Literature', 'Franklin Watts', 'Blanvalet Taschenbuch', 'W.W. Norton & Company (NY/London)', 'Houghton Mifflin/Seymour Lawrence', 'Rockport Publishers', 'Anchor Canada', 'MacMillan UK', 'William Morrow; 1ST edition', 'Lucas Books', 'Orion Paperbacks', \"Bloomsbury USA Children's Books\", 'Apple Paperbacks (Scholastic)', 'Topaz', 'Sunburst', 'Polyface', 'Random House  for Young Readers', 'Éditions du Rocher', 'Bloomsbury UK', 'Ace Book', 'VeloPress', 'Peter Smith Publisher', 'Vida', 'Yale University Press (New Haven  CT)', 'Chu Hartley Publishers LLC', 'Macmillan Publishing Company/Collier Books', 'Greenery Press (CA)', 'Michael Joseph Ltd./Penguin Books Ltd.', \"St. Martin's Paperback\", 'University Of Minnesota Press', 'Inner City Books', 'Greenwood Press', 'Egmont Books Ltd', 'Rider', 'Loose Id  LLC', 'Destino Ediciones', 'Cosmos Books (OH)', 'NAL Books', 'Chicken House / Scholastic', 'Pan Australia', 'Allworth', 'AK Press', 'Fantagraphics Books', 'New Press  The', 'Harper Perennial (HarperCollins)', 'Gaia Books', 'Kindle', 'Hiperión', 'Monolith Graphics', 'Rebel Press', 'Winter on the Farm (My First Little House)', 'Yoruba Theological Archministry', 'Lulu Press', \"Bedford/St. Martin's\", 'Bollingen/Princeton University Press (NJ)', 'Rux Martin/Houghton Mifflin Harcourt', 'Owlet Paperbacks', 'Universe Publishing(NY)', 'Nelson Reference & Electronic Publishing', 'Timeless Texts', 'Meredith Corporation', 'HarperResource', 'Neil Wilson Publishing', 'Newmarket', 'Hippo/Scholastic', 'Stenhouse Publishers', 'Leisure', 'Portfolio', 'Exact Change', 'Editorial RM', 'Amadeus', 'Deodand Publishing', 'Morrow', 'Shaw Books', 'Random House Vintage', 'Heinemann Drama', 'Russell Enterprises', \"Michael O'Mara Books\", 'Henry Holt', 'Orion (an Imprint of The Orion Publishing Group Ltd )', 'Holt  Rinehart and Winston  Inc.', 'Wasendorf & Associates Inc', \"Macmillan Children's Books\", \"Child's Play International\", 'Archipelago Books', 'Warners Visions Books', 'Picador  Macmillan Publishers Ltd', 'Underwood/Miller  Berkley', 'Ash-Tree Press', 'Time-Life Books', 'Turtleback Books Distributed by Demco Media', 'Virago Press Ltd', 'Crescent', 'Tropismos', 'Sovereign World', 'AHA! Process', 'Pan Childrens', 'Fellowship for the Performance', 'Prentice Hall/Library of Liberal Arts', 'Sage Publications Ltd', \"Travelers' Tales\", 'Alfred A.Knopf', 'Circlet Press', 'Stonewall Inn Editions', 'Schirmer Mosel', 'Liveright Publishing Corp.', 'Universal Publishers', 'Shambhala Publications', 'Checkmark Books', 'Hearst Communications', 'Parker Publishing Llc', 'AVA Publishing', 'Claassen Verlag', 'Harper Perennial (NYC)', 'Grijalbo Mondadori Sa', 'Amereon Limited', 'Sidgwick & Jackson Ltd', 'National Park Service', 'Servant Publications', 'University of Utah Press', 'River City Publishing', 'Seal', 'Jones & Bartlett Publishers', 'Motilal Banarsidass', 'Material World', 'Simon & Schuster Simon Pulse', 'Graphics Press', 'Broadway/Crown Publishing Group', 'Random House Value Publishing/TheViking Press', 'East Bay Municipal Utility District', 'Distribooks', 'Larousse', 'Watson-Guptill', 'Academic Press', 'Phoenix Press', 'Laffont', 'LSU Press', 'McGraw-Hill Science/Engineering/Math', 'Doubleday & Company  Inc.', 'Kent State University Press (OH)', 'FASA Corp.', 'St. Augustines Press', 'Plaza & Janés Editores  S.A.', 'Editions Gallimard', 'Spectra/Bantam Books (NYC)', 'Octopus Books', 'Bastei Lübbe', 'FASA Corporation', 'Serpents Tail', 'Disney Editions', 'Barbour Books', 'LGF', 'International Polygonics', 'Manchester University Press', 'Night Shade Books', 'The Orion Publishing Group Ltd', 'Cornerstone Press Chicago', \"Hachette Children's\", 'Dutton Adult', 'Grijalbo', 'Bureau of Public Secrets', 'Square One Publishers', 'Kuperard', 'University of Pittsburgh Press', 'Motorbooks', 'Aegypan', 'TEA', 'Praeger', 'Barrington Stoke', 'Pogue Press', 'Wipf & Stock Publishers', 'Ullstein', 'Encounter Books', 'P & R Publishing', 'Live Oak Media', 'Patmos', 'Legend', 'Sticker Design (DC Comics)', 'Paraglyph Press', 'Simon Publications', 'Barnes & Noble Books', 'Fab Press', 'Harper & Row', 'Everyman Paperbacks', 'P. F. Collier and Sons', 'McClelland and Stewart', 'Motorbooks International', 'InterVarsity Press', 'Dr. Master Productions Inc.', 'Feminist Press', 'Fourth Estate Paperbacks', 'Puzzle-Roca', 'Baker Books', 'Barefoot Books', 'Piatkus', 'MIT Press (Cambridge  MA)', 'Hartorch', 'Collier Books', 'Hyperion Paperbacks', 'Aris & Phillips', 'International Publishers (NYC)', 'Random House Para Ninos', 'Baton Wicks', 'Pfeiffer & Company', 'Felony & Mayhem', 'Intercultural Publishing', 'Harcourt Brace & Company', 'Del Rey/Ballantine Books', 'Avon HarperCollins', 'Big Finish', 'Michael Joseph', 'Contemporary Books', 'Y Lolfa', 'Batsford', 'Everyman Library / Overlook Press', 'Dell Laurel-Leaf', 'EOS', 'Bantam Starfire', 'Thomas Publications (PA)', 'Pinter & Martin Ltd', 'Unwin Paperbacks', 'Aivia Press', 'Wenner Books', 'Abraham Guillen Press', 'The Modern Library', 'Rupa & Co', 'New Falcon Publications', 'Focus Publishing/R. Pullins Company', 'Granta', 'Interlink Publishing Group', 'Steerforth Press', 'SCM Press', 'Thames & Hudson Ltd', 'Octopus Books (London)', 'Modern Language Association of America', 'Conari Press', 'Salani', 'Vision Forum', 'Simple Productions', 'Tin House Magazine', \"Reader's Digest Association\", 'Bantam Spectra (NY)', 'Puzzle-Via Magna', 'Luath Press Ltd', 'Van Patten Publishing', 'TSR Inc./Wizards of the Coast', 'Wesleyan University Press', 'Sasquatch Books', 'Seal Press', 'Lawbook Exchange  Ltd.', 'Audio Renaissance', 'Better Homes and Gardens Books', 'Mountaineers Books', 'Panther', 'Chelsea House Publishers', \"Éditions de L'Olivier\", 'Arlington House', 'Random House Vintage Books', 'Porrua', 'Granta Books', 'Fourth Estate Ltd', 'Pharos Books', 'Firebrand Books', 'Walter de Gruyter', 'Kaplan Publishing', 'Arrow Books Ltd', 'Tom Doherty Tor Fantasy', 'Berkley Prime Crime Books', 'Rivages', 'Gallopade International', 'Replica Books', 'Klett', 'Usborne Books', 'Blue Sky Press', 'Nelson Thornes Ltd', 'Grove Press  Black Cat', 'Archie Comics', 'Samhain Publishing', 'Nova Audio Books', 'Steidl', 'No Starch Press', 'Raintree', 'Open Heaven Publications', 'Pegasus Books', 'Abacus Books (London)', 'Edicións Xerais de Galicia  S.A.', 'Cartago', 'Paul Mellon Centre BA', 'Regan Books', 'Hamish Hamilton Ltd', 'Norma Editorial', 'Paperback Library', 'Beckett Media', 'Insight International', 'Futura', 'Sounds True', 'Onyx Books', 'Living Books', 'New Directions Publishing', 'Gurze Books', 'ビブロス', 'Red Hen Pr', 'Thomas Dunne Books', 'Darton  Longman & Todd', 'Rosenberg Publishing', 'Lone Oak Press', 'Hill & Wang', 'Random House UK Distribution', 'A & C Black (Childrens books)', 'Peerage Books', 'University Press of America', 'Pearson Longman', 'HarperCollins (SanFrancisco)', 'Hci', 'John Wiley', 'Hawthorne Books', 'Lasser Press', 'Minnesota Heritage Publishing', \"Webster's New World\", 'Orchard', 'Puffin Books (Penguin Books)', 'Geddes & Grosset', 'Alfabeta Bokförlag', 'Goldmann Verlag', 'Grand Central', 'Charnwood', 'The Bodley Head Ltd', 'btb', 'Berkley Books (NY)', 'Apple', 'Gamble Guides', 'Schwartz & Wade Books', 'Sholom Aleichem Family Publications', 'Sierra Club Books', 'Learning Matters', 'Harpercollins', 'F & W Publications Inc.', \"Editions de l'Olivier\", 'Dramatists Play Service  Inc.', 'Fulcrum Publishing', 'Harper Teen', 'Highbridge Audio', 'Bryn Mawr Commentaries', 'Penguin Books /Penguin Classics', 'Element', 'South End Press (Boston)', 'Laurel Leaf Books', 'New Millennium Library', 'Ronin Publishing (CA)', 'Peter Smith Publisher  Inc.', 'Siete Cuentos', 'Byblos', 'Saddleback Educational Publishing  Inc.', 'Power Press', 'Elloras Cave', 'Grand Central Life & Style', 'Doubleday Publishing (NY)', 'BantamSpectra', 'Dell Yearling', 'Suma de Letras Brasileiras', 'Ash Tree Publishing', 'Ivan R. Dee', 'Allen & Ulwin', 'Howard Publishing Co', 'Hackett Publishing Company', 'DAW Books (NY)', 'Osprey Publishing', 'Penguin Essential Editions', \"Children's Classics\", 'Viking Press', 'Free Spirit Publishing', 'Heinemann', 'Crown Publishers', 'Montlake Romance', 'Mira (Mills and Boon)', 'Fantasy Flight Games', 'Billboard Books', \"Sterling Children's Books\", 'Mikaya Press', 'Routledge Taylor & Francis Books Ltd imprint', 'The Crossroad Publishing Company', 'Peter Owen Publishers', 'Transaction Publishers', 'Insel  Frankfurt', 'Piemme', 'Vintage/Ebury (A Division of Random House Group)', 'Graphics Press LLC', 'Modern Publishing', 'One World/Ballantine', 'Harper & Row (NYC et al.)', 'Arthur A. Levine', 'Prentice Hall Press', 'TSR Inc.', 'Anchor Books/Knopf Doubleday Publishing Group', 'Bookclub-In-A-Box', 'French & European Publications', 'Sunstone Press', 'Th1nk Books', 'Shaw', 'McGraw-Hill Medical Publishing', 'Orion Publishing Co.', 'William Heinemann Ltd.', 'South End Press', 'Pocket Books: Gallery Books', 'Picture Book Studio Ltd', 'Continuum', 'Plaza & Janés Mexico', 'Mestas Ediciones', 'Black Lizard Books', 'Loeb Classical Library 307', 'Geoplaneta', 'Vintage Books a division of Random House', 'Barn Owl Books', 'William Morrow / Harper', 'Roc Trade', 'Broadway', 'Bantam Classic', 'Benziger', 'Roxford Books', 'Nicholas Brealey', 'Atheneum Books for Young Readers: Richard Jackson Books', 'Corgi Books (Adult)', 'Overeaters Anonymous  Incorporated', 'Starfire', 'Penguin/Viking Compass (Non-Classics)', 'Townsend Press', 'Sutton Publishing', 'List Taschenbuch', 'Rowohlt Taschenbuch Verlag GmbH', 'Oberlin College Press', 'Stewart  Tabori and Chang', 'New Harbinger Publications', 'Courage Books', 'Chartwell Books', 'Urban Books', 'Grove/Atlantic  Inc.', 'Versus Press', 'Sentient Publications', 'Self-Realization Fellowship Publishers', 'Fandemonium Books', 'DAW Fantasy', 'Bright Sky Press', 'Inner Traditions International', 'Norton and Co.', 'Loeb Classical Library 443', 'Alfred A. Knopf  Inc.', 'Daimon Verlag', 'Disney Enterprises', 'Deseret Book Company', 'University of Notre Dame Press', 'Sophia Institute Press', 'IndyPublish.com', 'Nelson Current', 'Addison Wesley', 'Booklocker.com  Inc.', 'Hub City Press', 'Ivan R. Dee  Publisher', 'Thomas Y. Crowell Company', 'Taylor Productions Ltd', 'Library of America (NY)', 'Harcourt  Inc.(Harvest Book)', 'Kregel Academic & Professional', 'Sarah Crichton Books', 'Northeastern University Press', 'Five Star (ME)', 'Health Communications', 'Owl Books (NY)', 'Wiley Publishing  Inc.', 'Western Publishing Company  Golden Books', 'Dhv der Hörverlag', 'Morgan Road Books', 'Blackwell Publishing  Inc.', 'Skylight Paths Publishing', 'FonoLibro', 'MIT Press (MA)', 'Secker', 'Jump At The Sun', 'Kabel  Verlag GmbH Ernst', 'Shepard Publications', 'Cistercian Publications', 'Vintage/Random House Inc. (NYC)', 'Little Bookroom', 'Simon & Schuster; Media Tie-In edition', 'Night Shade', 'Smithsonian Books', 'RP Minis', 'Vintage/Ebury', 'Image', 'ASCD', 'American University in Cairo Press', 'Record', 'Severn House', 'Fawcett Crest', 'Teachers College Press', 'Penguin Books (NY)', \"Bloomsbury Children's Books\", 'Harper Audio', 'Thomas Nelson Publishers', 'University of Toronto Press', 'Aris and Phillips', 'Ravensburger Buchverlag', 'Tanglewood', 'Island Press', 'Arsenal Pulp Press', 'Joanna Cotler Books/HarperCollinsPublishers', 'Perennial / William Morrow / HarperCollins', 'Secker and Warburg', 'Dante University of America Press', 'State University of New York Press', 'HarperCollins Publishers  Inc.', 'Titan Books Ltd', 'Do-Not Press', 'Sun & Moon Press', 'Clarkson Potter/Publishers', 'Casa Creacion', 'Viking; G. P. Putnam & Sons', 'Virago Press (UK)', 'Seuil', 'Harlequin Anthologies', 'Purple House Press', 'Bantem Press', 'Stanford University Press (Stanford  CA)', 'TIme Warner Books', 'Avery', 'Del Rey Ballantine Random House', 'Cambridge University Press/The New Cambridge Shakespeare', 'Swallow Press', 'French & European', 'Penguin Classics Deluxe Edition', 'Pantheon Books (NY)', 'Arrow (A Division of Random House Group)', 'University of Alaska Press', 'SaltRiver', 'Contemporary French Fiction', 'Owl Publishing Company', 'Lodestar Books', 'Bloomsbury Paperbacks', 'Modern Library (NY)', 'Plexus Publishing Ltd', 'Headline Feature', 'Express Publishing', 'Harlequin Superromance', 'Cosimo Classics', 'Urion Press', 'Jane Nissen Books', 'Métailié', 'Headline Book Pub Ltd', 'Oberon Books', 'Grupo Editorial Norma  S.A.', 'Kregel Publications', 'Renaissance Books', 'Mills & Boon', 'George Braziller', 'Deodand', 'Cardoza', 'Tin House Books', 'Paris Press', 'Orbit Books', 'Rowohlt Tb', 'Inner Light - Global Communications', 'Godsfield Press Ltd', 'Indigo', 'Cisne', 'Vertigo (DC Comics)', 'Harlequin American Romance', 'New York : Penguin Books', 'Harper Design', 'US Green Building Council', 'McFarland & Company', 'Inkling Books', 'Reaktion Books', 'BiblioLife', 'British Library', 'Hodder & Stoughton Educational Division', 'York Press', 'DeVorss & Company', 'Bragelonne', 'Greenwood', 'Southern Methodist University Press', 'HarperLargePrint', 'Tom Doherty Associates/Orb Books', 'BBC Audiobooks Ltd', 'The Modern Library New York', 'Northwestern Univ Press', 'Omohundro Institute and University of North Carolina Press', 'Penguin Books (NYC)', 'World Wrestling Entertainment Books', 'Plaza & Janés', 'CRC Press', 'Jones Books', 'Atlantic Monthly Press (NYC)', 'Tokyopop', 'Deadite Press (Eraserhead Press)', 'Scholastic Inc', 'Fischer (Tb.)', 'Puffin Audiobooks', 'F. Meiner', 'British Academy', 'Hodder Wayland', 'University Press of New England', 'Vintage Crime', 'Cedar Books', 'Laurel-Leaf Books', 'Broadway Business', 'Green Ronin Publishing', 'Grafton', 'Penguin Putnam', \"Children's Press(CT)\", 'Longmeadow Press', 'Pocket Books/Star Trek', \"Simon & Schuster Children's Publishing\", 'Signet Books (NY)', 'Vacation Work Publications', 'Cybereditions Corp', 'The Disinformation Company (NYC)', 'Viking UK', 'Tyndale Momentum', 'Silhouette Bombshell', 'Harvard University Press (Cambridge  MA)/Wm Heinemann Ltd. (London)', 'Prentice Hall PTR', 'Sidran Press', 'Harpercollins Childrens Books', 'Changeling Press', 'Portable Press', 'Hazelden Publishing', 'Prima Lifestyles', 'Doherty  Tom Associates  LLC', 'Blood Moon Productions', 'Book of the Month Club', 'C. Bange', 'Imprint Academic', 'Applause Theatre & Cinema Book Publishers', 'Copernicus Books', 'Arcade Publishing', 'Routledge Falmer', 'L.A. Weekly Books', 'Harcourt Brace Jovanovich (NY)', 'Dover Publications (NYC)', 'Disinformation Books', 'Wiley (TP)', 'Sage Publications  Inc', 'Mongoose Publishing', 'Rufus Publications', 'Pippin Publishing', 'DAW SF', \"Here's Life Publishers\", 'Larousse Kingfisher Chambers', 'Gürze Books', 'Worth Publishers', 'Association for Scottish Literary Studies', 'Random House UK Ltd (A Division of Random House Group)', 'Condor Books', 'Mayfield Publishing Company (NY)', 'Bookspan', 'Bruno Gmünder', 'W.W. Norton & Company  Inc. (NY)', 'NAL Jam', 'Viking Penguin Inc.', 'Perennial', 'Findakly', 'Jump at the Sun', 'Marshall Cavendish Editions', 'Joshua Odell Editions', 'Éditions 10/18', 'Hachette Jeunesse', 'Collectors Library', 'Re/Search Publications', 'KiWi', 'Lectorum Publications', 'Simon & Schuster Adult Publishing Group', 'Alison Green Books', 'Pan Books', 'Aurum Press', 'Henry Holt and Co.', 'London : Collins  2004.', 'Shaye Areheart Books', 'Simon & Schuster Paperbacks', 'Polygon', 'Mirrorstone', 'Knopf Doubleday Publishing Group', 'Basic Books (AZ)', 'Pineapple Press', 'Weiser Books', 'Diana TB', 'Victor Gollancz', 'Award Books', \"MacMillan Children's Books\", 'Konemann', 'Companhia das Letras', 'McDougal Littel', 'Project Management Institute', 'David C. Cook', 'Roc Hardcover', 'Cooper Square Publishers', 'Rowohlt Tb.', 'Эксмо', 'Peter Owen Ltd', 'Círculo de Lectores', 'Dragon Door Publications', 'Harper Element', 'Bulfinch', 'Feiwel & Friends', \"Fodor's\", 'Zeta Bolsillo', 'Globe', \"Let's Go Publications\", '時報出版', 'Pyramid Books', 'Tinder Press', 'Dedalus', 'Poseidon Press', 'Wyatt Book', 'David C Cook', 'Longman Schools Division (a Pearson Education Company)', 'Penguin Signet', 'Walker', 'Collins Design', 'William Heinemann', 'Cold Spring Press', 'Quarry Press', 'HarperTorch (an imprint of HarperCollins Publishers)', 'Yapı Kredi Yayınları', 'Fireside Books', 'Plaza & Janes Editores Sa', 'Lama Foundation (San Cristobal  NM)', 'Little Apple', 'Other Press (NY)', 'Penguin Books (Penguin Classics)', 'Bloomsbury / Continuum', 'Akashic Books/Punk Planet Books', 'William Morrow & Company  Inc.', 'W. W. Norton & Co.', 'Scholastic Nonfiction', 'Pavilion Press (Wi)', 'Abstract Studio', 'Sterling Publishing Co.  Inc.', 'Harcourt  Brace  Jovanovich', 'Watkins Publishing', 'Woodbridge Press Publishing Company', 'Harvest Books/Harcourt', 'Edwin Mellen Press', 'Westview Press', 'Malhavoc Press', 'Pavement Saw Press', 'Specialty Press', 'Schirmer/Mosel', 'Hamish Hamilton', 'Annick Press', 'Stackpole Books', 'Crown Forum', 'Collins Modern Classics', 'Oregon State University Press', 'National Gallery London', 'Inter Varsity Press', 'Simon & Schuster Libros en Español', 'Nostalgia Ventures', 'University of South Carolina Press', 'Prentice Hall/Simon & Schuster Company (Englewood Cliffs  NJ)', 'Vendome Press', 'Reclam  Leipzig', 'Fawcett Coventry', 'DAW Hardcover', 'Hyperio', 'Mythopoeic Press', 'Atlas Books/HarperCollins Publishers', 'William Morrow / HarperCollins / Harper Perennial', \"Harlequin Readers' Choice\", \"Yesterday's Classics\", 'Routledge/Taylor & Francis Ltd.', 'Twayne Publishers', 'That Patchwork Place', 'Grupo Océano', 'Dell Publishing', 'Pearson Education', 'Blackstone Publishing', 'University of Calgary Press', 'Science Fiction Book Club', 'Cátedra', 'Plume (Penguin Books Ltd)', 'Five Star Trade', 'Everymans Library', 'Pocket Books / Simon & Schuster  Inc.', 'Park Street Press', 'Brill/Rodopi', \"Egmont Children's Books\", 'Gallery / Saga Press', 'Inter-Varsity Press', 'MJF Books', 'Absolute Press', 'BBC Worldwide', 'Bloomsbury (NYC)', 'Abacus Books', 'New Tradition Books', 'Bertrand', 'Millipede Press', 'Roberts Rinehart Publishers', \"O'Brien Press\", 'Mel Bay Publications  Inc.', 'Droemer Knaur', 'Watson-Guptill Publications', '1st World Library', 'Crown Business', 'Center Point', 'Joanna Cotler Books', 'Kent State University Press', 'Literatura Random House', \"Thunder's Mouth Press Books\", 'Time Warner Books UK', 'Woodrow Wilson Center Press / Johns Hopkins University Press', 'Saunders', 'High Roads Media', 'Phébus', 'Tusquets', 'Readers Digest.', 'Fourth Estate (GB)', 'Twin Palms Publishers', 'Wordsworth Classics', 'ECW Press', 'Reclam  Ditzingen', 'Salem Press Inc', 'Skinner House Books', 'Warner Vision', 'Amereon Ltd', 'Trine Day', 'Noonday Press', 'Pomegranate Communications', 'Signet Classic', 'Bantam Books  Inc.', 'Metropolitan Books', 'Boston Common Press', 'Dover Publications (NY)', 'Four Ninety-Eight Productions', 'Omnibus Hc Bei Bertelsmann', 'Penguin Books in association with Faber & Faber', 'Revive Publishing', 'The Berkley Publishing Group', 'Simon & Schuster Aladddin Paperbacks', 'Back Bay', 'Zondervan Publishing House', 'Book Publishing Company', 'Arthur A. Levine Books / Scholastic Inc.', 'Grove Press (NYC)', 'Hackett Publishing Company  Inc. (USA)', 'B Fiction', 'Island Books', 'Bloomsbury Childrens Books', 'Acropolis Books (NY)', 'Collins', 'Diamond/Charter', 'Nonsuch Publishing', 'dtv', 'Firelight Press', 'Berkley Publishing', 'Mariner Books / Harvest Books', 'Heinemann-Octopus', 'Random House Reference Publishing', 'Spark Publishing', 'Hamish hamilton', 'Ohio State University Press', 'Suma', 'Waveland Press', 'Lawrence Hill Books', 'Inner Traditions', 'Haus Publishing', 'Fithian Press', 'Middlesex University Press', 'AvonEos', 'Gotham', 'Scholastic Reference', 'Time-Life Books  Inc.', 'WaterBrook', 'Dafina Books', 'Alan Rodgers Books', 'BALLANTINE BOOKS', 'Random House (Vintage)', 'PerfectBound (HarperCollins)', 'Merlin Publishing', 'Advantage World Press', 'Izdavačka agencija \"Draganić\"', 'Four Walls Eight Windows Press', 'Ig Publishing', 'HarperSanFrancisco', 'Xulon Press', 'Aerie', 'Treat Enterprises', 'Brookline Books', 'Plaza & Janes Editores  S.A.', 'Melodrama Publishing', 'Collection of Historical Scientific Instruments', 'Hachette Littérature', 'Academica Press', 'City Lights', 'Eraserhead Press', 'Vantage Press', 'Presidio Press', 'Boosey & Hawkes Inc', \"Orion Children's Books\", 'Harcourt Brace & company', \"St. Martin's\", 'Evans Brothers', 'Cherry Lane Music Company', 'Titan', 'Lions', 'Del Rey Books (NY)', 'Norma', 'Hartley & Marks Publishers', 'London : Faber  2002', 'YoungJin Singapore Pte. Ltd.', 'Alliance Publishing', 'Hodder Audio', 'Lippincott Williams & Wilkins', 'Limelight Editions', 'Bloomsbury USA Childrens', 'Mira books', \"Harpercollins Children's Books\", 'Pan Macmillan Ltd. (London)', 'Providence Forum Press', 'Berkley Prime Crime', 'Hill & Wang Publ. (NY)', 'Limelight', 'Diogenes Verlag', 'Reclam', 'Abingdon Press', 'Aurum', 'Robson Books  London', 'Harcourt  Brace Jovanovich/Harvest', 'K.G. Saur Verlag', 'Kids Can Press', 'Bantam (Fanfare)', 'One Hour Entertainment', 'Libros para ninos', 'Amherst Media  Inc.', 'Vince Emery Productions', 'University of Arizona Press', 'Destiny Books', 'Critica (Grijalbo Mondadori)', 'Folio histoire', 'Ecco/Harper Perennial', 'Jessica Kingsley Publishers', 'Avon Books (AvoNova)', 'Council Press', 'Bear  Company', 'Sinauer Associates', \"Everyman's Library Classics\", 'Peripatetic Press', 'Regal Books', 'BCP/Duckworth Publishing', 'Random House: Modern Library', 'Methuen Drama', 'Harvest Books', 'Liguori Publications', 'DEBOLS!LLO', 'Sky Books (NY)', 'Prestel Publishing', 'Alderac Entertainment Group', 'Cruithne Press', 'Avalon Travel', 'W.W. Norton & Company (NY)', 'Lantern Books', 'Your Coach Digital', 'Tom Doherty Associates', 'Loyola Press (Chicago)', 'Julie Andrews Collection', 'Penguin Books USA Inc.', 'Tougher Disguises', 'Phoenix Books/University of Chicago Press (IL)', 'Loeb Classical Library/Harvard University Press', 'Destiny Image Incorporated', 'Piper Verlag', 'Sumach Press', 'Enitharmon Press', 'Heinle', 'Timber Press (OR)', 'Farrar  Straus and Giroux (BYR)', 'Ace/SFBC', 'Liveright/W.W. Norton & Company  Inc.', 'Adamant Media Corporation', 'Focus on the Family Publishing', 'Siloam', 'Warner Adult', 'Library of Liberal Arts/Bobb-Merrill (Indianapolis  IN)', 'Alianza Editorial', 'W Publishing Group', 'Lumen', 'First Avenue Editions (Tm)', 'George Braziller Inc.', 'Cherry Red Books', 'Gollehon Books', 'Longman', 'Regnery History', 'Council Oak Books', 'MacAdam/Cage', 'Fontana Books', 'Fontana Press', 'Hodder and Stoughton', 'Birlinn', 'Prentice Hall/Scribner/Macmillan', 'Nimble Books', 'Time Life Books', 'Tauris Parke Paperbacks', 'Macmillan Publ. Co.', 'Penguin Young Readers', 'Albury Publishing', 'HarperPrism', '1st Book Library', 'House of Stratus', 'Doubleday Canada', 'Presses de La Cite', 'North Star Publications (MA)', 'School Specialty Publishing', 'American Diabetes Association', \"Teacher's Pet Publications\", 'Edaf S.A.', \"l'ecole des loisirs\", 'Metropolitan Books/Henry Holt & Co. (NY)', 'Open Court Publishing Company', 'Young Picador', 'Pen & Sword Military', 'Harbor Press', 'Pygmalion Editions', 'Owl Books (Henry Holt)', 'McGraw-Hill/Glencoe', 'Villard Books', 'Puffin Group', 'International Publishers', 'Library of American Comics', 'See Sharp Press', 'Pocket Books/Simon & Schuster (NY)', 'University of Texas Press (Austin/London)', 'CMX', 'Paul S. Eriksson', 'Eros Comix', 'Birlinn Ltd', 'Book Publishing Company (TN)', 'Running Press Kids', 'Sutton', 'Prestwick House', 'Redleaf Press', 'Basil Blackwell (Cambridge  MA/Oxford)', 'Arbordale Publishing', 'Pimsleur', 'Festival Books', 'HarperCollins UK', 'Crown Journeys/Crown Publishers/Crown Publishing Group/Random House', 'Monkfish Book Publishing', 'Vivendi', 'Helen Marx Books', 'HarperPaperbacks', 'Panamericana Editorial', 'A K PETERS', 'Arts Publications', 'Ediciones Urano', 'Voice', 'Management Books 2000', 'Benjamin Cummings', 'A Harvest Book/Harcourt  Inc.', \"T&T Clark Int'l\", 'Dtv', 'Penguin Books/Penguin Popular Classics', 'History Press Ltd', 'Midnight Ink', 'Rba Libros', \"J'AI LU\", 'Andrews and McMeel', 'Fawcett crest', \"New York Review Children's Collection\", \"Harcourt Children's Books\", 'Backstage Books', 'Semiotext(e)', 'Bantam Doubleday Dell (NYC)', 'HarperCollins Perennial', 'Prestwick House - (Literary Touchstone Classic)', 'Alfred A. Knopf Borzoi Books', 'Penguin Books Ltd. (London)', 'CQ Press', 'Blanvalet Verlag GmbH', 'Random House Large Print Publishing', 'Random House Puzzles & Games', 'New English Library (Hodder & Stoughton)', 'AA World Services', 'Crossing Press', 'New York: Random House', 'Ryland Peters & Small', 'Arkana', 'Manesse Verlag', 'Marlowe & Company', 'Penguin Classic', 'Twenty-First Century Books (CT)', 'Alpha Books', 'Penguin (Business)', 'Editorial Diana', 'Classic Books', 'Nation Books', 'Fleming H Revell Co', 'Napoleon and Co', 'ACE', 'Dragonfly Books', 'Cold Spring Harbor Laboratory Press', 'Orion Publishing Co', \"Michael O'Mara\", 'Amherst Media', 'Museum of Modern Art', 'AIT Planet Lar', 'Atelos Press', 'Civitas Books', 'Penguin Audio UK', 'Points', 'Faber and Faber & Penguin India', \"St. Martin's Minotaur\", 'CDS Books', 'Libraries Unlimited', 'New Press (NY)', 'Love Inspired', 'Gramedia Pustaka Utama', 'French & European Pubns', 'Eerdmans', 'Union Square Press', 'Grove Press  Granta', 'Mark Cahill Ministries', 'Robert Rose', 'Nantier Beall Minoustchine Publishing', 'Edebé', 'Acento Editorial', 'Phoenix Press (UK)', 'RH Audio Price-less', 'Praeger Publishers', 'EMC/Paradigm Publishing', 'Island', 'Martínez Roca', 'Harvest / Harcourt', \"National Geographic Children's Books\", 'Berkley Heat', 'Klincksieck', 'Abradale Books/Harry N. Abrams', 'Verba Mundi', 'Gun Digest Books', 'Dabel Brothers Productions', 'HarperPerennial / Perennial Classics', 'Marsilio Publishers', 'Baronet Books', 'New World Publishing', 'Laurel Press', \"Everyman's Library 234\", 'University of New Mexico Press', '英文漢聲出版股份有限公司', 'Faber & Faber Limited', 'Orion Publishing Group  Ltd.', 'House of Anansi Press', 'Random house', 'The Audio Partners', 'Alderac Entertainment Group (AEG)', \"Leete's Island Books\", 'De Boekerij', 'Dedalus Limited', 'Sensory Resources', 'Challenge Press  Inc./Challcrest Press', 'Maxima New Media', 'Liveright', 'Alfaguara Infantil', 'Editorial Juventud', 'Harrison House', 'Dominion Press', 'Pi Press', 'Morpheus International', \"The New York Review Children's Collection\", 'Avon Books (P)', 'Ullstein Buchverlage GmbH & Co. KG / Ullstein Tas', 'Watkins', 'Limitless Corporation', 'Clarity Press', 'Loyola Classics', 'Fischer TB', 'Nova Fronteira', 'Penguin Books (London)', 'Dervy', 'Middleway Press', 'Fount', 'Gale Cengage', '小学館 [Shōgakukan]', 'Howard University Press', 'Vintage Books/Vintage Classics', 'Faber & Faber Ltd.', 'HQN Books', 'Arléa', 'Pelican Publishing Company', 'Harper Perennial Classics', 'Nonpareil Books', 'Sagebrush', 'Vanderbilt University Press', 'Collins Publishers', 'Delta Publishing', 'Piper Taschenbuch', 'Academy Chicago Publishers', 'Quinteto', 'Transworld Publishers Ltd', 'AMR/Advanced Management Reports', 'Two Lions', 'Crown Publishing Group', 'William Morrow & Company (NYC)', 'Temenos Press', 'Countryman Press', 'Fleming H. Revell Company', 'Delacorte Books', 'Century', 'La factoría de ideas', 'Polychrome Publishing Corporation', 'Xlibris Corporation', 'Lectorum', 'Hal Leonard Pub Corp', 'Alcoholics Anonymous World Services Inc', 'Taplinger Publ. Company', 'Jimmy Patterson', 'San Val', 'Loveswept', 'Everyman Paperback Classics', 'Poorhouse Press', 'Beacon Press (Boston)', 'Grove Weidenfeld', 'Taplinger Publishing', 'Random House Inc.', 'Rowohlt', 'Festival', 'Éditions de Minuit', 'Farrar  Straus and Giroux (NY)', 'BBC Audiobooks America', 'New Page Books', 'rbooks', 'Carroll & Graf', 'Beltz und Gelberg', 'Our Daily Bread Publishing', 'Moody Publishers (Chicago)', 'W.W. Norton  Company', 'Catholic Book Publishing', 'Dorling Kindersley Children', \"Teacher's Pet Publications  Inc.\", 'Windsor Golden Series', 'Zebra Books', 'Fortress Press', 'Johnson Publishing Company (IL)', 'Burford Books', 'Orchard Books (NY)', 'Hodder Mobius', 'Random House Anchor', 'PerfectBound', 'Trafalgar Square Publishing', 'US Naval Institute Press', 'Welcome Books', 'Westholme Publishing', 'Ace Hardcover', \"G. P. Putnam's Sons\", 'Readers Digest', 'Delmar Thomson Learning', 'Hakusen Sha', 'Yosemite Conservancy', \"Devil's Due Publishing\", 'Columbia Pictures Pubns', 'Fischer Taschenbuch Verlag', 'Insel', 'Between the Lines Productions', 'FT Press', 'Riverrun Press (New York  NY)', 'Pluto Press', 'ComicsLit', 'Hackett Publishing Company (Indianapolis  IN)', 'Knowledge Products', 'Oddysey/Harcourt Young Classics', 'Dartmouth College Press', 'High Point Media', 'Diogenes', 'Farrar  Strauss & Giroux-3pl', 'Ecco / HarperCollins'), value='Vintage'), Output()), _dom_classes=('widget-interact',))"
      ]
     },
     "metadata": {},
     "output_type": "display_data"
    }
   ],
   "source": [
    "@interact\n",
    "def recomd_books_publishers(publisher_name = list(df['publisher'].value_counts().index)):\n",
    "    a = df[df['publisher'] == publisher_name][['title', 'average_rating']]\n",
    "    a = a.sort_values(by = 'average_rating', ascending = False)\n",
    "    return a.head(10)"
   ]
  },
  {
   "cell_type": "code",
   "execution_count": 47,
   "metadata": {},
   "outputs": [
    {
     "data": {
      "text/plain": [
       "Index(['title', 'authors', 'average_rating', 'language_code', 'num_pages',\n",
       "       'ratings_count', 'text_reviews_count', 'publication_date', 'publisher',\n",
       "       'year'],\n",
       "      dtype='object')"
      ]
     },
     "execution_count": 47,
     "metadata": {},
     "output_type": "execute_result"
    }
   ],
   "source": [
    "df.columns"
   ]
  },
  {
   "cell_type": "markdown",
   "metadata": {},
   "source": [
    "# based upon Authors"
   ]
  },
  {
   "cell_type": "code",
   "execution_count": 48,
   "metadata": {},
   "outputs": [
    {
     "data": {
      "application/vnd.jupyter.widget-view+json": {
       "model_id": "9946c17f87ab4baab9cdb04f5fd484a7",
       "version_major": 2,
       "version_minor": 0
      },
      "text/html": [
       "<p>Failed to display Jupyter Widget of type <code>interactive</code>.</p>\n",
       "<p>\n",
       "  If you're reading this message in the Jupyter Notebook or JupyterLab Notebook, it may mean\n",
       "  that the widgets JavaScript is still loading. If this message persists, it\n",
       "  likely means that the widgets JavaScript library is either not installed or\n",
       "  not enabled. See the <a href=\"https://ipywidgets.readthedocs.io/en/stable/user_install.html\">Jupyter\n",
       "  Widgets Documentation</a> for setup instructions.\n",
       "</p>\n",
       "<p>\n",
       "  If you're reading this message in another frontend (for example, a static\n",
       "  rendering on GitHub or <a href=\"https://nbviewer.jupyter.org/\">NBViewer</a>),\n",
       "  it may mean that your frontend doesn't currently support widgets.\n",
       "</p>\n"
      ],
      "text/plain": [
       "interactive(children=(Dropdown(description='authors_name', options=('Stephen King', 'P.G. Wodehouse', 'Rumiko Takahashi', 'Orson Scott Card', 'Agatha Christie', 'Piers Anthony', 'Mercedes Lackey', 'Sandra Brown', 'Dick Francis', 'Laurell K. Hamilton', 'James Patterson', 'Margaret Weis/Tracy Hickman', 'Terry Pratchett', 'Gordon Korman', 'Alan Dean Foster', 'Bill Bryson', 'Janet Evanovich', 'Dan Simmons', 'Dean Koontz', 'Gabriel García Márquez', 'Terry Brooks', 'Robert A. Heinlein', 'Philip Roth', 'Anne Rice', 'J.R.R. Tolkien', 'Jodi Picoult', 'Dr. Seuss', 'Maeve Binchy', 'Marian Keyes', 'Roald Dahl', 'Joyce Carol Oates', 'Toni Morrison', 'John Grisham', 'Paul Auster', 'V.C. Andrews', 'Alexander McCall Smith', 'Michael Crichton', 'Nora Roberts', 'Francine Pascal/Kate William', 'Roald Dahl/Quentin Blake', 'Kurt Vonnegut Jr.', 'Tite Kubo', 'Isaac Asimov', 'Nicholas Sparks', 'Don DeLillo', 'Jeffery Deaver', 'J.R.R. Tolkien/Christopher Tolkien', 'William Shakespeare', 'Douglas Adams', 'Erin St. Claire/Sandra Brown', 'John Irving', 'Clive Cussler', 'Jane Austen', 'Carl Hiaasen', 'Philippa Gregory', 'Meg Cabot', 'Hiromu Arakawa/Akira Watanabe', 'Lynsay Sands', 'Mary Higgins Clark', 'Dan Brown', 'John Steinbeck', 'Jack Vance', 'Ursula K. Le Guin', 'Douglas Coupland', 'Eoin Colfer', 'Ray Bradbury', 'J.K. Rowling', 'P.D. James', 'Hirohiko Araki', 'Lee Child/Dick Hill', 'James A. Michener', \"Patrick O'Brian\", 'Jane Green', 'William Sleator', 'Clive Barker', 'Patricia Cornwell', 'Chuck Palahniuk', 'Robin McKinley', 'John McPhee', 'T. Coraghessan Boyle', 'Anne Stuart', 'Emma Donoghue', 'Kim Stanley Robinson', 'Frank Herbert', 'Raymond E. Feist', 'Philip K. Dick', 'Tad Williams', 'Aldous Huxley', 'David Morrell', 'Diana Gabaldon', 'Colleen McCullough', 'Iain M. Banks', 'Thomas Pynchon', 'Robert R. McCammon', 'Ian Fleming', 'Tamora Pierce', 'Yumi Hotta/Yumi Hotta', 'Jill Mansell', 'Richard A. Knaak', 'Lloyd Alexander', 'Joseph Wambaugh', 'Christopher Hitchens', 'William Faulkner', 'Philip Pullman', 'Martin Amis', 'C.S. Lewis', 'Lawrence Block', 'Joan Didion', 'Juliet Marillier', 'Nelson DeMille', 'William Goldman', 'Cynthia Harrod-Eagles', 'Charles Todd', 'Michael Connelly', 'Robert Ludlum', 'Francesca Lia Block', 'Francine Pascal', 'Tom Clancy', 'L.A. Banks', 'Ernest Hemingway', 'Richard P. Feynman', 'Salman Rushdie', 'Edgar Rice Burroughs', 'Jeanette Winterson', 'Tim LaHaye/Jerry B. Jenkins', 'Douglas Clegg', 'Julie Kenner', 'P.C. Cast', 'M.C. Beaton', 'Dave Eggers', 'Anne Tyler', 'Jane Smiley', 'Neil Gaiman', 'John Saul', 'Karen Armstrong', 'Jennifer Crusie', 'Stephen Jay Gould', 'Tom Robbins', 'David McCullough', 'Truman Capote', 'Joanne Fluke', 'L.M. Montgomery', 'John Banville', 'Martha Grimes', 'Sophie Kinsella', 'Christopher Moore', 'Tom Stoppard', 'Ian McEwan', 'CLAMP/William Flanagan', 'Herman Wouk', 'Carlos Castañeda', 'Zadie Smith', 'Isabel Allende', 'Neal Stephenson', 'Charles Dickens', 'Judy Blume', 'John Brunner', 'James Baldwin', 'José Saramago/Giovanni Pontiero', 'Alice Munro', 'Mary  Stewart', 'Karen Kingsbury', 'Hiromu Arakawa/荒川弘/方郁仁', 'Shel Silverstein', 'Richard Powers', 'Ram Dass/Richard Alpert', 'Georgette Heyer', 'Jimmy Carter', 'C.S. Friedman', 'Ayn Rand', 'Victoria Alexander', 'Hirohiko Araki/Hirohiko Araki', 'M.M. Kaye', 'Raymond Chandler', 'Douglas Preston/Lincoln Child', 'Garry Wills', 'Nick Hornby', 'Jasper Fforde', 'David Baldacci', 'Fyodor Dostoyevsky/Richard Pevear/Larissa Volokhonsky', 'John Piper', 'Janny Wurts', 'Fred Saberhagen', 'Jonathan Franzen', \"Tim O'Brien\", 'Richard  Adams', 'Patrick Robinson', 'Jonathan Lethem', 'Vladimir Nabokov', 'Dante Alighieri/Mark Musa', 'Kelley Armstrong', 'Alice Hoffman', 'Arthur Golden', 'Bill Watterson', 'Albert Camus', 'William Shakespeare/Roma Gill', 'Alain de Botton', 'Scott Turow', \"Madeleine L'Engle\", 'William Manchester', 'Cormac McCarthy', 'Tess Gerritsen', 'Joanne Harris', 'Harlan Coben', 'Scott Westerfeld', 'Gabriel García Márquez/Gregory Rabassa', 'Noel Streatfeild', 'Robert Jordan', 'H.G. Wells', 'Laura Ingalls Wilder/Garth Williams', 'John Sandford', 'William S. Burroughs', 'Joe Haldeman', 'Takashi Hashiguchi', 'Charles Bukowski', 'Leon Uris', 'Isabel Allende/Margaret Sayers Peden', 'CLAMP', 'William Shakespeare/Barbara A. Mowat/Paul Werstine', 'Louis Sachar', 'Terry Eagleton', 'Blake Nelson', 'Beatrix Potter', 'Roddy Doyle', 'Pearl S. Buck', 'Anthony Burgess', 'Susan Howatch', 'Ha Jin', 'Kazuo Umezu', 'David Levithan', 'Erica Jong', 'Haruki Murakami/Philip Gabriel', 'Debbie Dadey/Marcia Thornton Jones/John Steven Gurney', 'Sarah Mlynowski', 'Shirley Rousseau Murphy', 'Greg Iles', 'Margaret Atwood', 'David Eddings', 'Michael   Lewis', 'Mark Haddon', 'Kazuo Ishiguro', 'Kate Atkinson', 'Jonathan Safran Foer', 'Daniel C. Dennett', 'Clive Cussler/Paul Kemprecos', 'Joseph Heller', 'Tracy Chevalier', 'Mark Kurlansky', 'Barbara Kingsolver', 'Gore Vidal', 'Catherine Coulter', 'Caroline B. Cooney', 'Diana Wynne Jones', 'Anaïs Nin', 'Angela Knight', 'Dennis Lehane', 'Kim Harrison', 'Annie Dillard', 'Patricia A. McKillip', 'Herman Melville', 'Elizabeth Gilbert', 'Peter S. Beagle', 'Minette Walters', 'Megan McDonald/Peter H. Reynolds', 'Connie Willis', 'William Gibson', 'Umberto Eco', 'Eudora Welty', 'James Clavell', 'Noam Chomsky', 'Jeff Shaara', 'Bret Easton Ellis', 'Sue Monk Kidd', 'Dale Carnegie', 'John Updike', 'Simon Schama', 'Jo Clayton', 'Jayne Ann Krentz', 'Junji Ito/伊藤潤二', 'J.K. Rowling/Mary GrandPré', 'Stephen R. Donaldson', 'Karin Slaughter', 'Laurie Notaro', 'Max Allan Collins', 'Iris Murdoch', 'Elizabeth George', 'Jack Du Brul', 'Amy Tan', 'Henry Miller', 'Kathryn Lasky', 'Thomas Sowell', 'Gary Paulsen', 'Laura Ingalls Wilder/Renée Graef', 'James Ellroy', 'Ken Follett', 'Oscar Wilde', 'Graham Masterton', 'Jacqueline Carey', 'Hiromu Arakawa', 'Time-Life Books', 'E.M. Forster', 'Amelia Atwater-Rhodes', 'Susan Conant', 'Erle Stanley Gardner', 'Richard Matheson', 'Mario Puzo', 'Lois Lowry', 'Brian Herbert/Kevin J. Anderson', 'Julian May', 'Juan Rulfo', 'Anna Maxted', 'Debra Hess', 'Terry Goodkind', 'Euripides/David Kovacs', 'Patrick Süskind', 'Carolyn Meyer', 'William T. Vollmann', 'Charles Stross', 'Peggy Parish/Lynn Sweat', 'Rick Moody', 'P.J. Parrish', 'Jonathan Carroll', 'Aristophanes/Jeffrey Henderson', 'Harold Bloom', 'Charles Burns', 'Georges Simenon', 'Richard Rhodes', 'Roger Hargreaves', 'NOT A BOOK', 'Chuck Klosterman', 'J.M. Coetzee', 'Simon Goldhill', 'Lawrence Sanders', 'Lawrence Durrell', 'Mitch Albom', 'Louisa May Alcott', 'Yumi Hotta/Takeshi Obata', 'Simon Winchester', 'Seamus Heaney', 'Chaim Potok', 'Daisy Meadows/Georgie Ripper', 'James Redfield', 'Cecily von Ziegesar', 'Irvin D. Yalom', 'Irvine Welsh', 'John Barth', 'Anita Shreve', 'Hideyuki Kikuchi/Yoshitaka Amano', 'Bryce Courtenay', 'bell hooks', 'Rick Riordan', 'Anthony Bourdain', 'Friedrich Nietzsche', 'Edward P. Jones', 'Todd Gitlin', 'Craig Thompson', 'J.D. Salinger', 'Peter F. Hamilton', 'Elizabeth Peters', 'C.S. Lewis/Pauline Baynes/Ana Falcão Bastos', 'Robin Hobb', 'Maud Hart Lovelace/Vera Neville', 'Anaïs Nin/Gunther Stuhlmann', 'Thomas  Harris', \"Karen  O'Connor/Larry J. Sabato\", 'Edgar Allan Poe', 'Robert D. Kaplan', 'Stephen R. Covey', 'Denis Johnson', 'Maya Angelou', 'Nathaniel Hawthorne', 'David Foster Wallace', 'William Golding', 'Arthur Koestler', 'Stephen Hawking', 'Teresa Edgerton', 'Agatha Christie/Hugh Fraser', 'C.S. Lewis/Pauline Baynes', 'Karen Kingsbury/Gary Smalley', 'Yuki Shimizu', 'Milan Kundera/Linda Asher', 'Jim Lehrer', 'Chris Ware', 'Tom Perrotta', 'A.N. Roquelaure/Anne Rice', 'Haven Kimmel', 'J.R. Ward', 'Gregory Maguire/Elaine Clayton', 'Colm Tóibín', 'Donald Spoto', 'Ron Rash', 'Jerome K. Jerome', 'Eva Brann', 'Trevanian', 'James Patterson/Andrew Gross', 'Emma Holly', 'Norman Mailer', 'Madeleine Brent', 'Jules Verne', 'Rudyard Kipling', 'Hermann Hesse', 'V.S. Naipaul', 'Isak Dinesen/Karen Blixen', 'Ronda Thompson', 'Jared Diamond', 'Hunter S. Thompson', 'Wallace Stegner', 'Anne McCaffrey', 'Megan Whalen Turner', 'Graham Greene', 'S.E. Hinton', 'Robert McCloskey', 'Ricardo Piglia', 'Malcolm Gladwell', 'Syd Hoff', 'Edmund S. Morgan', 'Gene Wolfe', 'Daniel Goleman', 'Simone de Beauvoir', 'Stephen E. Ambrose', 'Chinua Achebe', 'Marshall Sahlins', 'Knut Hamsun/Sverre Lyngstad', 'Haruki Murakami/Jay Rubin', 'Umberto Eco/William Weaver', 'Iain Pears', 'Michael Connelly/Dick Hill', 'Henning Mankell/Laurie Thompson', 'Clive Cussler/Craig Dirgo', 'Lorna Landvik', 'Cait London', 'Jayne Castle/Jayne Ann Krentz', 'Richard Dawkins', 'Paulo Coelho/Alan R. Clarke', 'Anthony Powell', 'Shana Abe', 'Tom Wolfe', 'Jeff Rovin/Tom Clancy/Steve Pieczenik', 'Frank E. Peretti', 'D.H. Lawrence', 'Wilbur Smith', 'Steven Pressfield', 'Peter Straub', 'Eric Hobsbawm', 'Chie Shinohara', 'Joseph J. Ellis', 'Yayoi Ogawa', 'Henry Chadwick', 'Mary Higgins Clark/Carol Higgins Clark', 'Oh! Great/大暮 維人', 'Maud Hart Lovelace/Lois Lenski', 'Tananarive Due', 'David R. Hawkins', 'Gabriel García Márquez/Edith Grossman', 'Trudi Canavan', 'Victoria Holt', 'Nicholson Baker', 'Arthur Conan Doyle', 'Jack Kerouac', 'Oscar Hijuelos', 'James Scott Bell', 'Linda Lael Miller', 'Augusten Burroughs', 'George Orwell', 'Virginia Woolf', 'Warren Ellis/Darick Robertson/Rodney Ramos', 'Ken Kesey', 'Jack London', 'Sebastian Faulks', 'Howard Zinn', 'Emily Giffin', 'Elizabeth Lowell', 'Mark Twain', 'Erik Larson', 'Marcel Proust/C.K. Scott Moncrieff/Terence Kilmartin/D.J. Enright', 'Michael Moorcock', 'Antonia Fraser', 'José Saramago/Pilar del Río', 'Anne Lamott', 'Marguerite Duras', 'Paul Bowles', 'Lee Charles Kelley', 'Stephen W. Frey', 'Joan Aiken', 'Joseph Conrad', 'Barbara Nadel', 'Charlie Huston', 'Barry  Lopez', 'Ayn Rand/Leonard Peikoff', 'Marsha Collier', 'Rebecca Solnit', 'Michael Chabon', 'Jean-Paul Sartre', 'James   McBride', 'Annie Proulx', 'Kevin Henkes', 'Roger Hargreaves/Gray Jolliffe', 'Robert B. Parker/Joe Mantegna', 'John Julius Norwich', 'Al Ries/Jack Trout', 'Francine Prose', 'Julian Barnes', 'Russell Banks', 'Eiji Nonaka/Brendan Frayne', 'James Axler', 'Michael Craft', 'E.L. Doctorow', 'Susan Hill', 'Elizabeth  George', 'Zora Neale Hurston', 'Franz Kafka', 'Thomas Cahill', 'Tobias Wolff', 'Neale Donald Walsch', 'George Saunders', 'Mary Pope Osborne/Natalie Pope Boyce/Salvatore Murdocca', 'Alice Sebold', 'Dale Peck', 'Janet Evanovich/C.J. Critt', 'Barbara Ehrenreich', 'Roger Zelazny', 'Steven Johnson', 'Kresley Cole', 'Emma McLaughlin/Nicola Kraus', 'Enid Blyton', 'Lee Child', 'Tsugumi Ohba/Takeshi Obata/Alexis Kirsch', 'Eric Schlosser', 'Alexandre Dumas/Robin Buss', 'Quentin Skinner', 'Kahlil Gibran', 'Will Ferguson', 'Hinako Takanaga', 'SparkNotes', 'Emmanuel Le Roy Ladurie/Barbara Bray', 'Eleanor Estes/Edward Ardizzone', 'Gordon S. Wood', 'Max Barry', 'Donna Tartt', 'Mary Pope Osborne/Salvatore Murdocca', 'Margaret Truman', 'Steve Perry/Tom Clancy/Steve Pieczenik', 'Marjorie Weinman Sharmat/Mitchell Sharmat/Denise Brunkus', 'Ursula K. Le Guin/S.D. Schindler', \"Charles Dickens/Gillen D'Arcy Wood\", 'Bob Woodward', 'Jack Kerouac/Ann Charters', 'Daniel Keyes', 'Phillip Lopate', 'Tsutomu Nihei', 'George E. Stanley/Guy Francis', 'Stanisław Lem/Michael Kandel', 'Candace Bushnell', 'David Hackett Fischer', 'Susan Cooper', 'Carolyn Keene', 'Brady Games', 'Tsugumi Ohba/Takeshi Obata/Pookie Rolf', 'Lois Lenski', 'Nigella Lawson', 'Margaret George', 'Jean Estoril', 'Ron Chernow', 'Pat Conroy', 'William Shakespeare/Alan Durband', 'Kenneth H. Blanchard', \"Albert Camus/Justin O'Brien\", 'David Weber', 'Barbara Conklin', 'Harold G. Moore/Joseph L. Galloway', 'Peter Mayle', 'Danielle Steel', 'Melissa de la Cruz', 'Edwidge Danticat', 'P.T. Deutermann', 'Avi', 'Raymond Carver', 'T.A. Barron', 'Richard Peck', 'Robert M. Pirsig', 'Dan Simmons/Guy Abadia', 'Joss Whedon/John Cassaday', 'Richard Bach', 'Adam Hochschild', 'Joyce Carol Oates/Elaine Showalter', 'Jude Fisher', 'Heidi Hayes Jacobs', 'Adrian McKinty', 'Betty MacDonald/Alexandra Boiger', 'Cynthia Voigt', 'Daniel Clowes', 'Mari Mancusi', 'Lance Armstrong/Sally Jenkins', 'Mercedes Lackey/Rosemary Edghill', 'Larry McMurtry', 'Jean M. Auel', 'Jane Hamilton', 'Rachel Ryan/Sandra Brown', 'David Bodanis', 'Kyoko Hikawa/Yuko Sawada/Freeman Wong', 'Cynthia Rylant/Preston McDaniels', 'Mark Z. Danielewski', 'Rumer Godden', 'Chris Offutt', 'Charles Frazier', 'Masamune Shirow', 'Robert M. Sapolsky', 'Margaret Weis', 'Erich Fromm', 'George Beahm', 'George R.R. Martin', 'Satosumi Takaguchi', 'Gregory Maguire', 'Anya Seton/Philippa Gregory', \"Cook's Illustrated Magazine\", 'Tomie dePaola', 'Grant Morrison/Frank Quitely', 'Halldór Laxness/Magnus Magnusson', 'Colin Wilson', 'Elizabeth Berg', 'Michel Foucault/Robert Hurley', 'Italo Calvino', 'Erich Fromm/Rainer Funk', 'Christopher Isherwood', 'Cory Doctorow', 'Brian Jacques', 'Lin Carter', 'Paramahansa Yogananda', 'Alan Paton', 'Yōko Kamio/神尾葉子', 'Mayu Shinjō', 'Billy Collins', 'Jon Krakauer', 'Homer/Robert Fagles/Bernard Knox', 'Al Franken', 'Jhumpa Lahiri', 'Richard Bachman/Stephen King', 'Jim Butcher', 'Brenda Joyce', 'Alister E. McGrath', 'Ruth Heller', 'Sophocles/Paul Roche', 'Chiho Saito', 'Nora Ephron', 'Geraldine Brooks', 'F. Scott Fitzgerald', 'Tsugumi Ohba/Takeshi Obata/Tetsuichiro Miyaki', 'Donald Miller', 'Joseph Frank', 'Bernard Williams', 'Richard Brautigan', 'Plato/Benjamin Jowett', 'Mark Twain/Charles Neider', 'Zilpha Keatley Snyder', 'Silas House', 'Shelby Foote', 'Virginia Woolf/Anne Olivier Bell/Andrew McNeillie', 'Julie Aigner-Clark/Nadeem Zaidi', 'Stuart McLean', 'Anita Desai', 'Roger Hargreaves/Adam Hargreaves', 'Dean Koontz/Leigh Nichols', 'Ann Patchett', 'Peter Abrahams', 'Leo Tolstoy', 'Eoin Colfer/Ana Alcaina', 'Anita Diamant', 'Stephen King/John  Glover', 'Junichi Satō/Kaori Naruse', 'Rohinton Mistry', 'Stephen King/Ron McLarty', 'Jorge Luis Borges/Andrew Hurley', 'John Berendt', 'Steve Martin', 'Hugh Honour/John Fleming', 'Evelyn Waugh', 'Sandra Cisneros', 'Richard A. Posner', 'Stephen Hunter/Beau Bridges', 'Youka Nitta', 'Sigrid Nunez', 'Geneen Roth', 'Mary Pope Osborne/Homer/Troy Howell', 'Fern Michaels', 'Astrid Lindgren/Ilon Wikland/Florence Lamborn', 'Brian Greene', 'Ivan Turgenev/Richard Freeborn', 'Vince Flynn', 'Kate DiCamillo/Chris Van Dusen', 'Laura Ingalls Wilder/Stephen W. Hines', 'Troy Denning', 'Dale Brown/Jim DeFelice', 'Stephen King/Ned Dameron', 'James Patterson/Peter de Jonge', 'Carrie Vaughn', 'Ron Roy/John Steven Gurney', 'Thucydides/C.F. Smith', 'Leigh Nichols/Dean Koontz', 'Joseph Pearce', 'Wilkie Collins', 'Marguerite Duras/Barbara Bray', 'Stewart Brand', 'Henri J.M. Nouwen', 'Robert Hellenga', 'Hayao Miyazaki/Matt Thorn/Kaori Inoue/Joe Yamazaki/Walden Wong/Izumi Evers', 'Bill Maher', 'Leo Tolstoy/Richard Pevear/Larissa Volokhonsky', 'Huston Smith', 'John Gray', 'J.V. Jones', 'David R. George III', 'Elisabeth Kübler-Ross', 'Rick Bass', 'Jennifer Weiner', 'Diane Duane/Tom Clancy/Steve Pieczenik', 'Yukito Kishiro', 'Charles Taylor', 'Mary Doria Russell', 'Honoré de Balzac', 'Janet Evanovich/Charlotte Hughes', 'F. Scott Fitzgerald/Matthew J. Bruccoli', 'Carole Marsh', 'Sinclair Lewis', 'Steve Turner', 'P.G. Wodehouse/Jonathan Cecil', 'Lorrie Moore', 'Ned Vizzini', 'Peter Singer', 'Robert D. Putnam', 'Francine Pascal/Jamie Suzanne', 'David Lubar', 'Richard P. Feynman/Robert B. Leighton/Matthew L. Sands', 'Donald A. Norman', 'Dashiell Hammett', 'Diane Johnson', 'Darren Shan', 'Jahnna N. Malcolm', 'Andrea Camilleri/Stephen Sartarelli', 'C.S. Lewis/Walter Hooper', 'Ansel Adams/Robert Hardy Baker', 'Russell Hoban', 'P.D. Eastman', 'Pete Hautman', 'Charlaine Harris', 'Steven D. Levitt/Stephen J. Dubner', 'Julia Alvarez', 'Slavoj Žižek', 'Janet Fitch', 'William Styron', 'Mary Wollstonecraft Shelley', 'Jon Ronson', 'Claire Messud', 'Jonathan Harr', 'Edith Wharton', 'Sidney Sheldon', 'Dalai Lama XIV/Howard C. Cutler', 'Herman Melville/G. Thomas Tanselle', 'Clive Cussler/Dirk Cussler', 'Simon Singh', 'Bernard Cornwell', 'Ludwig Wittgenstein/G.E.M. Anscombe', 'Georg Wilhelm Friedrich Hegel', 'Kay Redfield Jamison', 'Terry Deary', 'John Maddox Roberts', 'Nelson DeMille/Otto Penzler', 'Ruth Ozeki', 'Alice Medrich', 'Bernard Cornwell/Jamie Glover', 'Sylvia Engdahl', 'Walter Isaacson', 'Ann Rinaldi', 'David D. Burns', 'Plato/C.J. Rowe', 'Michael Pollan', 'Russell Roberts/Russ Roberts', 'Mark Kurlansky/S.D. Schindler', 'Humphrey Carpenter', 'Lewis Carroll/Helen Oxenbury', 'Aeschylus/David R. Slavitt/Smith Palmer Bovie', 'Reinaldo Arenas/Andrew Hurley/Thomas Colchie', 'Marjane Satrapi/Anjali Singh', 'Emily Brontë', 'H. Jay Riker', 'Émile Zola/Roger Pearson', 'Mark Bittman', 'Lisa McCourt/Cyd Moore', 'William Shakespeare/Stephen Orgel/A.R. Braunmuller', 'Shūsaku Endō/Van C. Gessel', 'Sigrid Undset/Tiina Nunnally', 'Jeffrey Eugenides', 'Karen Katz', 'Charles Willeford', 'Fannie Flagg', 'David Gemmell', 'Sylvia Plath/Karen V. Kukil', 'Thomas Wolfe', 'Johann Wolfgang von Goethe/David  Luke', 'Ann-Marie MacDonald', 'Paul Theroux', 'Carroll John Daly', 'Philip José Farmer', 'Witold Gombrowicz/Danuta Borchardt', 'William Jefferies/Jeffery Deaver', 'Sean Stewart', 'Nicholas Wright/Philip Pullman', 'Judith McNaught', 'William L. Shirer', 'Jim Carroll', 'Walter J. Savitch', 'Arthur Conan Doyle/Kyle Freeman', 'Ann Rule', \"Reader's Digest Association\", 'Alexander Pushkin/Vladimir Nabokov', 'Jean Rhys', 'International Code Council (ICC)', 'Brian Boyd', 'Terry C. Johnston', 'Alison Weir', 'Stuart Woods', 'Jeffrey Ford', 'William Gaddis', 'David Noonan', 'T.H. White', 'Mike  Davis', 'Gregory Maguire/Douglas Smith', 'James Fenimore Cooper/Blake Nevius', 'Janet Valade', 'Ovid/Frank Justus Miller', 'Stacy Horn', 'James Preller/R.W. Alley/Jamie  Smith', 'Maureen Johnson', 'Ann Packer', 'Edith Wharton/R.W.B. Lewis', 'Carlos Ruiz Zafón', 'Frank McConnell', 'E.B. White/Garth Williams', 'Neal Stephenson/Pedro Jorge Romero', 'J.R.R. Tolkien/托爾金/Alan  Lee/朱學恆', 'Cecelia Ahern', 'Anthony E. Wolf', 'Fyodor Dostoyevsky/Jessie Coulson', 'Virginia Woolf/Nigel Nicolson/Joanne Trautmann', 'Kahlil Gibran/جبران خليل جبران', 'Quentin Carter', 'Hayao Miyazaki/Diana Wynne Jones', 'Danzy Senna', 'Fyodor Dostoyevsky/Ignat Avsey', 'Mary Balogh', 'Martin  Gilbert', 'Mercedes Lackey/Larry Dixon', 'Garth Nix', 'Michael Shaara', 'Tristan Taormino', 'Anne Mazer', 'Timothy Findley', 'Jostein Gaarder/James Anderson', 'Brian Michael Bendis/Mark Bagley', 'J.A. Jance', 'Robert Kirkman/Charlie Adlard/Cliff Rathburn', 'James Patterson/Howard Roughan', 'Mircea Eliade/Willard R. Trask', 'John Dos Passos/E.L. Doctorow', 'Karen Tei Yamashita', 'MaryJanice Davidson', 'Sarah Mayberry', 'Robin S. Sharma', 'Alice Walker', 'Edward W. Said', 'Thomas Harlan', 'Richard   Preston', 'Jay McInerney', 'Celeste Bradley', 'Andrea Levy', 'Miyamoto Musashi/Thomas Cleary', 'Jon Kabat-Zinn', 'Noah Gordon', 'Anthony Thorlby', 'George Orwell/Christopher Hitchens', 'Rebecca York', 'James Patterson/Maxine Paetro', 'Nathan Englander', 'Ovid/William Scovil Anderson', 'Alexandra Moss', 'Laurence Yep', 'Philip K. Dick/John Brunner', 'Elizabeth Clare Prophet', 'Arthur Conan Doyle/Leslie S. Klinger', 'Nancy White Carlstrom/Bruce Degen', 'Cornelia Funke/Anthea Bell', 'Robert Nye', 'Carlos Ruiz Zafón/Lucia Graves', 'Pindar/William H. Race', 'Susan   Mallery', 'Jay Rubin', 'Marcel Proust/C.K. Scott Moncrieff/Terence Kilmartin', 'William Shakespeare/Paul Werstine/Barbara A. Mowat', 'Don Rosa', 'Morag McKendrick Pippin', 'Natsuo Kirino', 'Mary Roach', 'Bill Clinton', 'Lauren Weisberger', 'Euripides/John Davie/Richard Rutherford', 'Sigrid Undset/Tiina Nunnally/Sherrill Harbison', 'Aeschylus/E.D.A. Morshead', 'Edith Wharton/Jeffrey Meyers', 'E.L. Konigsburg', 'Anton Chekhov/Laurence Senelick', 'Nigel Warburton', 'Tim Bogenn', 'National Commission on Terrorist Attacks Upon The United States', 'Alexander Payne/Jim     Taylor', 'Gary Russell', 'Marcia Angell', 'Katherine Paterson', 'George Eliot', 'Sylvia Plath', 'Eric Chaisson/Steve McMillan', 'Anne Mazer/Bill Brown', 'Jean Sasson', 'John F. MacArthur Jr.', 'John Lescroart', 'William Shakespeare/SparkNotes/John Crowther', 'Richard M. Weaver', 'Satoru Kannagi/Hotaru Odagiri', 'Kate Horsley', 'Zoë Heller', 'J.R.R. Tolkien/Christina Scull/Wayne G. Hammond', 'Jill Elizabeth Nelson', 'Naguib Mahfouz', 'Junji Ito/伊藤潤二/Naomi Kokubo', 'Colson Whitehead', 'Richmond Lattimore', 'Michael F. Roizen/Mehmet C. Oz', 'Reinaldo Arenas', 'Lerone Bennett Jr.', 'David Goodis/Adrian Wootton', 'Anton Chekhov/Richard Pevear/Larissa Volokhonsky', 'Catherine Hapka', 'John Perkins', 'Michael J. Nelson/Charles S. Anderson Design Company/Pop Ink', 'John Steinbeck/Elaine Steinbeck/Robert DeMott', 'Matt Ridley', 'Alan Lightman', 'Kurt Busiek/Alex Ross', 'Kara/Lee Yun-Hee', 'Takashi Hashiguchi/橋口 たかし', 'Ann Brashares', 'Nick Tosches', 'Isaac Bashevis Singer/Ilan Stavans', 'Chris L. Demarest', 'Terry Pratchett/Paul Kidby', 'C.D. Payne', 'Barack Obama', 'Homer/E.V. Rieu/Peter Jones/D.C.H. Rieu', 'Dan Birlew', 'Elaine Cunningham', 'Robert A. Dahl', 'Carl Hiaasen/Edward Asner', 'Kaye Gibbons', 'Sandy Petersen/Lynn Willis', 'John Dos Passos', 'Rosa Montero', 'Primo Levi', 'Augustine of Hippo', 'Gabriel García Márquez/Gregory Rabassa/J.S. Bernstein', 'Brian Jacques/David Elliot', 'David Pogue', 'Andrew Solomon', 'Susan Carroll', 'Will Eisner/Neil Gaiman', 'Michael Cunningham', 'Stephen Manes', 'Stephanie Laurens', 'Michael Marshall Smith', 'Noel Streatfeild/Diane Goode', 'F. Scott Fitzgerald/James L.W. West III', 'Monica Ali', 'Nicholas P. White', 'John Mason', 'Adam Drozdek', 'Philip Pullman/Ian Beck', 'Yosef A.A. Ben-Jochannan', 'Elspeth Huxley', 'Kaho Miyasaka', 'Harriet Lerner', 'Herman Melville/William Hootkins', 'Ian Edginton/Simon Fraser', 'Mark Twain/Louis J. Budd', 'Muriel Spark', 'Jeffrey Archer', 'Jean Estoril/Mabel Esther Allan', 'Henry David Thoreau', 'Hanif Kureishi', 'Delia Sherman', 'Harper Lee', 'Wendy Wasserstein', 'William Shakespeare/R.A. Foakes', 'Candace Ward', 'Louisa May Alcott/C. Michael Dudash/Stephen W. Hines', 'Jenny Nimmo', 'Edith Wharton/Maureen Howard', 'Art Spiegelman', 'H.P. Lovecraft', 'Hiroyuki Morioka', 'A.S. Byatt', 'Tim Downs', 'Tyler Florence/Petrina Tinslay', 'Clive Cussler/Jack Du Brul', 'Richard Curtis', 'David Mamet', 'Barbara Park/Denise Brunkus', 'Nicole Krauss', 'David Malouf', 'Kevin Trudeau', 'Erich Maria Remarque', 'David Sedaris/Amy Sedaris', 'Stephen King/Peter Straub', 'William Arrow', 'Hilary H. Milton', 'Lisa See', 'Alan Hollinghurst', 'Steve Martini', 'Tony Horwitz', 'Nick Flynn', 'David Sedaris', 'René Descartes/Donald A. Cress', 'Daniel Jonah Goldhagen', 'Janette Oke', 'Heidi Boyd', 'Sigrid Undset/Arthur G. Chater', 'Jane Feather', 'Edward Gibbon', 'Jean Rabe', 'E.E. Cummings/Richard S. Kennedy', 'Richard Wright', 'James Tiptree Jr.', 'Garrison Keillor', 'Stephen King/Bernie Wrightson', 'Mark Allen Weiss', 'Yann Martel', 'Plato/C.D.C. Reeve', 'Leo Tolstoy/Louise Maude/Aylmer Maude', 'Cheri Huber/June Shiver', 'Jen Lancaster', 'Chuck Palahniuk/Javier Calvo', 'Robert Irwin', 'Samuel Beckett', 'Haruki Murakami/Alfred Birnbaum', 'Kate DiCamillo', 'William Strunk Jr./E.B. White', 'Plato/G.M.A. Grube/John M. Cooper', 'Neil Gaiman/Michael Zulli', 'Matthew Pearl/Vicente Villacampa', 'Julie Powell', \"Eugene O'Neill/Travis Bogard\", 'Patrick McGrath', 'Mary Pope Osborne/Troy Howell', 'Jane Austen/Laura Engel', 'Tsugumi Ohba/Takeshi Obata', 'Mary B. Collins', 'Louis Begley', 'Michael Jecks', 'Charles Lamb/Mary Lamb/Arthur Rackham', 'Barbara Taylor Bradford', 'Phyllis Reynolds Naylor', 'R.A. Salvatore', 'Eleanor Estes/Louis Slobodkin', 'Sandra Boynton', 'Kevin Crossley-Holland', 'Ed McBain', 'Robert Graves', 'Ruth Reichl', 'Audrey Niffenegger', 'David Mitchell', 'Harold Bloom/Terry Southern/David H. Goldsmith/James Lundquist/Lawrence R. Broer/Peter J. Reed/Loree Rackstraw/William S. Doxey/Jerome Klinkowitz/Richard Giannone/John L. Simons/Leonard Mustazza/Zoltan Ab di-Nagy/Peter Freese/Wendy B. Faris', 'James N. Frey', 'Sophocles/Reginald Gibbons/Charles Segal', 'Hannah  Green/Joanne Greenberg', 'Anonymous/N.K. Sandars', 'C.E. Murphy', 'Marcus J. Borg', 'David  Michaels/Raymond Benson/Tom Clancy', 'John Grogan', 'Orhan Pamuk/Rafael Carpintero', 'Virgil/David   West', 'Saul Bellow', 'Sigrid Undset', 'Susan Minot', 'Stephen King/Richard Bachman', 'David Eddings/Leigh Eddings', 'Paul Krugman', 'Kathy Acker', 'Wole Soyinka', 'Ian Edginton', 'Christine Feehan', 'Thornton W. Burgess/Louis Agassiz Fuertes', 'Jane Porter', 'Kōji Suzuki/Glynne Walley', 'Tracy Kidder', 'David Goodis', 'Raymond Queneau/Barbara Wright', 'Max Frisch', 'Jorge Luis Borges', 'Roger Lowenstein', 'James Patterson/Michael Ledwidge', 'Aldous Huxley/Robert S. Baker/James Sexton', 'J.R.R. Tolkien/Alan  Lee', 'Jack Kerley', 'Angus Wells', 'Fyodor Dostoyevsky/Constance Garnett/Joseph Frank', 'Reynolds Price', 'Peter Kuper/Franz Kafka/Kerstin Hasenpusch', 'Satosumi Takaguchi/Satosumi Takaguchi', 'D.T. Max', 'Norman Rush', 'Fyodor Dostoyevsky/David Magarshack', 'Lawrence Otis Graham', 'Jung Chang', 'Joseph Conrad/Cedric Watts', 'George Bernard Shaw', 'J.K. Rowling/Peter Needham', 'Aldous Huxley/Christopher Hitchens', 'Lisa Gardner', 'Frances Hodgson Burnett/Scott McKowen', 'Pauline Kael', 'Stephen King/Eduardo Goligorsky', 'Edwin A. Abbott', 'Jerry Spinelli', 'David Lindsay-Abaire', 'Karen Cushman', 'Walter Dean Myers', 'Ben Elton', 'Robert Shapard/James Thomas', 'E. Nesbit', 'James Herriot', 'Kōbō Abe/E. Dale Saunders', 'Preston Peet', 'Allison Pearson', 'Neil deGrasse Tyson', 'Lilian Jackson Braun', 'Marissa Moss', 'Thomas Jefferson', 'Michio Kaku', 'Jack Williamson', 'José Saramago/Margaret Jull Costa', 'James Hamilton-Paterson', 'Eoin Colfer/Glenn McCoy', 'Alcoholics Anonymous', 'Stephen Greenblatt', 'R. Scott Bakker', 'Arthur  Miller', 'Charles R. Swindoll', 'James A. Michener/Robert Vavra', 'Neil Gaiman/Dave McKean', 'W. Somerset Maugham', 'Charles Stross/Shandra Marie/Jared Doreck', 'Daniel Defoe/Virginia Woolf', 'Hiroki Endo', 'Howard Zinn/Kathy Emery/Ellen Gordon Reeves', 'Maurice Sendak', 'Robin Wasserman', 'Tara MacCarthy', 'Stephen King/Bettina Blanch Tyroller', 'Sarah Dessen', 'Richard R. George/Roald Dahl', 'David James Duncan', 'Kohta Hirano', 'J.R.R. Tolkien/Francis Ledoux', 'Gloria Goldreich', 'Terry Pratchett/Neil Gaiman', 'Paula Danziger/Tony Ross', 'Richard Paul Russo', 'Jane Leslie Conly/Leonard B. Lubin', 'Penny Jordan', 'John Kennedy Toole', 'Andrew J. Offutt', 'Edith Hamilton', 'Christopher Janaway', 'Rick Warren', 'Michel de Montaigne/M.A. Screech', 'Mary S. Lovell', 'James W. Loewen', 'Thomas Kinkade/Erika Tamar', 'Rodney Stark', 'Grant Morrison/Phil Jimenez/John Stokes', 'Peter Biskind', 'Harry Crews', 'Geraldine McCaughrean/Victor G. Ambrus/Herman Melville', 'James Lamar Roberts/William Faulkner/CliffsNotes', 'David H. Chilton', 'Daniel Abdal-Hayy Moore', 'Stanisław Lem/Louis Iribarne', 'Geneviève/Michael    Heath', 'Haruki Murakami', 'Adam Swift', 'Teddy Slater/Wayne Alfano', 'David    Allen', 'E.B. White/Garth Williams/Rosemary Wells', 'Denise Dersin', 'Paul Hendrickson', 'Armistead Maupin', 'Frank Warren', 'G. Richard Shell', 'Geoffrey Chaucer/Nevill Coghill', 'Virginia Lee Burton', 'Frederick P. Lenz', 'William Shakespeare/Andrew Gurr', 'Donald Goines', 'Henning Mankell/Ebba Segerberg', 'Lincoln Child', 'James Shapiro', \"Patrick O'Brian/Simon Vance\", 'Karen Hesse', 'A.B. Yehoshua/Hillel Halkin', 'Keith Herber', 'Richard Russo', 'Rob Kidd/Walt Disney Company', 'Homer/Edward McCrorie/Richard P. Martin', 'Marcel Proust', 'James Lee Burke', 'Edgar Rice Burroughs/John Bolen', 'Giada De Laurentiis/Victoria Pearson', 'Rob Kidd/Jean-Paul Orpinas', 'Stephen King/Gregorio Vlastelica/Eduardo Goligorsky', 'Phillip C. McGraw', 'Russell Hoban/Quentin Blake', 'George Crile', 'James L. Stokesbury', 'Anne Mazer/Monica Gesue', 'Noah Gordon/Mirjana Cvekić/Ljiljana Cvekić', 'David Burnie', 'Lewis Carroll/John Tenniel', 'Roberta Gellis', 'Valerie Parv', 'J.R.R. Tolkien/Peter S. Beagle', 'Anne McCaffrey/Todd McCaffrey', 'Chris Manby', 'Robert Greene/Joost Elffers', 'Howard Chaykin', 'Sydney Taylor', 'Sue Miller', 'Barthe DeClements', 'Virgil/David Ferry', 'Pablo Neruda', 'Judi Barrett/Ron Barrett', \"Jun'ichirō Tanizaki/Anthony H. Chambers\", 'Doris Kearns Goodwin', 'John     Nichols', 'Robert Benedetti', 'David Almond', 'Wayne W. Dyer', 'Mark Smylie', 'Ronald Takaki', 'Michael Connelly/Len Cariou', 'Thomas Aquinas', 'Herodotus/Aubrey de Sélincourt/John M. Marincola', 'Irving Stone', 'James  Hawkins', 'Napoleon Hill', 'Ruby Ann Boxcar', 'Edward R. Tufte', 'Stephen M. Pollan/Mark LeVine', 'George S. Clason', 'Antoine de Saint-Exupéry', 'Marta Acosta', 'Thomas L. Friedman', 'Amy Tan/Gretchen Schields', 'Helen Vendler', 'Helen Fielding', 'Hayao Miyazaki', 'Michael Morpurgo/Michael Foreman', 'Louis de Bernières', 'Bram Stoker', 'Vijay Prashad', 'Frank McCourt', 'David   Robbins/David Thompson', 'Dyan Sheldon', 'Lindsey Davis', 'Doreen Cronin/Betsy Lewin', \"Jun'ichirō Tanizaki/Howard Hibbett\", 'Anne McCaffrey/Elizabeth Ann Scarborough', 'Homer/W.H.D. Rouse', 'Stephen Leeb/Glen C. Strathy', 'Donald J. Sobol/Warren Chang', 'Amartya Sen', 'Dava Sobel', 'Kenzaburō Ōe/John Nathan', 'Margaret Wise Brown/Clement Hurd', 'J.M. Barrie/Peter Hollindale', 'Roddy Doyle/Brian Ajhar', 'Azar Nafisi', 'Markus Zusak', 'Anthony Loyd', 'Robert Louis Stevenson', 'Will Eisner', 'Virgil/Robert Fitzgerald', 'Antony Beevor', 'Diana Palmer', 'M. Scott Peck', 'Vladimir Nabokov/Brian Boyd', 'Monica Furlong', 'J.R.R. Tolkien/Rob Inglis', 'Christina Scull/Wayne G. Hammond', 'John Hersey', 'Dixie Cash', 'Steven Pinker', 'Jay Parini', 'Jane B. Mason/Sarah Hines Stephens', 'Paulo Coelho', 'Raymond Chandler/Frank MacShane', 'Åsne Seierstad', 'Patrick Lencioni', 'Julian Jaynes', 'Bryan Sykes', 'Martin E.P. Seligman', 'Fyodor Dostoyevsky/David McDuff', 'Ellen Meloy', 'Nathaniel Philbrick', 'Erving Goffman', 'Jude Watson', 'Naomi Novik', 'George Lucas', 'Randy Alcorn', 'Leo Tolstoy/Constance Garnett', 'Robb Forman Dew', 'Andre Dubus', 'Dan Harrington/Bill Robertie', 'Noam Chomsky/David Barsamian', 'Hunter S. Thompson/Ralph Steadman', 'William Faulkner/Noel Polk/Joseph Blotner', 'Elizabeth A. Lynn', 'William T. Quick', 'Edmund Morris', 'Paul Bowles/Daniel Halpern', 'Dave Barry/Ridley Pearson/Greg Call', 'Steve Perry', 'Nikolai Gogol', 'Richard Ford', 'Ann Beattie', 'Jerome Preisler/Tom Clancy/Martin Greenberg', 'Gary K. Carey', 'Mario Vargas Llosa', 'Lynda Milligan/Nancy J. Smith', 'Stephen King/Campbell Scott', 'Matthew Kneale', 'Roland Barthes/Richard Howard', 'Quentin Blake', 'Rachel Caine', 'Dan Millman', 'Arthur C. Clarke', 'Carol Shields', 'Lois Gladys Leppard', 'Stanley Bing', 'Nikos Kazantzakis/Peter A. Bien', 'Norton Juster', 'Brad Thor', 'Dan Savage', 'Walter Kirn', 'Matt Braun', 'Carol Adrienne/James Redfield', 'C.S. Lewis/Kathleen Norris', 'W. Haden Blackman/Ian Fullwood', 'Herman Melville/Rockwell Kent/Elizabeth Hardwick', 'Tsugumi Ohba/Alexis Kirsch', 'Lois Lenski/Heidi Kilgras', 'Stephen J. Cannell/Scott Brick', 'Margaret Weis/Tracy Hickman/Adam Lesh', 'Samuel J. Leffler/Marshall Kirk McKusick/Michael J. Karels', 'Indu Sundaresan', 'Ben Bova', 'Avi/Brian Floca', 'National Geographic Society', 'Aimé Césaire/Annette Smith/Clayton Eshleman', 'Stephen Hunter/Jay O. Sanders', 'Kate Atkinson/Traverse Theatre', 'Dan Hitt/James Beckett III', 'Paul Strathern', 'H.R. Giger/Kathi Christen/Adrienne Theimer/Ernst  Fuchs', 'Janice Ross/Allan Ulrich/Brigitte Lefevre', 'Steve Perry/Larry Segriff/Tom Clancy/Steve Pieczenik', 'Wilkie Collins/Maria K. Bachman/Don Richard Cox', 'Jonathan Swift/Jesse Gale', 'Wallace Stegner/Richard W. Etulain', 'Charles R. Miller', 'Christie Ridgway', 'Laurence Yep/Kam Mak/Ann Tashi Slater', 'Patrick Nobes/Arthur Conan Doyle/Jennifer Bassett/Tricia Hedge', 'Mark Haddon/Peter   Sutton', 'Lisa Trumbauer/Emily Fiegenshuh', 'Alan Hausman/Paul Tidman', 'Carolyn Keene/Walter Karig', 'Astrid Lindgren/Gerry Bothmer', 'Tennessee Williams/Gore Vidal', 'Charlotte Brontë/Richard J. Dunn', 'Walter Benjamin/Hannah Arendt/Harry Zohn/Leon Wieseltier', 'Galina Krasskova/Swain Wódening', 'Albert Speer', 'Robert A. Caro', 'Reinaldo Arenas/Dolores M. Koch', 'Iris Murdoch/Mary Kinzie', 'David   Ward/Parveen Adams/Seamus Heaney/Ivan Gaskell', 'Ruth S. Noel/J.R.R. Tolkien', 'Brian Sibley/John  Howe/J.R.R. Tolkien', 'Don DeLillo/Thomas DePietro', 'Elinor J. Pinczes/Bonnie Mackain', 'George Bernard Shaw/Dan H. Laurence/W.J. McCormack', 'Kurt Busiek/Fabian Nicieiza/Len Wein/Gerry Conway/Pete Woods/José Luis García-López', 'Alexander Pushkin/Charles Johnston/Michael Basker/John Bayley', 'Theodore Ayrault Dodge/Ian M. Cuthbertson', 'Leo Tolstoy/Amy Mandelker/Constance Garnett', 'Sharon Rose Wilson/Thomas B. Friedman/Shannon Eileen Hengen', 'James Gleick', 'Joseph Campbell/David Kudler', 'Jon Lee Anderson/José Hernández/Leena Nivala', 'William S. Pollack/Mary Pipher', 'Dashiell Hammett/Vince Emery/Joe Gores', 'Faïza Guène/Sarah    Adams', 'Scott Wetzler', 'Sławomir Rawicz', 'Anna Sewell', 'Arthur Conan Doyle/Anne Perry/Sidney Paget', 'Nikola Tesla/David Hatcher Childress', 'Ernest Hemingway/Charlton Heston', 'Eugène Ionesco', 'David Hewson', 'Stephen J. Cannell/Paul Michael/Michael Prichard', 'Andre Duza', 'Ramsey Campbell/Jack Dann/Dennis Etchison', 'Scott Donaldson', \"Jahan Ramazani/Richard Ellmann/Robert O'Clair\", 'Gabriel García Márquez/Remy Gorga Filho', 'Jeremy Treglown', 'Michael Ochs/Patrick Javault/Ulrike Wasel', 'Noah Gordon/Elsa Mateo', 'Bernard Lewis', 'J.R.R. Tolkien/Wayne G. Hammond/Christina Scull', 'George H. Scherr/Richard Liebmann-Smith', 'Allan C. Weisbecker', 'Richard Brautigan/Taylan Taftaf', 'Warren Ellis/Darick Robertson/Rodney Ramos/Keith Akin', 'William F. Russell', 'Paul Cronin', 'Albert Camus/Robin Buss', 'Norman Maclean', 'Carson McCullers', 'Deborah Eisenberg', 'James Joyce/Walter Hettche/Hans Walter Gabler/John Paul Riquelme/John Mitchel/Michael Davitt/Canon  Doyle/Pádraic Pearse/Ignatius of Loyola/Giovanni Pietro Pinamont/Walter Pater/Oscar Wilde/Douglas Hyde/Kenneth Burke/Umberto Eco/Hugh Kenner/Hélène Cixous/Karen Lawrence/Maud Ellmann/Bonnie Kime Scott/Joseph Valente/Marian Eide/Pericles Lewis/Jonathan Mulrooney/J.M. Synge', 'Jacob Grimm/Wilhelm Grimm', 'Steve McConnell', 'Tom Clancy/Enric Tremps', 'Phil Brucato/Aaron Rosenberg', 'Anthony Burgess/Blake Morrison', 'Woody Hochswender/Greg Martin/Ted Morino', 'Elaine Pagels', 'Nikki Giovanni/Virginia C. Fowler', 'Thomas More/Paul Turner', 'Robert Silverberg/Stephen King/Robert Jordan/Terry Goodkind/Anne McCaffrey/Orson Scott Card/Tad Williams/George R.R. Martin/Raymond E. Feist/Terry Pratchett/Ursula K. Le Guin', 'Andrew Helfer/Randy DuBurke', 'Jamie Oliver/Marion Deuchars/David Loftus/Chris Terry', 'J.R.R. Tolkien/Baillie Tolkien', 'Shūsaku Endō/William Johnston', 'Alfred D. Chandler Jr.', 'Leo Tolstoy/Richard Pevear/Larissa Volokhonsky/John Bayley', 'William T. Vetterling/William H. Press/Saul A. Teukolsky', 'Jonathan Ryder/Robert Ludlum', 'Jerzy Kosiński/Tom Teicholz', 'Le Ly Hayslip/Jay Wurts', 'Philip Nel', 'Lawrence M. Krauss/Stephen Hawking', 'Steve Perry/Michael Reaves', 'Fyodor Dostoyevsky/Andrew R. MacAndrew/Konstantin Mochulsky', 'John Lawrence Peterson', 'Michelle Sagara/Michelle Sagara West', 'Jerry Ahern', 'George Eliot/Earl L. Dachslager/George Stade', 'United Feature Syndication', 'Jill Conner Browne', 'Leo Strauss/Joseph Cropsey', 'Luigi Pirandello/Mark Musa', 'Ayn Rand/Michael S. Berliner/Leonard Peikoff', 'Grant Morrison/Phil Jimenez/John Stokes/Tommy Lee Edwards/Paul Johnson/Steve Yeowell/Dick Giordano/Mark Buckingham/Mark Pennington', 'Dennis L. Kasper/Dan L. Longo/Stephen L. Hauser/Anthony S. Fauci/Eugene Braunwald', 'Patricia Hall', 'Christopher   Duncan', 'George H. Wood/Theodore R. Sizer', 'Miguel de Cervantes Saavedra/John Macklin', 'Hermann Hesse/Susan Bernofsky/Tom Robbins', 'Adam Smith/Robert B. Reich', 'Francis Davis/Pauline Kael', 'Allen Carr', 'Bill Hurter', 'Ron  Louis/David Copeland', 'Elda Minger', 'David S. Garnett/David Ferring', 'Michael R. French/Ron Powers/James D. Bradley', 'Ray Bradbury/Alfredo Crespo', 'Deb Stover', 'Charles Seife', \"Robert L. O'Connell\", 'Gustave Le Bon/Charles Mackay', 'Jennifer Crusie/Leah Wilson/Gregory Stevenson', 'George Bernard Shaw/Dan H. Laurence/Nicholas Grene', 'John Hodgman', 'Fyodor Dostoyevsky/Anna Brailovsky/Joseph Frank/Constance Garnett/Alan Myers', 'Lonely Planet/Sarah Johnstone/Steve Fallon', 'Yasuhiro Kano', 'Julie Orringer', 'Alex Kotlowitz', 'Luis Sepúlveda/Chris Sheban', 'Friedrich Nietzsche/Gary Handwerk', 'Kate Summerscale/Joe Carstairs', 'Deborah Gregory/Paul Mantell', 'Janet Flanner/Irving Drutman', 'Dave Thomas/David Heinemeier Hansson/Leon Breedt/Mike Clark/Thomas  Fuchs/Andreas  Schwarz', 'Tish Boyle/Timothy Moriarty', 'Alice Medrich/Deborah Jones', 'William Empson', 'F. Scott Fitzgerald/Dave Page/Patricia Hampl', 'Robert W. Strayer', 'Aristotle', 'Verlyn Flieger', \"Julia Child/Alex Prud'Homme\", 'Luigi Pirandello/Henry Reed', 'Charles Baudelaire/Louise Varèse', 'Bret Easton Ellis/Pierre Guglielmina', 'Charles P. Rubenstein', 'Suetonius/Michael Grant/Robert Graves', 'Lewis Carroll/Richard  Kelly', 'Bette Greene', 'F. Scott Fitzgerald/Arnold Goldman/Richard Godden', 'Roald Dahl/Nancy Ekholm Burkert', 'Stephen J. Sansweet/Peter Vilmur', 'Paulo Coelho/Clifford E. Landers', 'Roger Zelazny/Scott Zrubeck/Steven Brust', 'Graham Hancock', 'David   Ward/Joe Cornish', 'Catherine de Zegher/Elisabeth Sussman', 'Immanuel Kant/Humphrey Palmer', 'Amy Sedaris', \"John O'Donohue\", 'Nikki Giovanni/Bryan Collier', 'Ann Abramson/Nancy Harrison', 'Grif Stockley', 'Elaine Sciolino', 'Dai Sijie/Ina Rilke', 'Henry James/Alan Hollinghurst/Ezra Pound', 'Richard Bachman/Stephen King/Hernán Sabaté Vargas', 'Patricia B. McConnell', 'Lord Dunsany/Sidney H. Sime', 'Ed Dorn', 'Ruth  Abbey', 'Beverly Daniel Tatum', 'Yumi Hotta/Takeshi Obata/Yukari Umezawa', 'William T. Rasmussen', 'Anthony Hern/Ian Fleming/Henry Gammidge/John McLusky', 'Steve Wozniak/Gina Smith', 'James Campbell/Eric John/Patrick Wormald', 'Gwynne Forster/Donna Hill/Parry A. Brown', 'Martha Hailey DuBose/Frances Hodgson Burnett/Lucy Corvino/Arthur Pober', 'Lisa S.  French', 'Naomi Wolf', 'John Warry/Phillip de ste. Croix', 'Erich Fromm/محمود منقذ الهاشمي', 'Arthur Conan Doyle/Philip Gooden', 'Brandon Mull', 'Susanna Clarke/Ana María de la Fuente', 'Kurt Reiter', \"Robert C. O'Brien\", 'Sam Harris', 'Emmanuel Rhoides/Lawrence Durrell', 'Kim Wilson/Tom Carpenter', 'William Faulkner/E.L. Doctorow', \"Waris Dirie/Jeanne d' Haem\", 'Judi Barrett/Diane Dawson Hearn', 'Nayantara Sahgal', 'Aristotle/Jonathan Barnes', 'Elizabeth Knowles', 'Paul Negri/Alexander Pushkin/Maxim Gorky/Aleksandr Ivanovich Kuprin/Leonid Andreyev/Nikolai Gogol/Ivan Turgenev/Fyodor Dostoyevsky/Leo Tolstoy/Nicholay Leskov/Vsevolod Garshin/Anton Chekhov/Theodor Sologub', 'Jane Jeong Trenka/Julia Chinyere Oparah', 'Isaac Bashevis Singer/Cecil Hemley', 'Marina Belozerskaya', 'Michelle Tea', 'David Levithan/Ryder Windham/Marc Cotta Vaz', 'George MacDonald Fraser', 'Alexandre Dumas/Barbara T. Cooper', 'R.F. Laird', 'Anonymous/Maureen Kovacs', 'Kenneth Osgood', 'David Cairns', 'Mark Twain/Dave Eggers', 'Stephen Hawking/Kip S. Thorne/Igor Novikov/Timothy Ferris/Alan Lightman/Richard     Price', 'Sheri Lynch', 'Ian Stewart', 'Jan Needle/Patrick Benson/Herman Melville', 'Stephen Manes/George Ulrich', 'Eric Hansen', 'Michael Connelly/Buck Schirner', 'Anthony D. Pellegrini/Peter K. Smith', 'George Crile/Christopher Lane', 'Catherine Nichols/Sally Wern Comport/Robert Louis Stevenson', 'John Keegan', 'Georg Wilhelm Friedrich Hegel/J. Sibree', 'Erin McKean', 'Anthony Kiedis', 'Timothy Truman/Rick Leonardi/Tom Raney/Al Rio', 'James   Paul', 'Mark Leyner/Billy Goldberg', 'Terryl Whitlatch/Bob Carrau', 'Paul Schrader', 'C.S. Lewis/Nadia May', 'W. Jason Gilmore', 'Ayn Rand/Nathaniel Branden', 'Charles Dickens/Robert Douglas-Fairhurst', 'Arthur Bennett', 'Geoffrey S. Kirk/John Earle Raven/Malcolm Schofield', 'Wallace Stegner/Terry Tempest Williams/T.H. Watkins', 'Margaret Thaler Singer/Robert Jay Lifton', 'Edwin A. Abbott/Ian Stewart', 'Robert Dallek', 'Nathaniel Hawthorne/Thomas E. Connolly/Nina Baym', 'J. Scott Duvall/J. Daniel Hays', 'Tom Brokaw', 'Homer', 'David Wellington', 'William S. Burroughs/Sylvère Lotringer', 'Joanne Harris/Fran Warde', 'Patricia Cornwell/Kate Burton', 'Buzz Bissinger/Glenn Stout/Elizabeth Gilbert/Bill Plaschke/Gary Smith/Michael J. Agovino', 'Michael Gray', 'Johnny Cash/Patrick   Carr', 'Laurie Halse Anderson/Mark Salisbury', 'Stewart Shapiro', 'Elizabeth Mayne', 'Virginia Woolf/Trekkie Ritchie', 'Clifford D. Simak', 'Elwood Reid', 'Arthur C. Clarke/Stephen Baxter', 'Bill  Bryson/Kathryn Lamb', 'Hunter S. Thompson/Douglas Brinkley', 'Christopher   Black/Mark Anestis', 'Sy Montgomery', 'Alison Bechdel', 'Kate Atkinson/Jean Bourdier', 'Wisława Szymborska/Clare Cavanagh', \"Suzanne C. O'Connell Smeltzer/Brenda G. Bare/Mary Jo Boyer\", 'Martin Woodside/Jamel Akib/Arthur Pober/Jonathan Swift', 'Neil Gaiman/Sam Kieth/Mike Dringenberg/Malcolm Jones III/Todd Klein/Karen  Berger', 'Mary  Pacios', 'C.S. Lewis/Margarita E. Valdes/Gemma Gallart/Pauline Baynes', 'Norman L. Geisler', 'Jill Nelson/Robin D.G. Kelley/Richard Austin/Flores Alexander Forbes/Ron Daniels/Frank Moss/Derrick A. Bell/Claude Andrew Clegg III/Katheryn K. Russell/Patricia J. Williams/Stanley Crouch/Ishmael Reed/Arthur Doye', 'Charles Baudelaire/Andrew Brown/Margaret Drabble', 'C.G. Jung/James L. Jarrett', 'Jonathan Barnes/Ted Honderich', 'Sylvia Browne', 'William Shakespeare/Stephen  Booth', 'William Shakespeare/Stephen Orgel/John Hollander', 'Charles Dickens/Keith Cox/Cynthia Brantley Johnson', 'Sabine C. Bauer', 'Kurt Busiek/Geoff Johns/Pete Woods/Renato Guedes', 'Wilfred Owen/Cecil Day-Lewis', 'William Shakespeare/René Weis', 'Franz Kafka/Max Brod/Willa Muir/Edwin Muir', 'Oscar Wilde/Andrew Elfenbein', 'David Gemmell/Željko Petrović', 'Sarah Dunant', 'Jason Hook', 'Deirdre Bair', 'Jennifer Hendricks/Gordon Hendricks', 'Hermann Hesse/Michael E. Roloff', 'Maud Hart Lovelace/Rhoda R. Gilman', 'Richard Johnsonbaugh/Martin Kalin', 'Paul Krugman/Robin Wells', 'Yasunari Kawabata/Edward G. Seidensticker', 'Bart D. Ehrman', 'James Joyce/Jim Norton', 'Valerie Boyd', 'Jonathan Swift/David Case', 'Pauline Francis/Jules Verne', 'Euripides/Reginald Gibbons/Peter H. Burian', 'Barrington Moore Jr./James C. Scott/Edward Friedman', 'Wilkie Collins/Matthew Sweet', 'Zora Neale Hurston/Cheryl A. Wall', 'Siegfried Engelmann/Phyllis Haddox/Elaine Bruner', 'Thomas Lewis/Fari Amini/Richard Lannon', 'Dan Brown/Daniel Roche', 'Julian Rubinstein', 'Penelope Fitzgerald/Frank Kermode', 'Harper Lee/Sissy Spacek', 'Kate Mosse', 'Bram Stoker/Joseph Valente', 'Pamela Ball', 'Sun Tzu/Thomas Cleary/Pulat Otkan/Giray Fidan', 'Victor Hugo/Charles E. Wilbour/James K. Robinson', 'David Day', 'Richard Hofstadter', 'Margaret Johnson/Philip Prowse', 'Emil M. Cioran/Richard Howard', 'David Rakoff', 'Luigi  Barzini/L.P. De Castelvecchio', \"Celeste Davidson Mannis/John   O'Brien\", 'Wilkie Collins/Catharine Peters', 'Neil Gaiman/Shawn McManus/Colleen Doran/Bryan Talbot/George Pratt/Stan Woch/Dick Giordano/Todd Klein', 'Janice Cook Migliaccio', 'Abolqasem Ferdowsi/Dick Davis/Azar Nafisi', 'Brian  Doyle/Mary Miller Doyle', 'John Ehle', 'Peter  Stone/Sherman Edwards', 'Jean-Jacques Rousseau/Donald A. Cress/Peter Gray', 'Peter Woit', 'Helen McCarthy', 'Frederick Douglass', 'William Shakespeare/Mary Berry/Michael Clamp', 'Robert  Hamburger', 'John Kenneth Galbraith', 'Stanislav Grof/Christina Grof', 'Elie Wiesel', 'Alan MacGillivray', 'Núria Roca/Rosa María Curto', 'John Lange', 'Franz Kafka/Michael Hofmann/Geoffrey Brock/Roberto Calasso', 'Richard Gott', 'Pat Frank', 'William Shakespeare/Amanda Root/Arkangel Cast/Roy Hudd/David Harewood', 'Warren W. Wiersbe', 'Kathleen Winsor', 'John Wooden/Steve Jamison', 'Robert Penn Warren/James A. Perkins/James A. Grimshaw', 'Grant Morrison/Duncan Fegredo', 'Knut Hamsun/Oliver Stallybrass/Gunnvor Stallybrass', 'Kathryn Lasky/Richard Cowdrey', 'William W. Johnstone', 'Jennifer Watson', 'Yohanan Aharoni/Michael Avi-Yonah', 'Harvey Pekar/Ty Templeton/Eddie Campbell/Hilary Barta', 'Michael Spring/William Golding', 'Iris Murdoch/George Steiner/Peter J. Conradi', 'Euripides/David Grene/Richmond Lattimore/Emily Townsend Vermeule/Elizabeth Wyckoff/William Arrowsmith', 'Lawrence M. Friedman', 'William Saroyan/Don Freeman', 'Pablo Neruda/Donald Devenish Walsh', 'Galadriel Waters/Astre Mithrandir', 'Margaret Hodges/Trina Schart Hyman', \"Elaine Barbieri/Constance O'Banyon/Evelyn Rogers/Bobbi Smith\", 'Eric Frank Russell/George Zebrowski/Isaac Asimov', 'Charles John Cutcliffe Wright Hyne/Gary Hoppenstand/Harry Turtledove', 'Brenda Walpole', 'James K. Morrow', 'Sherry Gershon Gottlieb', 'Marianne Sturman/Leo Tolstoy', 'A.E. Cunningham/Harlan Ellison/Charles F. Miller/Terry Dowling/Paul Rhoads/Jack Vance/Tom Shippey/Gene Wolfe/David Langford/Dan Simmons/David Mathew', 'Tennessee Williams', 'Margo Maine/Craig L. Johnson', 'Jerry B. Jenkins/Tim LaHaye/Chris Fabry', 'Henry James/R.D. Gooder', 'Augustine of Hippo/Thomas Merton/Marcus Dods', 'Jean Estoril/Jenny Sanders', 'Charles Kingsley/W. Heath Robinson', 'Darwin Porter', 'Sam Johnson/Sandy Antunes', 'Ed  Young', 'Kim Edwards', 'Eugene J. McCarthy/Christopher Hitchens', 'Geoffrey Chaucer/V.A. Kolve/Glending Olson', 'Stephen King/Gregorio Vlastelica', 'Kahlil Gibran/John Walbridge/Robin Waterfield', 'Homer/Robert Fitzgerald/D.S. Carne-Ross', 'Amy Taubin', 'Ovid/Bernard Knox/Charles    Martin', 'W. Chan Kim/Renée Mauborgne', 'Anonymous/John Blofeld', 'J.M. Barrie', 'Michael W. Dean', 'Wallace Stegner/T.H. Watkins', 'Mark Fainaru-Wada/Lance Williams', 'Marshall McLuhan/Quentin Fiore/Jerome Agel', 'Sophocles/Peter Meineck/Paul Woodruff', 'Lewis Carroll/Graeme Base', 'Mark Kermode/Rob White', 'Jane Austen/James Kinsley/Anna Massey/Richard S. Hartmetz/Maurgaux Motin/Deidre Shauna Lynch', 'Anita Thompson', 'Jorge Luis Borges/Eliot Weinberger', 'Robert Louis Stevenson/Tasha Tudor', 'Susan Nanus/Norton Juster', 'Karl Marx/Friedrich Engels/John E. Toews', 'Albert Camus/Pierre-Louis Rey/P. Morgan/E.T. Jones', 'Kate Elliott', 'Rumer Godden/Christian Birmingham', 'Nikolai Gogol/Robert A. Maguire/Zlatko Crnković', 'Michael     Lewis/Glenn Stout', 'Mark Rothko/Miguel López-Remiro', 'Fyodor Dostoyevsky/Ergin Altay', 'Friedrich Nietzsche/R.J. Hollingdale/Michael Tanner', 'Terry Pratchett/Ian Stewart/Jack Cohen', 'Vladimir Nabokov/Martin Amis', 'Friedrich Nietzsche/Walter Kaufmann/Peter Gay', 'David Wojnarowicz/James Romberger/Marguerite Van Cook', 'Joseph E. Stiglitz', 'Louise Bates Ames/Frances L. Ilg/Carol C. Haber/Betty David', 'Todd Davis/Marc Frey', 'Julie Sylvester/David Sylvester', 'Peter Hessler', 'Dan Simmons/Carlos Alberto Gardini', 'Honoré de Balzac/Rayner Heppenstall', 'Erich Auerbach/Ralph Manheim/Michael Dirda', 'Carolyn Keene/Russell H. Tandy/Sara Paretsky', 'Kate Jacobs', 'Jane Austen/Prunella Scales', 'William Hjortsberg/Ridley Scott/James Crumley', 'Heather Jarman', 'James Lamar Roberts/Tennessee Williams/CliffsNotes', 'Raymond E. Feist/Brett Booth', 'Mark Waid/Oscar Jimenez/Humberto Ramos/José Marzán Jr./Wayne Faucher', 'Terri Blackstock', 'Louis Menand', 'Jane Moore', 'Nancy Milford', 'Ernesto Sabato', 'E.M. Forster/Benjamin DeMott/Regina Marler', 'Carolyn Keene/Russell H. Tandy/Mildred Benson', 'James Hilton', 'Paola Nanni-Tate', 'Chuck Palahniuk/Erik Darling/Arthur Morey/Scott Brick/Lorna Raver/Marc Cashman/Kimberly Farr/Renee Randman', 'Thucydides/Steven Lattimore', 'Chris Van Allsburg', 'Nikolai Gogol/Constance Garnett/Leonard J. Kent', 'Stephen King/David Purdham', 'Dashiell Hammett/Lillian Hellman/Jeff Stone', 'George Orwell/Thomas Pynchon', 'Pauline Réage/John Paul Hand', 'Sharon Salzberg/Jon Kabat-Zinn', 'Rumer Godden/Jean Primrose', 'M.J. Trow', \"John             Lewis/Michael D'Orso\", 'Shūsaku Endō/Francis Mathy', 'Geoffrey Chaucer/Jill Mann', 'Mikhail Bakunin/Robert M. Cutler', 'Philip Plait', 'Michael S. Reynolds', 'Helen L. Taylor/John Bunyan', 'Douglas A. Anderson/Frank R. Stockton/Ludwig Tieck/Richard Garnett/H. Rider Haggard/Andrew Lang/William Hope Hodgson/E.A. Wyke-Smith/David  Lindsay/Clemence Housman/George MacDonald/Arthur Machen/A. Merritt/L. Frank Baum/Kenneth Morris/William Morris/James Branch Cabell/Lord Dunsany/Francis Stevens/E.H. Knatchbull-Hugessen/E. Nesbit', 'Jane Austen/James Kinsley/Jane Stabler', 'Hugh Honour', 'Otis Williams/Patricia Romanowski', 'Thomas Hobbes/Edwin M. Curley', 'Naguib Mahfouz/Surgana/Naguib Mahfouz', 'George R.R. Martin/Roy Dotrice', 'Yayoi Ogawa/小川 彌生', 'H.G. Wells/Cynthia Brantley Johnson/Benjamin Beard', 'Bethany Roberts/Doug Cushman', 'Sébastien Japrisot', 'Mike Ashley/Elizabeth Peters/Lynda S. Robinson/Lauren Haney', 'Saul Steinberg/Joel Smith/Charles Simic', 'C.S. Lewis/Miguel Marias', 'Suzanne Farrell/Toni Bentley', 'Andy Hertzfeld/Steve Wozniak', 'Joel Spolsky', 'Pete McCarthy', 'Norman Maclean/Barry Moser', 'Stephen J. Rosen/Steven Pressfield', 'José Saramago/Peter Sís/Margaret Jull Costa', 'Chanrithy Him', 'John \"Red\" Shea/Mark Wahlberg', 'Stephen King/Peter Straub/Bernard Cohen', 'Pierre Boulle/Xan Fielding', 'Isaac Bashevis Singer/Saul Bellow/Allegra Goodman', 'Stephen King/Peter Straub/Pilar Giralt Gorina', 'Kevin Smith/Phil Hester/Ande Parks', 'Kathryn  Hughes', 'Louisa May Alcott/Elaine Showalter', 'Hania Czajkowski', 'John   Barton/Luann Walther', 'Karen Hesse/Wendy Watson', 'William Shakespeare/Barbara A. Mowat/Paul Werstine/Michael Neill', 'J. Maarten Troost', 'Robert E. Howard/Gregory Manchess/Patrice Louinet', 'James Herriot/Ruth Brown/Peter Barrett', 'François Rabelais/M.A. Screech', 'Mistress Lorelei', 'Gale Gand/Julia Moskin/Tim Turner', 'Fred Goodman', 'Dante Alighieri/Allen Mandelbaum/Barry Moser/Gabriel Marruzzo/Laury Magnus', 'Virgil/Rolfe Humphries', 'Fatemeh Keshavarz', \"Lora Leigh/Sherri L. King/Lorie O'Clare/Jaci Burton\", 'Warren Ellis/Stuart Immonen/Wade Von Grawbadger/Dave McCaig', 'Rachel Cohn', 'Jessica Adams/Chris Manby/Fiona Walker', 'Nikolai Gogol/Kevin Hawkes', 'Michael Swanwick', 'Rosamunde Pilcher', 'Monique Truong', 'Barbara Berst Adams', 'William Shakespeare/G. Blakemore Evans/Thomas Moisan', 'Brian Doherty/Frances Hodgson Burnett/Thea Kliros', 'Karen Berman/Joe Knight/John  Case', 'Ken Kesey/Ron Bevirt', 'Noire', 'William Shakespeare/F.H. Mares', 'Mary Higgins Clark/Wendell Minor', 'Sam Shepard', 'The Harvard Lampoon/Henry N. Beard/Douglas C. Kenney', 'Margaret Weiss/Gabrielle Weiss/Lily Trokenberg Hechtman', 'Lady Sarashina/Ivan Morris', 'Constance Ash/Nina Kiriki Hoffman/Patricia A. McKillip/Walter Jon Williams/Debra Doyle/James D. Macdonald/Kara Dalkey/Michael Armstrong/Richard Parks/Sage Walker/Susan Palwick/William F. Wu/Jack McDevitt/Janni Lee Simner/Robert Silverberg', 'Jane Green/Jennifer Coburn/Liz Ireland', 'Nella Larsen/Charles Larson/Marita Golden', 'David Nasaw', \"Peter D'Epiro/Mary Desmond Pinkowish\", 'Luigi Pirandello/Tom Stoppard', 'Javier Cercas', 'Roland Barthes/Matthew    Ward/Richard Howard', 'Hermione Lee', 'Jeffrey Ford/Jacques Guiod', 'Sakurako Gokurakuin/Lindsey Johnston', 'James Herriot/Victor G. Ambrus', 'Burton G. Malkiel/Christopher Flavin', 'Johanna Hurwitz/Michael Dooling', 'Thomas Hardy/Suzanne Keen', 'Aristotle/Richard Peter McKeon/C.D.C. Reeve', 'Shelley Klein/Charles Dickens', 'Charles Dickens/Fred Kaplan', 'Kate McMullan/Janet Allison Brown/R.W. Alley', 'Upasika Kee Nanayon/Thanissaro Bhikkhu', 'Theodore L. Brown/H. Eugene LeMay Jr./Bruce E. Bursten', 'Mark Waid/Scott Peterson/Howard Porter/Dennis Janke/Phil Jimenez/J.H. Williams III/John Stokes/Mick Gray/Dan           Green', 'Jane Austen/James Kinsley/Adela Pinch', 'George Eliot/A.S. Byatt', 'Dr. Seuss/Jennifer Morrish Tunberg/Terence Tunberg/Terence O. Tunberg/Guenevera Tunberg/Terentio Tunberg', 'Henry David Thoreau/Elizabeth Hall Witherell', 'James C. Mitchell', 'Michael Crichton/Anne-Marie Martin', 'John Lawrence Peterson/Jacqueline Rogers/Roberta Carter Clark', 'Nick  Webb', 'Katharine Holabird/Helen Craig', 'Michael Chabon/Glen David Gold/Bill Sienkiewicz/Howard Chaykin/Gene Colan/Steve Lieber/Eric Wight/Kevin  McCarthy', 'Bill Willingham/Bryan Talbot/Lan Medina/Mark Buckingham/Linda Medley/Steve Leialoha/James Jean', 'Ayn Rand/Leonard Peikoff/David Harriman', 'Martha Heineman Pieper/William J. Pieper', 'Selma G. Lanes', 'Haruki Murakami/Ursula Gräfe', 'William C. Carter', 'K.A. Applegate/Katherine Applegate', 'Robin Maxwell', 'Michael Moorcock/Walter Simonson/Mark Reeve/John Ridgway', 'Friedrich Nietzsche/Richard T. Gray', 'Elie Wiesel/Stephen Becker', 'William Rodney Allen', 'Henepola Gunaratana', 'Janet Geringer Woititz/Robert J. Ackerman', 'Henry James/Peter G. Beidler', 'Ernest Hemingway/John Hemingway/Patrick Hemingway/Gregory H. Hemingway/Charles Scribner Jr.', 'Ted Dekker', 'George Gamow', 'Colin  Wells', 'Timothy B. Tyson', 'Doris Kloster/Pauline Réage', 'Tamora Pierce/Trini Alvarado', 'Vincent Lardo/Lawrence Sanders', 'Hermann Broch/Jean Starr Untermeyer', 'Neil Gaiman/Michael Zulli/Jon J. Muth/Charles Vess/Mikal Gilmore', 'F. Scott Fitzgerald/Alexander Scourby', 'Ricardo Semler', 'Mina Loy/Roger L. Conover', 'Ken Knabb', 'Richard Russell Lawrence', 'Hugh    Miller', 'Monica Drake/Chuck Palahniuk', 'Ted Steinberg', 'Marguerite Yourcenar/Grace Frick', 'Tom DeFalco/Peter Sanderson/Michael Teitelbaum/Daniel  Wallace/Tom Brevoort/Andrew Darling', 'Jess Walter', 'Karen Hawkins', 'Lisa Whelchel/Stormie Omartian', 'George R.R. Martin/Victor Milán', 'Broughton Coburn/David Breashears/Tim Cahill', 'Albert Jack/Ann Page', 'Basil Pao/Michael Palin', 'Ashley Gardner', 'Emily Jenkins/Paul O. Zelinsky', 'Helen L. Taylor', 'Mary Kay Andrews', 'Temple Grandin/Catherine  Johnson', 'A.D.P. Briggs/Leo Tolstoy/Fyodor Dostoyevsky', 'Laurence Olivier', 'Robert   Harris/Michael Cumpsty', 'Robin Lane  Fox/Vita Sackville-West/Freda Titford/Ken Kirkwood', 'Patrick Robinson/Sandler/David McCallum', 'Timothy D. Taylor', 'Mercedes Lackey/Roberta Gellis', 'Alvin L. Reid', 'Dave Crane/Eric Pascarello/Darren James', 'Harvey Pekar/Dean Haspiel', 'Ivan Turgenev/Constance Garnett', 'Jimmy Buffett', 'Toni Morrison/Slade Morrison', 'Charles Petzold', 'Maile Meloy', 'William Gaddis/Sven Birkerts/Joseph Tabbi', 'Theocritus/Kenneth James Dover', 'Giuliano Hazan/Marcella Hazan/Dana Gallagher', 'William L. Shirer/Gordon A. Craig', 'Jon Stone/Michael J. Smollin', 'Barbara Coloroso', 'Pamela F. Service', 'Curtis Sittenfeld', 'Vladimir Nabokov/Michael Scammell/Dmitri Nabokov', 'Barbara  Newman/Gill Tomblin/Darcey Bussell', 'H.G. Wells/Edward Mendelson/Patrick Parrinder', 'Aldous Huxley/Huston Smith/Jacqueline Hazard Bridgeman', 'Charlotte Brontë/Michael Mason', 'Steven Nadler', 'Haruki Murakami/Nora Bierich', 'Alan Brennert', 'Thomas Bulfinch/Richard P. Martin', 'Michael J. Nelson', 'Adam Woog', 'Elizabeth Silverthorne/Betty McCollum', 'Ronald B. Flowers', 'Harold Abelson/Gerald Jay Sussman/Julie Sussman', 'David M. Buss', 'Melanie Rawn/Kate Elliott/Jennifer Roberson', 'W. Haden Blackman/Matt Fillbach/Shawn Fillbach/Ronda Pattison/Mike Kennedy/Stewart McKenney/Rick Lacy/Dan Jackson/Michael David Thomas/Joshua Elliott', 'David A. Adler/John Wallner/Alexandra Wallner', 'John Keats/Jeffrey N. Cox', 'Rebecca Coffey', 'George Gamow/Roger Penrose', 'Judith Farr/Louise Carter', 'Mervyn Peake', 'Bill Brittain/Andrew Glass', 'Francine Pascal/Molly Mia Stewart/Ying-Hwa Hu', 'Stephen Hawking/Roger Penrose', 'William Gibson/Bruce Sterling/Jonathan Davis/Dennis Holland/Kevin Pariseau/Victor Bevine/Jay Snyder/Brian Nishil/L.J. Ganser/Oliver Wyman/Eric Michael Summerer/Marc Vietor', 'Emily Brontë/Alice Hoffman', 'Rick Hicks/Kathy Hicks', 'Plato/Walter Hamilton', 'Janet S. Wong/Margaret Chodos-Irvine', 'Wole Soyinka/Simon Gikandi', 'Federico García Lorca/Juan Ramón Jiménez/Robert Bly', 'Carl Zimmer', 'Carol Stock Kranowitz/T.J. Wylie/Trude Turnquist', 'Richard Llewellyn', 'George Eliot/Bert G. Hornback', 'Rosalind Laker', 'John Saul/Joe Blades', 'Albert Camus/Jacqueline Levi-Valensi/Arthur Goldhammer/David Carroll', 'Henry James/Deborah Esch/Jonathan Warren', 'E.M. Forster/Oliver Stallybrass/Pankaj Mishra', 'Betty Jay', 'Thom Hartmann/Joseph Chilton Pearce/Neale Donald Walsch', 'Wisława Szymborska', 'Vikram Chandra', 'Mark Yarnell/Rene Reid Yarnell/Richard  Poe', 'Tania Zamorsky/Frances Hodgson Burnett/Lucy Corvino/Arthur Pober', 'Johanna Hurwitz/Vera Rosenberry', 'P.J. Tracy', 'Horace Walpole/E.F. Bleiler/Walter Scott', 'Michael Ende/J. Maxwell Brownjohn', 'Stendhal/Robert M. Adams', 'Jeffery Hudson/Michael Crichton', 'Peter Doggett', 'Oliver Sacks', 'Tim Cahill', 'D.W. Meinig', 'Donna Dale Carnegie', 'Ernesto Laclau/Chantal Mouffe', 'Sue William Silverman', 'Virgil/Henry Rushton Fairclough/G.P. Goold', 'Robin P. Williams/John Tollett', 'Augustine of Hippo/J.M. Lelen', 'John Harwood Hick', 'Robert L. Geneve', 'Scott Turow/Sarah Shankman/Jay Brandon/Jeremiah Healy/Ed Gorman/John Jakes/Maynard F. Thomson/Lia Matera/Susan Dunlap/Bill Pronzini/John Lutz/Andrew Klavan/Marcia Muller/Stuart M. Kaminsky/Carolyn Wheat/Stan Washburn/Valerie Frankel', 'Susanna Kaysen', 'Pierdomenico Baccalario/Iacopo Bruno/Laura Zuccotti/Leah D. Janeczko/Beth Dunfey', 'Cesare Beccaria/David Young', 'Henri J.M. Nouwen/Michael    Ford', 'Paul       Davidson', 'Mary Higgins Clark/Jan Maxwell', 'James F. Calvert', 'Barbara Hambly', 'Karen A. Bale', 'Leo Tolstoy/Aylmer Maude/Louise Maude/Azar Nafisi', 'Ravi Zacharias', 'Rob Kidd/Jean-Paul Orpinas/Walt Disney Company', 'Charles Dickens/Michael Slater', \"Margaret Weis/Jane Lindskold/Linda Baker/Kathleen M. Massie-Ferch/Cynthia Ward/Lawrence C. Connolly/John Tigges/Kate Novak/Janet Pack/James Reasoner/Livia Reasoner/Nick O'Donohoe/Anne Yvonne Gilbert/Linda Mannheim/Nancy Springer/Gary A. Braunbeck/Jo Clayton/Robyn McGrew/Kevin T. Stein/Felicia Dale/Russell          Davis\", 'Euripides/Paul Roche', 'Alexander Pushkin/Douglas R. Hofstadter', 'Stefan Fatsis', 'Paulo Coelho/Margaret Jull Costa', 'Charles Tandy/Raël/William Faloon/R. Michael Perry/Robin Hanson/Nick Bostrom/Robert A. Freitas Jr./Christopher J. Phoenix/Avatar Polymorph/Jim Yount', 'Chuck Williams/Laurie Wertz/John Phillip Carroll', 'William L. Simon', 'Stanley Weintraub', 'E.E. Cummings/George J. Firmage', 'John Milton/John      Leonard', 'Errol Flynn/Jeffrey Meyers', 'David A. Stewart/Jessalyn Little/Elizabeth     Stewart', 'Cheri Huber', 'Jane Austen/Fiona Stafford', 'Peter Blegvad', 'Keith Herber/Brian M. Sammons/William Dietze/Chaosium Inc.', 'Henry James/Gabriel Brownstein/Mary Cregan', 'Susan    Oliver', 'Anita Diamant/Karen Kushner', \"Francine Segan/Tim Turner/Patrick O'Connell\", 'Sena Jeter Naslund', 'Wilkie Collins/David Skilton', 'Paul DuBois', 'Andrew Cartmel', 'Anton Chekhov/David Plante/Constance Garnett', 'Jess Lourey/J.H. Lourey/Jessica Lourey', 'James C. Collins/Jerry I. Porras', 'Livy/Aubrey de Sélincourt/Betty Radice', 'Maxwell Mackenzie', 'Bill Cosby/Varnette P. Honeywood/Varnette Hon Eywood', 'James    Campbell', 'C.S. Harris', 'Billy Crystal/Dick Schaap', 'Daphne du Maurier', 'H. Rider Haggard', 'Helen Fisher', 'Stephen E. Ambrose/Barrett Whitener', 'Martin Fowler/Kent Beck/Don Roberts/Erich Gamma', 'Edith Wharton/Louis Auchincloss', \"New Scientist/Mick O'Hare\", 'Noam Chomsky/Greg Ruggiero/Marili Margomenou/Miguel Mora/Natalie Levisalles/Il Manifesto/Hartford Courant/David Barsamian/Radio B92/Elise Fried/Peter Kreysler/Gionarle del Popolo/Michael Albert', 'David Neiwert', 'Isak Dinesen/Karen Blixen/Frans Lasson/Anne   Born', 'Bob Woodward/Scott Armstrong', 'Georg Wilhelm Friedrich Hegel/Allen W. Wood/Raymond Geuss', 'Walter Scott/Graham Tulloch', 'Eleanor Dwight', 'Terry Brooks/Rosalie Guillaume', 'Marcel Proust/James Grieve/Christopher Prendergast', 'Stephen King/William Olivier Desmond/Maria Teresa Marenco', 'Elizabeth Gaskell/Angus Easson', 'Ed Roberson', 'Diana Cooper', 'Robert A. Johnson', 'Richard Matheson/Mark Dawidziak', 'Michio Kaku/Daniel Axelrod', 'Sarah Susanka/Kira Obolensky', 'Stephen Oppenheimer', 'Jon M. Gibson/Chuck Klosterman', 'R.C. Sproul', 'Deborah Woodworth', \"Jun'ichirō Tanizaki/Paul McCarthy\", 'Immanuel Kant/John T. Goldthwait', 'Plato/Benjamin Jowett/Pedro De Blas', 'Roald Dahl/Joely Richardson', 'Adrian Guelke/Michael Cox/Fiona Stephen', 'Leonardo da Vinci/Irma A. Richter', 'Tom Hodgkinson', 'Ann Granger', 'Jacqueline Ann/Sheila Z.', 'Alan Moore/David   Lloyd', 'Thomas J. Stanley/William D. Danko', 'Homer/Robert Fitzgerald', 'Carlton Mellick III', 'William  James/Stephen Vicchio', 'Kate DiCamillo/Timothy Basil Ering', 'Bill Nichols', 'William Blake', 'Noam Chomsky/Donaldo Macedo', 'Simone de Beauvoir/H.M. Parshley/Margaret Crosland', 'James Patterson/مریم کاظمی\\u200cتبار', 'Charles Baudelaire/Jonathon Mayne', 'Chieri Uegaki/Stéphane Jorisch', 'Dan Simmons/Joachim Körber', 'Daniel Defoe/Mark Schorer/Georgina Sutton', 'Rumi/A.J. Arberry', 'Charles Willeford/James Lee Burke', 'Octavio Paz/Helen Lane', 'David Horowitz/Richard Poe', 'Harry Graham/Frank J. Moore/D. Streamer', 'Ian King/Lou Schuler/Frederick Deluvier', 'Daniel Pinchbeck/Lee Fukui', 'Paul  Collins', 'Don Webb', 'Augustine of Hippo/Peter R.L. Brown/Frank Sheed', 'Richard B. Primack', 'Valerian Albanov/Jon Krakauer/David  Roberts/Alison Anderson/Валериан Альбанов', 'Kurban Said', 'Hermann Hesse/Joachim Neugroschel/Ralph Freedman', 'Zora Neale Hurston/Carla Kaplan/John Edgar Wideman', 'Hanshan/Red Pine/John Blofeld', 'Billie Letts', 'Marc J.  Seifer/William H. Terbo', 'Esther Perel', 'Juliette Aristides', \"Dinesh D'Souza\", 'Lewis Carroll/John Tenniel/Tan Lin', 'Edward J. Larson/Brian Troxell', 'Raymond Queneau/Barbara Wright/Gilbert Adair', 'Mark Epstein', 'Robin Chapman Stacey', 'Roff Smith', 'Irvine Welsh/Alain Defossé', 'Nadine Cohodas', 'Bob      Smith', 'Horace Walpole', 'Fyodor Dostoyevsky/Jonathan Franzen', 'Miguel de Cervantes Saavedra/John Rutherford', 'Mark Twain/Lin Salamo/Victor Fischer/Michael B. Frank', 'Emily Barr', 'Chiho Saito/Be-Pas', 'Nella Larsen/Carla Kaplan', 'Richard Bonson/Richard Platt', 'Andrea Wilson Nightingale', 'Rick Steves', 'Tacitus/Maurice Hutton/Robert Maxwell Ogilvie/E.H. Warmington/William Peterson/Michael Winterbottom', 'Gary Friedrich/Doug Moench/John Buscema/Mike Ploog/Val Mayerick', 'Andrew M. Greeley', 'Lisa Lowe', 'William Shakespeare/David Scott Kastan', 'Rick Osborne/Kevin Miller', 'Frank Beddor', 'Ray Bradbury/Leo Dillon/Diane Dillon', 'J. Keith Cheetham', 'Frank Kermode', 'Georg Wilhelm Friedrich Hegel/Yirmiyahu Yovel', 'Stephen Clarke', 'Sara Barton-Wood', 'Truddi Chase/Robert A. Phillips', 'Deborah Hopkinson', 'Patricia McHugh', 'Mary Burton', 'Frank Furedi', 'Lisa Unger', 'Paul Robert Magocsi', 'Kate Bornstein/Sara Quin', 'Richard Flanagan', 'Graham Chapman/John Cleese/Terry Gilliam/Eric Idle/Terry Jones/Michael Palin', 'Bruce Feiler', 'Harpo Marx/Rowland Barber', 'Joaquin Miller/Alan Rosenus/Malcolm Margolin', 'Queen Latifah/Frank Morrison', 'Yasunari Kawabata/Alisa Freedman', 'Lisa Gardner/Anna Fields', 'Mercedes Lackey/Rosemary Edghill/Sarah A. Hoyt/Tanya Huff/Fiona Patton/Janni Lee Simner/Mickey Zucker Reichert/Judith Tarr/Larry Dixon/Michael Z. Williamson/Nancy Asire/Richard Lee Byers/Brenda Cooper/Stephanie D. Shaver/Kate Paulk/Michael Longcor/Ben Ohlander', 'Virginia Woolf/Leonard Woolf', 'Marco Polo/Howard Mittelmark/Milton Rugoff', 'Billy Mills/Nicholas Sparks', 'Brian Jacques/Gary Chalk', 'John Helfers/Russell Davis/Tom Clancy/Steve Pieczenik', 'Gaius Julius Caesar/F.P. Long/Cheryl Walker', 'Kenneth Silverman', 'Ralph C. Wood', 'J.M. Barrie/Ken Geist', 'Thomas Hardy/Patricia Ingham', 'Kenneth H. Blanchard/Phil Hodges', 'Robert A.M. Stern/David Fishman/Jacob Tilove', 'James Joyce', 'Doug Stanton', 'James J. Gibson', 'Kate Maurer/F. Scott Fitzgerald/CliffsNotes', 'Wilson Rawls/Rafe Martin/Borden Deal/Kemp P. Battle/Robert Bethke/Harold Courlander/Maya Angelou/Nicholasa Mohr/Dick Perry/John R. Erickson', 'Judy Sierra/Marc Brown', 'Matt Christopher', 'Laurence Yep/David Wiesner', 'Maggie Black/Deirdre Le Faye', 'J.D. Robb', 'The Beatles', 'William Shakespeare/Neil Taylor', 'Marvin Kaye/Michael Swanwick/Orson Scott Card/Mercedes Lackey/Tanith Lee/Elizabeth Moon', 'Gustave Flaubert/Douglas Parmée', 'James Joyce/Jeri Johnson/Thiên Lương', 'Warren Ellis/J.H. Williams III', 'Umberto Eco/Girolamo De Michele/Alastair McEwen/Agnolo di Cosimo Bronzino', 'Charles A. Coulombe', 'Michael J. Lyons', 'Chris Adrian/Nick Flynn/Francine Prose/Josip Novakovich/Moonshine', 'Orson Scott Card/Piotr W. Cholewa', 'Kelly  Carr', 'Laura E. Berk', 'Rebecca  Brown', 'Steven Heller/Louise Fili', 'Mike Mason', 'Adam Gopnik/Omar Rayyan', 'Neil Gaiman/Chris Bachalo/Mark Buckingham/Mark Pennington/Claire Danes', 'Ernest Hemingway/William Hurt', 'Walker Percy', 'Susan Oliver/Harry   Bates', 'Chris   Smith/Christopher  Lee/Richard Taylor', 'Richard   Preston/George Henry Jennings', 'Judith A. Lansdowne', 'James Plath', 'Paul A. Sabatier/Will Focht/Mark Lubell/Zev Trachtenberg/Arnold Vedlitz/Marty Matlock', 'Maxine Hong Kingston', 'S.E. Hinton/Jodi Picoult', 'Lou Marinoff', 'Warren Ellis/Darick Robertson', 'Laura Esquivel/Jordi Castells', 'Elena N. Mahlow', 'Euripides/William Arrowsmith', 'Pablo Neruda/Ferris Cook/Ken Krabbenhoft', 'Michael Teitelbaum/Ron Zalme', 'Astrid Lindgren/Tony Ross', 'Sholom Aleichem/Frances Butwin', 'Paul Burrell', 'Margaret Sanborn', 'Thomas Ryan', 'Lynn Setzer', 'Mark Twain/Guy Cardwell/Louis J. Budd', 'Peter Kent', 'Eric Carle', 'J.R.R. Tolkien/Humphrey Carpenter/Christopher Tolkien', 'Umberto Eco/William Weaver/R.C.S. Libri', 'Elizabeth Russell Miller', 'Jerome K. Jerome/Jeremy Lewis', 'Michaela Muntean/Pascal Lemaître', 'Arthur Conan Doyle/Paul Bachem', 'Katherine Hall Page', 'Rheta Grimsley Johnson', 'Arielle Ford/Deepak Chopra', 'T.A. Barron/David Elliot', 'Iain M. Banks/Irene Bonhorst', 'Nancy L. Mace/Peter V. Rabins', 'Eric Jensen', 'Monica Kulling/Victor Hugo', 'H.G. Bissinger', 'Lyle Saxon/Edward Dreyer/Robert Tallant', 'Donald J. Crump/William R. Gray', 'Charles C. Mann', 'John Cheever', 'Kōbō Abe/Juliet Winters Carpenter', 'Brian Tracy', 'John Banville/John      Lee', 'Michael O. Tunnell/Lloyd Alexander', 'Eric Tyson', 'Harvey P. Mandel/Sander I. Marcus/Loral Dean', 'James Luceno/John Goodson/Robert E. Barnes', 'Victor Hugo/Walter J. Cobb', 'Graham Chapman/John Cleese/Terry Gilliam/Eric Idle/Terry Jones/Michael Palin/Bob McCabe', 'James M. Kouzes', 'Geoffrey M. Bellman', 'Paul Anthony Cartledge', 'Randy Shilts/William Greider', 'Anne Rice/Luis Murillo', 'Peter Ackroyd', 'A.M. Homes', 'Malcolm X/George Breitman', 'Toni Bentley', 'Amy Sedaris/Stephen Colbert/Paul Dinello', 'James Lincoln Collier/Christopher Collier', 'Anna J.', 'Lori Foster/Erin McCarthy/Morgan Leigh', 'J. Ed Komoszewski/Daniel B. Wallace/M. James Sawyer', 'Rachel Carson/Linda Lear/Edward O. Wilson', 'Arthur Conan Doyle/Pam Smy', 'Dean Koontz/Keith Szarabajka', 'W. John Campbell', 'Stephen King/Josh Hamilton', 'Waris Dirie/Corinna Milborn/Sheelagh Alabaster', 'Isaac Asimov/Terry Carr/Martin H. Greenberg/Janet  Fox', 'Chimamanda Ngozi Adichie', 'Philip Johnson/Toshio Nakamura', 'Stephen Gaskin', 'James K. Lowers/CliffsNotes/Voltaire', 'Sei Shōnagon/Ivan Morris', 'John Grisham/Michael Beck/Frank  Muller', 'Judd Winick/Matthew Clark/Art Thibert/Pop Mhan/Ron Randall', 'Huston Smith/Philip Novak', 'Stephen King/Ana Juan/John Cullum/Becky Ann Baker/Íñigo Jáuregui/Peter Gerety/Arliss Howard', 'Weldon Thornton', 'Astrid Lindgren/Blanca Ríos/Richard Kennedy', 'Voltaire/Larousse', 'Ronald J. Faust/Roy F. Cucchiara/Denise J. Wedel/C. Thomas Wass/Stephen H. Rose/Thomas N. Spackman', 'Herman Melville/Carl F. Hovde', 'Harlan Coben/Martine Leconte', 'Bill Willingham/Mark Buckingham/Steve Leialoha/Jim Fern/Jimmy Palmiotti/Andrew Pepoy', 'Arthur Schopenhauer/Thomas Bailey Saunders', 'Raymond Queneau', 'Edmund Spenser', 'Michelle Lovric/Lisa Pentreath', 'Gavin Menzies', 'Robert J. Ray/Bret Norris', 'Primo Levi/Stuart J. Woolf', 'Elizabeth Kostova', 'Stephen P. Maran', 'Douglas Adams/John Lloyd', 'CLAMP/Anthony Gerard', 'Georg Feuerstein/Roger Walsh', 'Andrew Weil', 'D. Medina Lasansky', 'Georges Simenon/Eileen Ellenbogen', 'Kenneth H. Blanchard/Jesse Stoner', 'Denis Diderot/Charles Coulston Gillispie', 'Scott   Cunningham/Peter Kuper/Seth Tobocman/Sabrina Jones', 'Plato/Edith Hamilton/Huntington Cairns', 'Anthony Mcreavy', 'Hiromu Arakawa/Akira Watanabe/Eric Searleman', 'Michel de Montaigne/J.M. Cohen', 'Vladimir Nabokov/David Lodge', 'Milan Kundera/Michael Henry Heim', 'B.K. Beckwith/Howard Brodie/Grantland Rice', 'Hermann Hesse/Richard Winston/Clara Winston/Theodore Ziolkowski', 'Yehuda Koren/Eilat Negev', 'Laura Ingalls Wilder/Renée Graef/Jody Wheeler', 'John    Mason', 'Ray Monk', 'Yann Martel/Nicole Martel/Emile Martel', 'Pansy/Isabella MacDonald Alden', 'Neal Barrett Jr./Martha Banta', 'Lynda La Plante', 'Juliette De Bairacli Levy/Heather  Wood', 'Fyodor Dostoyevsky/Leonard Stanton/James D. Hardy Jr./Sidney Monas/Robin Feuer Miller', 'Terry Lee Rioux', 'Allen Ginsberg/William Carlos Williams', 'Will Kymlicka', 'Rebecca  Wood/Paul Pitchford', 'Luigi Pirandello/Stanley Appelbaum', 'Raymond Carver/Robert Altman', 'Mark Twain/Susan K. Harris', 'Margaret Weis/Don Perrin', 'Lora Leigh', 'Sandra Hack Polaski', 'Phoebe Dunn', 'Dobrica Erić', 'Thomas Bernhard/Michael Hofmann', 'Jane Medwell/David Wray', 'Wilma Davidson/Jack   Dougherty', 'Katherine Paterson/Donna Diamond', 'James Joyce/Frank McCourt/Donal Donnelly/Ciaran Hinds/Colm Meaney/Malachy McCourt', 'George Stalk Jr./Rob Lachenauer/Robert Lachenauer/John  Butman', 'John Grisham/Michael Beck/Blair Brown/D.W. Moffett', 'Bob Tarte', 'Yann Martel/Bianca Southwood', 'Aristophanes/B.B. Rogers', 'Miguel de Cervantes Saavedra/Edith Grossman/Harold Bloom', 'Abraham Lincoln/Bob Blaisdell', 'Paul Glovinsky/Art Spielman', 'Greg Keyes/J. Gregory Keyes', 'Kahlil Gibran/جبران خليل جبران/Anthony Rizcallah Ferris', 'Anne Easter Smith', 'Ron Marz/Jeremy Barlow/Brandon Badeaux', 'Mike  Rowe/Ronald Radano', 'Herodotus/Edward Henry Blakeney/George Rawlinson/Rosalind Thomas', 'Anne Rice/Roberta Rambelli', 'Amartya Sen/Λία Βουτσοπούλου', 'Snorri Sturluson/Jesse L. Byock', 'Margaret Bertha Synge', 'Emerson Eggerichs', 'Donald T. Phillips', 'Howard Chaykin/David Tischman/J.H. Williams III/Mick Gray/Lee Loughridge', \"John D'Emilio\", 'Tom Kelley/Jonathan Littman/Tom Peters', 'Epictetus/William A. Oldfather', 'Mikhail Tal/Iakov Damsky/Kenneth P. Neat', 'Amos Oz/Nicholas de Lange', 'Eric B. Martin/George R. Stewart/Peter Matthiessen/Robert W. Service/Judith M. Brueske/Anthony Boucher/Tobias Wolff/John Long/Frank Norris/Beryl Bainbridge/Greg Child/Marc Reisner/Haruki Murakami/Jack London/Edgar Allan Poe/Paul Bowles/Larry Kanuit', 'Sherrilyn Kenyon/Jaid Black/Kresley Cole', 'Jean Van Leeuwen/James Watling/R.W. Alley', 'Terry Pratchett/Melvyn Grant', 'Peter     Brown/Steven Gaines/Anthony DeCurtis', 'James Luceno/Kerrie Dougherty/Simon Beecroft/Kristin Lund/Hans Jenssen/Richard Chasemore', 'Trevanian/Gisela Stege', 'Isabel Allende/Robert Shekter/Panchita Llona', 'Mark Twain/Henry B. Wonham', 'John Milton/John T. Shawcross', 'Laurence Sterne/Robert Folkenflik', 'Jennifer Frantz/E.B. White/Aleksey Ivanov/Olga Ivanov', 'John Steinbeck/Susan Shillinglaw', 'Euripides/David Grene/Richmond Lattimore', 'Gregory Maguire/Douglas Smith/Jelena Bojić', 'Barbara Fairchild', 'William Beebe', 'Sinclair Lewis/Richard R. Lingeman', 'Stephen Mulhall', 'Steve Kenson/Ramón Pérez', 'Mark Nesbitt', 'Timothy S. Murphy/Abdul-Karim Mustapha', 'Nicholas    Evans/Rhonda  Evans', \"Albert Camus/Philip Thody/Justin O'Brien\", 'Steve Krug', 'Jacob Grimm/Wilhelm Grimm/Jack D. Zipes/Johnny Gruelle', 'D.H. Lawrence/Christa Jansohn', 'Dan Millman/Robert D. San Souci/T. Taylor Bruce', 'Edgar Allan Poe/Gary Richard Thompson', 'Leon Sciaky/Peter Sciaky', 'Miguel de Cervantes Saavedra/Stanley Appelbaum', 'Graham Greene/John Clark Pratt', 'Michelle Feynman', 'Victor Davis Hanson', 'Saul Williams', 'Rachel Field/Dorothy P. Lathrop', 'Sam Shepard/Richard Gilman', 'Delia Sherman/Cortney Skinner/Ellen Kushner', 'Overeaters Anonymous', 'Alexandra Robbins', 'Christopher Stasheff/William R. Forstchen/Nick DiChario/S.N. Lewitt/Bill Fawcett/Mike Resnick/Mickey Zucker Reichert/S.M. Stirling/Diane Duane/Jody Lynn Nye/Roland J. Green/Teresa Patterson/Judith R. Conly', 'Barrie Trinkle/Paige Kimble/Carolyn  Andrews', 'Margo Daly/David Leffman/Anne Dehne/Chris   Scott', 'Marcy Kelman/Nadeem Zaidi/Andy Mastrocinque', 'John Kennedy Toole/Walker Percy', 'Joseph Gallagher', 'Jane Austen/Pat Rogers', 'Amy L. Marsland', 'Susan  Jeffers', 'George Eliot/Carol T. Christ', 'John Lindow', 'Shel Silverstein/Daniela Gamba', 'Michael Ende/Heike Schwarzbauer/Rick Takvorian/Regina Kehn/Regina Jehn', 'Doris Lessing', 'Michael Rabiger', 'Mark Twain/George Saunders', 'Leo Tolstoy/David Magarshack/Priscilla Meyer', 'James Preller/John Speirs/R.W. Alley', 'Wesley Martin/Frankie Frankeny', 'Laurent de Brunhoff', 'Xavier de C./Xavier de C./Joseph Rowe', 'J.R.R. Tolkien/Brian Sibley/Michael Bakewell/Stephen  Oliver/Ian Holm/Michael Hordern/Robert Stephens/John Le Mesurier/Peter Woodthorpe/Gerard  Murphy/Hugh Dickson/Peter Vaughan/Peter Howell', 'Sherry Shahan', 'Lynne Rae Perkins', 'Sandra Balzo', 'Christopher Buckley', 'Peter Walsh', 'Allan Janik/Stephen Toulmin', 'Leonard Woolf', 'Ursula Ferrigno/Jason Lowe/Maxine  Clark', 'Marie McSwigan/Mary Reardon', 'Neil Gaiman/Andy Kubert/Richard Isanove/Peter Sanderson/Todd Klein', 'Anne Morrow Lindbergh', 'Catherine Osborne', 'Thomas E. Woods Jr.', 'Tobias Churton', 'Euripides/David Grene/Richmond Lattimore/William Arrowsmith/John Frederick Nims/Ronald Frederick Willetts', 'Yunus A. Cengel', 'James C.    Simmons/Marie Rudisill', 'Maureen Kelly/CliffsNotes/William Golding', 'Myla Goldberg', 'Kate Walker', 'Voltaire/David Wootton', 'Andy Griffiths/Terry Denton', 'Raymond T. McNally', 'Thomas Hardy/Samuel Hynes', 'Augustine of Hippo/Vernon J. Bourke', 'L.M. Montgomery/Clare Sieffert', 'Wisława Szymborska/Magnus J. Kruyski', 'Masaki Yamada/Yuji Oniki/Carl Gustav Horn/Daigo Shinma/Keita Saeki/Mamoru Oshii/Shinji Maki', 'Abigail Adams/Frank Shuffelton', 'Helen  Cooper', 'Michka Assayas', 'Rodman Philbrick', 'Irvin D. Yalom/Molyn Leszcz', 'John Brunner/James John Bell/David Brin', 'Suzette Haden Elgin', 'Kym Douglas/Cindy Pearlman', 'Jackie French Koller/Rebecca Guay', 'Edward Countryman', 'Josef Pieper/Richard Winston/Clara Winston', 'Frances Stonor Saunders', 'Oscar Wilde/Jeffrey Eugenides', 'Lavigne', 'Larry Burkett', 'Mitchel Resnick', 'Greg Behrendt/Liz Tuccillo', \"Cecelia Ahern/Patricia Scanlan/Gemma O'Connor/Sarah Webb/Maeve Binchy/Marian Keyes/Morag Prunty/Cathy Kelly/Colette Caddle/Marita Conlon-McKenna/Martina Devlin/Clare Dowling/Catherine Foley/Aine Greaney/Suzanne Higgins/Rosaleen Linehan/Joan O'Neill/Julie Parsons/Deirdre Purcell/Martina Reilly/Mary Ryan/Annie Sparrow/Una Brankin\", 'Dave Eggers/Michelle Herpe-Volinsky', 'John J. Nance', 'E.B. White/Guillermo Solana/Garth Williams', 'Dani Cavallaro', 'Gretchen Moran Laskas', 'Kyoko Hikawa', 'David Allen Sibley', 'Edward T. Welch', 'Laura Ingalls Wilder/Renée Graef/Heather Henson', 'John Maynard Smith/Eörs Szathmáry', 'Harlow Giles Unger', 'Stephen Cox/Butch Patrick/Yvonne DeCarlo', 'William Shakespeare/Samuel West/Amanda Root/Arkangel Cast', 'Susanna Tamaro/John T. Cullen', 'Robert M. Pirsig/Dan Glover', 'Christopher Golden', 'Kathleen Olmstead/Jack London/Dan Andreasen/Arthur Pober', 'Jean Shepherd', \"Andreas J. Köstenberger/Peter T. O'Brien\", 'Yefim Gordon/Peter Davison', 'Daniel Defoe/Avi', 'Angus Gellatly/Oscar Zárate/Richard Appignanesi', 'Honoré de Balzac/Herbert J. Hunt', 'Kay Arthur', 'Bill Willingham/David Hahn/Mark Buckingham/Lan Medina/Steve Leialoha', 'Carla Lynn Stockton', 'Tobias Wolff/Luann Walther', 'James Preller/Jamie  Smith', 'Chris Rowthorn/Ray Bartlett/Justin Ellis', 'Yvon Chouinard', 'Bill Hybels/Mark Mittelberg', 'J. Anthony Lukas', 'Henning Mankell/Steven T. Murray', 'Gavin Baddeley', 'Kahlil Gibran/جبران خليل جبران/Jihad El', 'Margery Clark/Maud Petersham/Miska Petersham', 'Kip S. Thorne/Stephen Hawking/Frederick Seitz', 'Jack Meadows', 'Jonathan Kozol', 'Jeffrey Alford/Naomi Duguid', 'Donald D. Stull/Michael J. Broadway/Eric Schlosser', 'Michael T. Goodrich/Roberto Tamassia', 'Chris Prentiss', 'Maureen Child', 'Arthur Yorinks/Raymond Jafelice', 'Tom Arnett/Dick Stivers/Don Pendleton', 'Jane Heller', 'Jeffrey Ford/Jonathan Carroll', 'Sam Kauffmann', 'Thomas Hardy/Rosemarie Morgan/Shannon Russell', \"Eugene O'Neill/Luann Walther\", 'Ed Gorman/Bill Pronzini', 'Caroline Preston', 'H.P. Lovecraft/Joyce Carol Oates', 'Ken Follett/David Tennant', 'Laurel Thatcher Ulrich', 'Alastair Lamb', 'Luanne Rice', 'George Bernard Shaw/Dan H. Laurence/Imogen Stubbs', 'Jamie Oliver/David Loftus/Chris Terry', 'Kristian Fraga', 'Herman Melville/Warner Berthoff', 'Richard Ellmann', 'Nir Hefez/Gadi Bloom/Mitch Ginsburg', 'Aidan Hartley', 'Gregory Maguire/Mechtild Sandberg-Ciletti', 'Janet Wallach', 'David L. Hull/Michael Ruse', 'E.V. Gordon/A.R. Taylor', 'Richard Wright/Arnold Rampersad', 'Cory Doctorow/Bruce Sterling', 'Albert Marrin/C.B. Mordan', 'Lauren Willig', 'Witold Gombrowicz/Alastair Hamilton/Eric Mosbacher', 'Richard B. Alley', 'Janna Levin', 'Christopher Marlowe/Eric Rasmussen/David Bevington', 'Dean Koontz/Stephen Lang', 'Stephen Hawking/Leonard Mlodinow/David Jou i Mirabent', 'Tony Hawks', 'Jeanne Treat/Jane Starr Weils', 'Darcy Frey', 'John G. Fuller', 'Harold Coyle', 'Ian Whybrow/Deborah Allwright', 'E.B. White/Garth Williams/Kate DiCamillo', 'Nick Rennison', 'E.L. Doctorow/Sam Waterston', 'Frederick C. Beiser', 'Lois Lowry/True Kelley', 'John  Miller/Stuart Dybek', 'Milan Kundera/Aaron Asher', 'David McClung/Peter Schaerer', 'Herman Melville/Robert Penn Warren', 'Rene Gutteridge', 'Anderson Cooper', 'Thomas Hardy/Suzanne B. Falck-Yi/Linda M. Shires', 'Julie Andrews Edwards/Johanna Westerman', 'Christopher Marlowe', 'Roald Dahl/David Wood', 'Margaret A. Weitekamp', 'Sherrilyn Kenyon/L.A. Banks/Susan Squires/Ronda Thompson', 'John Harold Haynes', 'Terry Moore', 'John Piper/Justin Taylor/Mark Talbot/David A. Powlison/Steve Saint/Dustin Shramek/Carl Ellis', 'William Shakespeare/Charles R. Forker', 'Rudolfo Anaya', \"John      O'Brien/David Andrews/John Beer/Robert L. McLaughlin/Joy Castro\", 'Jack Finney', 'F.F. Bruce/Philip W. Comfort/Carl F.H. Henry/J.I. Packer', 'John     Kay/John Einarson', 'C.S. Lewis/Michael Hague', 'Aristotle/Joe Sachs', 'David Bodanis/Ralph L. Fowler', 'Walt Disney Company', 'Salman Rushdie/Richard Maltby/Melvyn Bragg', 'Albert Einstein/Brian Greene', 'Pearl Cleage', 'Vladimir Nabokov/Michael Scammell', 'Susan Forward/Joan Torres', 'Charles Darwin/Julian Huxley', 'Theodore Sturgeon/Paul Williams/Kurt Vonnegut Jr.', 'George Orwell/Boris Grabnar/Peter Škerl', 'Efrem Smith/Phil   Jackson', 'Robert Frost/Edward Connery Lathem', 'Jay Parini/August Wilson', 'Ann Hewetson', 'Judith Viorst/Laura Gibson', 'Maxine Swann', 'Theo LeSieg/Dr. Seuss/Roy McKie', 'James M. Kouzes/Barry Z. Posner', 'Ludwig Wittgenstein/G.E.M. Anscombe/George Henrik von Wright', 'Carlos A. Schwantes', 'Richard V. Greene/K. Silem Mohammad', 'Virgil/Robert Fagles/Bernard Knox', 'Ruth Prawer Jhabvala', 'George Grant', 'Terry Brooks/George Lucas', 'Matthew Bortolin', 'Amy Goldman Koss', 'Herodotus/Henry Francis Cary', 'Martine Agassi/Marieka Heinlen', 'David Dalton', 'Kurban Said/Jenia Graman', 'Robert Kanigher/Joe Kubert/Russ Heath/Mark Chiarello/Jerry Grandinetti/Irv Novack', 'Kahlil Gibran/جبران خليل جبران/H.M. Nahmad/Robert Hillyer', 'Georges Simenon/Marc Romano/William T. Vollmann', 'Malcolm Barber', 'Georg Wilhelm Friedrich Hegel/A.V. Miller/John Niemeyer Findlay', 'Frederik Pohl/Lester del Rey/Damon Knight/A.E. van Vogt/Jack Vance', 'V.C. Andrews/Jesús Pardo', 'David J. Danelo/Steven Pressfield', 'Georges Simenon/P.D. James/Geoffrey Sainsbury/David Watson', 'Reynolds Price/Mary Bess Engel', 'Stanley Wiater/Christopher Golden/Hank Wagner', 'Jakob Nielsen/Hoa Loranger', 'Nancy Osa', 'Charles Dickens/Patricia Ingham/Hablot Knight Browne', 'Winston S. Churchill/John Keegan', 'Iris Murdoch/Karen Armstrong', 'Robert Penn Warren/John Burt/Harold Bloom', 'Viktor E. Frankl/Ilse Lasch/Harold S. Kushner/William J. Winslade', 'Luis Sepúlveda/Chris Andrews', 'Antonio Negri/Matteo Mandarini', 'H.G. Wells/Ursula K. Le Guin', 'Esther Schor', 'Laura  Jordan/Sandra Brown/Camino Estañ Requeni', 'Rebecca Hagan Lee', 'William Stacy Johnson', 'Richard Buxton', 'Mark Hoppus/Anne Hoppus/Alex Gaskarth', 'Jane Austen/Carol Shields', 'Anna Deavere Smith', 'Doyle Brunson/Mike Caro/David  Reese/Joey Hawthorne/David Sklansky/Bobby Baldwin', 'William Allan', 'Rudyard Kipling/Pankaj Mishra', 'Rudyard Kipling/Christopher Corr', 'Stephen King/María Eugenia Ciocchini Suárez', 'Richard Shenkman', 'Terry Pratchett/Stephen Briggs/Tina Hannan/Paul Kidby', 'Cole Porter/Robert Kimball/John Updike', 'Anton Chekhov/Jack Coulehan/Robert Coles', 'Jeremy D. Zawodny/Derek J. Balling', 'David Gerrold', 'Henry James/Myra Jehlen', 'Keri Hulme', 'Robert Cullen', 'Richard D. Nelson', 'Reza Aslan', 'Pat Barker', 'Nick Hornby/Sarah Vowell/Jess Walter/Jennie Erdal/Joshua Ferris', 'Truman Capote/Scott Brick', 'Micol Ostow', 'Bruce Catton/E.B. Long', 'Marilyn Sadler/Roger Bollen', 'George Saunders/Lane Smith', 'Georgina Grey', 'Philip K. Dick/David Alabort/Manuel Espín', 'Gregory Maguire/Diana Bryan', 'Rachel Cohn/David Levithan', 'Chuck Palahniuk/Freddy Michalski', 'Harold Bloom/Harper Lee', 'James Patterson/Michael Garland', 'Dorothea Shefer-Vanson/CliffsNotes/Anne Frank', 'Charles J. Sykes', 'John D. Cox/David Scott Kastan/Stephen Greenblatt', 'Edgar Rice Burroughs/Thomas Floyd/F. Paul Wilson/Phillip R. Burger', 'Andre Dubus III/Fontaine Dollas Dubus', 'William Shakespeare/Michael Sheen/Kate Beckinsale/Fiona  Shaw/Norman Rodway', 'Jane E. Gerver/Bill Dodge/Charlotte Brontë', 'Louise Borden/Allan Drummond', 'George Gladir/John L. Goldwater/Steve Geppi/Michael I. Silberkleit', 'Alice Medrich/Patricia Brabant', 'Warren Murphy/Richard Sapir/James Mullaney', 'Mark Waid/Alex Ross/Elliot S. Maggin', 'Gary Chapman', 'Franz Kafka/Nahum N. Glatzer/John Updike', 'Allegra Goodman', 'Wendy Markham', 'L.A. Banks/J.M. Jeffries/Seressie Glass/Natalie Dunbar', 'Stephanie Barron', 'Arnon Grunberg/Sam Garrett', 'Ashley Shannon', 'Elizabeth Hoyt', 'Kyoko Hikawa/Trina Robbins/Yuko Sawada/Walden Wong', 'Jane Robins', \"Stewart O'Nan/Stephen King\", 'Søren Kierkegaard/Victor Eremita/Alastair Hannay', 'Hugh Bicheno/Richard   Holmes', \"Dave Eggers/A.G. Pasquella/Brent Hoff/Stephen Elliott/Daphne Beal/Denis Johnson/Tom Bissell/Sean Warren/Samantha Hunt/Robert Olmstead/T. Coraghessan Boyle/David Means/Doug Dorst/Joyce Carol Oates/McSweeney's Publishing\", 'Frank Wedekind/Eric Bentley', 'Makoto Inoue/Hiromu Arakawa/Alexander O. Smith/Rich Amtower', 'Shayla Black/Shelley Bradley', 'Randall Hyde', 'F. Scott Fitzgerald/Matthew J. Bruccoli/Judith S. Baughman', 'Tom D. Crouch', 'Christopher Pike', 'Edward W. Said/إدوارد سعيد', 'Eckhart Tolle', 'Marcel Proust/James Grieve', 'David A. Ufer/Kirsten Carlson', 'E.M. Forster/Benjamin DeMott', 'Laura Ingalls Wilder', 'Spencer Johnson/Kenneth H. Blanchard', 'Peter Watson', 'Chris  Williams/Sandy Petersen', 'Suki Kim', 'George Sullivan', 'Marjane Satrapi', 'Noam Chomsky/C.P. Otero', 'Luigi Pirandello/William Weaver/Charles Simic', 'Edwin Page', 'Henri J.M. Nouwen/Sue Monk Kidd', 'Richard Slotkin', 'Mavis Applewater', 'McDougal Littell/Douglas W. Carnine', 'Julia Golding', 'Alden T. Vaughan', 'Marcella Hazan/Karin Kretschmann', 'V.C. Andrews/Michael Görden', 'Lao Tzu/Ursula K. Le Guin/J.P. Seaton', 'Gene Wilder', 'Noam Chomsky/David Barsamian/Arthur Naiman', 'Robert Frost/Richard Poirier/Mark   Richardson', 'Barton Zwiebach', 'Philip K. Howard', 'F. Scott Fitzgerald/Arnold Gingrich', 'Anthony Shadid', 'Noam Chomsky/Michel Foucault/John Rajchman', 'Steve Hamilton', 'Tim Dowley/Roger Langton', 'Jorge Luis Borges/Călin-Andrei Mihăilescu', 'Martin Heidegger/Kenneth Maly/Parvis Emad', 'Anonymous/Alfred Huang', 'Saul A. Kripke', 'Robert A. Harris/Michael S. Lasky', 'Kate Mosse/Claudia Conde', 'Mary Gaitskill', 'Peter A. Lillback/Jerry Newcombe', 'Bill Willingham/Esao Andrews/John Bolton/Mark Buckingham/James Jean/Derek Kirk Kim/Tara  McPherson/Jill Thompson/Mark Wheatley/Michael Wm. Kaluta/Charles Vess/Brian Bolland', 'Tony DiTerlizzi/Holly Black', 'Stephen R. Swinburne/Jim Brandenburg', 'Iain Banks', 'Daniel Goleman/Warren Bennis', 'Graham Greene/Pico Iyer', 'Elie Wiesel/Marion Wiesel', 'Bruce Patton/Douglas Stone/Sheila Heen', 'Laura Godwin/John Wallace', \"Raeleen D'Agostino Mautner\", 'Markus Zusak/Stig Wemyss', 'P.G. Wodehouse/Tony Ring/Barry Day', 'Emmanuel Le Roy Ladurie/Emmanuel Le Roy-Ladurie', 'Colin Duriez', 'Fuyumi Ono/小野 不由美/Akihiro Yamada/山田 章博/Elye J. Alexander/Alexander O. Smith', 'Orhan Pamuk/Maureen Freely/عین له غریب', 'Library Company of Philadelphia', 'Oscar Wilde/Elizabeth  Gray', 'Mark Twain/Paul Baender/Dahlia Armon/Walter Blair', 'John Gardner', 'Stephen King/ZBS Foundation', 'Evangeline Walton', 'Pat Williams/Peggy Matthews Rose', 'Edgar Allan Poe/Gary Richard Thompson/G.R. Thompson/Patrick F. Quinn', 'Italo Calvino/William Weaver/Peter Washington', 'Willa Cather/Alyssa  Harad', 'John Lewis Gaddis', 'Edith Wharton/Cynthia Griffin Wolff', 'Lynn Willis/Brian M. Sammons/Adam Gauntlett/William Dietze/Greg Henrikson/Charles P. Zaglanis/J. Gordon Olmstead-Dean/M.J. Lempert/James Crowder', 'Sandy Petersen', 'Laura Ingalls Wilder/Roger Lea MacBride/Margot Patterson Doss', 'Dale Peterson', 'James T. Patterson', 'William Makepeace Thackeray/Nicholas Dames', 'H.P. Lovecraft/E. Hoffmann Price/Neil Gaiman', 'Joseph Vargo/Christine Filipak/Eric Muss-Barnes/Jalone J. Haessig/Joseph Iorillo/Robert Michaels/Russell Novotny/James Pipik', 'Jorge Luis Borges/Suzanne Jill Levine/Esther Allen/Eliot Weinberger', 'Marilyn Manson/Neil Strauss/Gilles Vaugeois', 'Quentin W. Fleming/Joel M. Koppelman', 'Kate DiCamillo/Bagram Ibatoulline', 'John E. Upledger', 'Diana Gabaldon/Janos Farkas', 'David Colbert', 'Kate Pennington', 'Ian Thomson', 'Andreas Gursky/Peter Galassi', 'Terry Jones/Alan Ereira', 'Henry Miller/Thomas H. Moore', \"Cook's Illustrated Magazine/John  Burgoyne\", 'Alexandre Dumas/Lorenzo Carcaterra', 'Alan Cohen', 'Elizabeth Lowell/Ann Maxwell', 'Margaret Weis/Ursula K. Le Guin/Roger Zelazny/Christopher Stasheff/Mercedes Lackey/Ray Bradbury/Andre Norton/Jack Vance/Raymond E. Feist/C.J. Cherryh/Fritz Leiber/Melanie Rawn/Marion Zimmer Bradley/Larry Niven/Zenna Henderson/Greg Bear/Orson Scott Card/Katherine Kurtz/Joe Haldeman/Robert Silverberg/F. Paul Wilson/Keith Birdsong', 'Victor Hugo/Charles E. Wilbour', 'Robert E. Howard/Gary Gianni/Patrice Louinet', 'J.D. Salinger/Eike Schönfeld', 'Michela Wrong', 'Elisabeth Elliot', 'Yasunari Kawabata/Lane Dunlop/J. Martin Holman', 'Isabel Allende/Margaret Sayers Peden/محمدعلی مهمان\\u200cنوازان', 'Cara Black', 'P.D. James/Christa Seibicke', 'Iain Levison', 'Neil Gaiman/Chris Bachalo/Mark Buckingham/Tori Amos', \"Jun'ichirō Tanizaki\", 'Marvin N. Olasky/John R. Perry', 'Ryōkan/John   Stevens', 'Jim Supica/Richard Nahas', 'Steven C. Hayes/Spencer  Smith', 'Jenny Hendy', 'Arien Mack/Irvin Rock', 'Bill Pittman/Todd W. Hall/Sara S./Todd W.', 'Arthur Edward Waite', 'Kevin Brockmeier', 'Malvina G. Vogel/Alexandre Dumas', 'Fiona McAuslan/Matthew  Norman', 'Abraham Lincoln/Michael McCurdy', 'E.B. Potter', 'Jorge Luis Borges/James E. Irby/Donald A. Yates/André Maurois', 'Hesiod/Daryl Hine', 'Pedro Calderón de la Barca', 'G.E. Bentley Jr.', 'Karl Barth/Emil Brunner/Peter Fraenkel', 'Maria Antonia Garcés', 'Denis Diderot/David Coward', 'Plato/Hugh Tredennick/Harold Tarrant', 'Paulo Coelho/Alan R. Clarke/James Noel Smith', 'Roger Ebert/David Bordwell', 'J.E. Bright', 'Isabel Allende/Richard D. Woods/Kenneth M. Taggart', 'Kate Chopin/Cynthia Brantley Johnson/Alyssa  Harad', 'Brian Hall', 'Charles Dickens/Simon Schama', 'Susan Ring/Kelly Preston/Katie Nix', 'Sinclair Lewis/Brooke Allen', 'Owen    Jones', 'Nella Larsen', 'Paul Yee', 'Arthur J. Roth', 'Carol Lee', 'Georg Wilhelm Friedrich Hegel/Robert S. Hartman', 'Amy Sohn/Sarah Jessica Parker', 'Nicholas Evans', 'Eleanor Clymer/Ursula Koering', 'O. Henry/Bennett Cerf/Van H. Cartmell', 'William Easterly', 'Pablo Neruda/W.S. Merwin/Cristina García', 'Steven F. Hayward', 'Mark Twain/Michael J. Kiskis', 'Louisa May Alcott/Jessie Willcox Smith/Frank T. Merrill', 'Marcel Proust/Christopher Prendergast/John Sturrock', 'Ovid/Peter Green', 'Robert B. Parker/Burt Reynolds', 'Frances Burney/Edward A. Bloom', 'Ellen Weiss/Betina Ogden', 'J.W. Rinzler/Peter  Jackson', 'Thomas Pynchon/Carlos Martín Ramírez', 'Mark Twain/Richard P. Wasowski', 'Denis Waitley', 'Oscar Wilde/Hesketh Pearson', 'James Lamar Roberts/Fyodor Dostoyevsky/CliffsNotes', 'Friedrich Dürrenmatt/John J. Neumaier/William Gillis', 'John Helfers/Esther M. Friesner/Nina Kiriki Hoffman/Bruce Holland Rogers/Peter Crowther/R. Davis/Charles de Lint/Elizabeth Ann Scarborough/Michelle Sagara West/Nancy Springer/Dean Wesley Smith/Kristine Kathryn Rusch/Josepha Sherman/Jane Lindskold/Genevieve Gorman/Kristin Schwengel/Jean-François Podevin/Zane Stillings/Carol Rondou', 'Zadie Smith/David Mitchell/George Saunders/Colm Tóibín/Aleksandar Hemon/Nick Hornby/Hari Kunzru/Toby Litt/Chris Ware', 'Ha Jin/季思聰', 'Luigi Pirandello/Robert Rietty/Julian Mitchell/John Linstrum', 'Thornton W. Burgess/Thea Kliros/Harrison Cady', 'Peter Moon/Preston B. Nichols/Nina Helms', 'Richard K. Morgan', 'Lois N. Magner/Magner', 'Confucius/Edward Slingerland', 'Roberta Grobel Intrater', 'Ruth Krauss/Mary Blair', 'Joe  Miller', 'Joyce Carol Oates/Claude Seban', 'Elie Wiesel/Anne Borchardt', 'Norman Kolpas/Allan Rosenberg/Chuck Williams/Laurie Wertz', 'Lyn Macdonald', 'Monty Roberts/Lucy Grealy/Lawrence Scanlan', 'Roger Ebert/Ray Ebert', 'Robert B. Baer', 'David Burnie/Don E. Wilson', 'Edward Lear/Laura Huliska-Beith/Edward Mendelson', 'Roger Lancelyn Green/Alan Langford', 'Carol Drinkwater', 'Jean Stone', 'Friedrich Nietzsche/Francis Golffing', 'Miguel de Cervantes Saavedra/Lesley Lipson', 'Rebecca West/Christopher Hitchens', 'Mike Carey/Glenn Fabry/Neil Gaiman', 'Richard Bach/H. Lee Shapiro/دل آرا قهرمان', 'Robin Norwood', 'John Tosh/Sean Lang', 'Antony Johnston/Christopher Mitten', 'Alex C. Jones/Diane M. Hanson/Stephen K. Ray', 'Robert Templer', 'Kei Kusunoki/Kaoru Ohashi', 'Ernest Hemingway/Edward Shenton', 'Loung Ung', 'Charles Rembar', 'Satyajit Das', 'John S.D. Eisenhower/Joanne Thompson Eisenhower', 'Ray Bradbury/Ian  Miller', 'Homer Hickam', 'Joe Haldeman/Connie Willis', 'Simone de Beauvoir/Bernard Frechtman', \"Joseph O'Connor/Diethard Herles/Pauline McLynn/Gerard Stembridge/Frank McCourt/Conor McPherson/Gene Kerrigan/Gina Moxley/Marian Keyes/Anthony Cronin/Owen O'Neill/Hugo Hamilton/Charlie O'Neill/Tom Humphries/Donal O'Kelly\", 'Robert L. Wolke/Marlene Parrish', 'Heidi Betts', 'John Updike/Edward Gorey', 'Jeanne Sallade Criswell/Gary Carey', 'Anonymous/Jonathan  A. Goldstein', 'Mark Vonnegut/Kurt Vonnegut Jr.', \"Jun'ichirō Tanizaki/Edward G. Seidensticker/Thomas J. Harper/Charles Moore\", 'Geoffrey Chaucer/David  Wright', 'Lee Child/Hayward Morse', 'E.R. Eddison/Keith   Henderson', 'Bram Stoker/Richard Dalby', 'Roald Dahl/Carmelina Payá/Antonio Samons', 'Melody Malmberg/Walt Disney Company', 'Joan Didion/David Thomson', 'Edith Wharton/Laszlo Kubinyi', 'R. Gary Patterson/Jay Fox', 'Susan Kandel', 'Anne Brontë/Fred Schwarzbach', 'Frances Gies/Joseph Gies', 'Pam Johnson-Bennett', 'William C. Davis', 'Bernard Malamud/Jhumpa Lahiri', 'Jack Vance/Robert Silverberg', 'Virginia Woolf/Maureen Howard', 'John Granger', 'Gertrude Chandler Warner', 'Anne Hoppus', 'Frances Oliver', 'Jean Gibran/جبران خليل جبران/Kahlil Gibran', 'Louisa May Alcott/Kerry A. Graves', 'Benjamin James Sadock/Virginia Alcott Sadock', 'Prima Publishing', 'William T. Vollmann/Larry McCaffery/Michael Hemmingson', 'Peter David/George Pérez', 'Richard Corliss', 'Hesiod/R.M. Frazer/Mary Sue Roniger', 'Isabel Allende/Magda Botin', 'Gail Carson Levine', 'Kate Sedley', 'L.M. Montgomery/Mary Henley Rubio/Elizabeth Hillman Waterston', 'Jules Verne/Herbert R. Lottman/Jacqueline Rogers', 'Ian Hemphill/Kate Hemphill', 'Robert  Mayer/Grant Morrison', 'Abbie Hoffman/Anita Hoffman', 'Wilkie Collins/Carolyn G. Heilbrun', 'Stendhal/Richard Howard/Robert Andrew Parker', 'Nancy Verde Barr', 'Marianne Williams/Caroline Fitzgerald', 'Sylvia Plath/Frieda Hughes', 'Michael Munn', 'Bill Cosby/Varnette P. Honeywood', 'Lawrence M. Lasher', 'Mark  Hunter/Ian Lemke', 'Friedrich Nietzsche/Clifton Fadiman', 'Brian James Freeman/Bev Vincent/Glenn Chadbourne', 'Carole Nelson Douglas/Emma Merritt/Marilyn Campbell/Patricia Rice/Mary Balogh', 'MaryJanice Davidson/Susan Grant/P.C. Cast/Gena Showalter', 'Robert Ludlum/Michael  Shepherd', 'Sean McMullen', 'Jean Stein/George Plimpton', 'Stephen J. Burn', 'Frank Zappa/Peter Occhiogrosso', 'Robert Bauval/Adrian Geoffrey Gilbert', 'T.Z. Lavine', 'Robert P. Miles/Tom Osborne', 'Bruce Cumings', 'Graham Greene/Paul Theroux', 'Neal Stephenson/Guy Abadia', 'Alexander Pushkin/James E. Falen', 'Sophocles/David Grene/Charles Segal', 'Nicholas Sparks/Isabel Margelí', 'Susan  Griffith', 'Sylvia Engdahl/Lois Lowry', 'James B. South/William Irwin', 'William J. Bennett', 'John Ostrander/Jan Duursema/Dan Parsons', 'E.B. White/Fred Marcellino', 'Adolfo Bioy Casares', 'John Milton/Roy C. Flannagan', 'David Burnie/Peter K. Chadwick', 'Maya Gold', 'Joan Elizabeth Klingel Ray', 'Thucydides/Robert B. Strassler/Richard Crawley/Victor Davis Hanson', 'Bobby Henderson', 'Joan Sinclair/James Farrer', 'Karl Jaspers/Ralph Manheim', 'Euripides/Richmond Lattimore/David Grene/Rex Warner/Ralph Gladstone', 'Neal Stephenson/George F. Jewsbury/Stephen  Bury', 'Chris Seay/Rob Pepper/Brian D. McLaren', 'H.G. Wells/Arthur C. Clarke', 'Marianna Mayer/Kinuko Y. Craft', 'William M. Bass/Jon Jefferson', 'Leah Bendavid-Val/National Geographic Society', 'FASA Corporation/Ian Lemke/Louis J. Prosperi', 'Karyn Monk', 'Gillian Avery', 'Brian Braithwaite/Noelle Walsh/Glyn Davies', 'Arthur Nersesian', 'Bill   Phillips', 'Stephen Crane/Shelby Foote', 'Pamela Peeke/Cindy Crawford', 'Nancy Tillman', 'Raymond Chandler/Tom Hiney', 'James Wallace/Jim  Erickson', 'Alistair McCallum/William Shakespeare', 'Mark Twain/Michael Prichard', 'Gary Paulsen/Steve Chorney', 'Sinclair Lewis/E.L. Doctorow', 'Primo Levi/William Weaver/Ruth Feldman/Ruth Tenzer Feldman', 'Frederick K. Goodwin/Kay Redfield Jamison', 'Efraim Turban/Dorothy Leidner/James C. Wetherbe/Ephraim McLean/Christy Cheung/Daniel Tse/Maggie Lew', 'Stephen  Booth', 'Emine Sevgi Özdamar/Luise von Flotow', 'Miyamoto Musashi/William Scott Wilson/Shiro Tsujimura', 'Doug Lansky', 'James D. Bradley/Ron Powers', 'Jeffrey H. Tigay', \"David G. Hartwell/Robert Aickman/Charlotte Perkins Gilman/William Faulkner/Robert Smythe Hichens/Richard Matheson/Joanna Russ/Dennis Etchison/D.H. Lawrence/Tanith Lee/Flannery O'Connor/Ramsey Campbell/Thomas M. Disch/Henry James/Theodore Sturgeon/Clive Barker/Edgar Allan Poe/Stephen King/Michael  Bishop/H.P. Lovecraft/J. Sheridan Le Fanu\", 'Rick Barba', 'Beth Moore', 'Michael Nelson', 'Eric Sykes', 'Lala Okamoto', 'Roald Dahl/Karey Kirkpatrick/Lane Smith', 'Erich Fromm/Peter D. Kramer/Rainer Funk', 'Newt Scamander/J.K. Rowling', 'Jean Marzollo/Nancy Sheehan', 'James Lamar Roberts/CliffsNotes/William Shakespeare', 'Fyodor Dostoyevsky/Fyodor Dostoevsky/Richard Pevear/Larissa Volokhonsky', 'CliffsNotes/Michael McMahon', 'Eleanor J. Gibson', 'Michael Streissguth', 'Robert W. Harris', 'Edward Gibbon/Daniel J. Boorstin/Hans-Friedrich Mueller/Giovanni Battista Piranesi', 'Charles Dickens/Gish Jen', 'Agatha Christie/Robert Welch Herrick', 'Joyce Meyer', 'Paula S. Fass', 'Zilpha Keatley Snyder/Alton Raible', 'Ann Bausum', 'Theodore Taylor', 'Jorge Luis Borges/Eliot Weinberger/John M. Fein/James E. Irby/Donald A. Yates', 'William Blake/Alicia Suskin Ostriker', 'Howard Stern', 'Adam  Sexton/G. Tubach', 'Yasunari Kawabata/Michael Emmerich', 'Sinclair Lewis/Michael R.  Meyer', 'Dorothy Dunnett', 'William Shakespeare/Katherine Duncan-Jones', 'Leonard Michaels/Diane Johnson', 'James   Campbell', 'Rough Guides/Jan Dodd/Mark Lewis/Ron Emmons', 'Sarah Vowell/Katherine Streeter', 'Charlie Huston/Mike Carey/Brian Michael Bendis/Robert Kirkman/Mike Deodato/Ryan Sook/Stuart Immonen/Frazier Irving', 'Arundhati Roy', 'Jean Baudrillard/Chris     Turner', 'H.P. Lovecraft/August Derleth/Robert Bloch', 'Eoin Colfer/Nathaniel Parker', 'Leo Tolstoy/Peter Constantine/Cynthia Ozick', 'Alex Cox/Abbe Wool', 'Russ Kick', 'Frank P. Incropera/David P. DeWitt', 'Ovid/J.H. Mozley/G.P. Goold', 'Salman Rushdie/Paul Birkbeck', 'Bernard Malamud/Kevin Baker', 'Hildegarde Hoyt Swift/Lynd Ward', 'Richard Seymour Hall', 'Christopher Priest', 'D.C. Talk/The Voice of the Martyrs', 'Plato/Eva Brann/Peter Kalkavage/Eric Salem', 'Michael K. Brett-Surman/Thomas R. Holtz Jr./Bob Walters', 'Barbara Kingsolver/Steven L. Hopp/Camille Kingsolver/Richard A. Houser', 'Andrew Hussey', 'David L. Robbins', 'J. Michael Straczynski/Dan Jurgens', 'Henry David Thoreau/Barry M. Andrews', \"Scott O'Dell\", 'David Simon', 'Euripides/David Thompson/J. Michael Walton', 'James Brian Smith/Richard J. Foster', 'Aeschylus/Denys L. Page', 'Melinda Curtis', 'Wendy Cooling/Quentin Blake/Roald Dahl', 'Brian Azzarello/Marcelo Frusín', 'Brian D. McLaren', \"Ian Edginton/D'Israeli\", 'Meredith Fletcher', 'Kōji Suzuki/Sakura Mizuki', 'Jonathan Barnes', 'Homer/Robert Fitzgerald/Seamus Heaney', 'Brian Rotman', 'Dave Aikins/Laura Driscoll', 'Katrina Kittle', 'William Poundstone/John von Neumann', 'Dave Luckett', 'Paul Farmer', 'William Shakespeare/Arthur Raleigh Humphreys', 'Rusty Young/Thomas McFadden', 'Anton Myrer', 'Giles Andreae/Guy Parker-Rees/Hugh Laurie', 'William Shakespeare/Ronald K. Levao', 'Robin McKinley/John Clapp', 'Lynn Keller/Lynn Keller', 'Dave Eggers/T. Coraghessan Boyle/Adam Golaski/Sean Casey/Brendan Connell', \"James Patterson/Peter J. Fernandez/Denis O'Hare\", 'William Faulkner/David Minter/Noel Polk/Ben Wasson/C. Vann Woodward/Robert Penn Warren/Richard H. King/Jean-Paul Sartre/Irving Howe/Ralph Ellison', 'John Ostrander/Welles Hartley/Jan Duursema', 'Wolfgang Amadeus Mozart/Lorenzo Da Ponte/Ellen H. Bleiler', 'Anne Rice/Joe Morton/Tim Curry/Lindsay Crouse', 'Eric R. Kandel', 'Ann Finding', 'Joel-Peter Witkin/Stanley B. Burns', 'Robert Louis Stevenson/Jenny Davidson', 'Lee Seldes', 'Jennifer Quasha/Deni Brown/Dawn Sirett', 'Randy Cerveny', 'Thomas Jefferson/Merrill D. Peterson', 'Jeff Hawkins/Sandra Blakeslee', 'William Cronon', 'George Orwell/Erich Fromm', 'Judith M. Meloy', 'Pindar/G.S. Conway/Richard Stoneman', 'Frances Hodgson Burnett/Graham Rust', 'Chester Gould/Ashley Wood/Max Allan Collins', 'Ngawang Pelzang/Padmakara Translation Group/Patrul Rinpoche/Alak Zenkar', 'Hugh Kenner', 'Elizabeth Hardwick/Joan Didion', 'Kurt Reighley', 'Peter Maurice Wright/Paul Greengrass', 'Karen Traviss', 'Sonny Brewer', 'William Shakespeare/John   Bowe/Michael Feast/Adrian Lester', 'Gonzague Saint Bris/Arthur C. Clarke/Stéphane Heuet/Helen Marx/Saint-Bris Gonzague', 'Kathleen V. Kudlinski/S.D. Schindler', 'Thomas C. Foster', 'Walter Scott/Lockhart Bogle', 'Georg Wilhelm Friedrich Hegel/Carl Joachim Friedrich', 'John Grigsby', 'Richard Matheson/Stanley Wiater/Jack Finney/George Clayton Johnson', 'William Shakespeare/Stanley Wells', 'Orson Scott Card/Isaac Asimov/William Gibson/Michael Swanwick/Theodore Sturgeon/Larry Niven/Robert Silverberg/Harry Turtledove/James Blish/George R.R. Martin/James Patrick Kelly/Karen Joy Fowler/Arthur C. Clarke/Lloyd Biggle Jr./Terry Bisson/Poul Anderson/John Kessel/R.A. Lafferty/C.J. Cherryh/Lisa Goldstein/Edmond Hamilton/Robert A. Heinlein/Ursula K. Le Guin/Ray Bradbury/Frederik Pohl/Harlan Ellison/George Alec Effinger/Brian W. Aldiss', 'Ken Kesey/Charles Bowden', 'Plato/Christopher Gill', 'Mark T. Conard/Aeon J. Skoble/Tom Morris/William Irwin', 'John Boslough', 'Ralph Ginzburg', 'Dan Brown/Raúl Amundaray', 'Laura Esquivel/Yareli Arizmendi', 'Leonard Sweet/Brian D. McLaren/Erwin Raphael McManus/Michael S. Horton/Frederica Matthewes-Green/Andy Crouch', 'Jane Gardam', 'Allan Zola Kronzek', 'Patrick Marnham', 'Gaston Leroux/Margaret Jull Costa/Terry Hale', 'Shiva Naipaul', 'William Hubben', 'Mark Twain/Bernard DeVoto/Henry Nash Smith', 'Laura Ingalls Wilder/Cherry Jones', 'Alice Sebold/Aurora Echevarría', 'Lisa Jackson', 'Polly Horvath', 'Winston S. Churchill/Denis Kelly', 'Luigi Barzini/Joan Emerson', 'Edith Wharton/Elizabeth Strout', 'John Milton/Gordon Teskey', 'Fritjof Capra', 'Frank  Graham', 'Ivo Andrić/Ernst E. Jonas', 'Clayton M. Christensen/L.J. Ganser', 'Matthew Woodring Stover/George Lucas', 'Ian        Martin/Katie Elliott', 'Edgar Rice Burroughs/John Seelye', 'Alexander Pushkin/Walter W. Arndt', 'Pedro Calderón de la Barca/Gregary Racz', 'L.M. Montgomery/Rea Wilmshurst', 'Natsuo Kirino/Stephen Snyder', 'Maki Murakami', 'David Filkin/Stephen Hawking', 'Anaïs Nin/Val Telberg', 'Tanya Huff', 'Bebe Moore Campbell', 'Anne Carson/Euripides', 'Chad Oliver/George Zebrowski/Isaac Asimov', 'J.K. Rowling/Sevin Okyay', 'Satoru Kannagi/Hotaru Odagiri/Sachiko Sato', 'Anne Fadiman', 'Paul Graham/Allen Noren/Matt Hutchinson', 'Greg Tang/Heather Cahoon', 'Edward Albee', 'Hannah Arendt/Joanna Vecchiarelli Scott/Judith Chelius Stark', 'Jack Kerouac/Robert Creeley', 'Max Beerbohm', 'Dale Carnegie/Stuart R. Levine/Michael A. Crom', 'James Lamar Roberts/Jeffrey Fisher', 'Janet Brennan Croft/Mark P. Shea/Amy H. Sturgis', 'Wally Lamb', 'Tom Robbins/Pociao/Roberto de Hollanda', 'Søren Kierkegaard/Edna Hatlestad Hong/Howard Vincent Hong', 'Jon Agar/Jon Turney', 'James B. Stiff/Paul A. Mongeau', 'Rebecca Aberg/Jeanne Clidas', 'Grant Morrison/Philip Bond/Warren Pleece/Sean Phillips/Jay Stephens/Frank Quitely/Steve Yeowell', 'Marguerite Henry/Wesley Dennis', 'Alma Flor Ada/Elivia Savadier', 'Stephen Crane/Jayne Anne Phillips', 'Judy Hall', 'Deborah Bray Haddock', 'Daniel  Wallace/Mark Chiarello/Tommy Lee Edwards/John Van Fleet', 'Avigdor Kahalani', 'Jean-Paul Sartre/James  Wood/Robert Baldick', 'Sharyn McCrumb', 'SparkNotes/Mary Wollstonecraft Shelley', 'Harvey Mansfield', 'Marcel Proust/Sylvia Townsend Warner', 'David Salo', 'Robert  Evans', 'Charles Lockwood', 'Sid Fleischman/Peter Sís', 'Judith Thurman', 'Quincy Jones', 'Christopher   Clark', 'Thomas Aquinas/Timothy McDermott', 'Alice Dalgliesh/Marie Nonnast', 'Stan Jones', 'Eric Flint/David Weber/Mercedes Lackey/Dave Freer/Andrew Dennis/Virginia DeMarce/Loren K. Jones/S.L. Viehl/Anette M. Pedersen/Jonathan Cresswell/Scott Washburn/Deann Allen/Mike Turner/Greg Donahue/Walt Boyes/Jody Dorsett/K.D. Wentworth', 'Philip Ellis Wheelwright', 'Patricia Cornwell/C.J. Critt', 'Aeschylus/Richmond Lattimore/David Grene', 'Donald  Lloyd', 'J.K. Rowling/J.K.羅琳/彭倩文', 'Waris Dirie/Cathleen Miller', 'Ishmael Beah', 'Astrid Lindgren/Florence Lamborn/Nancy Seligsohn', 'Dan Slott/Ryan Sook/Wade Von Grawbadger/Jim Royal', 'Neil Gaiman/Bryan Talbot/Stan Woch/P. Craig Russell/Shawn McManus/John Watkiss/Jill Thompson/Duncan Eagleson/Kent Williams/Todd Klein', 'Euripides/Gilbert Murray', 'Anaïs Nin/Rupert Pole/Gunther Stuhlmann', 'William H. Press/Saul A. Teukolsky/William T. Vetterling/Brian P. Flannery', 'Donald J. Sobol/Gail Owens', 'Agatha Christie/Michael Bakewell/Peter Sallis/Cyril Luckham/Edward De Souza/Rachel Gurney/Nicky Henson/Deryck Guyler', 'Jean Lorrah', 'Gabriel García Márquez/Curt Meyer-Clason', 'Fyodor Dostoyevsky/Alexander Pushkin/Guillermo Suazo Pascual', 'Marianna Mayer/Walter Scott/John Rush', 'Confucius/D.C. Lau', 'Claire McNab', 'Melissa Wiley/Renée Graef', 'William H. Keith Jr.', 'Eliza Minot', 'Jonathan Carroll/Dave McKean', 'Tad Williams/Hans J. Schütz', 'Laurence Yep/Isadore Seltzer', 'Patrick Süskind/John E. Woods', 'Lewis Carroll/Donald J. Gray', 'David W. Macdonald/Alonzo C. Addison/Sandra Baker/Mark S. Boyce/David Brown/Stephen Cobb/N. Mark Collins/C. Patrick Doncaster/John E. Fa/Joshua Ginsberg/Susanna B. Hecht/Katrina Service/Steve Albon/Les Firbank/Eli Geffen/Lise Albrechtsen/Elizabeth J. Asteraki/Christian Bonacic/Marcel Cardillo/Chris R. Dickman/Stephen A. Ellwood/H. Resit Akcakaya/Ruth E. Feber', 'Jorge Bucay/Silvia Salinas', 'Jonathan Hale', 'Fred Anderson', 'Michael Littlefield', 'David        James/Peggy Mulloy/Rob Marshall/Arthur Golden', 'Ian Buruma', 'Ayn Rand/Robert Mayhew/Peter   Schwartz', 'Stormie Omartian', 'Joseph A. Tainter', 'Warren Ellis/Darick Robertson/Rodney Ramos/Patrick Stewart', 'Warren Ellis/Ben Templesmith', 'Victor Villaseñor', 'Robert Fulghum', 'Stephanie McCurry', 'Martin H. Greenberg/Daniel Stashower', 'Bob Blaisdell/Karl Marx/Jean-Paul Marat/Tom Paine/Mao Zedong/Mahatma Gandhi', 'Andrew X. Pham', 'Laura Dave', 'Audrey Niffenegger/William Hope/Laurel Lefkow', 'J.R.R. Tolkien/Martin Shaw', 'Iris Murdoch/Peter Reed', 'Julian Markels', 'Terry Gilliam/Charles McKeown', 'H.G. Wells/George Gesner', 'Bill Willingham/Mark Buckingham/Steve Leialoha/Tony Akins/Jimmy Palmiotti', 'Leo Tolstoy/Hugh McLean', 'Tish Boyle/John Uher', 'Stephen  Mansfield', 'Euripides/David R. Slavitt/Smith Palmer Bovie/Fred Chappell/Mark Rudman/Elaine Terranova/Richard Elman/Katharine Washburn/George D. Economou', 'Tim LaHaye/Bob Phillips', 'Alexis de Tocqueville/Eduardo Brandão/Phillips Bradley/Luann Walther', 'Roald Dahl/Jill Bennett', 'R.R. Palmer', 'Mystery/Neil Strauss', 'Elizabeth Alexander', 'Mark Cahill', 'William A. Cohen', 'Tom Robbins/Nikolaus Hansen', 'James Kirkwood Jr.', 'Hemant Mehta/Rob Bell', 'Amy Krouse Rosenthal/Tom Lichtenheld', 'David Zane Mairowitz/Alain Korkos', 'Arthur  Miller/Harold Clurman/Christopher Bigsby', 'Boris Pasternak/Marina Tsvetaeva/Rainer Maria Rilke', 'Vladimir Nabokov/Alfred Appel', 'Dodie Smith', 'Voltaire/Chris Ware/Theo Cuffe/Michael  Wood', 'Robert Penn Warren/James H. Justus/Xavier Pàmies', 'David     Payne', 'Charles Simic', 'Daniel Defoe/John J. Richetti', 'W. Frederick Zimmerman/Chris Pratley', 'Warren Ellis/Darick Robertson/Rodney Ramos/Darren Aronofsky', 'Eiki Eiki/Sashiko Sato/Bambi Eloriaga', 'Erica Jong/Anthony Burgess', 'Kurt Busiek/Stuart Immonen', 'Marilyn Herbert/Miriam Toews', 'Mark Z. Danielewski/Christophe Claro', 'Anne Michaels', \"Jennifer O'Connell/Meg Cabot/Megan McCafferty/Melissa Senate/Diana Peterfreund/Stephanie Lessing/Laura Ruby/Erica Orloff/Stacey Ballis/Julie Kenner/Kristin Harmel/Jennifer Coburn/Elise Juska/Kyra Davis/Beth Kendrick/Berta Platas/Lynda Curnyn/Kayla Perrin/Cara Lockwood/Alison Pace/Megan Crane/Lara Deloza/Laura Caldwell/Shanna Swendson\", 'John D. Leonard/The New York Times', 'Michael Connelly/Otto Penzler', 'David E. Kaiser', 'Friedrich Nietzsche/Walter Kaufmann/R.J. Hollingdale', 'Gordon Bowker', 'Carol Lloyd', 'William    Jones', 'Kurt Vonnegut Jr./Lee Stringer', 'Norma Goldman/Jacob E. Nyenhuis', 'Dr. Seuss/Yanitzia Canetti', 'Bryan Magee/Myles Burnyeat/Martha C. Nussbaum/Anthony Kenny/Bernard Williams/Anthony Quinton/Michael  Ayres/John Passmore/Geoffrey Warnock/Peter Singer/Frederick Charles Copleston/J. P. Stern/Hubert L. Dreyfus/Sidney Morgenbesser/A.J. Ayer/John Rogers Searle', 'Michael  Howard/David LeBlanc', 'Andrew Carnegie/Gordon Hutner', 'Jim Morrison', 'James H. Cone', 'Lidia Matticchio Bastianich/David Nussbaum/Christopher Hirsheimer', 'Bodie Thoene/Brock Thoene', 'Virginia Woolf/Hermione Lee', 'Carl Hiaasen/Elmore Leonard/Dave Barry/James W. Hall/Edna Buchanan/Les Standiford/Paul Levine/Brian Antoni/Tananarive Due/John Dufresne/Vicki Hendricks/Carolina Hospital/Evelyn Mayerson', 'Thomas May/John   Adams', 'J.E. Austen Leigh/Caroline Austen/Henry Austen/Anna Austen Lefroy/Kathryn Sutherland', 'Eric Flint', 'Scott Allie/Ryan Benjamin/Curtis Arnold', 'Edgar Allan Poe/J. Gerald Kennedy', 'Alan Moore/John Totleben/Steve Oliff/Joe Caramagna/Michael Kelleher/Peter Milligan/Mike Allred', 'Audre Lorde', 'Dwight D. Eisenhower', 'SparkNotes/Homer', 'Dave Land/Peter David/Dave Cooper/Dan Jolley/Doug Wheatley/Tom Fowler/Kilian Plunkett/Sean Phillips/Ryder Windham/John Ostrander/Jan Duursema/Timothy Zahn/Darko Macan/Rich Handley/Igor Kordey/Ron Marz/Rich Hedden/Rick Leonardi/Claudio Castellini/Martin Egeland/Lovern Kindzierski/Chris Brunner/Peet Janes/Jim Woodring', 'Richard Olney', 'Giada De Laurentiis', 'James Preller/R.W. Alley', 'Émile Zola/Douglas Parmée', 'Søren Kierkegaard/Howard Vincent Hong/Edna Hatlestad Hong', 'Ben Mezrich', 'Boris Pasternak/B. Deutsch', 'Robert Sokolowski', 'Mandy Aftel', 'John Eldredge/Stasi Eldredge', 'Warren Ellis/Adi Granov', 'Apollodorus/James George Frazer', 'Yoshitaka Amano/Murasaki Shikibu/Rachel Nacth/Anri Itō/Junichi Imura', 'Blaine M. Yorgason/Brenton G. Yorgason', 'Aristophanes/Peter Meineck', 'Dashka Slater/Nicoletta Ceccoli', 'Mary Walton', 'Arturo Pérez-Reverte/Margaret Sayers Peden', 'Bill Phillips', 'Andy McNab', 'John Colapinto', 'John Milton/Christopher Ricks/Susanne Woods', 'Richard Freeborn', 'Jonathan Phillips', 'Euripides/Aeschylus/Edith Hamilton', 'Georges Bataille/Mary Dalwood', 'Carl Sagan', 'Shel Silverstein/Dennis Locorriere', 'E.J. Wagner', 'Linda Hall', 'Raynold Gideon', 'Michael C.J. Putnam', 'Anonymous/Max McLean', 'Augustine of Hippo/John E. Rotelle/Maria Boulding', 'Kate Braverman/Rick Moody', 'Elizabeth L. Fuller', 'E. Nesbit/Gillian Avery', 'John Howard Griffin', 'Jon   Stewart', 'Christopher Fowler', 'Rob Bell', 'Victor Hugo/Norman Denny', 'Arthur Agatston', 'R.K. Narayan/Jhumpa Lahiri', 'Ruth Ozeki/Florence Mortimer', 'Matt Christopher/Harvey Kidder', 'Margaret Weis/Janet Pack/Bruce Holland Rogers/Nina Kiriki Hoffman/Tanya Huff/Linda P. Baker/Michelle Sagara West/Nancy Varian Berberick/Mark A. Garland/Lawrence Schimel/Donald J. Bingle/Jane Lindskold/Kristine Kathryn Rusch/Edward Carmien/Jean-François Podevin/Robyn McGrew/Carrie Channell', 'David Guterson', 'Jacques Derrida/Pascale-Anne Brault/Michael Naas', 'Garrison Keillor/Charles Bukowski/Robert Burns/Hayden Carruth/Raymond Carver/Billy Collins/Noël Coward/Carl Dennis/E.E. Cummings/Emily Dickinson/Stephen Dobyns/Fleur Adcock/John Donne/Rita Dove/Stephen Dunn/Lawrence Ferlinghetti/Robert Frost/Erica Funkhouser/Donald Hall/Patricia Hampl/Thomas Hardy/Jim Harrison/W.H. Auden/Jennifer Michael Hecht/David Ignatow/John Keats/X.J. Kennedy/Jane Kenyon/Galway Kinnell/Maxine Kumin/Kate Light/Henry Wadsworth Longfellow/Louis MacNeice/Hilaire Belloc/Herman Melville/W.S. Merwin/Edna St. Vincent Millay/Howard Nemerov/Sharon Olds/Mary Oliver/Grace Paley/Lawrence Raab/Kenneth Rexroth/Wendell Berry/Carl Sandburg/John Berryman/Elizabeth Bishop/William Blake/Philip   Booth/Virginia Hamilton Adair/Liesl Mueller', 'Ishmael Reed', 'Norah Vincent', 'Ricardo Piglia/Amanda Hopkinson', 'Jane Austen/Carol Howard', 'Bob Dylan', 'Tara McCarthy/Drew Hires/Jaime Lucero/Vincent Ceci', 'Aristophanes/Sarah Ruden', 'Virginia Woolf/Jeanne Schulkind', 'Chris          Jones/Jonathan Newman/Cara Williams', 'Ray Bradbury/Dave Gibbons/Richard Corben/Mike Mignola', 'Robert D. Siegel/Todd Hanson/Carol Kolb/The Onion', 'Gaius Julius Caesar/James H. Ford/W.A. McDevitte', 'Elizabeth von Arnim', 'Epictetus/Nicholas P. White', 'Edith Wharton/Nina Bawden', 'Satoru Kannagi/Hotaru Odagiri/Allison Markin Powell', 'Charles Mackay', 'Diana Kendall', 'Robert Louis Stevenson/Scott McKowen', 'Hermann Hesse/Hilda Rosner', 'Lani Guinier/Stephen L. Carter', 'Janwillem van de Wetering', 'Jim Hougan', 'T.S. Eliot/Michael North', 'Daniel Pinchbeck', 'Kate Klise/M. Sarah Klise', 'Leonard Cottrell', 'Edith Wharton/Linda Wagner-Martin', 'Joan Jonker', 'Kathleen Eagle', 'Sandra West Prowell', 'George Orwell/John Carey', 'Sarah M.  Anderson/Karen Swenson', 'Mark Twain/Guy Cardwell/John Seelye', 'David      West', 'Sang-Sun Park', 'Elizabeth M. Butler', 'Fred Pearce', 'Ariel Levy', 'Francine Patterson/Ronald H. Cohn', 'Jane Austen/Deirdre Le Faye', 'Richard E. Neustadt', 'John Guare', 'Patrick Larkin/Robert Ludlum', 'Ernest Hemingway/William M. White', 'Arthur Schopenhauer/Konstantin Kolenda', 'Norman Davies', 'Dugald A. Steer/Douglas Carrel', 'Harvey Pekar/Gary Dumm', 'Elinor M. Brent-Dyer', 'Cornelia Funke/Paul   Howard/Oliver G. Latsch', \"Fodor's Travel Publications Inc./Sarah Gold\", 'J.G. Passarella', 'Mary  Stewart/Sandra Brown', 'Candida Höfer/Umberto Eco', 'Bruce Campbell', 'H.G. Wells/Leon Stover', 'Peter M. Robinson', 'Pedro Calderón de la Barca/Miguel de Cervantes Saavedra/Lope de Vega/Tirso de Molina/Roy Campbell/Eric Bentley', 'Frank Zöllner/Johannes Nathan/Frank Zöllner', 'Elizabeth A. Schultz', 'Lois Beckwith', 'Jan Greenberg/Sandra Jordan', 'Danny Palmerlee/Carolyn McCarthy/Michael Grosberg/Lonely Planet', 'Susan Ring/Kirk Albert Etienne/Kirk Etienne Albert/Michael James Luzzi', 'Robin Lane Fox', 'Franz Kafka/Willa Muir/Edwin Muir/Klaus Mann/E.L. Doctorow', 'Heidi Murkoff/Sharon Mazel/Arlene Eisenberg/Sandee Hathaway/Mark D. Widome', 'Ian W. Toll', 'Sophocles/David Grene/Richmond Lattimore/John Moore/Michael Jameson', 'Sanyika Shakur', 'MaryAnn F. Kohl/Kim Solga/Rebecca Van Slyke', 'Anthony Minghella/Michael Ondaatje', 'Tanya Remer Altmann/American Academy of Pediatrics', 'J.K. Rowling/J.K.羅琳/皇冠編譯組/張定綺/彭倩文/趙丕慧/林靜華', 'Jacqueline K. Ogburn/Marjorie A. Priceman', 'Diane Setterfield', 'Homer/Robert Fagles/Derek Jacobi', 'Basil Mahon', 'Mercer Mayer', 'Brian Copeland', 'Bart G. Farkas', 'Python Bonkers', 'Chris Tait/Robert Louis Stevenson/Lucy Corvino/Arthur Pober', 'Rajiv Chandrasekaran', 'Gwyn Hyman Rubio', 'Jack Weatherford', 'Franz Kafka/Edwin Muir/Willa Muir/Eithne Wilkins/Ernst Kaiser/Mark Anderson/Arthur S. Wensinger', \"Gillian Avery/Everyman's Library/Thomas Benwick\", 'Augustine of Hippo/D.W. Robertson Jr.', 'Masakazu Katsura', 'Bill Cosby/Varnette P. Honeywood/Varnette Honeywood', 'Robert Greene/Birgit Brandau/Hartmut Schickert', 'Joyce Reardon/Steven Rimbauer/Ridley Pearson', 'Georges Simenon/Robert Baldick', 'Charles Dickens/Mary Gaitskill/Hablot Knight Browne', 'Simon Wells', 'Matthew J. Gibney', 'Georges Simenon/David Watson', 'Jennifer Chiaverini', 'Harvey Pekar/Anne Elizabeth Moore/Esther Pearl Watson/Lilli Carré/Robert Crumb/Chris Ware/Kim Deitch/Jaime Hernández/Alison Bechdel/Joe Sacco/Lynda Barry/Justin Hall/Joel Priddy/Anders Nilsen/David Lasky/Ben Katchor/Rebecca Dart/Ivan Brunetti/Jonathan   Bennett/John Porcellino/David Heatley/Lloyd Dangle/Hob/Gilbert Shelton/Olivia Schanzer/Alex Robinson/Jessica Abel/Seth Tobocman/Rick Geary/Tom Hart/Kurt Wolfgang/Jesse Reklaw', 'Paul Findley', 'Julie Aigner-Clark', 'Judith Cornell/Joan Borysenko/Miron Borysenko', 'Michael J. Gelb', 'Georgette Heyer/Joan Wolf', 'Malvina G. Vogel/Charles Dickens', 'Edward de Bono', 'Edmund Spenser/Douglas Brooks-Davies', 'Ishmael Reed/Gérard H. Durand', 'Cornell Woolrich/Richard Dooling', 'Donna M. Jackson', 'Phillip Margolin', 'Juan Bonilla/Esther Allen', 'Marilyn Manson/Neil Strauss', 'Cheryl Carlson', 'Alexander  Walker', 'Nancy M. Armstrong/Paulette Livers-Lambert', 'Robert B. Cialdini', 'Elliott Currie', 'Aimé Césaire/Richard Miller', 'Dante Alighieri/Ronald L. Martinez/Robert M. Durling/Robert Turner', 'Sheri Rose Shepherd', 'Timothy Zahn', 'Wade Davis', 'J. Torres/Eric  Kim', 'Jennings Michael Burch', 'Aristotle/Martin Ostwald', 'John Eldredge', 'Chris Gardner', 'Jean Houston', 'Ernest Hemingway/John Slattery', 'Bob Spitz', \"Flann O'Brien/Denis Donoghue\", 'Sarah Dening', 'Henri Blocher', 'George Pelecanos', 'Angela Knight/Diane Whiteside', 'Donna Hill/Francis Ray/Brenda Jackson/Monica Jackson', 'Leil Lowndes', 'Gustave Flaubert/Donada  Peters', 'Henry Jenkins', 'Peter Carey', 'Mitali Perkins', 'Kurt Vonnegut Jr./David Strathairn/Maria Tucci/Bill Irwin/Tony    Roberts/Dylan Baker', 'Le Ly Hayslip/James Hayslip/Jenny Wurts', 'Stefano Benni/Antony Shugaar', 'Richard Stapleford/Time-Life Books', 'Kara/Lee Chi-Hyong', 'James T. Farrell/Charles Fanning', 'Nextext/McDougal Publishing Staff', 'Albert Einstein/Roger Penrose/Robert Geroch/David C. Cassidy', 'Alice   Miller', 'Sharyn November/Lloyd Alexander/Emma Bull/Charles Vess/Michael Cadnum/Kara Dalkey/Nancy Farmer/Nina Kiriki Hoffman/Diana Wynne Jones/Patricia A. McKillip/Garth Nix/Meredith Ann Pierce/Delia Sherman/Sherwood Smith/Nancy Springer/Megan Whalen Turner/Elizabeth Wein/Laurel Winter', 'Crissy Trask/Mike Clelland', 'Darren R. Weissman', 'Carol Stock Kranowitz/T.J. Wylie', 'Albert Camus/Stuart Gilbert', 'Thich Nhat Hanh/Arnold Kotler/Dalai Lama XIV', 'Mark Bailey/Edward Hemingway', 'Nancy Cote/Cornelia Maude Spelman', 'Ann Thwaite', 'John Ayto', 'Plato/Desmond Lee/Maria Helena da Rocha Pereira/Benjamin Jowett', 'Peter R.L. Brown', 'Émile Zola/Henri Mitterand', 'Katherine Beckett/Theodore Sasson', 'Christopher Cokinos', 'Plato/Seth Benardete/Allan Bloom', 'John Carratello/Patty Carratello/Theresa Wright', 'Elie Wiesel/Robert McAfee Brown/Matthew Fox', 'Mymi Doinet/Benjamin Chaud', 'Nathaniel Hawthorne/Karin Jacobson', 'Jed Carleton/Shawn Carman/Seth Mason/Robert    Lee/Travis Heerman/Aaron Medwin/Matthew S. Armstrong/D.J. Trindle/Cris Dornaus/Eric Steiger', 'Alison Baverstock/Joseph Cornell/Christopher Wynne', 'John Henry Newman', 'Debbie Dadey/Marcia Thornton Jones', 'Theodosius Dobzhansky/Niles Eldredge/Stephen Jay Gould', 'Carol Ryrie Brink', 'Abigail Thomas', 'Alice   Miller/Andrew Edwin Jenkins', 'Joseph Delaney', 'Janet Evanovich/Leanne Banks', 'Drew Carey', 'Jorge Luis Borges/Suzanne Jill Levine/Esther Allen', 'Mercedes Lackey/Eric Flint/Dave Freer', 'Seamus Deane', 'George Smoot/Keay Davidson', 'Bard Thompson', 'William Shakespeare/Elizabeth Story Donno/Penny Gay', 'Bart King/Chris Sabatino', \"Let's Go Inc.\", 'Javier Cercas/Anne McLean', 'Bill Bryson/José Manuel Álvarez', 'Charles Dickens/John Bowen/Hablot Knight Browne', 'Gardner Dozois/Damon Knight/R.A. Lafferty/Samuel R. Delany/Brian W. Aldiss/Gene Wolfe/Joanna Russ/James Tiptree Jr./Ursula K. Le Guin/Edward Bryant/Howard Waldrop/Jack Dann/L. Sprague de Camp/Lucius Shepard/Pat Cadigan/John Kessel/William Gibson/Connie Willis/Michael Swanwick/Bruce Sterling/Theodore Sturgeon/Richard McKenna/Cordwainer Smith/Jack Vance/Edgar Pangborn/Keith Roberts/Roger Zelazny', 'Anthony J. Cascardi', 'Kim Harrison/Lynsay Sands/Kelley Armstrong/Lori Handeland', 'Greg Cox/Danny McBride/Len Wiseman/Kevin Grevioux', \"Arthur Conan Doyle/Francis O'Gorman\", 'E.M. Forster/Neil Felshman', 'Joanna Weaver', 'Sonallah Ibrahim/صنع الله إبراهيم/Anthony Calderbank', 'Leslie Kelly', 'Haven Kimmel/Robert Andrew Parker', 'Homer/Allen Rogers Benner/Mark W. Edwards', 'Fulton J. Sheen', 'Beth Hensperger/Julie Kaufmann', 'Michelle Sagara', 'Ken Haedrich', 'Robert B. Parker/David Dukes', 'Thomas Mann/John E. Woods', 'Donald Barthelme', 'Juliette Benzoni/Francisco Rodriguez de Lecea', 'Ina May Gaskin', 'Gia Bathory Al Babel', 'Mark Zwonitzer/Charles Hirshberg', 'Pedro Calderón de la Barca/Stanley Appelbaum', 'Daidōji Yūzan/Oscar Ratti/Thomas Cleary', 'Lucille Colandro/Jared Lee/Skip Hinnant', 'Graham Greene/Monica Ali', 'Graham Greene/John Updike', 'Irvine Welsh/Eric Lindor Fall', 'Wilkie Collins/P.D. James', 'Noel Malcolm', 'Linda Jones', 'Marcus Aurelius/Martin Hammond/Albert Wittstock/Diskin Clay', 'Joseph Campbell', 'Isaac Bashevis Singer/Jacob Sloan/Ruth R. Wisse', 'bell hooks/Shane W. Evans', 'Elizabeth C. Economy', 'Michael D. Oates/Larbi Oukada', 'Akira Yoshida/Pat Lee/Paul Lee/C.B. Cebulski', 'Anonymous', 'C.D.B. Bryan', 'Kevin S. Decker/Jason T. Eberl/William Irwin/George Lucas/William O. Stephens/Walter Ritoku Robinson/Richard H. Dees/Judith A. Barad/Elizabeth F. Cooke/Richard Hanley/Jerold J. Abrams/Robert Arp/Jan-Erik Jones', 'Timothy  Taylor', \"Mark O'Shea/Tim Halliday/Jonathan Metcalf\", 'Stephen Coonts', 'Richard Platt', 'Ira Levin/Otto Penzler', 'Robert F. Kennedy Jr.', 'Oscar Wilde/Donald L. Lawler', 'Kermit L. Hall/Paul Finkelman/James W. Jr. Ely', 'Aristophanes/F.W. Hall/W.M. Geldart', 'Sigrid Undset/Sherrill Harbison/Arthur G. Chater', 'Gustave Flaubert/Francis Steegmuller', 'Heidi Baker/Rolland Baker', 'Jean Baudrillard/Chris     Turner/George Ritzer', 'Daniel Defoe/Michael Shinagel', 'Rachel Carson/Bob Hines', 'Christina Schwarz/Marie-Hélène Sabard', 'Charles Dickens/Nicola Bradbury/Hablot Knight Browne', 'John Cheever/Pelle Fritz-Crone', 'D.H. Lawrence/Daphne Merkin', 'Nancy MacDonell Smith/Nancy MacDonell', 'Brian Sibley/Ian McKellen', 'William Martin', 'Johann Wolfgang von Goethe/Catherine Hutter/Marcelle Clements', \"Pauline Réage/Sabine d'Estree\", 'Grant Morrison/Dave McKean', 'Paul De Man/Wlad Godzich', 'Sarah Fielding/Candace Ward', 'Mary Oliver', 'Mary Lawson', 'Richard A. Knaak/Margaret Weis', 'Cody Goodfellow', 'Z.Z. Packer/María Pérez López de Heredia', 'Kei Ohishi/Joe Swift', 'Tom Standage', 'Margaret Weis/Lizz Weis', 'Nevil Shute', 'Mark Twain/Lee Nelson', 'David Edmonds/John Eidinow', 'Stephen King/Verónica Canales', 'Dante Alighieri/Robert M. Durling', 'Arthur Koestler/Daphne Hardy', 'George Eliot/Thomas A. Noble', 'Charles Willeford/Elmore Leonard', 'Bernd Matzkowski', 'Garry Nelson', 'Keith Donohue', 'Oscar Wilde/Merlin Holland', 'Jerry Burton', 'Leonardo da Vinci/H. Anna Suh', 'William S. Burroughs/James Grauerholz', 'Steve Erickson', 'Henry Miller/Jiří Níl', 'Courtney E. Martin', 'Virginia Woolf/Mark Hussey', 'Frank Darabont/Stephen King', 'Penelope Fitzgerald', 'Ruth Stiles Gannett', 'Tom Wicker/Arthur M. Schlesinger Jr.', 'Jean Nienkamp', 'Alice Kaplan', 'Charles Dickens/Edgar Rosenberg', 'Christopher Caswell', 'Grant Morrison/Steve Yeowell/Jill Thompson/Dennis Cramer/Peter Milligan', 'Tacitus/Alfred J. Church/William Jackson Brodribb/Moses Hadas', 'Nicholas Sparks/Maja Ueberle-Pfaff', 'Boris Vian/Stanley  Chapman/Raymond Queneau/John Sturrock', 'Zecharia Sitchin', 'J.R. Hyland', 'Agatha Christie/Rosalind Ayres', 'Vera John-Steiner', 'Edward Steers Jr.', 'Alexandra Moss/Veronica Bennett', 'George Washington', 'Edgar Allan Poe/Vincent  Price/Chandler Brossard', 'Nick Lane', 'Eric Hobsbawm/Chris Wrigley', 'Sten Nadolny', 'Lori Avocato/Dana Cameron/Mary Dahiem/Suzanne Macpherson/Cait London/Kerrelyn Sparks/Mary Daheim', 'Curtis Saxton/Hans Jenssen/Richard Chasemore', 'Sun Tzu/Samuel B. Griffith', 'Francis Meynell/John Julius Norwich/Francis Maynell', 'Lisa Wheeler/Ponder Goembel', 'Robert Bogdan', 'Harold Bloom/Amy Sickels', 'Marcel Proust/Lydia Davis/Christopher Prendergast', 'Miep Gies/Alison Leslie Gold', 'Miriam Toews', 'Richard K. Morgan/Bill Sienkiewicz/Sean Phillips', 'Sven Regener/John Brownjohn', 'John C. Maxwell/Les Parrott III', 'Sudha Koul/Warner Books', 'Arthur Conan Doyle/Javier Gomez Rea', 'Roy McKie/P.D. Eastman', 'Lord Dunsany/John Gregory Betancourt/Lin Carter', 'Albert Einstein/Hanoch Gutfreund', 'Keith Gray', 'Jean-Jacques Rousseau', 'Miguel de Cervantes Saavedra/John Rutherford/Roberto González Echevarría', 'Jane Austen/Claire Lamont/James Kinsley', 'Ellen Weiss/Doyle Partners/Robert Zemeckis', 'Grant Morrison/Jon J. Muth', 'Douglas M. MacDowell', 'Gary Yukl', 'Donna Freitas/Jason Edward King', 'Nathaniel Hawthorne/Kathryn Harrison', 'David Ellis', 'Glen David Gold', 'Günter Grass', 'James Joyce/Seamus Deane', 'Andy Hunt/Dave Thomas', 'Carlene Fredericka Brennen/Hilary Hemingway', 'Roald Dahl/Jeremy Treglown', 'Johann Wolfgang von Goethe/Burton Pike/Edla Valdna', 'Chris    Green/Chris Wright/Paul Douglas Gardner', 'Eric Klinenberg', 'Christopher Isherwood/William Caskey/Jeffrey Meyers', 'Linda Lay Shuler', 'Wally Lamb/Inge de Heer', 'Jean-Benoît Nadeau/Julie Barlow', 'William Camann/Kathryn    Alexander', 'Orhan Pamuk/Victoria Rowe Holbrook', 'Sylvia Nasar', 'Mark Nepo', 'Mercedes Lackey/Tanya Huff/Mickey Zucker Reichert/Michelle Sagara West/Gary A. Braunbeck/John Helfers/Elisabeth Waters/Lawrence Schimel/Mark Shepherd/Janni Lee Simner/Richard Lee Byers/Josepha Sherman/Larry Dixon/John Yezeguielian/Mel White/Stephanie D. Shaver/Kristin Schwengel/Ben Ohlander/Philip M. Austin', 'T.H. White/Fritz Eichenberg', 'Don Ihde', 'Walter Foster Creative Team', 'Martin Millar/Neil Gaiman', 'Bryan Magee/Isaiah Berlin/Charles Taylor/Herbert Marcuse/William Barrett/Anthony Quinton/A.J. Ayer/Bernard Williams/R. M. Hare/Willard Van Orman Quine/John Rogers Searle/Noam Chomsky/Hilary Putnam/Ronald Dworkin/Iris Murdoch/Ernest Gellner', 'Fyodor Dostoyevsky/Andrew R. MacAndrew/Ben Marcus', 'Richard Preston', 'Richard Russo/Jean-Luc Piningre', 'Mary Westmacott/Agatha Christie', 'James M. McPherson', 'Rudyard Kipling/Jeffrey Meyers', 'Homer/Charles H. Wilson', 'Jimmy Buffett/Leona Nevler', 'Will Durant', 'Andy Griffiths/Miles Thompson', 'Louis-Ferdinand Céline/Ralph Manheim/William T. Vollmann', 'Sam Walton/John Huey', 'Susan Au', 'Neil Strauss', 'Stephen Desberg/Enrico Marini', 'Linda  Anderson', 'Erasmus/Martin Luther/Philip S. Watson/E. Gordon Rupp', 'Kang-Woo Lee/Lauren Na', 'Ellen Kushner/Delia Sherman', 'Carson McCullers/Kasia Boddy', 'Daniel Abraham', 'Marlo Morgan', 'Mark Waid/Mike Wieringo/Howard Porter', 'Dale Carnegie/Dorothy Carnegie', 'Garth Ennis', 'Vladimir Nabokov/Fatih Özgüven', 'Darina Allen/Regina Sexton', 'Starr Smith/Walter Cronkite', 'Terry Jones', 'Apollodorus/Robin Hard', 'Camellia Panjabi', 'Hesiod/Richmond Lattimore', 'William Shakespeare/Gordon McMullan', 'Jean-Paul Sartre/Michael Walzer/George J. Becker', 'Donna Goldberg/Jennifer Zwiebel', 'Hesiod/Friedrich Solmsen/Reinholdo Merkelbach', 'Oscar Wilde/Michel Etienne/Daniel Mortier', 'David Thomas Lord', 'George MacDonald/Michael R. Phillips', 'Michael E. Doyle', 'H.G. Wells/Melvin Burgess', 'Wallace Stegner/Lynn Stegner', 'Neil Gaiman/Matt Wagner/George Pratt/Dick Giordano/Kelley Jones/P. Craig Russell/Mike Dringenberg/Malcolm Jones III/Todd Klein/Harlan Ellison', 'Aristophanes/David R. Slavitt', 'Stephen King/Robin Waterfield', 'Wayne G. Hammond/Christina Scull', 'Henry James/Leon Edel/Mark Wilson', 'John Terra', 'Virginia Woolf/Michèle Barrett', 'C.S. Lewis/Ana Falcão Bastos', 'Detlev J.K. Peukert/Richard Deveson', 'Dante Alighieri/Dorothy L. Sayers', 'Eliot Ness/Oscar Fraley', 'Anthony Kenny', 'Patricia Schultz', 'Robert G. Hagstrom/Bill Miller/Kenneth L. Fisher', 'Paul Crilley', 'Lennart Hellsing/Fibben Hald', 'Georges Perec/David Bellos', 'Rebecca St. James/Mary E. DeMuth/Tracey Lawrence/Elizabeth Jusino', 'Mary Ashworth/H. Patricia Wakefield', 'P.D. Eastman/Adolfo Pérez Perdomo', 'Lan Samantha Chang', 'Jane Austen/Vivien Jones', 'Rob Humphreys/Beth Chaplin/Rebecca Morrill', 'Arthur Herzog III', 'Maya Angelou/Jean-Michel Basquiat/Sara Jane Boyers', 'Yoshitaka Amano', 'Dorothy Parker/Stuart Y. Silverstein', 'Phillip Glasier', 'Barbara W. Tuchman', 'Logan Swanson/Richard Matheson', 'John  Smith', 'William T. Vetterling/Saul A. Teukolsky/William H. Press/Brian P. Flannery', 'Robert Louis Stevenson/Charles Neider', 'William Morris', 'Gail A. Eisnitz', 'Tim Freke/Peter Gandy', 'Elizabeth Stewart', 'Michael D. Lyman', 'Lauren Bacall', 'Katherine E. Krohn', 'Jack Kerouac/Joyce Johnson', 'Mark LeVine/Michael Pollan/Stephen M. Pollan', 'Grant Morrison/Marc Silvestri/Chris Bachalo/John Paul Leon/Frank Quitely/Leinil Francis Yu/Igor Kordey/Ethan Van Sciver/Keron Grant/Tom Derenick/Phil Jimenez', 'Frederick P. Brooks Jr.', 'Fyodor Dostoyevsky/Ronald Hingley', 'James Redfield/Lou Diamond Phillips', 'Edward Rutherfurd', 'Stanisław Lem/Marc E. Heine', 'Charles  Green/Richard Ford/Pascal Quidault', 'Tim Flannery', 'Irving John', 'Rob Orsini', 'Richard W. Bulliet/Pamela Kyle Crossley/Steven Hirsch', 'Kerry Patterson/Joseph Grenny/Ron McMillan/Al Switzler/Stephen R. Covey', 'Chris Horrocks/Zoran Jevtić', 'Peter Cozzens', 'Sigrid Undset/Tiina Nunnally/Brad Leithauser', 'Georg Wilhelm Friedrich Hegel/S.W. Dyde', 'Edward W. Said/Christopher Hitchens', 'Lester del Rey/Terry Brooks', 'Philip K. Dick/Jonathan Lethem', 'John Milton/Jonathan Goldberg/Stephen Orgel', 'Homer/Sheila Murnaghan/Stanley Lombardo', 'David A. Adler/Karen Ritz', 'Thomas X. Hammes', 'William Shakespeare/SparkNotes', 'Laura Ingalls Wilder/William   Anderson', 'Albert Einstein/Nigel Calder/Robert W. Lawson', 'H.P. Lovecraft/Barbara Hambly', 'Libba Bray', 'Elizabeth Stuart Phelps/Carol Phillips', 'Michel Faber', 'Jonathan Shay', 'Elise Broach', 'Marshall McLuhan/W. Terrence Gordon/Philip B. Meggs', 'Lewis Carroll/Jane Carruth/Rene Cloke', 'Ann Romines', 'Max Eilenberg/Angela Barrett', 'Tedd Arnold/Mark Buehner', 'Willa Cather', 'F. Scott Fitzgerald/Tim Robbins', 'Victor Skrebneski', 'Mark Shepard', 'Casey Loe/Laura Parkinson', 'Ryōtarō Shiba/Juliet Winters Carpenter', 'Julie Leto', 'Ronald L. DiSanto/Thomas J. Steele', 'Adam Rex', 'Terry Brooks/Tony Westermayr', 'Matthew Scully', 'Monte Cook', 'Deloris Jordan/Kadir Nelson/Roslyn M. Jordan', 'Ul De Rico', 'Anne K. Mellor', 'Narendra Jadhav', 'Gayden Metcalfe', 'Steve Augarde', 'Ben Avery/Mike S. Miller/George R.R. Martin/Mike Crowell', 'William Shakespeare/Stephen Orgel/A.R. Braunmuller/Russ McDonald', 'Edmond Rostand/Eteel Lawson/Lowell Bair', 'Marisabina Russo', 'Michael Dorris', 'Gary B. Nash', 'SparkNotes/Ken Kesey', 'Kate Chopin/Sandra M. Gilbert', 'T. Coraghessan Boyle/Richard Poe', 'Donna Ickes/Edward Sciranko/Keith Vasconcelles', 'Nikola Tesla', 'Ann Hodgman', 'Allen Ginsberg/Barry Miles', 'Ronlyn Domingue', 'Jon Meacham', 'Phyllis A. Bird', 'Vladimir Nabokov/Fredson Bowers/Guy Davenport/Miguel de Cervantes Saavedra/Samuel Putnam', 'Saul Bellow/James  Wood', 'Iain Crichton Smith/Isobel Murray', 'Girolamo Cardano/Jean Stoner/Anthony Grafton', 'Simon Perchik/David Baratier', 'Rolland Baker/Heidi Baker', 'Norman Mailer/John Buffalo Mailer', 'Philip Zaleski/Peter J. Gomes', 'Stéphane Heuet/Stanislas Brézet/Marcel Proust', 'Andrés Duany/Elizabeth Plater-Zyberk/Jeff Speck', 'Jim Toomey', 'Faïza Guène', 'Karl Marx/Friedrich Engels/Eric Hobsbawm', 'Nicholas Dodman', 'Ali Vali', 'John Maynard Smith', 'William   Anderson/Dan Andreasen', 'Carl Senna/CliffsNotes/Richard Wright', 'Christine Rimmer', 'Immanuel Kant/Werner S. Pluhar/Patricia Kitcher/James W. Ellington', 'Greg Cox/Len Wiseman/Kevin Grevioux', 'Walter Benjamin/Michael W. Jennings/Rodney Livingstone/Edmund F.N. Jephcott/Harry Zohn/Howard Eiland', 'Elliott A. Norse/Larry B. Crowder/Michael E. Soulé', 'Ovid/Allen Mandelbaum', 'Aristophanes/William Arrowsmith/Richmond Lattimore/Douglass Parker', 'Nigel Findley', 'Stephen Rebello/Walt Disney Company', 'Robert Frost/Noel Perrin', 'William Goldman/Mike Lupica', 'Dawn B. Sova', 'P.G. Wodehouse/Chris Miller', 'Grant Morrison/Marc Silvestri', 'Margaret Feinberg/Norman Rockwell', 'Charlotte Brontë/Stevie Davies', 'Ken Follett/Arto Häilä', 'V.T. Rajshekar/Y.N. Kly', 'Stephen King/Joachim Körber', 'Julia Butterfly Hill', 'Leonardo Padura/John King', 'Mamiko Murakami/Ernest Reiss', 'William Faulkner/Malcolm Cowley', 'Mineko Iwasaki/Rande Brown', 'Liam Callanan', 'J.M. Barrie/Michael Hague', 'Robert D. Richardson Jr.', 'Robert J. Allison', 'Jonathan Swift/Claude Julien Rawson/Ian Higgins', 'Carol Marinelli', 'James Lamar Roberts/CliffsNotes', 'Laura Esquivel', 'J.D. Robb/Laurell K. Hamilton/Susan Krinard/Maggie Shayne', 'Steve Eddy', 'Hazel Rowley', 'William Irwin/Aeon J. Skoble/Mark T. Conard', 'Paco Underhill', 'Dante Alighieri/Dorothy L. Sayers/C.W. Scott-Giles', 'Lotte H. Eisner', 'Tom Clancy/Chuck Horner', 'Hayao Miyazaki/David Lewis/Toren Smith/Kaori Inoue/Joe Yamazaki/Walden Wong/Izumi Evers', 'Eric Homberger/Alice Hudson', 'Roland Barthes/Annette Lavers/Colin Smith/Susan Sontag', 'Henry James/R.W.B. Lewis', 'Les Standiford', 'Alexis de Tocqueville/Isaac Kramnick/Gerald Bevan', 'Sigmund Freud/James Strachey', 'Better Homes and Gardens', 'Mary Wollstonecraft Shelley/Susan J. Wolfson', 'Robbie Stamp/Paul Simpson', 'Laura Ingalls Wilder/Cherry Jones/Paul Woodiel', 'Denise Riley', 'Mark Twain/Michael Patrick Hearn/E.W. Kemble', 'Sinclair Lewis/Charles R. Johnson', 'William Shakespeare/Jacky Bratton', 'Mark Lewisohn/Peter  Guzzardi', 'Alexander McCall Smith/Marta Torent López de Lamadrid', 'Belva Plain', 'Salman Rushdie/Miguel Sáenz', 'Daniel Defoe/J.M. Coetzee', 'Daniel Defoe/L.J. Swingle', 'Robert Musil/Shaun Whiteside/J.M. Coetzee', 'Steve McCurry', 'Neil Gaiman/John Bolton/Scott Hampton/Charles Vess/Paul Johnson/Roger Zelazny', 'Graham McNeill', 'Toni Morrison/A.S. Byatt', 'Barbara W. Tuchman/Robert K. Massie', 'Apollodorus/Richard Wagner', 'Sarvepalli Radhakrishnan/Charles Alexander Moore/Kapila/Nandalal Sinha/Kautilya/R. Shamasastry/Manu/Georg Bühler/Patañjali/Rama Prasada/Nāgārjuna/Hermann Oldenberg/Susumu Yamaguchi/Ganganatha Jha/Ramanuja/George Thibaut/Pratap Chandra Ray/Edward J. Thomas', 'Ruud van der Rol/Rian Verhoeven/Anna Quindlen/Anne Frank/Tony   Langham/Plym Peters', 'Thomas Fahy', 'Neal Stephenson/Jean-Pierre Pugi', 'Brian Jacques/Allan Curless', 'Kathleen Eschenburg', 'Matt Keefe', 'Shannon Holmes', 'James Fenimore Cooper', 'Plotinus/Stephen MacKenna/John M. Dillon', 'David Simon/Edward Burns', 'Neil Gaiman/Kelley Jones/Charles Vess/Colleen Doran/Malcolm Jones III/Steve Erickson', 'Hesiod/M.L. West', 'Bill Farrel/Pam Farrel', 'Iyanla Vanzant', 'Haruki Murakami/Jay Rubin/Philip Gabriel', 'Friedrich Nietzsche/Raymond Geuss/Ronald Speirs', 'Ruth Downie', 'Debbie Raleigh', 'Dorothy Parker/Brendan Gill', 'Albert Camus/Catherine Camus', 'Giorgio De Santillana/Hertha Von Dechend', 'Isaac Bashevis Singer', 'Terry  Taylor', 'Dante Alighieri/Robert Pinsky/Michael Mazur', 'Plato/Robin Waterfield', 'Robert Boyle/Michael Hunter/Edward B. Davis', 'Margaret Sidney', 'Euripides/David Grene/Richmond Lattimore/Witter Bynner/William Arrowsmith', 'Babette Rothschild', 'Fredric Dannen/Erroll McDonald', 'Max Allan Collins/José Luis García-López/Steve Lieber/Josef Rubinstein/Rob Leigh/Bob Lappan', 'John Patrick Diggins/Arthur M. Schlesinger Jr.', 'Mark Hertsgaard', 'Jean M. Auel/Leonor Tejada Conde-Pelayo', 'Tess Uriza Holthe', 'Phil Town', 'Julie Mullaney', 'Anna Sewell/Scott McKowen', 'Dave Eggers/María Victoria Alonso Blanco', 'Geoffrey Chaucer/Vincent Foster Hopper', 'Anna Sewell/John         Green', 'Sue Birtwistle/Sue Conklin/Susie Conklin', 'Henry Louis Gates Jr./Kwame Anthony Appiah', 'Robert Kanigher/Bob Haney/Joe Kubert/Jerry Grandinetti', 'Noam Chomsky/David W. Lightfoot', 'Elizabeth Moon', 'Jenna Jameson/Neil Strauss', 'Rose Tremain', 'Burton G. Malkiel', 'Marion Crawford/Jennie Bond', 'Plato/Allan Bloom', 'Molly Bang', 'William Shakespeare/David L. Stevenson', 'Emmuska Orczy', 'Wallace Stegner/Page Stegner', 'Lennard Zinn/Todd Telander', 'Al Ries/Laura Ries', 'Émile Zola/Robin Buss/Brian  Nelson', \"April Jones Prince/Nancy Harrison/John   O'Brien\", 'Jon   Stewart/Scott C. Jacobson', 'Sharon Kay Penman', 'Misao Inagaki/Hiroshi Takahashi', 'Tamara Thorne', 'Josiah Bunting/Arthur M. Schlesinger Jr.', 'Sergio Ramírez', 'Thomas E. Skidmore/Peter H. Smith', 'Kelly McGrath Vlcek/CliffsNotes/John Steinbeck', 'Lawrence Watt-Evans', 'Theodore Roszak', 'Georges Simenon/Lyn Moir', 'Arthur Conan Doyle/John Gielgud/Ralph Richardson/Orson Welles', 'Bill Potter/Stephen Lang', 'Peter Robinson', 'Mark Twain/Grover Gardner', 'Douglas Adams/Stephen Fry', 'Brian J. Robb', 'Robert Arthur/Alfred Hitchcock', 'Luis Fernando Verissimo/Margaret Jull Costa', 'John Major Jenkins/Terence McKenna', \"Ann  O'Leary\", 'Naguib Mahfouz/Trevor Le Gassick', 'John M. Hull/Oliver Sacks', 'James Luceno/David West Reynolds/Ryder Windham', 'Miguel de Cervantes Saavedra/John Ormsby', 'Stan Hoig/Nick Eggenhofer', 'Karel Čapek/M. Weatherall/R. Weatherall/Ivan Klíma', 'Alice   Miller/Ruth Ward', 'Georg Wilhelm Friedrich Hegel/E.S. Haldane/Frederick C. Beiser', 'Joan Didion/John Leonard', 'Aldous Huxley/Michael Horowitz/Cynthia Palmer', 'Emily Blake', 'Shifra Horn/Dalya Bilu', 'Michel de Montaigne/Donald M. Frame', 'Robert Kirkman/Ben Oliver/Tom Raney', 'Ruth Westheimer', 'Rudolph R. Windsor/El Hagahn', 'Robert M. Price/Edward Pickman Derby/Peter Cannon/Stephen Mark Rainey/Lin Carter/Henry Kuttner/Ramsey Campbell/Thomas Ligotti/Richard L. Tierney/Gary    Myers/Donald R. Burleson/C.J. Henderson/Stephen Studach/John Glasby/Allen Mackey', \"Pablo Neruda/William O'Daly\", 'Mark Cohen', 'Fyodor Dostoyevsky/Constance Garnett', 'Suzanne Enoch', 'Terry Brooks/George Lucas/Regina Winter', \"Nuala O'Faolain\", 'Anne Macdonald', 'Steve Perry/Tom Clancy/Steve Pieczenik/Larry Segriff', 'Max Allan Collins/Steve Lieber/Josef Rubinstein/Rob Leigh/José Luis García-López/Bob Lappan', 'Arnold Rampersad', 'Jim  Powell', 'Isabel Allende/Madga Bogin/Christopher Hitchens', 'Jerry B. Jenkins', 'Jackson J. Benson', 'Roger Ebert/Daniel Curley/Jack Lane', 'Sigmund Freud/Louis Menand', 'Brian Johnston/George Eliot/CliffsNotes', 'Jack London/Ben Bova', 'Shaun Tomson/Patrick Moser', 'Charles Allen', 'Julia Wilkinson', 'William Shakespeare/Roma Gill/B. Litt', 'Anton Myrer/Alastair Westgarth', 'Leo Tolstoy/Anthony Briggs/Orlando Figes', 'Charles Dickens/Linda Jennings', 'William  James/Frederick Burkhardt/Rand B. Evans/Gerald Eugene Myers', 'Fyodor Dostoyevsky', 'Sharon Creech', 'Richard B. Lee', 'Max Allan Collins/Mike Flaherty', 'Richard Hanley', 'William Shakespeare/Colin Burrow', 'Jo Ann Ooiman Robinson', 'Diane  Kennedy/Garrett Sutton/Robert T. Kiyosaki', 'Lori Fulton/Brian Campbell/Linda Gregg', 'Deidre S. Laiken/A.J. McAllister/Robert Louis Stevenson', 'Plum Sykes', 'Kara/Jee-Hyung Lee', 'Maggie Shayne', 'Virginia Woolf/Andrew McNeillie', 'James E. Campbell', 'Halldór Laxness/Philip Roughton/Adam Haslett', 'W. Haden Blackman', 'Beryl Markham/Mary S. Lovell', 'Debra Marquart', 'Cecil Adams', 'James Joyce/Langdon Hammer', 'Janet Evanovich/Lorelei King', 'Peter  Van Houten/Rich McCord', 'Roald Dahl/Rula Lenska/Sian Thomas/Christopher Timothy', 'Barry R. Cournoyer', 'Anton Chekhov/Ann Dunnigan/Rosamund Bartlett/Robert Brustein', 'Philip Pullman/Diana Bryan', 'John W. Gardner', 'Gertrude Stein', 'Graham Greene/Robert  Stone', 'David G. Hartwell', 'Michael J. Davey/Duncan Wu', 'H.P. Lovecraft/China Miéville/S.T. Joshi', 'Gilles Deleuze/Michael Hardt', 'Frederick Douglass/Gregory Stephens/Peter J. Gomes', 'Lynne Truss/Bonnie Timmons', 'Chip Kidd', 'Philip Roth/Νίκος Παναγιωτόπουλος', 'James A. Owen', 'Richard Buskin/Allan Kozinn', 'Christopher Pinney', 'Jane Werner Watson/Eloise Wilkin', 'Douglas Downing', 'Edward Copeland/Juliet McMaster', 'L. Sprague de Camp', 'Aristophanes/Alan H. Sommerstein/David B. Barrett/David Brett', 'Augustine of Hippo/Emilie Griffin/Mary T. Clark/Francine du Plessix Gray', \"Waris Dirie/Jeanne D'Haem\", 'Daniel Horowitz', 'Jennifer Weiner/Eduardo García Murillo', 'William Shakespeare/Marvin Spevack/Marga Munkelt', 'Betty  Smith', 'Kenneth Robeson/Lester Dent', 'Juan Rulfo/Carlos Fuentes/Margo Glantz/Jorge Alberto Lozoya/Eduardo Rivero/Víctor Jiménez/E. Billeter', 'Adam Smith', 'Oliver Ho/Jamel Akib/Alexandre Dumas/Arthur Pober', 'Bernard Malamud/Jonathan Safran Foer', 'Louisa May Alcott/Paula Danziger', 'Honoré de Balzac/Donald Adamson', 'Robin Waterfield/Anaximander/Anaximenes/Empedocles/Gorgias of Leontini/Heraclitus/Parmenides/Protagoras/Pythagoras/Thales/Thrasymachus/Zeno of Elea', 'Georg Wilhelm Friedrich Hegel/James Black Baillie', 'Dave Pelzer', 'Samuel Hynes', 'Pam Muñoz Ryan/Claudia Rueda', 'Maria Skobtsova/Richard Pevear', 'George Bernard Shaw/Alan Jay Lerner', 'Cynthia Chin-Lee/Youshan Tang', 'Mary Anna Evans', 'Noam Chomsky/Arthur Naiman/David Barsamian/Sandy Niemann', 'Viktor E. Frankl/Ilse Lasch/Gordon W. Allport', 'Daphne du Maurier/Sally Beauman', 'Mikal Gilmore', 'Raymond T. McNally/Radu Florescu', 'Dan Nadel', 'Robert McCloskey/Leonard S. Marcus', 'Amy Krouse Rosenthal', 'Dean Koontz/David Baker', 'Paul Bowles/Francine Prose', 'Doug McClelland/Ted Sennett', 'Walt Disney Company/Al Dempster', 'Robert Arp', 'Eleanor Herman', 'Aleksandr Solzhenitsyn/Nicholas Bethell/David Burg', 'Arthur Conan Doyle/John M. Lynch', 'Alistair Horne', 'Anthony F.C. Wallace', \"Barron's\", 'Honoré de Balzac/Ellen Marriage/George Saintsbury', 'Don DeLillo/Mark Osteen', 'Igor Stravinsky/George Seferis/Arthur Knodel/Ingolf Dahl', 'Thomas Hardy/Phillip Mallett', 'David Baggett/Shawn E. Klein', 'Don DeLillo/Michel Courtois-Fourcy', 'Plato/John M. Cooper/Benjamin Jowett/Dorothea Frede/Alexander Nehamas/Paul Woodruff/Anthony Kenny/Rosamond Kent Sprague/Nicholas D. Smith/Karen Bell/D.S. Hutchinson/Donald J. Zeyl/Francisco J. González/Diskin Clay/Malcolm Schofield/Glenn R. Morrow/Jonathan Barnes/G.M.A. Grube/Brad Inwood/Mark Joyal/Jackson P. Hershbell/J.M. Edmonds/C.D.C. Reeve/Myles Burnyeat/Nicholas P. White/Mary Louise Gill/C.J. Rowe/Stanley Lombardo/David Gallop/Jeffrey Mitscherling/Richard D. McKiharan Jr./Andrew S. Becker/Mark Reuter/M.J. Levett/Paul        Ryan', 'Grant Morrison/Chris Weston/Gary Erskine', 'Michael D. Lyman/Gary W. Potter', 'William Shakespeare/Stephen Orgel', 'Marguerite Duras/Richard Seever', \"Jean-Jacques Rousseau/Susan Dunn/Gita May/Robert N. Bellah/David Bromwich/Conor           Cruise O'Brien\", 'Geoffrey Miller', 'Franz Kafka/Nahum N. Glatzer/John Updike/Willa Muir/Edwin Muir/Tania Stern/James Stern/Ernst Kaiser/Eithne Wilkins', 'Thomas Hardy', 'Mary Higgins Clark/Angela Zeman/Noreen Ayres/Sally Cabot Gunning/Joseph Hansen/Sarah Shankman/Nancy Pickard/Eleanor Taylor Bland/Brendan DuBois/Edward D. Hoch/Loren D. Estleman', 'Ray Bradbury/Dave McKean', 'Gustave Flaubert/Geoffrey Wall/Michèle Roberts', 'Ludovico Ariosto/Guido Waldman', 'Harry Hamernik', 'Abraham Lincoln/Don E. Fehrenbacher', 'Isaac Bashevis Singer/Saul Bellow', 'Dave Shea/Molly E. Holzschlag', 'Joan Dayan/Colin Dayan', 'Paul Pearsall/Gary E. Schwartz/Linda G. Russek', 'Nancy   Harding', 'Mansur Abdulin/Artem Drabkin', 'Jack London/Alex Kershaw', 'Jane Austen/Charlotte Brontë/Frances Beer', 'Stephen Hunter/Will Patten', 'Eric Flint/Andrew Dennis', 'Peter G. Bolt', 'Takehiko Inoue', 'J.R.R. Tolkien/Christopher Tolkien/Ted Nasmith', 'Jean-Jacques Rousseau/Philip Stewart/Jean Vache', 'Antony Beevor/Artemis Cooper', 'Peter Conn', 'Linda Francis Lee', 'Paul La Farge', 'Lewis B. Namier/James Joll', 'Katherine Ramsland/Anne Rice', 'Paul Ruditis', 'Mark Harlan', 'Michael Hanlon', 'Charles Dickens/Hablot Knight Browne/David Gates', 'J.M. Coetzee/David Attwell', 'Aristotle/Malcolm Heath', 'Pablo Neruda/Mark Eisner/Lawrence Ferlinghetti/Robert Hass/Stephen Mitchell/Alastair Reid/Forrest Gander/Jack Hirschman/Stephen Kessler/John Felstiner', 'Jack London/Gary Paulsen', 'Simone de Beauvoir/Leonard M. Friedman', 'David  Roberts/Jon Krakauer', 'Richard D. Bartlett/Patricia P. Bartlett', 'Stephen Crane/James Dickey', 'Plato/James H. Nichols Jr.', 'Mark Twain/Scott McKowen', 'Dante Alighieri/John Ciardi', 'Kate Chopin/Margo Culley', 'Richard H. Minear/Art Spiegelman/Dr. Seuss', 'Jacob Grimm/Wilhelm Grimm/Maria Tatar/A.S. Byatt/George Cruikshank/Paul Hey/Walter Crane/Warwick Goble/Kay Nielsen/Arthur Rackham', 'Louann Brizendine', 'Lord Dunsany/Neil Gaiman', 'Jeanne DuPrau', 'Craig Scharlin/Lilia V. Villanueva', 'Mark      Stevens/Carol Bloom Stevens', 'David Deida/Lorrie Bortner', 'Marthe Le Van/Robert W. Ebendorf/Lark Books', 'William Makepeace Thackeray', 'Binjamin W. Segel/Richard S. Levy/Sergei Nilus', 'William Shakespeare/Juliet Dusinberre', 'Franz Kafka/Max Brod/Joseph Kresh/Martin Greenberg', 'Octavio Paz/Lysander Kemp/Yara Milos', 'Jonathan  Andrews/Andrew Scull', 'Christopher Partridge', 'Elizabeth Wurtzel', 'Michael J. Mauboussin', 'Rachel Lichtenstein/Iain Sinclair', 'Melissa M. Garcia', 'Christopher Andersen/Christopher Andersen', 'Julie E. Czerneda', 'Douglas E. Winter/Dan Simmons/Stephen King/George R.R. Martin', 'Roald Dahl/Artists and Writers Guild/Walt Disney Company/Leonard Maltin', 'Richard Wright/Edward P. Jones', 'Devin McKinney', 'Scott Turow/Lola Vollen/Dave Eggers', 'Laurell K. Hamilton/MaryJanice Davidson/Eileen Wilks/Rebecca York', 'John Grisham/Jorma-Veikko Sappinen', 'Robert E. Hemenway/Alice Walker', 'John W. Dettman', 'Augustine of Hippo/Boniface Ramsey/Michael Fiedrowicz', 'Geoffrey Batchen', 'Maya Angelou/Linda Sunshine/Diego Rivera', 'John Waters', 'Chris Kubica/Chris Kubica', 'Reinhold Messner', 'Agatha Christie/David Suchet', 'David A. Nadler/Robert B. Shaw/Marc S. Gerstein', 'Upton Sinclair/Earl Lee/Kathleen DeGrave', 'Susan Cooper/Omar Rayyan', 'Aleksandr Solzhenitsyn/H.T. Willetts', 'Bill Hybels/Lavonne Neff', 'Alan Dean Foster/George Alec Effinger/Jack McDevitt/Nina Kiriki Hoffman/Mike Resnick/R.A. Lafferty/Tobias Grace/Laura Resnick/Margaret Ball/Ron Goulart/Mel Gilden/Edward Wellen/Wolfgang Jeschke/Greg Costikyan/Esther M. Friesner/Steve Rasnic Tem', 'Peter Kreeft/Blaise Pascal', 'George Lucas/Donald F. Glut/James Kahn', 'Joan Aiken/Edward Gorey', 'Charles Dickens/Michael Patrick Hearn/John Leech', 'Theo LeSieg/Dr. Seuss/Barney Tobey', 'J.J. Connolly', 'Jonathan  A. Goldstein/Anonymous', 'Lizzie Collingham', 'John S.D. Eisenhower', 'Christopher Pinney/Nicholas Peterson', 'Sylvia Browne/Lindsay Harrison', 'John C. Maxwell/Stephen R. Graves/Thomas G. Addington', 'Frederick Douglass/Henry Louis Gates Jr.', 'Daniel Defoe/Manuel Schonhorn/Charles   Johnson', 'Jim Wight', 'Christina Dodd', 'Tom Clancy/Leon A. Edney', 'Henry David Thoreau/Carl Bode', 'William  James/Gerald Eugene Myers', 'Robert Coles/George Ford', 'Murray Smith', 'Joe Meno', 'Bernard Cornwell/Tom Sellwood', 'Michael Neill', 'D.H. Lawrence/Geoff Dyer', 'William C. Dowling', 'Georg Wilhelm Friedrich Hegel/J. Sibree/C.J. Friedrich/Charles Hegel', 'Sophie Braimbridge/Erica Jankovich', 'Jane Austen/George Saintsbury/Hugh  Thomson', \"David W. Phillips/Michael Parfit/Suzanne Chisholm/Bathroom Readers' Institute\", 'Marjane Satrapi/Mattias Ripa', 'Leo Tolstoy/Orlando Figes/Anthony Briggs', 'Dava Sobel/William J.H. Andrewes/William J. H. Andrewes', 'Rebecca Goldstein', 'Lidia Matticchio Bastianich/Jay Jacobs', 'David B.', 'Virginia Woolf/Eudora Welty', 'Pavel Tsatsouline', 'Robert Kirkman/Tony Moore/Charlie Adlard/Cliff Rathburn', 'Julia Glass', 'Peter Tremayne', 'George Eliot/Megan McDaniel/Lynne Sharon Schwartz/Lynn Sharon Schwartz', 'Marianne Sturman', 'Howard F. Lyman/Glen Merzer', 'William Shakespeare/Karin Jacobson/Sidney Lamb', 'Bernard Taper', 'Euripides/Georgia Ann Machemer/Michael   Collier', 'Tennessee Williams/Arthur  Miller', 'Apollodorus/Selwyn Reginald Cudjoe/Leonard Baskin', 'E.B. White/Dorothy Lobrano Guth/Martha White/John Updike', 'Adam Ginsberg', 'Kurt Eichenwald', 'Grant Morrison/Klaus Janson', 'Roméo Dallaire', 'Jane Austen/Cassandra Austen/Deirdre Le Faye/A.S. Byatt', 'Margaret Mitchell', 'Franz Kafka/Breon Mitchell/Arthur H. Samuelson', 'Thomas Wolfe/Pat Conroy', 'Charles Dickens/George Cruikshank/Jill Muller', 'Astrid Lindgren/Robin Preiss Glasser', 'Astrid Lindgren/Patricia Crampton', 'Audrey Niffenegger/Silvia Alemany', 'Iris Fry', 'R. de Roussy de Sales', 'Arthur Conan Doyle/David Timson', 'SparkNotes/Brian  Phillips/William Shakespeare', 'David Gerrold/John William Corrington/Joyce Hooper Corrington', 'Ludwig Wittgenstein/David Pears/Brian McGuinness/Bertrand Russell', 'Al Gore', 'Haruki Murakami/Philip Gabriel/Jay Rubin', 'Commander X/Tim R. Swartz', 'Alexander C. Irvine', 'Alexandre Dumas/Brantley Johnson/Margaret Brantley', 'Melania G. Mazzucco/Virginia Jewiss', 'Michel de Montaigne', 'Li Bai/Du Fu/Arthur Cooper/Shui Chien-Tung', 'Haruki Murakami/Ellen Archer/Patrick Lawlor', \"Bill Phillips/Michael D'Orso\", 'Kevin D. Mitnick/William L. Simon/Steve Wozniak', 'Edward Gibbon/Dero A. Saunders/Charles Alexander Robinson Jr.', 'John Gardner/Raymond Carver', 'James Patterson/Melissa Leo/Jeremy Piven/Andrew Gross', 'Cornelia Funke', 'James Craig Holte', 'Nathaniel Hawthorne/Eugene Hudson Long/Seymour L. Gross/Richard C. Beatty/Sculley Bradley/Richmond Croom Beatty', 'Robin McKinley/James P. Blaylock/Patricia A. McKillip/Robert Westall/Peter Dickinson/Jane Yolen/P.C. Hodgell/Michael de Larrabetti/Joan D. Vinge', 'Linda Lear', 'Jude Fisher/Viggo Mortensen', 'Philip Caputo', 'Satosumi Takaguchi/Yukine Honami', 'Geoffrey Chaucer/Brian Stone', 'David Sedaris/Harry Rowohlt', 'Grant Morrison/Chris Weston/Ivan Reis', 'John Milton/Merritt Y. Hughes/David Scott Kastan', 'Robert   Harris', 'Jean-Paul Sartre/Carol Cosman', 'Marjorie Garber', 'Isabel Miller/Emma Donoghue', 'Masaki Yamada/Yuji Oniki/Carl Gustav Horn', 'Joseph Campbell/Bill Moyers', 'Jane Austen/Hugh  Thomson', 'Walt Whitman/Michael Warner', 'Juan Rulfo/Margaret Sayers Peden/Susan Sontag', 'Elizabeth Mann/Alan Witschonke', 'Roald Dahl/Horacio Elena', 'Thad Carhart', 'Lisa Chaney', 'Robert A. Weiss/Margaret A. Weiss/Karen L. Beasley', 'Ernest J. Gaines', 'John Peel', 'Mark Twain/David Lionel Smith/Sherley Anne Williams', 'Carlos Marighella', 'Barbara Ehrenreich/Deirdre English', 'Paul Kengor', 'Karen Zeinert/Mary Miller', 'Mona Lisa Schulz/Christiane Northrup', 'Philip Norman', 'W.G. Sebald/Michael Hulse', 'Charlotte Brontë', 'Paulo Coelho/Amanda Hopkinson/Nick Caistor', 'Linda Glaser/Glaser Linda/Susan Swan', 'Dave R. Palmer', 'Éric-Emmanuel Schmitt', 'Ed McBain/Otto Penzler', 'Katharine McMahon', 'Karl Marx/Gareth Stedman Jones/Friedrich Engels', 'Jane Yolen', 'Max Allan Collins/Terry Beatty', 'Daniel  Wallace/Michael Sutfin', 'Bruce Catton/James M. McPherson', 'Sinclair B. Ferguson', 'Arthur Koestler/Herbert Butterfield', 'Hesiod/Apostolos N. Athanassakis', 'Niccolò Machiavelli/Rufus Goodwin/Benjamin Martinez', 'James Ellroy/Otto Penzler/John Biguenet/Michael Connelly/Thomas H. Cook/Sean Doolittle/Brendan DuBois/David Edgerley Gates/Joe Gores/James Grady/Clark Howard/Stuart M. Kaminsky/Joe R. Lansdale/Michael Malone/Annette Meyers/Joyce Carol Oates/Robert B. Parker/F.X. Toole/Daniel Waterman/Scott Wolven/Fred Melton', 'Laura Esquivel/Thomas  Christensen/Carol Christensen', 'J.J. Isler/Peter Isler', 'Horace  Silver', 'Laura Florand', 'Ian Caldwell/Dustin Thomason', 'Laurie Garrett/Steven M. Wolinsky', 'Barbara Haworth-Attard', 'Euripides', 'Gus Van Sant/Tom Robbins', 'William Irwin', 'Leo Tolstoy/Aylmer Maude/Nigel J. Cooper', 'Ellen Raskin', 'Jean-Luc Marion/Stephen E. Lewis', 'Malcolm Lowry', 'Marcella Hazan', 'Victor Hugo/Catherine Liu/Elizabeth McCracken', 'Open City Magazine/James Purdy/Daniel Pinchbeck/Michael Cunningham/Deborah Garrison/Rem Koolhaas/Rick Moody/Strawberry Saroyan/Debra Garrison', 'John Milton/Gustave Doré', 'Sandra Benítez', 'Ian Jack', 'Donald J. Sobol/Leonard W. Shortall', 'Amy Tan/Joan Chen', 'Robert J. Milch', 'Richard P. Feynman/Michelle Feynman', 'Michael Herr', 'Donald Zochert', 'Bram Stoker/Nina Auerbach/David J. Skal', 'Stuart Gilbert', 'Søren Kierkegaard/Alastair Hannay', 'Harry G. Frankfurt/Baruch Spinoza', 'John  Compton/Charlton Heston', 'Rosie Daley/Oprah Winfrey', 'Lonn M. Friend', 'Raph Koster/Will Wright', 'Edward T. Haslam/Jim Marrs', 'Hugh Laurie', 'Laurence L. Brunton/John S. Lazo/Keith  L. Parker', 'Nancy Friday', 'Hunter Davies', 'Pamela Duncan Edwards/Troy Howell', 'Architecture For Humanity/Cameron Sinclair', 'Sylvia Day/B.J. McCall/Sahara Kelly/Elisa Adams/Denise A. Agnew/Anna J. Evans', 'Frederick Douglass/David W. Blight', 'Charles Boyce/David Allen White', 'Norton Juster/Jules Feiffer', 'W.E.B. Griffin', 'Stephen G. Kochan', 'Kim Newman', 'Bob Blaisdell/Pat Ronson Stewart', 'Frances Mayes', 'Richard Brzezinski/Graham Turner', 'Norman Maclean/Annie Proulx', 'Robert Frost', 'Elliot Aronson/Robin M. Akert/Timothy D. Wilson', 'Dow Mossman', 'Bruce Coville/Kathryn Hewitt', 'Frederick Douglass/Harriet Ann Jacobs/Kwame Anthony Appiah', 'Lauren Henderson/Chris Manby/Sarah Mlynowski/Jill A. Davis/Stella Duffy/Lisa Jewell/Marian Keyes/Sophie Kinsella/Adèle Lang/Carole Matthews/Anna Maxted/Megan McCafferty/Alisa Valdes/Isabel Wolff/Meg Cabot/Jessica Adams/Louise Bagshawe/Emily Barr/Jenny Colgan/Lynda Curnyn/Jennifer Weiner', 'Steve  Miller', 'Sean B. Carroll/Jamie W. Carroll/Leanne M. Olds', 'William   Anderson/Leslie A.  Kelly', 'Meredith Daneman', 'Henry James/Anthony Curtis', 'François Rabelais/Thomas Urquhart/Pierre Le Motteux', 'Stephen Briggs/Terry Pratchett', 'Paulo Coelho/Alan R. Clarke/Özdemir İnce', 'Aesop/Laura Harris/Laura Gibbs', 'Timothy Ferris', 'Douglas Preston/Lincoln Child/Scott Brick', 'Kurt Vonnegut Jr./Ivan Chermayeff', 'Sean Smith', 'Alexander Heidel', 'Robert Louis Stevenson/Diana Castellanos/Eleonora Garcia Larralde', 'William Shakespeare/Kenneth Muir', 'Daniel Topolski/Patrick Robinson', 'Kevin   Walsh', 'Alice Munro/Susanna Basso', 'James A. Hetley', 'Patricia D. Netzley', 'Nicolas Tredell', 'Gus Russo', 'Corinne Hofmann/Peter Millar', 'Jeff Povey', 'Douglas Adams/Dirk Maggs/Simon  Jones/Geoffrey McGivern/Mark Wing-Davey/Susan  Sheridan/Sandra Dickinson/Stephen  Moore/William Franklyn/Rula Lenska/Sam  Burke', 'Luigi Pirandello/William Weaver/Samuel Putnam', 'Victor Hugo/Charles E. Wilbour/Peter Washington', 'Robert A. Nye', 'Aljean Harmetz', 'Brian L. Weiss', 'Dava Sobel/Neil Armstrong', 'Kenneth C. Laudon/Jane P. Laudon', 'John  Baxter/Mel Bay', 'Frederick Exley/Jonathan Yardley', 'Gary Oates/Robert Paul Lamb/Randy Clark', 'Yvonne Tasker', 'Christopher Marlowe/Robert Lindsey/Frank Romany', 'Mark Epstein/Charlie Conrad', 'Marion Zimmer Bradley/Diana L. Paxson', \"Margaret Weis/Tracy Hickman/Barbara Siegel/Scott Siegel/Roger E. Moore/Warren B. Smith/Nick O'Donohoe/Richard A. Knaak/Nancy Varian Berberick/Mary L. Kirchoff/Michael   Williams\", 'Alex Ross/Geoff Spear/Chip Kidd', 'James M. Cain', 'Devra Davis/Mitchell Gaynor', 'Victoria Finlay', 'Estelle B. Freedman', 'Richard P. Feynman/Robert B. Leighton/Matthew L. Sands/Paul Davies', 'Plato/Walter Hamilton/Chris Emlyn-Jones', 'Sophocles/George      Young', 'Stephen King/Bernie Wrightson/Michele Wrightson', 'Jessica Snyder Sachs', 'G.K. Chesterton/Anton C. Pegis', 'George Lakoff/Mark  Johnson', \"David Sedaris/Richard Yates/Dorothy Parker/Joyce Carol Oates/Lorrie Moore/Flannery O'Connor/Amy Hempel/Akhil   Sharma/Tim Johnston/Tobias Wolff/Sarah Vowell/Charles Baxter/Jhumpa Lahiri/Katherine Mansfield/Alice Munro/Jean Thompson/Frank Gannon/Patricia Highsmith/Jincy Willett\", 'Tom Morris', 'Dr. Seuss/Various', 'Aristophanes/Robert Mayhew', 'Joyce Lankester Brisley', 'Herman Melville/Nathaniel Philbrick', 'William Shakespeare/John D. Cox/Eric Rasmussen', 'Marcel Proust/Mark Treharne/Christopher Prendergast', 'David Levithan/Patricia McCormick/Matthue Roth/Kevin Waltman/Samantha Schutz/Coe Booth/Eddie de Oliveira/Tanuja Desai Hidier/Kevin Brooks/Chris Wooding/Markus Zusak/Brian James/Kristen Kemp/Eireann Corrigan/Christopher Krovatin/Billy Merrell', 'Deborah  Gordon', 'Rick Decker/Stuart Hirshfield', 'William Shakespeare/Philip Edwards/Robert Hapgood', 'Sophocles/J.E. Thomas', 'Steve Allen', 'Alexandre Dumas/Julie Rose/Lorenzo Carcaterra', 'Mian Mian/Andrea Lingenfelter', 'Frank N. Magill', 'John F. Nash/Harold William Kuhn/Sylvia Nasar', 'Michael Wharton', 'Haruki Murakami/Alfred Birnbaum/Jay Rubin', 'Rohinton Mistry/Françoise Adelstain', 'Aristophanes/Douglass Parker', \"Jun'ichirō Tanizaki/Edward G. Seidensticker\", 'Virginia Woolf/Anne Olivier Bell/Quentin Bell', 'James Krüss', 'Gary A. Braunbeck/Deena Warner', 'Lidia Matticchio Bastianich/Tanya Bastianich Manuali/David Nussbaum/Christopher Hirsheimer', 'Katherine Dunn', 'Jack Kerouac/George Condo', 'Arthur  Miller/Christopher Bigsby', 'Alma Flor Ada/Leslie Tryon', 'Dante Alighieri/Allen Mandelbaum/Laury Magnus/Anthony Oldcorn/Daniel Feldman/Barry Moser', 'Aeschylus/Ted Hughes', 'Indu Sundaresan/Alberto Coscarelli', 'John Irving/Hans Hermann', 'Virginia Woolf/Mark Hussey/Jane Marcus', 'Michael Jan Friedman', 'Paola Cavalieri/Peter Singer', 'Richard Hollis', 'Georges Bataille', 'Peggy Parish/Various', 'W. Frederick Zimmerman', 'Carolyn Strom Collins/Christina Wyss Eriksson/Mary Collier', 'Rupa Bajwa', 'Candace Schuler', 'Philip J. Ivanhoe/Bryan W. Van Norden', 'Shannon Hengen', 'Orson Scott Card/Kathryn H. Kidd', 'Herodotus/Aubrey de Sélincourt/Andrew Robert Burn', 'Arthur Schopenhauer/Judith Norman/E.F.J. Payne/Alistair Welchman/Christropher Janaway', 'Karl Marx/Friedrich Engels/Phil Gasper', 'Gustave Flaubert/Margaret Cohen/Eleanor Marx', 'Pierdomenico Baccalario/Iacopo Bruno/Leah D. Janeczko', 'William Shakespeare/Burton Raffel/Harold Bloom', 'Rudyard Kipling/Charles R. Smith Jr.', 'A.J. Jacobs', 'Bryan Magee', 'Jane Haddam', 'Jim Keogh/John Shapley Gray', 'Laura Esquivel/Jordi Castells/Ernesto Mestre-Reed', 'Emma Barker/Nick Webb/Kim W. Woods', 'Bram Stoker/Charles Osborne', 'Geoffrey Chaucer', 'Eduardo Galeano/Cedric Belfrage/Mark Schafer', 'Hershel Parker', 'Mary Wollstonecraft Shelley/Leonard Wolf/Christopher H. Bing', 'Jane Chance/Alfred Siewers', 'Louis E. Catron', 'Ellen Anker/Denise Dersin', 'R.B. Bernstein', 'Orson Scott Card/David Birney/Scott Brick/Gabrielle de Cuir/Scott Sowers', 'Scott  Freeman', 'Adèle Geras/Shelagh McNicholas/Adèle Geras', 'David Poyer', 'Steven Pinker/Jacques A. Mehler', 'Simon Anholt', 'John Milton/Scott Elledge', 'Michael J. Bradley', 'Sam R. Watkins', 'Ann M. Martin', 'Antonin Artaud/Bernard Bador/Clayton Eshleman', 'Robert Bringhurst', 'Ross Thomas', 'Margaret Weis/Esther M. Friesner/Roger Zelazny/Bruce Holland Rogers/Robin Wayne Bailey/Janet Pack/Lawrence Schimel/Jody Lynn Nye/Janet Asimov/Lisa Mason/Jane Lindskold/Mickey Zucker Reichert/Lawrence Watt-Evans/Peter Crowther/Gary A. Braunbeck/Connie Hirsch/Tobin Larson/Kevin T. Stein', 'Immanuel Kant/Mary J. Gregor', 'Connie Mason', 'Michael Azerrad', 'Natalie Goldberg', 'Charles de Lint/Robin Wayne Bailey/Philip José Farmer', 'Nelson Mandela/Kofi Annan/Danny Glover', 'Stephen Mark Rainey/H.P. Lovecraft/Ramsey Campbell/Edward P. Berglund/Fred Chappel/Caitlín R. Kiernan/Thomas F. Montelone/E.A. Lustig/Brian McNaughton/William R. Trotter', 'Denise Little/J. Robert King/Margaret Weis/Tracy Hickman/Janet Pack/Jean Rabe', 'Stanisław Lem/Michael Kandel/Daniel Mróz', 'Catherine Gilbert Murdock', 'John Steinbeck/Robert DeMott/Mick Wiggins', 'Russell Banks/Pierre Furlan', 'Michael Crichton/Stephen Lang/Anthony Heald/Blair Brown', 'Ben Schott/Collin Deckerman', 'Terry Jones/Michael Foreman', 'Jean Van Leeuwen/Ann Schweninger', 'John Bunyan', 'Susan Ring/Kirk Albert Etienne', 'Nick Flynn/Shirley McPhillips/Philippa Stratton', 'Saul Bellow/Christopher Hitchens', 'Mark Waid/Mike Wieringo', 'Anne McCaffrey/Dick Hill', 'Jorge Cruise', 'Dick Francis/John Welcome', 'Mary K. Baxter/T.L. Lowery', 'L.M. Montgomery/Barbara Caruso', 'James Mangold/Anna Hamilton Phelan/Lisa Loomer/Susanna Kaysen', 'Stephen Wright', 'Chris Ryall/Gabriel Rodríguez/Clive Barker', 'Karl Marx/Friedrich Engels', 'Adam Mansbach', 'Epictetus/Sharon Lebell', 'Carol Dommermuth-Costa', 'Kira Salak', 'Elizabeth Kostova/Paul Michael/Justine Eyre', 'Walter Isaacson/Evan Thomas', 'Gustave Flaubert/Roger Whitehouse/Geoffrey Wall', 'Eudora Welty/Reynolds Price', 'Jim Thompson/Stephen King', 'Mikhail Bulgakov/Михаил Булгаков', 'William Shakespeare/Richard Proudfoot/Ann Thompson/David Scott Kastan/Harold Jenkins', 'Franz Kafka/Stanley Corngold', 'Nikki Stafford', 'James Joyce/Declan Kiberd', 'Sylvia Cassedy', 'Erin McCarthy', 'Augustine of Hippo/Henry Bettenson', 'Jim Northrup', 'William Sleator/Lawrence Di Fiori', 'Kitty Burns Florey', 'Sophocles/Ruby Blondell', 'Douglas Adams/Martin  Freeman', 'Karl Marx/Friedrich Engels/Samuel Moore', 'Yasunari Kawabata/J. Martin Holman', 'John Wilcockson/Graham   Watson', 'Val McDermid', 'Stephen M. Pollan', 'Allen J. Frantzen/Ruth Mazo Karras/Madonna J. Hettinger/Elizabeth Stevens Girsch/John Ruffing/George Ovitt Jr./Ross Samson/Niall Brady/Douglas Moffat/David Aers/Louise M. Bishop', 'John         Green/Caroline Denzler', 'Dan Simmons/Jean-Daniel Brèque', 'Jean Baudrillard/Emily Agar', 'Euripides/David Grene/Richmond Lattimore/William Arrowsmith/Frank William Jones/Charles R. Walker', 'Peter Milligan/Mike Allred/Paul Pope', 'Augustine of Hippo/Boniface Ramsey/Edmund Hill', 'Patricia Daniels Cornwell/Patricia Cornwell', 'John Dickson Carr/Daniel Stashower', \"David G. Hartwell/Fritz Leiber/Fitz-James O'Brien/Shirley Jackson/Ambrose Bierce/Edith Wharton/Algernon Blackwood/Thomas M. Disch/Robert Aickman/Philip K. Dick/Gene Wolfe/Charles Dickens/Stephen King/Joyce Carol Oates/Walter de la Mare/Ivan Turgenev/Robert W. Chambers/Oliver Onions\", 'Dave Eggers/Christopher R. Howard/Jonathan Ames/Joe Meno/Eric Hanson', 'Richard Bachman/Stephen King/Joseph M. Apfelbäume', 'Laura Driscoll/Alisa Klayman-Grodsky/Eric     Weiner', 'Edgar Rice Burroughs/Esteban Maroto/J. Allen St. John/Studley Burroughs', 'Vladimir Nabokov/Jeremy Irons', 'Wanda Sykes', 'Joe Haldeman/William Nabors/Harry Harrison/Damon Knight/Harlan Ellison/Ben Bova/Poul Anderson/Isaac Asimov/Mack Reynolds/Alec Effinger', \"Peter J. D'Adamo/Catherine Whitney\", 'Friedrich Nietzsche/Michael Tanner', 'Marc Andreyko/Javier Pina/Jesus Saiz/Brad Walker', 'Thomas Andrews/Scott Allie', 'Chalmers Johnson/Shara Kay', 'Stephanie Rowe', 'Karen Cushman/Trina Schart Hyman', 'Voltaire/Mona Mulhair', 'Mark Mittelberg/Lee Strobel', 'Leo Tolstoy/Peter Sekirin', 'Murray Sayle/Charles Flowers/Elliott Erwitt', 'Robert Brent Toplin', 'Judith Butler/Ernesto Laclau/Slavoj Žižek', 'Don  Lee', 'Charlotte Brontë/Emily Brontë/Anne Brontë', 'Brian Herbert', 'Marvin Kaye', 'Mercedes Lackey/Ellen Guon', 'J.R.R. Tolkien/Douglas A. Anderson', 'Federico García Lorca/Christopher Maurer', 'Jonathan Swift', 'Philippa Carr', 'Larry J. Koenig', 'Chris Abani', 'Angela Knight/MaryJanice Davidson/Virginia Kantra/Sunny', 'Desmond Morris', 'E.R. Eddison/Gerald Ravenscourt Hayes/Keith   Henderson', 'Patti   Davis', 'Lloyd P. Gerson', 'Daniel  Wallace/Ryder Windham', 'Joan Holub/Lynne Avril Cravath', 'Jack Frost', 'Jean Rabe/Martin H. Greenberg/Stephen Leigh/Gene DeWeese/Joe Masdon/Donald J. Bingle/Skip Williams/Penny Williams/Pierce Askegren/Nancy Virginia Varian/Wes Nicholson/John Helfers/Chris Pierson/Harry Turtledove/Kevin J. Anderson/Robert E. Vardeman/Jackie Cassada/James M. Ward/Jon L. Breen/Linda P. Baker', 'Terry Breverton', 'E.B. White/Garth Williams/Catherine Chaine', 'Laurell K. Hamilton/Charlaine Harris/MaryJanice Davidson/Angela Knight/Vickie Taylor', 'Arturo Pérez-Reverte', 'Michael S.  Smith/Diane Dorrans Saeks', 'Eliot Asinof/Stephen Jay Gould', 'Jonathan Safran Foer/Dirk van Gunsteren', \"Ann Margaret Lewis/Helen Keier/Chris Trevas/William O'Connor\", 'Paul La Farge/Stephen Alcorn', 'Mike Kennedy/Carlos Meglia', 'Steve Blamires/Sandy Leuthner', 'John Gribbin', 'James Joyce/Harry Levin', 'Virgil/G.P. Goold', 'Bill Richardson', 'John Gardner/Tom Bissell', 'Mike   Mason', 'Terry Pastor/Damon Knight/Philip K. Dick/C.M. Kornbluth/Bob Shaw/Frederik Pohl/Alfred Bester/C.L. Moore/Henry Kuttner/Robert Sheckley/James Blish/Cordwainer Smith/Brian W. Aldiss/Jack Vance', 'Bernard Malamud/Jonathan Rosen', 'Meljean Brook', 'Jonathan Swift/Robert Hardy', 'Haruko Taya Cook/Theodore F. Cook', 'Cynthia W. Shelmerdine', 'Yona Zeldis McDonough/Nancy Harrison/Jill Weber', 'Sherman Alexie', 'Chris Archer', 'James Frey', 'Naguib Mahfouz/Tagreid Abu-Hassabo', 'Stephen King/María Mir', 'Johann Wolfgang von Goethe/Peter Hutchinson/Elisabeth Stopp', 'Bill Bryson/David B. Ellis', 'Edward Bulwer-Lytton/John Gregory Betancourt', 'Mary Higgins Clark/Karin Dufner', 'Karl Marx/Friedrich Engels/Gareth Stedman Jones', 'Karen Hesse/Evon Zerbetz/Kim McGillivray', 'Zolar', 'Solomon Jones', 'George Balanchine/Francis Mason', 'Robin Waterfield/John Grisham', 'Leonard  Orr', 'Dan B. Allender', 'Bruce L. Edwards/Diana Pavlac Glyer', 'John A. Keel', 'Dorothy Parker/Marion Meade/Seth', 'William   Anderson/Laura Ingalls Wilder', 'Noel Streatfeild/Judith Gwyn Brown', 'Charles Dickens/P.J. Lynch', 'Hiawyn Oram/C.S. Lewis/Tudor Humphries', 'Graham Greene/Zadie Smith', \"Robert L. O'Connell/John    Batchelor\", 'Eugène Ionesco/Donald M. Allen', 'Richard Reeves', 'Don DeLillo/Marianne Véron', 'Carolyn Meyer/Carme Camps Monf', 'E. Nesbit/H.R. Millar', 'Betty Friedan/Anna Quindlen', 'Robert Hutchinson', 'Chris Anderson/Federico Villegas Silva Lezama', 'Martin Luther King Jr./Clayborne Carson', 'Laurell K. Hamilton/Stacie Ritchie/Jessica Ruffner/Brett Booth', 'Martin Gardner', 'Jeremy Gilbert-Rolfe', 'Maria Coffey/Thomas Hornbein', 'Ursula Hegi/John Collier/Francine Kass', 'Martin S. Fridson/Charles Mackay/Joseph de La Vega', 'Martin H. Greenberg/Brittiany A. Koren/Brian Stableford/Mickey Zucker Reichert/Fiona Patton/Jim C. Hines/Esther M. Friesner/Donald J. Bingle/Alan Dean Foster/Devon Monk/Phaedra M. Weldon/Christina F. York/Jana Paniccia/Josepha Sherman/Susan Sizemore/Michael Jasper/Janny Wurts/Lisanne Norman', 'Ernest Hemingway/Stacy Keach', 'Margot Adler', 'Frances Hodgson Burnett/Nancy Bond', 'Carol Belanger Grafton', 'Andrew      Hunt', 'Temple Grandin/Margaret M. Scariano', 'James Pinocchio/Pablo Fenjves', 'Aeschylus/Alan Shapiro/Peter H. Burian', 'J.M. Coetzee/Amy Gutmann/Peter Singer/Wendy Doniger/Barbara Smuts/Marjorie Garber', 'George Eliot/Harriet Walter', 'Lauren Slater/Robert Atwan', 'Deborah Blum', 'Orson Scott Card/James Francis Cameron', 'Sayadaw U. Pandita/Kate Wheeler/Swami Vivekananda', 'Gavin Baddeley/Dani Filth', 'Neil deGrasse Tyson/Stephen Tyson', 'Colum McCann', 'L. Alan LeDoux', 'Neil LaBute', 'George Orwell/Lionel Trilling', 'Sophocles/Bernard Knox/Cynthia Brantley Johnson', 'Richard Wilhelm/Cary F. Baynes/C.G. Jung', 'Tom Hunter/Tracy Chevalier/Colin Wiggins', 'Michele K. Spike', 'Georges Perec/John Sturrock', 'Eric P. Kelly/Janina Domanska', 'Sharon Green', \"Louisa May Alcott/Jame's Prunier/Laura Cangemi\", 'Mark Twain/Peter Coveney', 'Herbert Asbury', 'Orhan Pamuk', 'Juliette De Bairacli Levy', 'Melinda Long/David Shannon', 'Angela Knight/Sheri Gilmore/Morgan Hawke', 'Carl Safina', 'Bernard Malamud/Aleksandar Hemon', 'Jean-Paul Sartre/Azzedine Haddour', 'Karl Marx/Friedrich Engels/Martin Puchner', 'Pablo Neruda/Stephen Tapscott', 'Charles A. Peek/CliffsNotes/Joseph Heller', 'Lois H. Gresh/Robert E. Weinberg', 'Laura Ingalls Wilder/Richard  Hull', 'Gustave Flaubert/Αχιλλέας Κυριακίδης/Mark Polizzotti/Raymond Queneau', 'Roger Penrose', 'Walter Scott', 'Marianne Williamson', 'Laura Buller/D.K. Publishing', 'Margaret Weis/Tracy Hickman/Aron Eisenberg/Jean Rabe/Richard A. Knaak/Douglas Niles/Paul B. Thompson', 'Andrew P. Trout', 'Tony Judt', 'Frank Herbert/Brian Herbert/Kevin J. Anderson', 'Ben Carson/Cecil Murphey', 'Walter Rodney/Vincent Harding', 'Franz Kafka/Joachim Neugroschel', 'Cornell Woolrich', \"Anne Rice/Robert O'Keefe/F. Murray Abraham/Michael York/Kate Nelligan/David Purdham\", 'Hermann Hesse/Stanley Appelbaum', 'Hidenori Hara/Hitori Nakano', 'Annie Proulx/Lew Nichols', 'Retha M. Warnicke', 'Eric Hobsbawm/Allan Cameron/Antonio Polito', 'Ryūnosuke Akutagawa/Jay Rubin/Haruki Murakami/Yoshihiro Tatsumi', 'David Cote/Stephen Schwartz/Joan Marcus/Winnie Holzman', 'Graham Chapman/Eric Idle/Terry Gilliam/John Cleese/Terry Jones/Michael Palin/Roger Wilmut', 'Dan Brown/Paul Michael', 'Peter J. Smith', 'Scott Leonard/Megan McMorris', 'Mark Wigan', 'James K. Lowers/William Shakespeare/CliffsNotes', 'Alexander Pope/Pat Rogers', 'J.M. Barrie/Tim Curry', 'Franz Kafka/Jason Baker/Donna Freed', 'Norton Juster/Chris Raschka', 'Martin Heidegger/Albert Hofstadter', 'Alex Constantine', 'C.S. Lewis/Lyle Wesley Dorsett/Marjorie Lamp Mead/Douglas Gresham', 'Isaac Asimov/Orson Scott Card', 'Zora Neale Hurston/Ruby Dee', 'James Baldwin/Toni Morrison', 'Dennis Slifer/R. Carlos Nakai', 'Virgil/Cecil Day-Lewis', 'Mary Ellen Snodgrass', 'Reginald Hill', 'Gwen Moran', 'Thucydides/Jennifer Tolbert Roberts/Walter Blanco', 'E.R. Eddison', 'Herman Melville/Tony Tanner/John Dugdale', 'Michael Koryta', 'Jack London/Roger Dressler', 'Thucydides/Paul Woodruff', 'Manuela Soares/Judy Grahn/Nisa Donnelly', \"Patrick O'Brian/Richard Snow\", 'Dante Alighieri/Allen Mandelbaum/Eugenio Montale', 'Chris L. Demarest/Berlitz Publishing Company', 'Stan Berenstain/Jan Berenstain', 'Bill Willingham/Mark Buckingham/Craig Hamilton/Steve Leialoha/P. Craig Russell', 'Mimi Dietrich', 'D.W. Buffa', 'Mary Gordon', 'Friedrich Nietzsche/R.J. Hollingdale', 'William Shakespeare/Stephen Orgel/A.R. Braunmuller/Claire McEachern', 'Paschal Beverly Randolph', 'Ian Ogilvy', 'Douglas C. Giancoli', 'Radclyffe', 'Michael      Casey/Redwood Kardon/Douglas Hansen', 'Stephen Kinzer', 'Jean-Jacques Rousseau/Maurice Cranston', 'Don Rosa/Carl Barks/Lars Jensen/Pat McGreal/Carol McGreal/Frank Jonker/Romano Scarpa/Mau Heymans/José Massaroli', 'Robert X. Cringely', 'Dante Alighieri/Dorothy L. Sayers/Barbara Reynolds', 'Cynthia Rylant/Jim LaMarche', 'Fyodor Dostoyevsky/Constance Garnett/Maire Jaanus', 'Patricia Highsmith', 'Stephen M.R. Covey', 'Eva-Maria Metcalf', 'Helen Ericson', 'Alfred Uhry', 'James Ellroy/Art Cooper', 'Christina Schwarz', 'Fyodor Dostoyevsky/Constance Garnett/Elizabeth Dalton', 'Govind Armstrong/Lisa Romerein/Tyler Florence', 'Howard W. Stone/James O. Duke', 'Christopher Bram', 'Abraham Lincoln/Gore Vidal', 'Jack Higgins', 'Robert Robinson/Jonathan Slevin', 'Jeannette Walls/Julia Gibson', 'Nicholas Christopher', 'Mark Twain/E.W. Kemble', 'Ben Katchor', 'Mark Twain/Scott McKowen/Arthur Pober', 'Anne Moody', 'Homer/Stanley Lombardo/Sheila Murnaghan', 'James Lamar Roberts/Gary Carey', 'Lynda Madison/Bonnie Timmons/Norm Bendell', 'Adam Gopnik', 'David Bowie/Mick Rock', 'Robertson Davies/Wayne Johnston', 'E.B. White/Roger Angell/Barbara Cohen/Judith Stonehill', 'Mikhail Bulgakov/Michael Karpelson', 'Bessie Head', 'Paul Galdone/Joanna Galdone', 'Arthur  Miller/Tony Kushner', 'D.H. Lawrence/Vivian de Sola Pinto/Warren Roberts', 'Jack London/Wendell Minor', 'Deborah Spungen', 'Mary Jane Maffini', 'Jack Kerouac/Ann  Douglas', 'Judith Viorst/Richard  Hull', 'Peg Kerr', 'Mine Yoshizaki', 'David W. Mount', 'H.P. Lovecraft/Peter Straub', 'Umberto Eco/Jean-Noël Schifano', 'Gloria Naylor', 'Denny Caringer/Better Homes and Gardens', 'Halldór Laxness/Magnus Magnusson/Jane Smiley', 'Margaret Shepherd/Penny Carter/Sharon Hogan', 'Paul J. Mikol/Dean Koontz/F. Paul Wilson/Sheri S. Tepper/Ray Garton', 'Bob Dylan/Jonathan Cott', 'Confucius/Henry Rosemont Jr./Roger T. Ames', 'Michael Crichton/Chris Noth/Anthony Heald', 'Linda Turner', 'Fran Leeper Buss/Daisy Cubias', 'Lewis Carroll/Hugh Haughton/John Tenniel', 'Ralph Ellison', 'Clare Naylor', 'Kent R. Weeks', 'William Shakespeare/Paul D. Moliken', 'Amy Krouse Rosenthal/Jane Dyer', 'Cornelius Agrippa/Donald Tyson', 'Alexander McCall Smith/Lisette Lecat', 'Paul Coughlin/Laura Schlessinger', 'Jodi Cobb/Ian Buruma', 'Donald A. Mackenzie', 'Lord Dunsany/S.T. Joshi', 'Sophocles/David Grene/Richmond Lattimore', 'Peter Reinhart/Ron Manville', 'Umberto Eco/John Radziewicz/William Weaver', 'Michael   Barber', 'Thomas Bailey Saunders', 'Bruce Coville/Dennis Nolan', 'Carroll John Daly/Drew Bishop', 'John Prevas', 'Elizabeth Noble', 'Max Brooks', 'Neil Strauss/Vince Neil/Nikki Sixx/Tommy Lee/Mick Mars', 'Grant Morrison/Richard Case/Mike Dringenberg/Mark McKenna/Jamie Hewlett/Steve Yeowell/Rian Hughes', 'Jessica Hagedorn', 'Vasant Moon/Gail Omvedt/Eleanor Zelliot', 'Susan Ring/Anna Okabe', 'Miguel de Cervantes Saavedra/Walter Starkie', 'Herman Melville/Harrison Hayford/Merton M. Sealts Jr.', 'Ephraim Sevela/Antonina W. Bouis', 'Mark Bowden', 'Maxim Gorky/Avrahm Yarmolinsky/Moura Budberg', 'Plato/Reginald E. Allen', 'H.G. Wells/E.F. Bleiler', 'Elizabeth Castro', 'C.S. Lewis/Geoffrey Howard/Robert Whitefield/Robert Whitfield', 'John   Hammond/Irving Townsend', 'Damion Hunter', 'Faye Perozich/Anne Rice/John Bolton/Daerick Gröss', 'John Knoll/J.W. Rinzler', 'George E. Stanley', 'Nancy White Carlstrom/Lori McElrath-Eslick', 'Edward P. Jones/Kevin R. Free', 'Agatha Christie/Rosemary Leach', 'Primo Levi/Stuart J. Woolf/Philip Roth', 'Page McBrier/Lori Lohstoeter/Hillary Rodham Clinton', 'João Guimarães Rosa', \"Louis L'Amour\", 'Mary Karr', 'E.M. Forster/Nadia May', 'Lionel Trilling/E.M. Forster', 'Erik Larson/Tony Goldwyn', 'Scott Beatty/Robert Greenberger/Phil Jimenez/Daniel  Wallace', 'Warren G. Bennis', 'Charles Willeford/Lawrence Block', 'David McCasland/Oswald Chambers', 'Zora Neale Hurston/Henry Louis Gates Jr./Sieglinde Lemke', 'Melissa Kantor', 'Elisabeth Jean Wood', 'Kōbō Abe/Donald Keene', 'Naguib Mahfouz/Peter Theroux', 'Hayao Miyazaki/Yuji Oniki/Joe Hisaishi', 'Thomas Mann/T.J. Reed/H.T. Lowe-Porter', 'J.K. Rowling/Rufus Beck', 'R. McL. Wilson', 'Wilkie Collins/Norman Page/Toru Sasaki', 'James Joyce/Robert Scholes/A. Walton Litz', 'Paula J. Caplan', 'Bernard Malamud/Robert Giroux', 'T.S. Eliot/Mary Karr', 'Bruce H. Wilkinson/David Kopp/Heather Harpham Kopp', 'Sophocles/Edith Hall/H.D.F. Kitto', 'Stacey Szklut/Carol Stock Kranowitz/Lynn Balzer-Martin', 'Jane Hamilton/Frank  Muller/C.J. Critt', 'Edward St. Aubyn', 'Will Eisner/Stephen Eric Bronner/Umberto Eco/Sergei Nilus', 'Greg  Taylor', 'Jean-Paul Sartre/Hazel E. Barnes/Mary Warnock/Richard Eyre', 'Marion Woodman/Elinor Dickson', 'George Bernard Shaw/Sandie Byrne', 'Jan M. Kriebs/Carolyn L. Gegor', 'Donna Freitas', 'Grant Morrison/Howard Porter/John Dell', 'Caleb Carr', 'Aurelio Voltaire', 'Frances Hodgson Burnett/Alison Lurie', 'Rose Wilder Lane', 'Harlan Ellison', 'Charles Dickens/Stephen J. Wall/Helen Small', 'Geoffrey Chaucer/Theodore Morrison', 'John M. Barry', 'Charlotte Lyons/Mary Engelbreit/Barbara E. Martin', 'Dallas Willard', 'Miguel Serrano', 'Mark Steyn', 'Barry Hughart', 'Chad Oliver', 'Christopher Marlowe/David Wootton', 'Henry James/Jean Gooder', 'Louisa May Alcott/Sarah Elbert', 'Milan Kundera/Suzanne Rappaport', 'King Arthur Flour', 'Ken Mandelbaum', 'H.G. Wells/Barbara A. Turner', 'Patrick Süskind/Jean-Jacques Sempé', 'Beth A. Jones', 'Matt Wagner/Rich Rankin/Chris Pitzer/Diana Schutz', 'Tim LaHaye', 'Louisa May Alcott/James Bernardin', 'Watchman Nee', 'Peter D. Schiff/John Downes', 'Jamie Lee Curtis/Laura Cornell', 'Muhammad Yunus/Alan Jolis', 'Plato/Aaron Shepard/Benjamin Jowett', 'Alexandra Siy/Dennis Kunkel', 'Grant R. Osborne', 'Gary L. Hardcastle/George A. Reisch', 'Merlin Donald', 'Terry Tempest Williams', 'Robert Louis Stevenson/Barry Menikoff', \"America's Test Kitchen\", 'Mary Pope Osborne/Troy Howell/Homer', 'Spencer Johnson', 'Lewis Perdue', 'Bartholomew Gill', 'Tom Clancy/David Dukes', 'Robin Cook', 'Joseph Epstein', 'Amir D. Aczel', 'Slavoj Žižek/Marek Wieczorek', 'Robert Sabuda/Lewis Carroll', 'Jay McInerney/Sylvie Durastanti', 'Konrad Eisenbichler', 'Pierre Hadot/Michael Chase', 'Frances J. Roberts', 'Charles Baudelaire/Wallace Fowlie', 'John A. McDougall/Mary McDougall', 'Jennifer Crusie/Eileen Dreyer/Anne Stuart', 'Charles Taylor/Amy Gutmann/Michael Walzer/Susan R. Wolf/Shierry Weber Nicholsen/Kwame Anthony Appiah/Jürgen Habermas/Steven C. Rockefeller', 'Oliver Ho/Jamel Akib/Arthur Pober/Stephen Crane', 'Gail Grant', 'Johann Wolfgang von Goethe/Philip Wayne', 'Ernesto Laclau', 'Leonardo da Vinci/Martin Kemp', 'Fyodor Dostoyevsky/George Gibian/Jessie Coulson', 'Edwin A. Abbott/Rosemary Jann', 'Voltaire/Robert M. Adams', 'Robert Louis Stevenson/N.C. Wyeth/Timothy Meis', 'Dante Alighieri', 'Seamus Heaney/Margarita Ardanaz', 'John  Adams/John Patrick Diggins', 'Ben Mikaelsen', 'Ed McBain/Mark T. Sullivan', 'Ernest Hemingway/Matthew J. Bruccoli', 'Rosalind Miles', \"Bard E. O'Neill\", 'Stephen King/Marta I. Guastavino', 'Mark Stevens/Annalyn Swan', 'Karen Rizzo', 'Alistair Moffat', \"Ingri d'Aulaire/Edgar Parin d'Aulaire/Michael Chabon\", 'James Joyce/Craig Raine', 'Vijay Prashad/Howard Zinn', 'Selina Shirley Hastings/Juan Wijngaard', 'Carolyn Haywood', 'Kristi Gold', 'William Shakespeare/Terri Mategrano', 'Noah Eli Gordon', 'Jules Verne/George M. Towle/Bruce Sterling', 'James Joyce/Margot Norris/Hans Walter Gabler/Walter Hettche', 'Marcel Proust/Ian Patterson/Christopher Prendergast', 'Anna Quindlen', 'Greg Behrendt/Amiira Ruotola (-Behrendt)', 'Julian Caldecott/Lera Miles', 'Herman Melville/Robert Faggen', 'Bruce Alvin King', 'Harry G. Frankfurt', 'Virginia Woolf/Susan Dick', 'Harvey Pekar', 'Sally Potter/Virginia Woolf', 'James Salter', 'Thomas Pynchon/Christophe Claro/Brice Matthieussent', 'H.G. Wells/John Clute', 'Tsugumi Ohba/Takeshi Obata/大場 つぐみ/小畑 健', 'Edward F. Edinger', 'Laura Furman/David Guterson/Diane Johnson/Jennifer Egan', 'Stuart Russell/Peter Norvig', 'Susan Conant/Maxwell Award', 'Aeschylus/Philip Vellacott', 'Rosetta James', \"Simone de Beauvoir/Patrick O'Brian\", 'Clint Willis', 'Douglas Preston/Scott Sowers', 'Kristiana Gregory', 'Ivo Andrić/William H. McNeill', 'Bram Stoker/Jan Needle/Gary Blythe', 'Norman Schwarzkopf/Peter Petre', 'Lee Child/Hayward Morse/Garrick Hagon', 'Luis Sepúlveda/Chris Sheban/Margaret Sayers Peden', 'Ted Bader/Marilyn Bader', 'Walter Scott/Claire Lamont', 'Charlotte Fiell/Peter Fiell', 'Samuel Richardson/Sheila Ortiz Taylor', 'Albert Demeo/Mary Jane Ross', \"Madeleine L'Engle/Mary Chambers\", 'Hannah Arendt', 'Ronald Hayman', 'Ludwig Wittgenstein/Rush Rhees', 'Robert Egan/Kurt Vonnegut Jr.', 'Eudora Welty/Richard Bausch', 'Mark Mazower', 'Frank Portman', 'Sophocles/Theodore F. Brunner/Luci Berkowitz', 'Julia Briggs', 'Brian K. Vaughan/Adrian Alphona', 'Sigmund Freud/Philip Rieff', 'Karen Essex', 'Tacitus/Harold Mattingly/S.A. Handford', 'Cynthia J. Arnson/I. William Zartman', 'Ben Schoen/Andy Gordon/Gretchen Stull/Emerson Spartz/Jamie Lawrence', 'P.C. Cast/Kristin Cast', 'Richard K. Morgan/Bill Sienkiewicz/Goran Parlov', 'Guy W. Jones/Sally Moomaw', 'Usamah ibn Munqidh/Philip Khuri Hitti/Richard W. Bulliet', 'Judith Larner Lowry', 'José Saramago', 'Julie Elizabeth Leto/Leslie Kelly/Kimberly Raye', 'Robert Goddard', 'Susan Hill/John Lawrence', 'Michael B. Oren', 'Patricia Justine Tumang/Edwidge Danticat/Jenesha de Rivera', 'Jeremy Rifkin/Ralph Fowler', 'Maeve Binchy/René Huigen/Frans Thomése', 'Albert Camus/Anthony Bower/Herbert Read', 'Bob Marley', 'Walter Scott/George Grant', 'Sarah   Kay', 'John Steinbeck/Richard Astro', 'Paul Farmer/Amartya Sen', 'Gary Colombo/Bonnie Lisle', 'Jillian Hunter', 'Herbert Asbury/Jorge Luis Borges', 'Agatha Christie/Michael Bakewell/June Whitfield/Nicky Henson/Derek Waring/Natasha Pyne', 'Stephen Nachmanovitch', 'Jane Leslie Conly', 'Philip Gourevitch', 'Anne Rice/Camila Batlles', 'Euripides/James Morwood/Robin Waterfield', 'Norman Sherry', 'Friedrich Nietzsche/Michael Tanner/Shaun Whiteside', 'Juan Rulfo/Kermit Oliver/George D. Schade', 'Jacob Weisberg/Al Franken', 'Jorge Luis Borges/John Sturrock/Anthony Kerringan', 'Graham Greene/Christopher Hitchens', 'Rosita Arvigo/Nadine Epstein', 'Ed Gorman/Richard Laymon', 'Donna Woolfolk Cross', 'Michael Eliot Howard', 'Caitlin Brennan', 'Yasunari Kawabata/Edward G. Seidensticker/Yukio Mishima', 'Ray Bradbury/Christopher Hurt', 'Howard F. Lyman/Glen Merzer/Joanna Samorow-Merzer/Caldwell B. Esselstyn Jr.', 'David  Michaels/Tom Clancy', 'Charles Darwin/Michael T. Ghiselin', 'Rex Pickett', 'P.G. Wodehouse/John Mortimer', 'Oscar Wilde/Isobel Murray', 'Rumer Godden/Gary Blythe', 'Mark Bowden/Otto Penzler/Thomas H. Cook/S.C. Gwynne/Paige Williams/Mary Battiata/Howard Blum/John Connolly/Richard Rubin/Chuck Hustmyre/David Friedman/Denise Grollmus/Deanne Stillman/Jeffrey Toobin/Skip Hollandsworth/Jimmy Breslin/John Heilemann/Mark Jacobson/Robert Nelson', 'Doug Walsh', 'Rubem A. Alves', 'Kimon Nicolaides/Mamie Harmon', 'Émile Zola/Robert Lethbridge/Elinor Dorday', 'Mike Ashley/Eric Brown/Keith Brooke/Johan Heliot/Kevin J. Anderson/Sarah A. Hoyt/Justina Robson/Adam Roberts/Paul Di Filippo/Tim Lebbon/Molly Brown/Tony Ballantyne/Stephen Baxter/Richard A. Lupoff/Sharan Newman/Michael Pagel/Liz Williams/Brian Stableford/James Lovegrove/Ian Watson/Peter Criwther/Laurent Genefirt/F. Gwynplaine MacIntyre/Michael Mallory', 'Dinah L. Moché', 'David Brin', 'Kaza Kingsley/Melvyn Grant', 'Pablo Neruda/Stephen Mitchell', 'John D. Fitzgerald/Mercer Mayer', 'Orlando Figes', 'Peter Elkind', 'Hervé Guibert/Linda Cloverdale', 'Brian Jacques/Ian Schoenherr', 'Horace/David   West', 'Betty Mahmoody', 'Kingdome 19', 'Franz Kafka/Willa Muir/Edwin Muir/Gabriel Josipovici', 'Paulo Coelho/Alan R. Clarke/Mœbius', 'Eliza Gaynor Minden', 'Sun Tzu/Ralph D. Sawyer', 'John Weld/Phil Interlandi', 'F. Scott Fitzgerald/Edmund Wilson', 'Eugène Ionesco/Charles Marowitz/Donald   Watson', 'William Rodney Allen/Kurt Vonnegut Jr.', 'Dave Lakhani', 'Konrad Lorenz/Marjorie Kerr Wilson', 'Alexander Pushkin/Charles Johnston/John Bayley', 'Matt Riser/Martin Hsu', 'Kenneth H. Blanchard/Don Shula', 'Hope S. Warshaw/Warshaw Hope', 'Henry James/John Hollander/David Bromwich', 'Henry Mintzberg', 'T.S. Eliot', 'Patricia Cornwell/Carolyn McCormick', 'Lou Priolo', 'Stephen King/Glenn Chadbourne', 'Octavio Paz/Eliot Weinberger/Charles Tomlinson/William Carlos Williams/Monique Fong Wust/G. Aroul/Elizabeth Bishop/Paul Blackburn/Lysander Kemp/Denise Levertov/Muriel Rukeyser/Mark Strand', 'Pearson Scott Foresman/William S. Gray', 'Wallace Stegner/Bernard DeVoto', 'Peter Handke/Krishna Winston', 'Mary McCarthy', 'Henry Fielding/Doreen Roberts', 'Don Colbert', 'Simón Bolívar/Frederick H. Fornoff/David Bushnell', 'Bill Willingham/Matthew Sturges/Tony Akins/Andrew Pepoy', 'Ernest Hemingway/Donald Sutherland', 'Franz Kafka/Donna Freed/Jason Baker', 'Barbara Park/Kenneth Lafreniere', 'John Guy', 'H.P. Lovecraft/August Derleth/E. Hoffmann Price', 'Lyman S. Spitzer Jr.', 'C.S. Lewis/Michael Hauge', 'Eamon Duffy', 'Daniel Duane', 'Mark Twain/Guy Cardwell/John Seelye/Walter Trier', 'Lesley Glaister', 'Homer/Victor G. Ambrus/Nick McCarty', 'Plato/Benjamin Jowett/Elizabeth Watson Scharffenberger', 'Friedrich A. Hayek', 'Shannon Drake', 'Martin H. Greenberg/Jack Nimersheim/Jane Yolen/Jack C. Haldeman II/Harry Turtledove/Laura Resnick/Mike Resnick/Karen Haber/Jane Lindskold/Lawrence Schimel/Barry N. Malzberg/Tanya Huff/Michelle Sagara West/Mark Aronson/Stefan R. Dziemianowicz/Jennifer Roberson/Kristine Kathryn Rusch/Elizabeth Ann Scarborough/Barbara Delaplace/Barb Jernigan/Blake Cahoon', 'Jane Austen/Claire Lamont/Ros Ballaster', 'Radcliffe G. Edmonds III', 'William Makepeace Thackeray/John Carey', 'Joseph Bruchac/Jonathan London/Thomas Locker', 'Jill Colella/CliffsNotes', 'Hans Jonas/Lawrence Vogel/Eleonore Jonas', 'Larry Young/Damian Couceiro/Kieron Dwyer', 'William Irwin/Gerald J. Erion/Barry  Smith/Carolyn Korsmeyer/Jonathan J. Sanford/Jason Holt/Theodore Schick Jr./Gregory Bassham/James Lawler/David Mitsuo Nixon', 'Simon Cleveland', 'Marc Eliot', 'Karin Slaughter/Denise Mina/John Harvey/Kelley Armstrong/John Connolly/Emma Donoghue/Jane Haddam/Laura Lippman/Peter Robinson/Fidelis Morgan/Peter Moore Smith/Lynda La Plante/Jerrilyn Farmer/Lee Child/Mark Billingham', 'Melody Carlson', 'Elvi Rhodes', 'Amy Tan/Claudia Conde', 'Euripides/Donald J. Mastronarde', 'Marlene Targ Brill/Lerner Publishing Group', 'Viktor E. Frankl/Gordon W. Allport/Ilse Lasch', 'Sylvia Nasar/Carlo Capararo/Sergio Mancini/Roberta Zuppet', 'Grant Morrison/Frank Quitely/Rafael De la Iglesia', 'Ina Garten/Melanie Acevedo', 'Jodee Blanco', 'Sandra Brown/Delia Mateovich', 'William  James', 'Vincent van Gogh/Metropolitan Museum of Art/William Lach', 'Welles Hartley/Davide Fabbri/Christian Dalla Vecchia', 'William S. Burroughs/James Grauerholz/Barry Miles', 'Vladimir Nabokov/Fredson Bowers/John Updike', 'Richard Bausch', 'Eric H.F. Law', \"Grant Morrison/Philip Bond/D'Israeli/Daniel Vozzo\", 'Carl Sagan/Ann Druyan', 'James Patterson/Roger Rees/Keith David', 'Denis Diderot/Leonard Tancock', 'Jiddu Krishnamurti/D. Rajagopal', 'Colin McGinn', 'Frances Hodgson Burnett/Sandra M. Gilbert', 'Geoff Emerick/Howard Massey/Elvis Costello', 'Randall Kenan', 'Stephen Jay Gould/Paul McGarr/Oliver Sacks/Steven Rose', 'David Donovan', 'Stephanie Spinner', 'Gustave Flaubert/Robert Baldick/Geoffrey Wall', 'Paul Auster/Art Spiegelman/Luc Sante', 'Thomas Aquinas/John A. Oesterle', 'Edward Lear/Simcha Shtull', 'Daniel Defoe', 'Ann Maxwell/Elizabeth Lowell', 'J.R.R. Tolkien/Christopher Tolkien/Alan  Lee', 'Carolly Erickson', 'Herodotus/Jennifer Tolbert Roberts/Walter Blanco', 'Sam Weller', 'Brenda Novak', 'Fannie Flagg/Cassandra Campbell', 'Mercedes Lackey/Tanith Lee/C.E. Murphy', 'Chris Malta/Lisa Suttora', 'Peter Martins/Paul Kolnik/Richard Corman/Howard  Kaplan', 'Stephen R. Covey/A. Roger Merrill/Rebecca R. Merrill', 'Tomo Matsumoto/Tomo Kimura', 'Hans Blumenberg', 'George Lakoff', 'Sarah Johnstone/Aaron Anderson/Sarah  Andrews/Lonely Planet', 'Poppy Z. Brite', 'Ursula K. Le Guin/Samuel Roukin', 'Robert Ferrigno', 'David Bjerklie', 'Gordon Dahlquist', 'Gregory Maguire/Dirk Zimmer', 'Rich Wulf/Shawn Carman/Seth Mason/Rob Vaux/Katie Yates/Brian Yoon/Fred Wan/D.J. Trindle', 'Daron Acemoğlu/James A. Robinson', 'Gilles Deleuze/Richard Howard', 'Thomas Aquinas/Ralph McInerny', 'Nancy Bartholomew', 'Euripides/Moses Hadas/John Maclean', 'Margaret Atwood/Laurel Merlington', 'Margaret Weis/Tracy Hickman/Aron Eisenberg', 'Deloris Jordan/Roslyn M. Jordan/Michael Jordan/Kadir Nelson', 'Pat Harrigan/Brian  Wood/Jeremy McHugh', 'David Weber/John Ringo', 'Stephen Hawking/Isaac Newton/Nicolaus Copernicus/Albert Einstein/Johannes Kepler/Galileo Galilei', 'Yasunari Kawabata/Howard Hibbett', 'Bruce Spizer', 'Simone Weil/Rachel Bespaloff/Mary McCarthy/Christopher E.G. Benfey/Hermann Broch', 'David Weisman/Melissa Painter', 'Antonio Gramsci', 'Janette K. Klingner/Sharon R. Vaughn/Alison Boardman', 'Amanda Eyre Ward', 'Nadeem Aslam', 'Joel Salatin/Michael Pollan', 'Wilkie Collins/Virginia Blain', 'Maeve Binchy/Wendy Shea', 'Eoin Colfer/Ana Alcaina Pérez', 'Edmund Burke/Adam Phillips', 'Philippa Pearce', 'Tracy Chevalier/Marie-Odile Fortier-Masek', 'Dante Alighieri/Anthony M. Esolen', 'Nancy Holyoke/Ali Douglass', 'Sara Zarr', 'Emily Dickinson', 'Jean Aitchison/Diana M. Lewis', 'Christopher Biffle/Plato', 'Henry James/Leo Bersani', 'Nobuhiro Watsuki', 'Dashiell Hammett/Steven Marcus', 'Warren Ellis', 'Stephen King/Jerry N. Uelsmann', 'George Selden/Garth Williams', 'Seth Godin/Malcolm Gladwell', 'Gene A. Brucker', 'Anton Chekhov/Ralph E. Matlaw', 'Max Lucado', 'Stephen Miller', 'Billy Crystal/Elizabeth Sayles', 'Paul Pitchford', 'Sarah Macdonald', \"Scott O'Dell/Tantoo Cardinal\", 'Grant Morrison/Richard Case/Doug Braithwaite/Scott Hanna/Carlos Garzon/John Nyberg', 'Carl Plasa', 'Graydon Carter/Tom Ford/Anna Wintour/Bridget Foley', 'Paul Murray', 'Teresa Medeiros', 'Wisława Szymborska/Stanisław Barańczak/Clare Cavanagh', 'Peter Mayle/Gerard Auzet', 'Justine Korman Fontes/Geoff Waring', 'David Axton/Dean Koontz', 'Wilson Rawls', 'Joan Aiken/Quentin Blake', 'Tom McGregor', 'Antonia Juhasz', 'Jane Austen/Karen Joy Fowler', 'Natalie Babbitt', 'Marshall McLuhan/Eric McLuhan/Frank Zingrone', 'George Plimpton', 'Robert Anton Wilson', 'Alexander Pope/Aubrey Williams', \"Bryan Lee O'Malley\", 'Will Durant/Grover Gardner', 'Randy Leffingwell/David Newhardt', 'Saul Leiter/Martin Harrison', 'Iraj Pezeshkzad/Dick Davis/Azar Nafisi', 'Donald H. Wolfe', 'Aeschylus/Peter Meineck/Helene P. Foley', 'R.L. Stine', 'Sarah Johnstone', 'Johann Wolfgang von Goethe/Deane B. Judd', 'Margot Theis Raven/Jeannie Brett', 'Alexander Hunter', 'Robin P. Williams/John Tollett/Dave Rohr', 'Heidi Murkoff/Arlene Eisenberg', 'Ben R. Kaplan', 'George Bernard Shaw/Susan Moller Okin', 'D.B. Wyndham-Lewis/Charles  Lee/Billy Collins/Max Beerbohm', 'Harold C. Livesay', 'Claire Brennan', 'Johann Wolfgang von Goethe/Nathan Haskell Dole/Thomas Carlyle/R. Dillon Boylan', 'Carolyn Brown', 'Robert Louis Stevenson/Milo Winter', 'Julie A. Schrader', 'Franz Kafka/Stanley Appelbaum', 'William Holdsworth', 'Michael D. Coe', 'Lynnette Khalfani', 'Friedrich Nietzsche/Walter Kaufmann', 'William Shakespeare/Susan Snyder/Deborah T. Curren-Aquino', 'Anonymous/Thomas Cahill', 'Eric Schlosser/Charles   Wilson', 'Ben Counter', 'Hannah Hurnard', 'Aeschylus/David Grene/Richmond Lattimore/Seth Benardete', 'Stephenie Meyer', 'Bob Cullen', 'Markus Zusak/Cao Xuân Việt Khương', 'Mariel Hemingway', 'William Shakespeare/Harold F. Brooks', 'Robert Sedgewick', \"Matt Ridley/Jesse Cohen/Alan Lightman/Joseph D'Agnese\", 'James H. Cobb/Robert Ludlum', 'Marcel Proust/C.K. Scott Moncrieff/Elizabeth Dalton', 'Margaret MacMillan/Richard Holbrooke', 'Patti Kelley Criswell/Norm Bendell', 'Ryū Murakami/Stephen Snyder', 'Bonnie Burton/Matt Busch/Tom Hodges', 'Mircea Eliade/Mac L. Ricketts/Matei Călinescu', 'Paul Davies', 'Mira Nair/Jhumpa Lahiri', 'Michael C. Feathers', 'Federico García Lorca/W.S. Merwin/Langston Hughes', 'Bill Buford/Clive Sinclair/Graham Swift/Martin Amis/Rose Tremain/A.N. Wilson/Pat Barker/Julian Barnes/Ursula Bentley/William Boyd/Buchi Emecheta/Alan Judd/Maggie Gee/Kazuo Ishiguro/Adam Mars-Jones/Ian McEwan/Shiva Naipaul/Philip Norman/Christopher Priest/Salman Rushdie/Lisa St. Aubin de Terán', 'Chris Chester', 'Naguib Mahfouz/Frances Liardet', 'Chet Green', 'Aristophanes/Kenneth James Dover', 'John Ostrander/Jan Duursema', 'Truman Capote/Reynolds Price', \"Mary O'Neill/John Wallner\", \"Justin   O'Brien\", 'Gilles Deleuze/Félix Guattari/Franz Kafka', 'James C. Humes/Richard M. Nixon', 'Henry M. Sayre', 'Douglas R. Hofstadter', \"John Baldessari/Paul Auster/Francine Prose/Peter Schjeldahl/David Byrne/Dave Eggers/David Gilbert/Tim Griffin/Andy Grundberg/John Haskell/Michael Kimmelman/Glenn O'Brien/Lynne Tillman\", 'Ivan Turgenev/Leonard Schapiro', 'Betty MacDonald/Hilary Knight', 'Charles Bukowski/John   Martin', 'James Daley/Barack Obama/Martin Luther King Jr.', 'Cheryl St. John', 'John Garth', 'Loree Lough', 'Alex Austin', 'Charles Darwin', 'Joseph Bruchac/Diana Magnuson', 'Jacqueline Harpman/Ros Schwartz', 'Anya Seton', 'Brian Jacques/Christopher Denise', 'Joe Kubert', 'Anne Tyler/Gemma Rovira', 'J.D. Salinger/Rudolph F. Rau', 'James Patterson/Andrew Gross/Carolyn McCormick', 'William Shakespeare/Robert     Smith/Jonathan    Morris', 'Charlotte Brontë/Margaret Smith/Sally Shuttleworth', 'V.S. Ramachandran/Sandra Blakeslee/Oliver Sacks', 'Georg Wilhelm Friedrich Hegel/Leo Rauch', 'Tacitus/Anthony Richard Birley', 'Fyodor Dostoyevsky/Constance Garnett/Charles Guignon', 'Bob Woodward/Alice Mayhew', 'Diana Butler Bass', 'Marilynne Robinson', 'Frank M. Carrano/Walter J. Savitch', 'David G. Hartwell/Clive Barker/Ray Bradbury/John Collier/Shirley Jackson/Stephen King/Joyce Carol Oates', 'Mary M. Flekke/Sarah E. MacDonald/Randall M. MacDonald', 'Virginia Lee Barnes', 'Katherine Neville', 'William Westney', 'David Wood/Roald Dahl', 'Roberts Liardon', 'Miles J. Stanford', 'Roland H. Bainton', 'Barbara Ann Brennan/Jos. A. Smith', 'Michael Ondaatje', 'Jean Baudrillard/James Benedict', 'Homer/Richmond Lattimore', 'Don    Wood', 'William Saroyan', 'Voltaire/Roger Pearson', 'Isaac Asimov/Charles G. Waugh', 'Homer/Andrew Lang', 'Edward Gibbon/Hugh Trevor-Roper', 'Paul Alexander', 'Richard M. Rorty', 'John W. Dean/Arthur M. Schlesinger Jr.', 'Eoin Colfer/Claudia Feldmann', 'Tom Morris/William Irwin', 'Louis Sachar/Adam McCauley', 'Judy Tam Sargent/Sonia Nordenson', 'Jeremy Weate/Peter Lawman', 'Larry J. Stephens', 'Rose A. Zimbardo/Neil D. Isaacs', 'Federico García Lorca', 'James Preller/John Speirs/James Preller', 'V.C. Andrews/Susanne Althoetmar-Smarczyk', 'Saul Bellow/Philip Roth', 'Leonore Fleischer', 'Wallace Stegner/Jackson J. Benson', 'Hermann Hesse/Leila Vennewitz', 'Riki Anne Wilchins', \"Kevin O'Malley/Carol Heyer/Scott Goto\", 'Margaret Atwood/Valerie Martin', 'Travis Bradberry/Jean Greaves/Patrick Lencioni', 'Émile Zola/Ernest Alfred Vizetelly/Henry Vizetelly', 'Russell Evans', 'Herman Melville/Hershel Parker/G. Thomas Tanselle/Harrison Hayford/Robert Sandberg/Alma MacDougall Reising', 'Bill Willingham/Terry Moore/Mike Allred/Lan Medina/Mark Buckingham/Matthew Sturges/Steve Leialoha/Craig Hamilton/Russ Braun/James Jean/Tony Akins/Eric Shanower/Shawn McManus/Jae Lee/Chrissie Zullo/David Petersen', 'Sophocles/Robert Fagles/Bernard Knox', 'George Orwell/Mauricio Molina/Miguel Martínez Sarmiento', 'Judith Butler', 'Mircea Eliade/Catherine Spencer', 'Alfred Hitchcock/Don Tothe', 'Margaret Cho', 'Marian Keyes/Roxane Azimi', 'William Shakespeare/Peter Hulme/William H. Sherman', 'National Geographic Society/Jon L. Dunn/Jonathan Alderfer', 'Cordwainer Smith', 'Neal Stephenson/J. Frederick George', 'Nicola Davies/Jane Chapman', 'Mark Manning', 'Vella Munn', 'Sandra Cisneros/Elena Poniatowska', 'V.C. Andrews/Elisa Cerdan', 'Rob Thomas/Leah Wilson/Heather Havrilesky/Amy Berner/Lynne Edwards/John  Ramos/Alafair Burke/Chris McCubbin/Lawrence Watt-Evans/Lani Diane Rich/Geoff Klock/Judy Fitzwater/Evelyn Vaughn/Joyce Millman/Amanda Ann Klein/Kristen Kidder/Jesse Hassenger/Gwen Ellery/Misty Hook/Samantha Bornemann', 'David J. Chalmers', 'Dean R. Koontz', 'Merline Lovelace', 'Anne Millard', 'Amanda Hemingway', 'Noam Chomsky/Barry Pateman', 'Chris Gray/Larry  Law', 'Paulo Coelho/Margaret Jull Costa/Kâmuran Şipal', 'David Sedaris/Joe Mantello', 'Joe Adamson', 'Slavoj Žižek/Glyn Daly', 'Joanna Strange', 'Jostein Gaarder/Paulette Møller', 'Charles Osborne/Agatha Christie', 'Glenn M. Schwartz', 'Herodotus/Peter Grene', 'Stuart M. Matlins', 'Joy Harjo/Gloria Bird/Beth Cuthand/Valerie Martinez/Patricia Blanco', 'Anonymous/Philip Boehm/Hans Magnus Enzensberger', 'Paule Marshall/Mary Helen Washington/Edwidge Danticat', 'Brian Sibley', 'Gelsey Kirkland/Greg Lawrence', 'Lindsey Davis/Mary Cutler/Anton Lesser/Fritha Goodey', 'Christopher Marlowe/H. Havelock Ellis', 'Jane Walmsley', 'Rachel Simon', 'Jimmy Carter/Amy Carter', 'Aeschylus/David Grene/Richmond Lattimore', 'Alexander Pushkin/Tom Beck', 'H.G. Wells/Gregory Claeys/Francis Wheen', 'Bruce Edward Walker/Ken Kesey/CliffsNotes', 'Rob Williams/Michel Lacombe', 'Louis P. Pojman', 'Philip Dutre', 'Naguib Mahfouz/Catherine Cobham/Naguib Mahfouz', 'Howard Chaykin/David Tischman/David Hahn', 'William Shakespeare/David Threlfall/Don Warrington/Anne-Marie Duff/Arkangel Cast', 'Halldór Laxness/James Anderson Thompson', 'Mark Twain/Shelly Fisher Fishkin', 'Lauren  Levin/Lauren Blitzer', 'Rachel Klein', 'Peter Kreeft', \"Eugene O'Neill/Harold Bloom\", 'Octavio Paz/Margaret Sayers Peden', 'Tucker Max', 'Michael A. Stackpole/Jan Strnad/Ryder Windham/Jordi Ensign/John Nadeau/Gary Erskine', 'David  Allen/Tina Blythe/Gene Thompson-Grove', 'Anne Chisholm', 'Knut Hamsun/George Egerton', 'Alexis de Tocqueville/John Stone/Stephen Mennell', 'Frances Goodrich/Albert Hackett/Wendy Kesselman', 'Peter Olafson', 'Alexis de Tocqueville/Harvey Mansfield/Delba Winthrop', 'Mary Wollstonecraft Shelley/Margaret Brantley', 'Georges Perec/Gilbert Adair', 'Ai Morinaga', 'Padraic Colum/Willy Pogány', 'Wang Wei/Li Bai/Li Ho/Li Shang-yin/David        Young', 'Emily Dickinson/R.W. Franklin', 'Mary Engelbreit/Leonard S. Marcus', 'Andrew Delbanco', 'William Sleator/Steven Kellogg', 'Diane Waldman/Bernard Malamud', 'Terri Apter', 'Joan Goldstein/Manuela Soares', 'Federico García Lorca/Norman Thomas di Giovanni', 'Charles Darwin/Philip Appleman', 'Wayne G. Hammond/Christina Scull/J.R.R. Tolkien', 'Dōgen/Kazuaki Tanahashi/Robert Aitken/Reb Anderson/Edward G. Brown/Norman Fischer/Arnold Kotler/Daniel Leighton/Lew Richmond/Katherine Thanas/Brian Unger/Mel Weitsman/Dan Welch/Philip Whalen/David    Schneider', 'Walter Scott/Nicola J. Watson', 'Emma Donoghue/Nick Drake', 'Barbara Bottner', 'Stephen Hunter/Philip Bosco', 'Marc Platt', 'Kenzaburō Ōe', 'William Murray', 'Stephen R. Covey/Jim Collins', 'Abdul Rahman Munif/Peter Theroux', 'Lalita Tademy', 'Jonathan Parshall/Anthony Tully', 'Karen Joy Fowler', 'Mark Crispin Miller', 'Kaoru Mori/森 薫', 'William L. Shirer/John Keegan/Inga Shirer Dean', 'Milan Kundera/Peter Kussi', 'Mulk Raj Anand/E.M. Forster', 'Gregory Maguire/Claudia Conde', 'James Preller/Jamie Smith/R.W. Alley', 'Paul Brooks/Rachel Carson', 'Robert Jordan/Charles Keegan', 'John Cheever/Rick Moody', 'William S. Burroughs/Oliver  Harris/Allen Ginsberg', 'Richard P. Feynman/Raymond Todd', 'Jincy Willett/David Sedaris', 'Helena Grice/Tim Woods', 'Peter Hamilton/Robert Doisneau/David    Elliott', 'Lois Lowry/Diane deGroat', 'Janwillem van de Wetering/Arthur P. Yin', 'Sara Gruen', 'Catherine Thimmesh/Melissa Sweet', 'Liza Dalby', 'David Stanley/Mark Bego', 'Alice Wong/Lena Tabori', 'Diana Vreeland/Irving Penn', 'Tyler Florence/JoAnn Cianciulli/Bill Bettencourt/Bobby Flay', 'John Milton/Philip Pullman', 'Stephen King/Marie Milpois', 'Georges Perec/David Bellos/Andrew Leak', 'Ciruelo Cabral', 'Jürgen Habermas/Jacques Derrida/Giovanna Borradori', 'Elie Wiesel/Frances Frenaye', 'Nikki Giovanni', 'Chris Ingham', 'Thomas  Moore', 'Witold Gombrowicz/Bill Johnston', 'Antonio Negri/Michael Hardt', 'Johanna Spyri/Beverly Cleary/Angelo  Rinaldi', 'Anne Rampling/Anne Rice', 'Scott Adams', 'Roger Shattuck', 'Robin  Davis/Frankie Frankeny', 'William Shakespeare/Robert S. Miola/Janet Adelman/Stephen Orgel/Peter Holland', 'W. Michael Kelley', 'Nora Roberts/Juan Larrea', 'Lynda Barry', 'Good Housekeeping/Zoe Coulson', 'Kuki Gallmann', 'Robin McGraw', 'Paulo Coelho/Juan Godó Costa', 'Warren Ellis/Frank Teran/Tim Bradstreet/Javier Pulido/James Romberger/Marcelo Frusín', 'Eric R. Wolf', 'Armand Marie Leroi', 'Shayla Black', 'Andre Dubus/Todd Field', 'David Ogilvy/Joel Raphaelson', \"Dave Eggers/Kevin Shay/Lee Epstein/Suzanne Kleid/McSweeney's Publishing\", 'Richard W. Wrangham/Dale Peterson', 'H.G. Wells/Christopher Priest', 'Ellen Evert Hopman/Steven Foster', 'Christopher M. Andrew/Vasili Mitrokhin', 'Julia Jarman/Adrian    Reynolds', 'Tom Stanton', 'Albert Camus/Richard Howard/Jean Sarocchi', 'Jonathan Croall/Peter Hall', 'Jakob Nielsen/Marie Tahir', 'Richard Klein', 'Maryam Riess', 'Samuel Taylor Coleridge/Stanley Appelbaum', 'Gabriel García Márquez/Randolf Hogan', 'Doreen Cronin/Harry Bliss', 'Western Sonoma County Historical Society', 'Michael H. Jackson', 'Randy Leffingwell', 'Spider Robinson', 'Lynne Truss', 'James Hillman', 'Claudia Carroll', 'Eugene Linden', 'Don Macmillan/Wayne G. Broehl Jr.', 'Isaac Bashevis Singer/Herb Johnson', 'Scott Speck/Evelyn Cisneros', 'Roy Mottahedeh', 'Les Beletsky/Jon L. Dunn', 'Jacquelyn Mitchard', 'Saul Bellow/Salman Rushdie', 'Arthur Schopenhauer/R.J. Hollingdale', 'Mollie Hunter/Lisa Falkenstern', 'Joscelyn Godwin', 'Ann M. Martin/Laura Godwin/Brian Selznick', 'Andrew James McLean/Gary W. Eldred', 'Octavio Paz/Eliot Weinberger/Elizabeth Bishop', 'Jonathan Swift/YKids', 'Italo Calvino/William Weaver', 'Marion Zimmer Bradley/Davina Porter', 'CLAMP/Fred Burke', 'Stephen Leigh', 'Daniel Pool', 'V. Vale/Andrea Juno/William S. Burroughs/Throbbing Gristle/Brion Gysin', 'Arthur Plotnik', 'Barbara M. Walker/Garth Williams', 'Richard Matheson/Stephen King', 'Mary Wollstonecraft Shelley/Anca Munteanu', 'Margaret  Rose/Heather Rose Jones', 'Mary McBride', 'Albert Camus/Carol Cosman/Orhan Pamuk', 'Brian D. McLaren/Steve Chalke', 'Charles Dickens/Clement C. Moore/Arthur Rackham', 'Jim  Murphy/John Manders', 'Marcel Proust/Lydia Davis', 'C. Hassell Bullock', 'Bill Hybels/Keri Wyatt Kent', 'Stephen Hawking/Leonard Mlodinow', 'Dante Alighieri/C.H. Sisson/David H. Higgins', 'Douglas Adams/Christopher Cerf', 'Sarah Miller', 'Nick Cook', 'Jessica Conant-Park/Susan Conant', 'Paul Karasik/David Mazzucchelli/Paul Auster/Art Spiegelman', 'Terry Cooper', 'Ray Oldenburg', 'Elan Golomb', 'Diane Mott Davidson', 'Neil Cole/Leonard Sweet', 'Gail Godwin', 'Thomas Hardy/Alexander Theroux', 'Ludovico Ariosto/Barbara Reynolds', 'Leo Tolstoy/Henry Gifford/Aylmer Maude/Louise Maude', 'Stendhal/Roger Pearson/Margaret Mauldon', 'Luke Welling/Laura Thomson', 'Frank Herbert/Domingo Santos', 'Philip K. Dick/James Tiptree Jr.', 'Jack London/Avi', 'Larry Bond', 'Geraldine McCaughrean/Scott M. Fischer', 'Caroline Sharp/Elizabeth Gilbert', 'Sarah K. Herz/Donald R. Gallo', 'Nigella Lawson/Petrina Tinslay', 'Barry Schwartz', 'Henry James/Patricia Crick', 'Arturo Pérez-Reverte/Sonia Soto', 'Roger Scruton', 'Susan Donovan', 'Guy Kawasaki', 'Sigrid Undset/Tim Page/Tiina Nunnally/Naomi Walford', 'Ben M. Baglio/Linda Chapman/Jenny Gregory', 'Gregory Bassham/Eric Bronson', 'Georges Simenon/Marc Romano/D. Thin/Luc Sante', 'Stan Lee/Roy Thomas/Tom DeFalco/Kurt Busiek/Steve Ditko/Jack Kirby/Herb Trimpe/Ross Andru', 'John le Carré', 'Jo Clayton/Jo Clayton', 'Jeff Long', 'Mao Zedong', 'Richard W. Bulliet/Daniel R. Headrick/David Northrup/Lyman L. Johnson/Pamela Kyle Crossley/Steven W. Hirsch/Steven Hirsch', 'William Morris/Lin Carter', 'Aristophanes/Alan H. Sommerstein', 'Émile Zola/Ernest Alfred Vizetelly', 'Diane Haeger', 'Stephen Rebello', 'Kathleen Parkinson/F. Scott Fitzgerald', 'Jung Chang/Jon Halliday', 'Julia Indichova/Christiane Northrup', 'James Robert Smith/Stephen Mark Rainey/Joel Lane/Gary Fry/John Morressy/Kealan Patrick Burke/Manly Wade Wellman/Fred Chappell/Charlee Jacob/F. Gwynplaine MacIntyre/Steve Rasnic Tem/Thomas F. Monteleone/Rick Hautala/Melanie Tem/Trey R. Baker/Ken Goldman/Vincent Starrett/Tom Piccirilli', 'Stuart J. Murphy/Holly Keller', 'Lewis Carroll/Douglas R. Nickel', 'James Shreeve', 'Émile Zola/Andrew Moore/Ernest Alfred Vizetelly', 'Cornelia Funke/Helena Ragg-Kirkby', 'Douglas R. Hofstadter/Daniel C. Dennett', 'Gary Russell/Peter Anghelides/J. Shaun Lyon/Jon de Burgh Miller/Eddie Robson/Todd Green/Andy Russell/Andrew Collins/Kathryn Sullivan/Iain McLaughlin/Mark Michalowski/Joseph Lidster/Trevor Baxendale/Colin Brake/Claire Bartlett/Sarah Groenewegen/Trey Korte/Andy Frankham-Allen', 'Catherine Marshall', 'Alice Munro/Margaret Atwood', 'Umberto Eco/Hugh Bredin', 'Marc Bloch/Peter Putnam/Joseph Reese Strayer', 'Terry Cole-Whittaker', 'Donna Leon', 'Nikolai Gogol/Richard Pevear/Larissa Volokhonsky', 'Mikhail Bakhtin/Caryl Emerson', 'Terry Jones/Marie-Catherine Caillava', 'Alice Randall', 'Mary Daly', 'William J. Bennett/Michael Hague', 'Barry Chubin', 'Mel Odom', 'Merlin Holland', 'Peter Haining/Roald Dahl/Terry Pratchett/Angela Carter/Arthur C. Clarke/Kurt Vonnegut Jr./C.S. Lewis/P.G. Wodehouse/Michael Moorcock/L. Sprague de Camp/Fletcher Pratt/Eric Knight/Mervyn Peake/Piers Anthony/John Collier/Fredric Brown/Nelson S. Bond/Thomas M. Disch/Robert Bloch/Stephen Leacock/John Wyndham/Stanisław Lem/Cordwainer Smith/Robert Sheckley/William F. Nolan/Harry Harrison', 'Robert Paul Wolff/René Descartes/David Hume/Immanuel Kant/John Stuart Mill/William  James/Plato/Aristotle/Anselm of Canterbury/Thomas Aquinas/Various', 'Sophocles/E.F. Watling', 'Lucas Carlson/Leonard Richardson', 'Edgar Allan Poe/Gris Grimly', 'Dave Eggers/Viggo Mortensen', 'Murasaki Shikibu/Edward G. Seidensticker', 'Thomas Hardy/Margaret Drabble', 'Donald J. Trump/Tony Schwartz', 'Jostein Gaarder/Anne   Born', 'Alan  Lee/Ian McKellen', 'Russell Shorto', 'Rudyard Kipling/Alev Lytle Croutier', 'Babette Smith', 'John Irving/Iris Menéndez', 'Mary B. Morrison', 'Miguel de Cervantes Saavedra/Tobias Smollett/Carlos Fuentes', 'Lorna Landvik/Mechtild Sandberg-Ciletti/Mechtild Ciletti', 'Blake Nelson/Hans Schumacher', 'William Goldman/P. Gethers', 'Shauna Singh Baldwin', 'Chip Kidd/Jean Schulz/Charles M. Schulz/Geoff Spear', 'Diane Waldman', 'Michael L. Perlis/Carla Jungquist/Michael T. Smith', 'Norton Juster/Leonard Baskin', 'Simone de Beauvoir/H.M. Parshley', 'Lauren Stringer', 'Davina Thomas', 'Christopher   Green/Frances Morris/Nancy Ireson/Claire Freches-Thory', 'Jessica Mitford/Christopher Hitchens', 'H.G. Wells/John R. Hammond', 'Sherwood Smith', 'Liz Carlyle', 'Dean Koontz/Ed Gorman', 'Nancy Conrad/Howard A. Klausner/Buzz Aldrin', 'Ewan McGregor/Charley Boorman/Robert Uhlig', 'James Graham Leyburn', 'Aristotle/James Alexander Kerr Thomson/Jonathan Barnes/Hugh Tredennick', 'Roland Barthes/Stephen Heath', 'Howard E. Covington Jr.', 'Jules Verne/Agnes D. Kingston', 'Atul Gawande/Susanne Kuhlmann-Krieg', 'Andrei Codrescu/Laura Rosenthal', 'David Haynes', 'Jean Craighead George', 'Noam Chomsky/Gilbert Achcar/Stephan R. Shalom', 'Dermot Moran', 'Michio Kaku/Joseph L. Birman/H. Eugene Stanley/J.W. Lynn/M.P. Silverman/M. Voloshin', 'Bruce Arnold', 'Neil Strauss/Vince Neil/Nikki Sixx/Mick Mars/Tommy Lee', 'Leonard Sweet/Brian D. McLaren', 'Astrid Lindgren/Ilon Wikland/Jill M. Morgan', 'John Milner/Piet Mondrian', 'Fyodor Dostoyevsky/Larissa Volokhonsky/Richard Pevear', 'Martin Amis/Erroll McDonald', 'Blake Nelson/Francine Kass', 'Hélène Greven-Borde', 'Leo Tolstoy/Constance Garnett/Amy Mandelker', 'Kahlil Gibran/Suheil Bushrui/Salma H. Al-Kuzbari', 'Sarah Ban Breathnach', 'Narise Konohara/Nanao Saikawa/Douglas W. Dlin', 'Miroslav Volf', 'Bram Stoker/Robert Whitfield', 'Marilyn Johnson', 'Apollodorus/Hyginus/R. Scott Smith/Stephen M. Trzaskoma', 'Nicholas Dawidoff/Ernest Lawrence Thayer/Jacques Barzun/Robert Frost/John Updike/Leroy Satchel Paige/Bill Veeck/Murray Kempton/Jimmy Breslin/Marianne Moore/Gay Talese/Tallulah Bankhead/Albert G. Spalding/Nelson Algren/William Carlos Williams/James Weldon Johnson/Thomas Wolfe/James Thurber/Philip Roth/Jim Bouton/Dave Frishberg/Roger Kahn/Roger Angell/Damon Runyon/George Plimpton/A. Bartlett Giamatti/Amiri Baraka/Annie Dillard/Stephen Jay Gould/Stephen King/Richard Ford/Don DeLillo/Lawrence S. Ritter/Ring Lardner/Carl Sandburg/Heywood Broun/Bernard Malamud/Red  Smith', 'Jeff   Smith', 'Edward C. Klatt/Vinay   Kumar', 'Michelle Lovric', 'Alec MacLellan', 'Knut Hamsun/Oliver Stallybrass', 'Ovid/David Raeburn/Denis Feeney', 'Donna VanLiere', 'Betty Neels', 'James Brodrick', 'Johann Wolfgang von Goethe/Peter Salm', 'Barry Glassner', 'Neil Gaiman/Steve Parkhouse/Chris Bachalo/Michael Zulli/Mike Dringenberg/Malcolm Jones III/Todd Klein/Clive Barker', 'Tom Robbins/Pociao/Walter Hartmann', 'Oscar Wilde/Michael Gillespie', 'Mark Behr', 'Augustine of Hippo/Bruce Harbert/John E. Rotelle', 'Paula Danziger/Ann M. Martin', 'Jim Fergus', 'J. Martin Evans', 'Jim Henson/Cheryl Henson', 'Richard Matheson/Ray Bradbury', 'Reduced Shakespeare Company/Adam Long/Daniel Singer/Jess Winfield', 'SparkNotes/William Shakespeare', 'Jim Dutcher/Eric Baker/Greg Simpson/Richard Ballantine', 'Albert Camus/Manuel de Lope', 'Markus Zusak/Emmanuel Pailler', 'Voltaire/Peter Constantine/Diane Johnson', 'Charles Darwin/Richard Dawkins', \"P.J. O'Rourke\", 'Yuki Shimizu/志水 ゆき', 'Homer/George Herbert Palmer', 'Margery Facklam/Sylvia Long/Liliana Valenzuela', 'Paul Belien', 'Gertrude Chandler Warner/Charles Tang', 'Voltaire/Theodore Besterman', 'Barbara Richard', 'Keith Badman/Keith Badman', 'Umberto Eco/Geoffrey Brock', \"Sean O'Brien\", 'Gertrude the Great/Gertrud Jaron Lewis', 'Neil Gaiman/Mike Dringenberg/Chris Bachalo/Michael Zulli/Kelly Jones/Charles Vess/Colleen Doran/Malcolm Jones III/Steve Parkhouse/Daniel Vozzo/Lee Loughridge/Steve Oliff/Todd Klein/Dave McKean/Sam Kieth', 'Ernle Bradford', 'Harrison Edward Livingstone', 'Vicki Constantine Croke/Vicki Constantine Croke', 'Susan Van Kirk/CliffsNotes/Erich Maria Remarque', 'Jaroslav Hašek', 'Guy Ogilvy', 'Jorge Cervantes', 'Louise DeSalvo/Mitchell Alexander Leaska/Vita Sackville-West/Virginia Woolf', 'Molly C. Lee/Angela J. Linn/Chase Hensel/James H. Barker', 'John Marco', 'Michael Baur/Steven Baur/James S. Spiegel', 'Gary Snyder/Michael Corr', 'Ernest Becker/Sam Keen/Daniel Goleman', 'Dai Sijie', 'Amitav Ghosh', 'Andy Warhol', 'Fyodor Dostoyevsky/Thomas R. Beyer Jr./Simon Vance', 'L. John Mason', 'T.S. Eliot/Lawrence Rainey', 'Jean-Jacques Rousseau/Patrick Coleman/Angela Scholar', 'Stephen Mulhall/Adam Swift', 'Michael Syvanen/Clarence I. Kado', 'Alexandre Dumas fils/David Coward', 'Annalee Allen', 'Manuel Rivas', 'James E. Ingram/Lori Grove', 'Noam Chomsky/Greg Ruggiero', 'Kathleen Banks Freeman/Hermann Alexander Diels', 'Gordon Korman/Holter Graham', 'John Graves/Glenn Wolff/Bill Wittliff', 'George  Adamson', 'Tamora Pierce/Josepha Sherman/Margaret Mahy/Lesley McBain/Mike Resnick/Bruce Rogers/Pamela F. Service/Jan Stirling/Holly Black/Doranna Durgin/India Edghill/Rosemary Edghill/Esther M. Friesner/Laura Anne Gilman/Janis Ian/Brett Hartinge', 'Cornel West', 'Howard Chaykin/Michelle Madsen', 'Georges Perec', 'Philip K. Dick/Lawrence Sutin', 'Hesiod', 'Jules Verne/Anthony Bonner', 'Diane Johnson/Carlos Milla Soler/Roberto Fernandez Sastre', 'Debbie Raleigh/Alexandra Ivy', 'Stendhal/Gilbert Sale/Suzanne Sale/B.C.J.G. Knight/Jean Stewart', 'Geoffrey Chaucer/Larry Dean Benson/F.N. Robinson', 'Barbara Cleverly', 'Rusty Young', 'Robin Landa', 'Laurie Halse Anderson', 'Barbara Bretton/Emilie Rose/Isabel Sharpe', 'Alexandre Dumas/Michael Page', 'Malcolm Godwin', 'Lonely Planet/Mark Honan', 'George Orwell/Richard H. Rovere', 'Charles Dickens/David Trotter/Charlotte Mitchell', 'William Shakespeare/Arkangel Cast/Victoria Hamilton/Niamh Cusack/Stephen Mangan', 'Jennifer Allison', 'Molly Hatchet', 'Astrid Lindgren/Harald Wiberg', 'Scott MacMillan/Katherine Kurtz', 'Georg Wilhelm Friedrich Hegel/Michael John Petry', 'Jo Clayton/Kevin Andrew Murphy', 'Daria Snadowsky', 'Paul  Kirk', 'D.C. Talk', 'Vladimir Nabokov/John Ray Jr.', 'Carolyn Keene/Mildred Benson', 'Rudolph W. Giuliani', 'Terry Gilliam/Ian Christie', 'Luke Davies', 'T.R. Reid', 'Plato/Tom Griffith', 'James B. Stewart', 'Joseph McMoneagle', 'Cecil Adams/Ed Zotti/Slug Signorino', 'Minfong Ho/Holly Meade', 'Ron     Miller/Jules Verne/Paul   Wright', \"W.F. Deedes/Sue Ryan/Alex Garland/Tony Hawks/Andrew O'Hagan/Irvine Welsh/Giles Foden/Victoria Glendinning\", 'Søren Kierkegaard/Walter Lowrie', 'David Wiesner', 'Yochai Benkler', 'Justin Akers Chacón/Mike  Davis', 'Robert Munsch/Michael Martchenko/Saoussan Askar', 'Brigid Avison', 'Jules Verne/Caleb Carr/Jordan Stump', 'Evelyn Waugh/George Weigel/Amy Welborn', 'Truman Capote/Bob Colacello', 'Dave Thomas/Chad Fowler/Andy Hunt', 'Miroslav Sasek', 'Richard Proenneke/John Branson', 'Marcel Proust/C.K. Scott Moncrieff/Frederick A. Blossom/Joseph Wood Crutch', 'Shirin Ebadi', 'David K. Shipler', 'Robert Frost/Susan Jeffers', 'Angela Knight/Sahara Kelly/Judy Mays/Marteeka Karland/Kate Douglas/Shelby Morgen/Lacey Savage/Kate Hill/Willa Okati', 'Alex Went', 'Qiu Xiaolong', 'Fyodor Dostoyevsky/Simon Vance/Thomas R. Beyer Jr.', 'Eileen Gunn/Howard Waldrop/William Gibson', 'Jean Baudrillard/Julia Witwer', 'East Bay M. U. D. Staff/Nora Harlow/Jill M. Singleton/Barrie D. Coate/Kristine Sandoe', 'David S. Reynolds', 'G. Edward White', 'Mark S. Smith/Patrick D. Miller', 'José Saramago/Basilio Losada', 'Kōji Suzuki/Robert B. Rohmer/Glynne Walley', 'Roddy Doyle/Renate Orth-Guttmann', 'John Fowles', 'Kathleen A. Brehony', 'William McDonough/Michael Braungart', 'Surya  Das', 'H.P. Lovecraft/Lin Carter', 'Erik  Larson', 'Anne Rice/Marcelo Covián', 'Middlesex Borough Heritage Committee', 'Karin Slaughter/Peter Robinson/John Connolly/Denise Mina/Mark Billingham', 'Jeffrey Meyers', 'Aeschylus/Robert Fagles/William Bedell Stanford', 'Margo Maine/Craig  Johnson', 'Richard Kern/Dian Hanson', 'Nigella Lawson/Francesca Yorke', 'William Manchester/Barrett Whitener', 'Anthony Robbins/Kenneth H. Blanchard/Jason Winters', 'Peter Turchin', 'Edward Gorey', 'Kate Hemphill/Zoë Ross/Louise Bostock Lang', 'William Andrewes', 'Colin      Wells', 'Robert Scoble/Shel  Israel', 'Sandra Steffen', 'Yu Aida/Hiroshi Aida', 'Teddy Slater/Ron Dias/Ric González', 'Jasmine C.M. Luk/Angel M.Y. Lin', 'Gill Harvey/Jonathan Swift', 'Joe Simpson', 'Howard Korder', 'H.W. Brands', 'Norma Goldman/Michael  Rossi', 'Clement Greenberg/Janice Horne', 'Matthew Barber/Elizabeth von Arnim', 'John W. Schott/Jean S. Arbeiter', 'Stephen Crane/Larzer Ziff/Theo Davis', 'Dan Brown/Eduardo García Murillo', 'Xenophon/Edgar C. Marchant/G.W. Bowersock', 'David L. Holmes', 'Nicholas A. Basbanes', 'Stacy Schiff/Antoine de Saint-Exupéry', 'Gayle Lynds/Robert Ludlum/Don Leslie', 'Anthony  Lewis', 'Immanuel Kant/J.M.D. Meiklejohn', 'Mary Downing Hahn', 'Albert Ellis', 'Sylvia Plath/Ted Hughes/Frances McCullough', 'Richard Dawkins/Lalla Ward', 'Michael Shaara/Stephen Hoye', 'Michael J. Nelson/Pop Ink/Charles S. Anderson Design Company', 'Lynn Kurland', 'Dean Koontz/Richard Ferrrone', 'Emily Mann/Sarah L. Delany/A. Elizabeth Delany/Amy Hill Hearth', 'Lonely Planet/Sarah Johnstone/Tom Masters', 'John Ostrander/W. Haden Blackman', 'Raymond E. Feist/Tad Williams/Mat Broome/Robin Gillespie/Sean J. Jordan/Brett Booth', 'Laurence Yep/Kam Mak', 'Margaret Sidney/Barbara Cooney', 'John  Diamond', 'Lisa Carey', 'Kate McMullan/Paul Van Munching/Glenn Dean/Kate McCullan/Robert Louis Stevenson', 'Steven Pressfield/Robert McKee', 'Philip Levine', 'Jerome Karabel', 'David Grene/Richmond Lattimore/Aeschylus/Sophocles/Euripides', 'Ted Honderich', 'Thomas More/Clarence H. Miller', 'Joe Kelly/Doug Mahnke/Tom Nguyen', 'Nassim Nicholas Taleb', 'Astrid Lindgren/Florence Lamborn/Louis S. Glanzman', 'Mary Alice Monroe', \"Sally Smith O'Rourke\", 'Bob Madgic/William L. Crary/Adrian Esteban', 'William Faulkner/Grover Gardner', 'Michael Pollan/Scott Brick', 'Quentin Bell', 'Charles Segal', 'Richard Paige/Dean Koontz', 'Brian Sibley/J.R.R. Tolkien', 'Eudora Welty/Richard Ford/Michael Kreyling', 'Joy King', 'M. John Harrison', 'Georgette Heyer/Kay Hooper', 'Ann Major', 'Anthony Grafton', 'Joan Holub/Dana Regan', \"Dennis Brindell Fradin/Nancy Harrison/John   O'Brien\", 'Delia Sherman/Theodora Goss/K. Tempest Bradford/Karen Jordan Allen/Rachel Pollack/Veronica Schanoes/Mikal Trimm/Colin Greenland/Vandana Singh/Matthew Cheney/Léa Silhol/Adrián Ferrero/Holly Phillips/Catherynne M. Valente/Christopher Barzak/Leslie What/Anna Tambour/Joy Marchand/Jon Singer/Csilla Kleinheincz/Michael J. DeLuca', \"Peter Menzel/Faith D'Aluisio\", 'W.E.B. Du Bois/Robert Gregg', 'Herodotus/Carolyn Dewald/Robin Waterfield', 'Nancy Hall', 'Jonathan Swift/Robert A. Greenberg', 'Mark Kurlansky/Dalai Lama XIV', 'C.S. Lewis/Kenneth Branagh', 'Rosalind M. Greenberg', 'Alexandre Dumas/Keith Wren', 'Jenny Wormald', 'Immanuel Kant/Paul Guyer/Allen W. Wood', 'Kris Lane/Lyman L. Johnson', 'Bentley Little', 'Cormac McCarthy/Harold Bloom', 'H.G. Wells/Patrick Parrinder/Steven McLean/Marina Warner', 'Ursula Hegi', 'John M. Perkins/Shane Claiborne', 'Tara MacCarthy/Drew Hires', 'Peter  Dale/Ian          Hamilton/Anthony Thwaite', 'Edgar Allan Poe/Benjamin F. Fisher', 'Jules Verne/Jordan Stump/Caleb Carr', 'Richard B. Sewall', 'Julie Andrews Edwards/Emma Walton Hamilton/Tony Walton/Ruby Randig', 'John Jackson Miller/Travis Charest/Michael Atiyeh/Brian Ching/Travel Foreman', 'William Shakespeare/Harold Bloom/Rex Gibson', 'Julie Garwood', 'Sun Tzu/Mark McNeilly', 'John Newhouse', 'Ivo Andrić/Pascale Delpech', 'Stéphane Heuet/Marcel Proust/Joe  Johnson', 'David A. Black/David Heinemeier Hansson', 'Unknown/A.T. Hatto', 'Mircea Eliade/Wendy Doniger/Willard R. Trask', 'Ursula Nordstrom/Leonard S. Marcus/Maurice Sendak', 'Sun Tzu/Gerald A. Michaelson', 'Herman Melville/Harrison Hayford', 'Joseph Blotner', 'Jeannette Walls', 'Lynne Ann DeSpelder/Albert Lee Strickland', 'Frances Hodgson Burnett', 'Joy Kogawa', 'S.M. Stirling', 'Audrey Penn/Ruth E. Harper/Nancy M. Leak', 'Laura Ingalls Wilder/Doris Ettlinger', 'Owen  Thomas/William John Rossi/Henry David Thoreau/William Rossi', 'Wilkie Collins/Camille Cauti', 'Christopher Schmitt', \"Albert Camus/Stuart Gilbert/Justin O'Brien/David Bellos\", 'James H. Billington', 'James Luceno', 'James Daugherty', 'Stephen Hawking/Gene  Stone', 'Jonathan Clements/Helen McCarthy', 'Jacqueline Winspear', 'William Morris/Michale W. Perry', 'Robert Mason', 'Jane Austen/Gillian Beer', 'Mircea Eliade/Philip Mairet', 'Edmond Rostand/Brian Hooker/Walter Hampden', 'Simone de Beauvoir/Nelson Algren/Sylvie Le Bon de Beauvoir/Vanessa Kling/Ellen Gordon Reeves', 'Nora Kelly', 'Plotinus/A.H. Armstrong', 'Kurt Vonnegut Jr./Daniel Simon', \"L.M. Montgomery/Susan O'Malley\", 'J.K. Rowling/Gemma Rovira Ortega', 'Unknown/Howell D. Chickering', 'Bernice Kert', 'Dorothy Corkille Briggs', 'Donald Kagan', 'Herman Melville/Harrison Hayford/Hershel Parker', 'Evan Thomas', 'Jacquelyn Reinach/Richard Hefter', 'John Gregory Betancourt/Roger Zelazny', 'Liz Palika', 'Jim Trelease', 'Richard A. Lupoff/Bruce Coville/Philip José Farmer/Charles de Lint/Robin Wayne Bailey/Robert Gould', 'David Schickler', 'James Patterson/Ted Bell/Raelynn Hillhouse/Gregg Hurwitz/Alex Kava/J.A. Konrath/John Lescroart/David Liss/Eric Van Lustbader/Dennis Lynds/Gayle Lynds/Steve Berry/Chris Mooney/David Morrell/Katherine Neville/Michael Palmer/Douglas Preston/Christopher Reich/James Rollins/M.J. Rose/James Siegel/Grant Blackwood/Brad Thor/M. Diane Vogt/F. Paul Wilson/Lee Child/Lincoln Child/David Dun/Heather Graham/James Grippando/Denise Hamilton/David Liparulo/Christopher  Rice', 'Andrew Heintzman/Evan Solomon/Eric Schlosser', 'Jane Austen/Claudia L. Johnson', 'Edwidge Danticat/Nicole Tisserand', 'Ross Garnaut', 'Aristotle/W.S. Hett', 'Mark Dunn', 'Robert Stock', 'Michael Vitez/Tom Gralish/Sylvester Stallone', 'Wendy  Mitchell/June Kim', 'Tom Hunt', 'Eric A. Meyer', 'Eric Tyson/Rich Tennant', 'Mike Lupica', 'Stuart M. Kaminsky', 'Gary L. Blackwood', 'William Kalush/Larry Sloman', 'Alistair MacLeod', 'Rona Sharon', 'Willie Dixon/Don Snowden', 'William Shakespeare/Rex Gibson', 'Franz Kafka/Nabum N. Glazer/John Updike', 'Robert Crais', 'Amanda Clark', 'David J. Hassel', 'Sheryl Feldman/Penny Armstrong', 'Hervie Haufler', 'Richard Platt/Chris Riddell', 'Jan Frank', 'Charles de Lint', 'Chris Claremont/Bob McLeod', 'Catharine M. Fishel/Bill Gardner', \"Madeleine L'Engle/Giotto di Bondone\", 'J. Michael Lennon/Lawrence M. Lasher', 'Ellis Weiner/Barbara Davilman/Gabi Payn', 'Marcus Tullius Cicero/Walter Miller', 'Sun Tzu/Roger T. Ames', 'Sholom Aleichem/Ben Shahn/Frances Butwin/Julius Butwin', 'Laura Caldwell', 'Richard A. Hawley/John Irving', 'Roderick Townley', 'John Irving/Carlos Milla Soler', 'Nick Hornby/D.J. Taylor/Huw Richards/Chris Pierson/Roddy Doyle/Harry Ritchie/Harry Pearson/Olly Wicken/Graham Brack/Matt Nation/Ed Horton/Don  Watson', 'Henry James', 'Grant Morrison/Richard Case/Ken Steacy/Stan Woch/Philip Bond/Mark McKenna/Scott Hanna', 'Jessica Porter/Michio Kushi', 'Aristophanes/Peter Meineck/Ian C. Storey', 'Amy Cotler/Frances Hodgson Burnett/Prudence See', 'The Paris Review/Philip Gourevitch/Rebecca West/Elizabeth Bishop/Robert  Stone/Robert Gottlieb/Richard Price/Billy Wilder/Jack Gilbert/Joan Didion/Dorothy Parker/Truman Capote/Ernest Hemingway/T.S. Eliot/Saul Bellow/Jorge Luis Borges/Kurt Vonnegut Jr./James M. Cain', 'Philip Thody/Howard Read', 'Brad Meltzer/Rags Morales/Michael Bair/Joss Whedon', 'Mario Puzo/Peter Bart/Robert Thompson', 'Ian Glasper', 'Legs McNeil/Gillian McCain', 'Sophocles/Robert Fitzgerald/Dudley Fitts', 'Michael  Wood', 'Miasha', 'Paul Hendrickson/Marion Post Wolcott', 'Gabriel García Márquez/Brenda K. Marshall/F. Murray Abraham', \"Heather O'Neill\", 'Albert Camus/Ellen Conroy Kennedy/Philip Thody', 'Jason King', 'Karen Harper', 'Boethius/Victor Watts', 'Ilona Andrews', 'Erich Fromm/T.B. Bottomore', 'P.D. James/Neville Teller/Robin Ellis/Sian Phillips/Hugh Grant', 'Milan Kundera/Linda Asher/فروغ پوریاوری', 'Aristotle/Hippocrates George Apostle', \"Dave Eggers/Roddy Doyle/McSweeney's Publishing\", 'Peter Tallack/Simon Singh', 'Aeschylus/George Thomson/Richard Seaford', 'Edward Gibbon/Daniel J. Boorstin/Giovanni Battista Piranesi/Hans-Friedrich Mueller', 'Friedrich Reck-Malleczewen/Paul Rubens/Richard J. Evans', 'Edith Hamilton/Steele Savage', 'Mark Helprin', 'Justin Kaplan', 'Paul Perry/Ken Babbs', 'Esmeralda Santiago', 'Rolland Hein/Clyde S. Kilby', 'John               White', 'Dugald A. Steer/Ernest Drake/Wayne Anderson/Helen Ward/Douglas Carrel', 'Aristophanes/Dudley Fitts', 'Crystal Lacey Winslow', 'Denis Diderot', 'Charles W. Sydnor Jr.', 'E.B. White/Garth Williams/Peter F. Neumeyer', 'Jerome Kagan', 'Graham Handley', 'David Axton/Dean Koontz/Paul Michael', 'John C. Maxwell', 'Grant Morrison/Ryan Sook/Mick Gray/Frazer Irving/J.H. Williams III/Simone Bianchi/Cameron Stewart', 'Stephen Minot', 'Zak Smith/Steve Erickson', 'Pimsleur Language Programs', 'Italo Calvino/Patrick Creagh', 'Viktor E. Frankl/Harold S. Kushner/William J. Winslade/Isle Lasch', 'Craig Keller', 'Gregg Olsen', 'Richard Nelson Bolles', 'Black Elk/John G. Neihardt', 'Chiho Saito/Lillian Olsen/Be-Papas', 'Reed Martin/Austin Tichenor', 'Ford Madox Ford/Frank Kermode', 'Leo Tolstoy/Constance Garnett/A.N. Wilson', 'Patricia Thomas/Wallace Tripp', 'Raina Telgemeier/Ann M. Martin', 'Marisha Pessl', 'P.N. Furbank', 'Devon W. Carbado/Evelyn C. White/Dwight A. McBride/Donald Weise', 'Wayne G. Hammond/Wayne G. Hammond', 'Louisa May Alcott/Scott McKowen', 'Murasaki Shikibu/Masayuki Miyata/Jakuchō Seitouchi/Donald Keene/H. Mack Horton/Ayako Watanabe/Michiko Hiraoka', 'Robert Todd Carroll', 'Lewis Carroll/John Tenniel/Martin Gardner', 'Nicholas Humphrey/Daniel C. Dennett', 'Maurice Merleau-Ponty/Colin Smith', \"Jun'ichirō Tanizaki/Thomas J. Harper/Edward G. Seidensticker\", 'Åsne Seierstad/Ingrid Christopherson', 'Salvador Plascencia', 'Robert Anton Wilson/Israel Regardie', 'Ursula K. Le Guin/Margot Paronis', 'Robert Penn Warren', 'Edmond Rostand/Anthony Burgess', 'Robert Silverberg/Terry Goodkind/George R.R. Martin/Anne McCaffrey', 'Jeremy Leven', 'Leslie Gross Portney', 'Lawrence Lessig', 'Fyodor Dostoyevsky/Jane Kentish', 'Jennifer Crusie/Marina Mariasch', 'Diablo Cody', 'Aldon D. Morris', 'Nigel Tranter', 'Dorothy L. Sayers/Jill Paton Walsh', 'Pindar/Cecil Maurice Bowra/Daniel C. Snell/Dawson William Turner/Maehler/Abraham Moore', 'William  James/Bruce Kuklick', 'John Knowles/David Levithan', 'Johanna Rothman/Esther Derby', 'Richard Dooling', 'Rosemary Wells/Susan Jeffers/Rachel Field', 'Lane Smith', 'Aristophanes/S. Douglas Olson', 'Arturo Pérez-Reverte/Margaret Jull Costa', 'Stephen Manes/Michael  Bass', 'Steve Moore/Lilly Wachowski/Lana Wachowski/Alan Moore', 'Sophocles/Roger D. Dawe', 'Hesiod/Glenn W. Most', 'Bill Willingham/Mark Buckingham/Steve Leialoha/Shawn McManus/Andrew Pepoy', 'Jan Guillou/Anna Paterson', 'Kenneth Grahame/Gillian Avery', 'Heidi Fleiss/Libby Keatinge', 'David Lazar', 'Frederick Charles Copleston', 'Philip Levine/Harry Ford', 'Georges Simenon/Anna Moschovakis/John N. Gray', 'Milan Trenc', 'Joanne Rocklin/Meredith Johnson', 'Elizabeth  Davis/Suzanne Arms', 'Linda Howard', 'Barbara Leonie Picard/Rosamund Fowler', 'Joyce Carol Oates/Barry Moser/Erhan Sunar', 'Dennis Adler/R.L. Wilson', 'Aimee Bender', 'Euripides/Pantelis Michelakis', 'Agatha Christie/Hugh Fraser/David Suchet', 'Margaret Peterson Haddix', 'John McPhee/William Howarth', 'Colin Duriez/Brian Sibley', 'Alan Aldridge/The Beatles', 'Al Franken/Melody Beattie/Stuart Smalley', 'Julie Otsuka', 'Glenn Yeffeth/Don DeBrandt/Cory Doctorow/Bruce Bethke/Adam Roberts/Lawrence Watt-Evans/Selina Rosen/Mark W. Tiedemann/Jacqueline Carey/Susan Sizemore/Vox Day/Stephen Baxter/A.M. Dellamonica/Marguerite Krause/John Shirley/Adam-Troy Castro/Amy Berner/Maria  Alexander/Marie-Catherine Caillava/Mike Byrne', 'Alan Dean Foster/James Gurney', 'Steven L. Layne', 'William   Anderson', 'O. Henry', 'Giuliana DePandi', 'Herman Melville/Harold Beaver', 'Roland Barthes/Richard Miller', 'Rebecca J. Donatelle', 'Jane Parker Resnick/Christian Birmingham', 'Virgil/Stanley Lombardo/W. R. Johnson', 'Barry Eisler', 'Raymond Queneau/Barbara Wright/Vivian Kogan', 'Jonathan Swift/Isaac Asimov', \"David Bromberg/Jay Ungar/Molly Mason/Garrison Keillor/Mark O'Connor/Jonathan Winters/Duck Baker/Washington Irving/Anjelica Huston/Nicolas Cage/Leo Kottke\", 'Kiyohiko Azuma/あずま きよひこ', 'Keith Baker', 'Gotthold Ephraim Lessing', 'Geraldine Pinch', 'Melinda Haynes', 'Ivan Turgenev/George Reavy/Jane Costlow', 'Daniel Quinn', 'Stanley Coren', 'Tim Underwood/Chuck Miller/Stephen King', 'Nicholas Johnson/Eirik Sonneland', 'Nina Bangs', 'Mark Waid/Paco Medina', 'Claudia Bishop', 'Robert Polito/Jim Thompson/Patricia Highsmith/Charles Willeford/David Goodis/Chester Himes', 'Gabrielle Ann Euvino/Lindsay Mack', 'Walter Farley', 'Raymond E. Feist/Michael Avon Oeming/Bryan J.L. Glass/Ryan Stegman', 'Eireann Corrigan', 'John Milton/Merritt Y. Hughes', 'Aesop/Ann McGovern', 'Jorge Luis Borges/Margarita Guerrero/Peter Sís/Andrew Hurley', 'Aristophanes/Moses Hadas', 'Stephen King/David Palladini', 'Luis Vélez de Guevara', 'Neil Gaiman/Mike Allred/Gary Amaro/Mark Buckingham/David Giordano/Tony Harris/Steve Leialoha/Vince Locke/Shea Anton Pensa/Alec Stevens/Bryan Talbot/John Watkiss/Todd Klein/Michael Zulli/Stephen King', 'Homer/Robert Fitzgerald/Andrew Ford', 'Mikhail Tal/Hanon W. Russell', 'Ayn Rand/Nathaniel Branden/Alan Greenspan/Robert Hessen', 'Aristophanes/David B. Barrett', 'W. Somerset Maugham/Benjamin DeMott/Maeve Binchy', 'Ivan T. Sanderson/David Hatcher Childress', 'Steven Weisenburger', 'Immanuel Kant/Marcus Weigelt/F. Max Müller', 'Stephen Biesty/Richard Platt', 'Alice Dalgliesh/Helen Sewell', 'Fyodor Dostoyevsky/Constance Garnett/Manuel Komroff/John Bayley', 'Barbara Kerley/Brian Selznick', 'Hailey Abbott/Melissa de la Cruz/Aimee Friedman/Nina Malkin', 'Gerald Posner', 'Shirley Hazzard', 'Emmuska Orczy/Margaret Brantley', 'Jonathan Wolff', 'Elmer Kennedy-Andrews', 'L. David Allen', 'Russell Hoban/Lillian Hoban', 'Marcel Proust/C.K. Scott Moncrieff', 'Thomas Hardy/Robert Mezey', 'Richard Fariña/Thomas Pynchon', 'James L. Nelson', 'Jorge Luis Borges/Gordon Botherston/Peter Hulme', 'Saul Bellow/Stanley Crouch', 'Dave Robinson/Chris Garratt/Judy Groves', 'Dan Brown/Juanjo Estrella', 'Dorothy Roberts', 'Ruby K. Payne', 'Gardner Dozois/George R.R. Martin/Daniel Abraham', 'Nicholas Sparks/Ramón González Férriz', 'Steven Watts', 'Jamie Jensen', 'H.P. Lovecraft/James Turner/S.T. Joshi/August Derleth', 'Charles Wheelan', 'Virginia Woolf/Mark Hussey/Susan Gubar', 'Eric Bischoff/Jeremy Roberts', 'Michael Korda', 'Debra Cowan', 'Kenneth H. Blanchard/Drea Zigarmi/Patricia Zigarmi', 'Kazuo Ishiguro/Rosalyn Landor', 'John Cottingham', 'Jerry Seinfeld', \"Roddy Doyle/Frank McCourt/Conor McPherson/Gene Kerrigan/Gina Moxley/Marian Keyes/Pauline McLynn/Tom Humphries/Joseph O'Connor/Anthony Cronin/Owen O'Neill/Hugo Hamilton/Charlie O'Neill/Gerard Stembridge/Donal O'Kelly\", 'Susan    Lewis', 'Oscar Wilde/Joseph Bristow', 'Neil Strauss/Jenna Jameson', 'Sharyn November/Francesca Lia Block/Diana Wynne Jones/Ellen Klages/Sharon Shinn/Patricia A. McKillip/Emma Bull/Kelly Link/Tamora Pierce/Nina Kiriki Hoffman/Alison Goodman/Charles de Lint/Kara Dalkey/Alan Dean Foster/Carol Emshwiller/Tanith Lee/Pamela Dean', 'Suketu Mehta', 'Lolita Files', 'Jonathan Swift/Robert DeMaria Jr.', 'John Kenneth Galbraith/James Ronald Stanfield/J. Ron Stanfield/Jacqueline Bloom Stanfield', 'Johann Wolfgang von Goethe/R. Paulin', 'Warren Ellis/Mark Millar/Bryan Hitch/Frank Quitely', 'Virgil/Barbara Weiden Boyd', 'Andrew    Hunt', 'Aristotle/Stephen Everson', 'Ray McAllister/Vicki McAllister', 'Anne Mazer/Monica Gesue/Joyce White', 'Mary Wollstonecraft Shelley/J. Paul Hunter', 'Jack Dunphy', 'Stendhal/Burton Raffel/Diane Johnson', 'E.M. Forster/Gilbert Adair/Elizabeth Heine', 'Michael R. Phillips', 'Joseph Conrad/Morton Dauwen Zabel/Frederick R. Karl', 'Colleen Sexton', 'Paul M. Fishbane/Stephen Gasiorowicz/Stephen T. Thornton', 'Walter Kaufmann', 'Unknown/Burton Raffel', 'Edward Lewis Wallant/Dave Eggers', 'Renee Baron/Elizabeth Wagele', 'Ju-Yeon Rhim', 'June Casagrande', 'Ruth Rendell', 'Michael Parenti', 'Linda Lael Miller/Alison Kent/Lucy Monroe/Jill Shalvis/Susanna Carr/Morgan Leigh', 'Charles Baudelaire/Christopher Isherwood/W.H. Auden', 'Wisława Szymborska/Joanna Trzeciak/Czesław Miłosz', 'Nicholas Sparks/Micah Sparks', 'Terry Pratchett/Stephen Briggs/Paul Kidby', 'Malvina G. Vogel/Arthur Conan Doyle', 'John M. Merriman'), value='Stephen King'), Output()), _dom_classes=('widget-interact',))"
      ]
     },
     "metadata": {},
     "output_type": "display_data"
    }
   ],
   "source": [
    "@interact\n",
    "def recomd_books_authors(authors_name = list(df['authors'].value_counts().index)):\n",
    "    a = df[df['authors'] == authors_name][['title', 'average_rating']]\n",
    "    a = a.sort_values(by = 'average_rating', ascending = False)\n",
    "    return a.head(10)"
   ]
  },
  {
   "cell_type": "code",
   "execution_count": 49,
   "metadata": {},
   "outputs": [
    {
     "data": {
      "text/plain": [
       "Index(['title', 'authors', 'average_rating', 'language_code', 'num_pages',\n",
       "       'ratings_count', 'text_reviews_count', 'publication_date', 'publisher',\n",
       "       'year'],\n",
       "      dtype='object')"
      ]
     },
     "execution_count": 49,
     "metadata": {},
     "output_type": "execute_result"
    }
   ],
   "source": [
    "df.columns"
   ]
  },
  {
   "cell_type": "code",
   "execution_count": 50,
   "metadata": {},
   "outputs": [
    {
     "data": {
      "application/vnd.jupyter.widget-view+json": {
       "model_id": "4eefad2037b540c79af010851edb4c04",
       "version_major": 2,
       "version_minor": 0
      },
      "text/html": [
       "<p>Failed to display Jupyter Widget of type <code>interactive</code>.</p>\n",
       "<p>\n",
       "  If you're reading this message in the Jupyter Notebook or JupyterLab Notebook, it may mean\n",
       "  that the widgets JavaScript is still loading. If this message persists, it\n",
       "  likely means that the widgets JavaScript library is either not installed or\n",
       "  not enabled. See the <a href=\"https://ipywidgets.readthedocs.io/en/stable/user_install.html\">Jupyter\n",
       "  Widgets Documentation</a> for setup instructions.\n",
       "</p>\n",
       "<p>\n",
       "  If you're reading this message in another frontend (for example, a static\n",
       "  rendering on GitHub or <a href=\"https://nbviewer.jupyter.org/\">NBViewer</a>),\n",
       "  it may mean that your frontend doesn't currently support widgets.\n",
       "</p>\n"
      ],
      "text/plain": [
       "interactive(children=(Dropdown(description='language', options=('eng', 'en-US', 'spa', 'en-GB', 'fre', 'ger', 'jpn', 'mul', 'zho', 'grc', 'por', 'en-CA', 'ita', 'lat', 'enm', 'swe', 'rus', 'wel', 'glg', 'ale', 'msa', 'srp', 'tur', 'nl', 'nor', 'ara', 'gla'), value='eng'), Output()), _dom_classes=('widget-interact',))"
      ]
     },
     "metadata": {},
     "output_type": "display_data"
    }
   ],
   "source": [
    "@interact\n",
    "def recomd_books_lang(language = list(df['language_code'].value_counts().index)):\n",
    "    a = df[df['language_code'] == language][['title', 'average_rating']]\n",
    "    a = a.sort_values(by = 'average_rating', ascending = False)\n",
    "    return a.head(10)"
   ]
  },
  {
   "cell_type": "markdown",
   "metadata": {},
   "source": [
    "# Data Preprocessing"
   ]
  },
  {
   "cell_type": "code",
   "execution_count": 51,
   "metadata": {},
   "outputs": [
    {
     "data": {
      "text/html": [
       "<div>\n",
       "<style scoped>\n",
       "    .dataframe tbody tr th:only-of-type {\n",
       "        vertical-align: middle;\n",
       "    }\n",
       "\n",
       "    .dataframe tbody tr th {\n",
       "        vertical-align: top;\n",
       "    }\n",
       "\n",
       "    .dataframe thead th {\n",
       "        text-align: right;\n",
       "    }\n",
       "</style>\n",
       "<table border=\"1\" class=\"dataframe\">\n",
       "  <thead>\n",
       "    <tr style=\"text-align: right;\">\n",
       "      <th></th>\n",
       "      <th>title</th>\n",
       "      <th>authors</th>\n",
       "      <th>average_rating</th>\n",
       "      <th>language_code</th>\n",
       "      <th>num_pages</th>\n",
       "      <th>ratings_count</th>\n",
       "      <th>text_reviews_count</th>\n",
       "      <th>publication_date</th>\n",
       "      <th>publisher</th>\n",
       "      <th>year</th>\n",
       "    </tr>\n",
       "  </thead>\n",
       "  <tbody>\n",
       "    <tr>\n",
       "      <th>0</th>\n",
       "      <td>Harry Potter and the Half-Blood Prince (Harry ...</td>\n",
       "      <td>J.K. Rowling/Mary GrandPré</td>\n",
       "      <td>4.57</td>\n",
       "      <td>eng</td>\n",
       "      <td>652</td>\n",
       "      <td>2095690</td>\n",
       "      <td>27591</td>\n",
       "      <td>9/16/2006</td>\n",
       "      <td>Scholastic Inc.</td>\n",
       "      <td>2006</td>\n",
       "    </tr>\n",
       "    <tr>\n",
       "      <th>1</th>\n",
       "      <td>Harry Potter and the Order of the Phoenix (Har...</td>\n",
       "      <td>J.K. Rowling/Mary GrandPré</td>\n",
       "      <td>4.49</td>\n",
       "      <td>eng</td>\n",
       "      <td>870</td>\n",
       "      <td>2153167</td>\n",
       "      <td>29221</td>\n",
       "      <td>9/1/2004</td>\n",
       "      <td>Scholastic Inc.</td>\n",
       "      <td>2004</td>\n",
       "    </tr>\n",
       "  </tbody>\n",
       "</table>\n",
       "</div>"
      ],
      "text/plain": [
       "                                               title  \\\n",
       "0  Harry Potter and the Half-Blood Prince (Harry ...   \n",
       "1  Harry Potter and the Order of the Phoenix (Har...   \n",
       "\n",
       "                      authors  average_rating language_code  num_pages  \\\n",
       "0  J.K. Rowling/Mary GrandPré            4.57           eng        652   \n",
       "1  J.K. Rowling/Mary GrandPré            4.49           eng        870   \n",
       "\n",
       "   ratings_count  text_reviews_count publication_date        publisher  year  \n",
       "0        2095690               27591        9/16/2006  Scholastic Inc.  2006  \n",
       "1        2153167               29221         9/1/2004  Scholastic Inc.  2004  "
      ]
     },
     "execution_count": 51,
     "metadata": {},
     "output_type": "execute_result"
    }
   ],
   "source": [
    "df.head(2)"
   ]
  },
  {
   "cell_type": "code",
   "execution_count": 52,
   "metadata": {},
   "outputs": [],
   "source": [
    "def num_to_obj(x):\n",
    "    if x >0 and x <=1:\n",
    "        return \"between 0 and 1\"\n",
    "    if x > 1 and x <= 2:\n",
    "        return \"between 1 and 2\"\n",
    "    if x > 2 and x <=3:\n",
    "        return \"between 2 and 3\"\n",
    "    if x >3 and x<=4:\n",
    "        return \"between 3 and 4\"\n",
    "    if x >4 and x<=5:\n",
    "        return \"between 4 and 5\"\n",
    "df['rating_obj'] = df['average_rating'].apply(num_to_obj)"
   ]
  },
  {
   "cell_type": "code",
   "execution_count": 53,
   "metadata": {},
   "outputs": [
    {
     "data": {
      "text/plain": [
       "between 3 and 4    6285\n",
       "between 4 and 5    4735\n",
       "between 2 and 3      69\n",
       "between 1 and 2       7\n",
       "between 0 and 1       2\n",
       "Name: rating_obj, dtype: int64"
      ]
     },
     "execution_count": 53,
     "metadata": {},
     "output_type": "execute_result"
    }
   ],
   "source": [
    "df['rating_obj'].value_counts()"
   ]
  },
  {
   "cell_type": "code",
   "execution_count": 54,
   "metadata": {
    "scrolled": true
   },
   "outputs": [
    {
     "data": {
      "text/html": [
       "<div>\n",
       "<style scoped>\n",
       "    .dataframe tbody tr th:only-of-type {\n",
       "        vertical-align: middle;\n",
       "    }\n",
       "\n",
       "    .dataframe tbody tr th {\n",
       "        vertical-align: top;\n",
       "    }\n",
       "\n",
       "    .dataframe thead th {\n",
       "        text-align: right;\n",
       "    }\n",
       "</style>\n",
       "<table border=\"1\" class=\"dataframe\">\n",
       "  <thead>\n",
       "    <tr style=\"text-align: right;\">\n",
       "      <th></th>\n",
       "      <th>between 0 and 1</th>\n",
       "      <th>between 1 and 2</th>\n",
       "      <th>between 2 and 3</th>\n",
       "      <th>between 3 and 4</th>\n",
       "      <th>between 4 and 5</th>\n",
       "    </tr>\n",
       "  </thead>\n",
       "  <tbody>\n",
       "    <tr>\n",
       "      <th>0</th>\n",
       "      <td>0</td>\n",
       "      <td>0</td>\n",
       "      <td>0</td>\n",
       "      <td>0</td>\n",
       "      <td>1</td>\n",
       "    </tr>\n",
       "    <tr>\n",
       "      <th>1</th>\n",
       "      <td>0</td>\n",
       "      <td>0</td>\n",
       "      <td>0</td>\n",
       "      <td>0</td>\n",
       "      <td>1</td>\n",
       "    </tr>\n",
       "    <tr>\n",
       "      <th>2</th>\n",
       "      <td>0</td>\n",
       "      <td>0</td>\n",
       "      <td>0</td>\n",
       "      <td>0</td>\n",
       "      <td>1</td>\n",
       "    </tr>\n",
       "    <tr>\n",
       "      <th>3</th>\n",
       "      <td>0</td>\n",
       "      <td>0</td>\n",
       "      <td>0</td>\n",
       "      <td>0</td>\n",
       "      <td>1</td>\n",
       "    </tr>\n",
       "    <tr>\n",
       "      <th>4</th>\n",
       "      <td>0</td>\n",
       "      <td>0</td>\n",
       "      <td>0</td>\n",
       "      <td>0</td>\n",
       "      <td>1</td>\n",
       "    </tr>\n",
       "  </tbody>\n",
       "</table>\n",
       "</div>"
      ],
      "text/plain": [
       "   between 0 and 1  between 1 and 2  between 2 and 3  between 3 and 4  \\\n",
       "0                0                0                0                0   \n",
       "1                0                0                0                0   \n",
       "2                0                0                0                0   \n",
       "3                0                0                0                0   \n",
       "4                0                0                0                0   \n",
       "\n",
       "   between 4 and 5  \n",
       "0                1  \n",
       "1                1  \n",
       "2                1  \n",
       "3                1  \n",
       "4                1  "
      ]
     },
     "execution_count": 54,
     "metadata": {},
     "output_type": "execute_result"
    }
   ],
   "source": [
    "rating_df = pd.get_dummies(df['rating_obj'])\n",
    "rating_df.head()"
   ]
  }
 ],
 "metadata": {
  "kernelspec": {
   "display_name": "Python 3",
   "language": "python",
   "name": "python3"
  },
  "language_info": {
   "codemirror_mode": {
    "name": "ipython",
    "version": 3
   },
   "file_extension": ".py",
   "mimetype": "text/x-python",
   "name": "python",
   "nbconvert_exporter": "python",
   "pygments_lexer": "ipython3",
   "version": "3.6.4"
  }
 },
 "nbformat": 4,
 "nbformat_minor": 5
}
